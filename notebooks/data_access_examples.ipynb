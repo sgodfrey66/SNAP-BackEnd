{
 "cells": [
  {
   "cell_type": "markdown",
   "metadata": {
    "toc": true
   },
   "source": [
    "<h1>Table of Contents<span class=\"tocSkip\"></span></h1>\n",
    "<div class=\"toc\"><ul class=\"toc-item\"><li><span><a href=\"#Summary\" data-toc-modified-id=\"Summary-1\"><span class=\"toc-item-num\">1&nbsp;&nbsp;</span>Summary</a></span></li><li><span><a href=\"#Establish-programming-components\" data-toc-modified-id=\"Establish-programming-components-2\"><span class=\"toc-item-num\">2&nbsp;&nbsp;</span>Establish programming components</a></span><ul class=\"toc-item\"><li><span><a href=\"#Install-and-import-libraries\" data-toc-modified-id=\"Install-and-import-libraries-2.1\"><span class=\"toc-item-num\">2.1&nbsp;&nbsp;</span>Install and import libraries</a></span></li><li><span><a href=\"#Set-paths\" data-toc-modified-id=\"Set-paths-2.2\"><span class=\"toc-item-num\">2.2&nbsp;&nbsp;</span>Set paths</a></span></li></ul></li><li><span><a href=\"#Define-functions\" data-toc-modified-id=\"Define-functions-3\"><span class=\"toc-item-num\">3&nbsp;&nbsp;</span>Define functions</a></span></li><li><span><a href=\"#Examine-the-Django-models\" data-toc-modified-id=\"Examine-the-Django-models-4\"><span class=\"toc-item-num\">4&nbsp;&nbsp;</span>Examine the Django models</a></span></li><li><span><a href=\"#Examine-existing-Django-permissions\" data-toc-modified-id=\"Examine-existing-Django-permissions-5\"><span class=\"toc-item-num\">5&nbsp;&nbsp;</span>Examine existing Django permissions</a></span></li><li><span><a href=\"#Ingest-data-into-the-database\" data-toc-modified-id=\"Ingest-data-into-the-database-6\"><span class=\"toc-item-num\">6&nbsp;&nbsp;</span>Ingest data into the database</a></span><ul class=\"toc-item\"><li><span><a href=\"#Create-a-pygsheets-object\" data-toc-modified-id=\"Create-a-pygsheets-object-6.1\"><span class=\"toc-item-num\">6.1&nbsp;&nbsp;</span>Create a pygsheets object</a></span></li><li><span><a href=\"#Add-some-data-to-the-Agency-model\" data-toc-modified-id=\"Add-some-data-to-the-Agency-model-6.2\"><span class=\"toc-item-num\">6.2&nbsp;&nbsp;</span>Add some data to the Agency model</a></span><ul class=\"toc-item\"><li><span><a href=\"#Read-the-example-data-from-Google-sheets\" data-toc-modified-id=\"Read-the-example-data-from-Google-sheets-6.2.1\"><span class=\"toc-item-num\">6.2.1&nbsp;&nbsp;</span>Read the example data from Google sheets</a></span></li><li><span><a href=\"#Add-data-to-the-model\" data-toc-modified-id=\"Add-data-to-the-model-6.2.2\"><span class=\"toc-item-num\">6.2.2&nbsp;&nbsp;</span>Add data to the model</a></span></li><li><span><a href=\"#View-the-new-model-dataset\" data-toc-modified-id=\"View-the-new-model-dataset-6.2.3\"><span class=\"toc-item-num\">6.2.3&nbsp;&nbsp;</span>View the new model dataset</a></span></li></ul></li><li><span><a href=\"#Add-some-data-to-the-User-model\" data-toc-modified-id=\"Add-some-data-to-the-User-model-6.3\"><span class=\"toc-item-num\">6.3&nbsp;&nbsp;</span>Add some data to the User model</a></span><ul class=\"toc-item\"><li><span><a href=\"#Read-the-example-data-from-Google-sheets\" data-toc-modified-id=\"Read-the-example-data-from-Google-sheets-6.3.1\"><span class=\"toc-item-num\">6.3.1&nbsp;&nbsp;</span>Read the example data from Google sheets</a></span></li><li><span><a href=\"#Add-data-to-the-model\" data-toc-modified-id=\"Add-data-to-the-model-6.3.2\"><span class=\"toc-item-num\">6.3.2&nbsp;&nbsp;</span>Add data to the model</a></span></li><li><span><a href=\"#View-the-new-model-dataset\" data-toc-modified-id=\"View-the-new-model-dataset-6.3.3\"><span class=\"toc-item-num\">6.3.3&nbsp;&nbsp;</span>View the new model dataset</a></span></li></ul></li><li><span><a href=\"#Add-some-data-to-the-Client-Model\" data-toc-modified-id=\"Add-some-data-to-the-Client-Model-6.4\"><span class=\"toc-item-num\">6.4&nbsp;&nbsp;</span>Add some data to the Client Model</a></span><ul class=\"toc-item\"><li><span><a href=\"#Read-the-example-data-from-the-Google-Sheets\" data-toc-modified-id=\"Read-the-example-data-from-the-Google-Sheets-6.4.1\"><span class=\"toc-item-num\">6.4.1&nbsp;&nbsp;</span>Read the example data from the Google Sheets</a></span></li><li><span><a href=\"#Add-data-to-the-model\" data-toc-modified-id=\"Add-data-to-the-model-6.4.2\"><span class=\"toc-item-num\">6.4.2&nbsp;&nbsp;</span>Add data to the model</a></span></li><li><span><a href=\"#View-the-new-model-dataset\" data-toc-modified-id=\"View-the-new-model-dataset-6.4.3\"><span class=\"toc-item-num\">6.4.3&nbsp;&nbsp;</span>View the new model dataset</a></span></li></ul></li><li><span><a href=\"#Add-data-to-the-Agency-client-model\" data-toc-modified-id=\"Add-data-to-the-Agency-client-model-6.5\"><span class=\"toc-item-num\">6.5&nbsp;&nbsp;</span>Add data to the Agency-client model</a></span><ul class=\"toc-item\"><li><span><a href=\"#View-the-new-model-dataset\" data-toc-modified-id=\"View-the-new-model-dataset-6.5.1\"><span class=\"toc-item-num\">6.5.1&nbsp;&nbsp;</span>View the new model dataset</a></span></li></ul></li><li><span><a href=\"#Add-some-data-to-the-Group-and-apply-Permissions\" data-toc-modified-id=\"Add-some-data-to-the-Group-and-apply-Permissions-6.6\"><span class=\"toc-item-num\">6.6&nbsp;&nbsp;</span>Add some data to the Group and apply Permissions</a></span><ul class=\"toc-item\"><li><span><a href=\"#Read-the-example-data-from-the-Google-Sheets\" data-toc-modified-id=\"Read-the-example-data-from-the-Google-Sheets-6.6.1\"><span class=\"toc-item-num\">6.6.1&nbsp;&nbsp;</span>Read the example data from the Google Sheets</a></span></li></ul></li><li><span><a href=\"#Create-group-roles\" data-toc-modified-id=\"Create-group-roles-6.7\"><span class=\"toc-item-num\">6.7&nbsp;&nbsp;</span>Create group roles</a></span></li><li><span><a href=\"#Add-permissions-to-groups\" data-toc-modified-id=\"Add-permissions-to-groups-6.8\"><span class=\"toc-item-num\">6.8&nbsp;&nbsp;</span>Add permissions to groups</a></span><ul class=\"toc-item\"><li><span><a href=\"#View-the-new-model-dataset\" data-toc-modified-id=\"View-the-new-model-dataset-6.8.1\"><span class=\"toc-item-num\">6.8.1&nbsp;&nbsp;</span>View the new model dataset</a></span></li></ul></li><li><span><a href=\"#Read-in-Agency-User-Group-data-from-Google-Sheets\" data-toc-modified-id=\"Read-in-Agency-User-Group-data-from-Google-Sheets-6.9\"><span class=\"toc-item-num\">6.9&nbsp;&nbsp;</span>Read in Agency-User-Group data from Google Sheets</a></span><ul class=\"toc-item\"><li><span><a href=\"#Read-the-example-data-from-Google-Sheets\" data-toc-modified-id=\"Read-the-example-data-from-Google-Sheets-6.9.1\"><span class=\"toc-item-num\">6.9.1&nbsp;&nbsp;</span>Read the example data from Google Sheets</a></span></li><li><span><a href=\"#Add-data-to-the-model\" data-toc-modified-id=\"Add-data-to-the-model-6.9.2\"><span class=\"toc-item-num\">6.9.2&nbsp;&nbsp;</span>Add data to the model</a></span></li><li><span><a href=\"#View-the-new-model-dataset\" data-toc-modified-id=\"View-the-new-model-dataset-6.9.3\"><span class=\"toc-item-num\">6.9.3&nbsp;&nbsp;</span>View the new model dataset</a></span></li></ul></li></ul></li><li><span><a href=\"#View-the-permissions-for-an-individual-user\" data-toc-modified-id=\"View-the-permissions-for-an-individual-user-7\"><span class=\"toc-item-num\">7&nbsp;&nbsp;</span>View the permissions for an individual user</a></span><ul class=\"toc-item\"><li><span><a href=\"#Examine-one-user's-permissions\" data-toc-modified-id=\"Examine-one-user's-permissions-7.1\"><span class=\"toc-item-num\">7.1&nbsp;&nbsp;</span>Examine one user's permissions</a></span></li><li><span><a href=\"#Find-the-clients-this-user-can-view\" data-toc-modified-id=\"Find-the-clients-this-user-can-view-7.2\"><span class=\"toc-item-num\">7.2&nbsp;&nbsp;</span>Find the clients this user can view</a></span></li></ul></li><li><span><a href=\"#Test-the-client-viewset\" data-toc-modified-id=\"Test-the-client-viewset-8\"><span class=\"toc-item-num\">8&nbsp;&nbsp;</span>Test the client viewset</a></span></li></ul></div>"
   ]
  },
  {
   "cell_type": "markdown",
   "metadata": {},
   "source": [
    "# Summary\n"
   ]
  },
  {
   "cell_type": "markdown",
   "metadata": {},
   "source": [
    "# Establish programming components"
   ]
  },
  {
   "cell_type": "markdown",
   "metadata": {},
   "source": [
    "## Install and import libraries"
   ]
  },
  {
   "cell_type": "code",
   "execution_count": 1,
   "metadata": {
    "ExecuteTime": {
     "end_time": "2020-08-18T18:59:30.677039Z",
     "start_time": "2020-08-18T18:59:27.060763Z"
    }
   },
   "outputs": [
    {
     "name": "stdout",
     "output_type": "stream",
     "text": [
      "Using Dev config\n",
      "Logging DEBUG messages to /Users/stephengodfrey/Documents/Workbench/CTA_SNAP/SNAP-BackEnd/application.log\n"
     ]
    }
   ],
   "source": [
    "# Core Python\n",
    "import os\n",
    "import importlib\n",
    "import json\n",
    "from datetime import datetime\n",
    "\n",
    "# Django - these statements need to be in a specific order\n",
    "os.environ[\"DJANGO_ALLOW_ASYNC_UNSAFE\"] = \"true\"\n",
    "os.environ[\"DATABASE_URL\"] = \"postgres://stephengodfrey@localhost:5432/SNAPData\"\n",
    "\n",
    "# Django configurations\n",
    "import django\n",
    "from configurations import importer\n",
    "\n",
    "importer.install()\n",
    "django.setup()\n",
    "\n",
    "from django.apps import apps\n",
    "from django.contrib.auth import authenticate, login\n",
    "\n",
    "# from configurations import Configuration\n",
    "from rest_framework.test import APIClient\n",
    "from rest_framework.test import APIRequestFactory\n",
    "from rest_framework.test import force_authenticate\n",
    "\n",
    "# Django models\n",
    "from django.contrib.auth.models import Group, Permission, User\n",
    "from security.models import SecurityGroup, SecurityGroupAgencyConfig, SecurityGroupUserAgency\n",
    "from agency.models import Agency, AgencyClient\n",
    "from client.models import Client\n",
    "\n",
    "# Data tools\n",
    "import pandas as pd\n",
    "\n",
    "# Google API\n",
    "import pygsheets\n",
    "\n",
    "# Jupyter display\n",
    "from IPython.display import display, Markdown\n"
   ]
  },
  {
   "cell_type": "markdown",
   "metadata": {},
   "source": [
    "## Set paths"
   ]
  },
  {
   "cell_type": "code",
   "execution_count": 2,
   "metadata": {
    "ExecuteTime": {
     "end_time": "2020-08-18T18:59:30.683167Z",
     "start_time": "2020-08-18T18:59:30.678961Z"
    }
   },
   "outputs": [],
   "source": [
    "# Paths\n",
    "config_path = '/Users/stephengodfrey/Documents/Workbench/Credentials'\n",
    "\n",
    "# Configuration files\n",
    "google_secret_file='client_secret_929524554454-ijgbdqj83om26a0b3et2p607tur637sp.apps.googleusercontent.com.json'\n",
    "google_api_key_file='SWBC2CB_API_Key.json'\n",
    "\n",
    "# Read the API file contents\n",
    "api_json=json.loads(open(os.path.join(config_path,google_api_key_file)).read())\n",
    "# db_creds=json.loads(open(os.path.join(config_path,postgres_config_file)).read())\n",
    "\n",
    "# extract the api key\n",
    "api_key=api_json['SWBC2CB']['api_key']\n",
    "\n",
    "# Assign keys to Google sheets with the demo data\n",
    "demodata_django_sheet_key='1etZh01fctv1j8FrAwI4LzWL3YiYPR0fFD72lP-VXsw4'\n"
   ]
  },
  {
   "cell_type": "markdown",
   "metadata": {},
   "source": [
    "# Define functions"
   ]
  },
  {
   "cell_type": "code",
   "execution_count": 3,
   "metadata": {
    "ExecuteTime": {
     "end_time": "2020-08-18T18:59:30.693814Z",
     "start_time": "2020-08-18T18:59:30.685731Z"
    }
   },
   "outputs": [],
   "source": [
    "def get_demo_data(table: str):\n",
    "    \"\"\"\n",
    "        Retrieve demo data from a Google Sheet\n",
    "    \"\"\"\n",
    "    \n",
    "    # Open the Google spreadsheet using its key\n",
    "    sh=gc.open_by_key(key=demodata_django_sheet_key)\n",
    "\n",
    "    # Get a list of worksheets (where sheet_name is the name of my sheet)\n",
    "    wks_names=[tab.title for tab in sh.worksheets()]\n",
    "    # Create a worksheet object using the current index\n",
    "    wks=sh.worksheet_by_title(title=table)\n",
    "\n",
    "    # Read the dictionary data into a dataframe\n",
    "    df=wks.get_as_df(has_header=True, index_colum=None, start=None, \n",
    "                       end=None, numerize=True, empty_value='', \n",
    "                       value_render='FORMATTED_VALUE')\n",
    "    \n",
    "    # Display the dataframe\n",
    "    display(Markdown(\"### The {} demo dataframe:\".format(table)))\n",
    "    display(df)\n",
    "    \n",
    "    # return the dataframe\n",
    "    return df\n",
    "\n",
    "\n",
    "def ParseClassName(inst:str):\n",
    "    \"\"\"\n",
    "        Parse the class name into module and class components\n",
    "    \"\"\"\n",
    "    sc=inst.find(\"'\")\n",
    "    rc=inst.rfind(\".\")\n",
    "    rce=inst[rc+1:].find(\"'\")\n",
    "    return (inst[sc+1:rc], inst[rc+1:rce+rc+1])\n"
   ]
  },
  {
   "cell_type": "markdown",
   "metadata": {},
   "source": [
    "# Examine the Django models\n",
    "\n",
    "In this section, we are reviewing model contents by looking at filtered views of a models dataframe. \n",
    "\n",
    "Notes\n",
    "- The logic in this case, is to use Django's `apps.get_app_configs()` to get a list of app configurations.  Within each configuration, we get field names.  These elements are stored in a dictionary and those dictionaries are stored in a list.  The list of dictionaries is converted to a pandas dataframe for easy examination.\n"
   ]
  },
  {
   "cell_type": "code",
   "execution_count": 4,
   "metadata": {
    "ExecuteTime": {
     "end_time": "2020-08-18T18:59:30.711605Z",
     "start_time": "2020-08-18T18:59:30.695911Z"
    },
    "scrolled": false
   },
   "outputs": [
    {
     "data": {
      "text/plain": [
       "array(['django.contrib.admin.models', 'django.contrib.auth.models',\n",
       "       'django.contrib.contenttypes.models',\n",
       "       'django.contrib.sessions.models',\n",
       "       'rest_framework.authtoken.models', 'core.models', 'agency.models',\n",
       "       'client.models', 'survey.models', 'program.models',\n",
       "       'eligibility.models', 'security.models', 'note.models',\n",
       "       'matching.models'], dtype=object)"
      ]
     },
     "execution_count": 4,
     "metadata": {},
     "output_type": "execute_result"
    }
   ],
   "source": [
    "# For each Django model configuration, view the models\n",
    "# Note that by using the import_module method from the importlib library the \n",
    "# Django models are NOT imported; here these imports are still done explicitly \n",
    "\n",
    "mdl_lst=[]\n",
    "# Get the Django app configurations\n",
    "configs = apps.get_app_configs()\n",
    "\n",
    "# for each config\n",
    "for config in configs:\n",
    "    \n",
    "    # Look at each model in this configuration\n",
    "    for model in config.get_models():\n",
    "        module=ParseClassName(inst=str(model))[0]\n",
    "        cls=ParseClassName(inst=str(model))[1]\n",
    "        \n",
    "        # Note: this line does NOT import Django model classes       \n",
    "        flds=getattr(importlib.import_module(module), cls)._meta.get_fields()\n",
    "        \n",
    "        # Create a dictionary entry for each field\n",
    "        for fld in flds:\n",
    "            mdl_lst.append({'config': config,\n",
    "                            'model': model,\n",
    "                            'module': module,\n",
    "                            'class': cls,\n",
    "                            'field': fld,\n",
    "                            'field_name':fld.name\n",
    "                           }\n",
    "                          )\n",
    "            \n",
    "# Create a dataframe of model fields \n",
    "modelsDF=pd.DataFrame(data=mdl_lst)\n",
    "\n",
    "modelsDF['module'].unique()\n"
   ]
  },
  {
   "cell_type": "code",
   "execution_count": 5,
   "metadata": {
    "ExecuteTime": {
     "end_time": "2020-08-18T18:59:31.083649Z",
     "start_time": "2020-08-18T18:59:31.051550Z"
    }
   },
   "outputs": [
    {
     "name": "stdout",
     "output_type": "stream",
     "text": [
      "\n",
      "client.models\n"
     ]
    },
    {
     "data": {
      "text/html": [
       "<div>\n",
       "<style scoped>\n",
       "    .dataframe tbody tr th:only-of-type {\n",
       "        vertical-align: middle;\n",
       "    }\n",
       "\n",
       "    .dataframe tbody tr th {\n",
       "        vertical-align: top;\n",
       "    }\n",
       "\n",
       "    .dataframe thead th {\n",
       "        text-align: right;\n",
       "    }\n",
       "</style>\n",
       "<table border=\"1\" class=\"dataframe\">\n",
       "  <thead>\n",
       "    <tr style=\"text-align: right;\">\n",
       "      <th></th>\n",
       "      <th>config</th>\n",
       "      <th>model</th>\n",
       "      <th>module</th>\n",
       "      <th>class</th>\n",
       "      <th>field</th>\n",
       "      <th>field_name</th>\n",
       "    </tr>\n",
       "  </thead>\n",
       "  <tbody>\n",
       "    <tr>\n",
       "      <th>87</th>\n",
       "      <td>&lt;AppConfig: client&gt;</td>\n",
       "      <td>&lt;class 'client.models.Client'&gt;</td>\n",
       "      <td>client.models</td>\n",
       "      <td>Client</td>\n",
       "      <td>&lt;ManyToOneRel: agency.agencyclient&gt;</td>\n",
       "      <td>agency_clients</td>\n",
       "    </tr>\n",
       "    <tr>\n",
       "      <th>88</th>\n",
       "      <td>&lt;AppConfig: client&gt;</td>\n",
       "      <td>&lt;class 'client.models.Client'&gt;</td>\n",
       "      <td>client.models</td>\n",
       "      <td>Client</td>\n",
       "      <td>&lt;ManyToOneRel: program.enrollment&gt;</td>\n",
       "      <td>enrollments</td>\n",
       "    </tr>\n",
       "    <tr>\n",
       "      <th>89</th>\n",
       "      <td>&lt;AppConfig: client&gt;</td>\n",
       "      <td>&lt;class 'client.models.Client'&gt;</td>\n",
       "      <td>client.models</td>\n",
       "      <td>Client</td>\n",
       "      <td>&lt;ManyToOneRel: program.programeligibility&gt;</td>\n",
       "      <td>program_eligibility</td>\n",
       "    </tr>\n",
       "    <tr>\n",
       "      <th>90</th>\n",
       "      <td>&lt;AppConfig: client&gt;</td>\n",
       "      <td>&lt;class 'client.models.Client'&gt;</td>\n",
       "      <td>client.models</td>\n",
       "      <td>Client</td>\n",
       "      <td>&lt;ManyToOneRel: eligibility.clienteligibility&gt;</td>\n",
       "      <td>eligibility</td>\n",
       "    </tr>\n",
       "    <tr>\n",
       "      <th>91</th>\n",
       "      <td>&lt;AppConfig: client&gt;</td>\n",
       "      <td>&lt;class 'client.models.Client'&gt;</td>\n",
       "      <td>client.models</td>\n",
       "      <td>Client</td>\n",
       "      <td>&lt;ManyToOneRel: matching.clientmatching&gt;</td>\n",
       "      <td>matching</td>\n",
       "    </tr>\n",
       "    <tr>\n",
       "      <th>92</th>\n",
       "      <td>&lt;AppConfig: client&gt;</td>\n",
       "      <td>&lt;class 'client.models.Client'&gt;</td>\n",
       "      <td>client.models</td>\n",
       "      <td>Client</td>\n",
       "      <td>client.Client.id</td>\n",
       "      <td>id</td>\n",
       "    </tr>\n",
       "    <tr>\n",
       "      <th>93</th>\n",
       "      <td>&lt;AppConfig: client&gt;</td>\n",
       "      <td>&lt;class 'client.models.Client'&gt;</td>\n",
       "      <td>client.models</td>\n",
       "      <td>Client</td>\n",
       "      <td>client.Client.created_by</td>\n",
       "      <td>created_by</td>\n",
       "    </tr>\n",
       "    <tr>\n",
       "      <th>94</th>\n",
       "      <td>&lt;AppConfig: client&gt;</td>\n",
       "      <td>&lt;class 'client.models.Client'&gt;</td>\n",
       "      <td>client.models</td>\n",
       "      <td>Client</td>\n",
       "      <td>client.Client.created_at</td>\n",
       "      <td>created_at</td>\n",
       "    </tr>\n",
       "    <tr>\n",
       "      <th>95</th>\n",
       "      <td>&lt;AppConfig: client&gt;</td>\n",
       "      <td>&lt;class 'client.models.Client'&gt;</td>\n",
       "      <td>client.models</td>\n",
       "      <td>Client</td>\n",
       "      <td>client.Client.modified_at</td>\n",
       "      <td>modified_at</td>\n",
       "    </tr>\n",
       "    <tr>\n",
       "      <th>96</th>\n",
       "      <td>&lt;AppConfig: client&gt;</td>\n",
       "      <td>&lt;class 'client.models.Client'&gt;</td>\n",
       "      <td>client.models</td>\n",
       "      <td>Client</td>\n",
       "      <td>client.Client.first_name</td>\n",
       "      <td>first_name</td>\n",
       "    </tr>\n",
       "    <tr>\n",
       "      <th>97</th>\n",
       "      <td>&lt;AppConfig: client&gt;</td>\n",
       "      <td>&lt;class 'client.models.Client'&gt;</td>\n",
       "      <td>client.models</td>\n",
       "      <td>Client</td>\n",
       "      <td>client.Client.middle_name</td>\n",
       "      <td>middle_name</td>\n",
       "    </tr>\n",
       "    <tr>\n",
       "      <th>98</th>\n",
       "      <td>&lt;AppConfig: client&gt;</td>\n",
       "      <td>&lt;class 'client.models.Client'&gt;</td>\n",
       "      <td>client.models</td>\n",
       "      <td>Client</td>\n",
       "      <td>client.Client.last_name</td>\n",
       "      <td>last_name</td>\n",
       "    </tr>\n",
       "    <tr>\n",
       "      <th>99</th>\n",
       "      <td>&lt;AppConfig: client&gt;</td>\n",
       "      <td>&lt;class 'client.models.Client'&gt;</td>\n",
       "      <td>client.models</td>\n",
       "      <td>Client</td>\n",
       "      <td>client.Client.dob</td>\n",
       "      <td>dob</td>\n",
       "    </tr>\n",
       "    <tr>\n",
       "      <th>100</th>\n",
       "      <td>&lt;AppConfig: client&gt;</td>\n",
       "      <td>&lt;class 'client.models.Client'&gt;</td>\n",
       "      <td>client.models</td>\n",
       "      <td>Client</td>\n",
       "      <td>client.Client.agency_assoc</td>\n",
       "      <td>agency_assoc</td>\n",
       "    </tr>\n",
       "  </tbody>\n",
       "</table>\n",
       "</div>"
      ],
      "text/plain": [
       "                  config                           model         module  \\\n",
       "87   <AppConfig: client>  <class 'client.models.Client'>  client.models   \n",
       "88   <AppConfig: client>  <class 'client.models.Client'>  client.models   \n",
       "89   <AppConfig: client>  <class 'client.models.Client'>  client.models   \n",
       "90   <AppConfig: client>  <class 'client.models.Client'>  client.models   \n",
       "91   <AppConfig: client>  <class 'client.models.Client'>  client.models   \n",
       "92   <AppConfig: client>  <class 'client.models.Client'>  client.models   \n",
       "93   <AppConfig: client>  <class 'client.models.Client'>  client.models   \n",
       "94   <AppConfig: client>  <class 'client.models.Client'>  client.models   \n",
       "95   <AppConfig: client>  <class 'client.models.Client'>  client.models   \n",
       "96   <AppConfig: client>  <class 'client.models.Client'>  client.models   \n",
       "97   <AppConfig: client>  <class 'client.models.Client'>  client.models   \n",
       "98   <AppConfig: client>  <class 'client.models.Client'>  client.models   \n",
       "99   <AppConfig: client>  <class 'client.models.Client'>  client.models   \n",
       "100  <AppConfig: client>  <class 'client.models.Client'>  client.models   \n",
       "\n",
       "      class                                          field  \\\n",
       "87   Client            <ManyToOneRel: agency.agencyclient>   \n",
       "88   Client             <ManyToOneRel: program.enrollment>   \n",
       "89   Client     <ManyToOneRel: program.programeligibility>   \n",
       "90   Client  <ManyToOneRel: eligibility.clienteligibility>   \n",
       "91   Client        <ManyToOneRel: matching.clientmatching>   \n",
       "92   Client                               client.Client.id   \n",
       "93   Client                       client.Client.created_by   \n",
       "94   Client                       client.Client.created_at   \n",
       "95   Client                      client.Client.modified_at   \n",
       "96   Client                       client.Client.first_name   \n",
       "97   Client                      client.Client.middle_name   \n",
       "98   Client                        client.Client.last_name   \n",
       "99   Client                              client.Client.dob   \n",
       "100  Client                     client.Client.agency_assoc   \n",
       "\n",
       "              field_name  \n",
       "87        agency_clients  \n",
       "88           enrollments  \n",
       "89   program_eligibility  \n",
       "90           eligibility  \n",
       "91              matching  \n",
       "92                    id  \n",
       "93            created_by  \n",
       "94            created_at  \n",
       "95           modified_at  \n",
       "96            first_name  \n",
       "97           middle_name  \n",
       "98             last_name  \n",
       "99                   dob  \n",
       "100         agency_assoc  "
      ]
     },
     "metadata": {},
     "output_type": "display_data"
    },
    {
     "name": "stdout",
     "output_type": "stream",
     "text": [
      "\n",
      "security.models\n"
     ]
    },
    {
     "data": {
      "text/html": [
       "<div>\n",
       "<style scoped>\n",
       "    .dataframe tbody tr th:only-of-type {\n",
       "        vertical-align: middle;\n",
       "    }\n",
       "\n",
       "    .dataframe tbody tr th {\n",
       "        vertical-align: top;\n",
       "    }\n",
       "\n",
       "    .dataframe thead th {\n",
       "        text-align: right;\n",
       "    }\n",
       "</style>\n",
       "<table border=\"1\" class=\"dataframe\">\n",
       "  <thead>\n",
       "    <tr style=\"text-align: right;\">\n",
       "      <th></th>\n",
       "      <th>config</th>\n",
       "      <th>model</th>\n",
       "      <th>module</th>\n",
       "      <th>class</th>\n",
       "      <th>field</th>\n",
       "      <th>field_name</th>\n",
       "    </tr>\n",
       "  </thead>\n",
       "  <tbody>\n",
       "    <tr>\n",
       "      <th>235</th>\n",
       "      <td>&lt;AppConfig: security&gt;</td>\n",
       "      <td>&lt;class 'security.models.SecurityGroup'&gt;</td>\n",
       "      <td>security.models</td>\n",
       "      <td>SecurityGroup</td>\n",
       "      <td>&lt;ManyToOneRel: security.securitygroupagencycon...</td>\n",
       "      <td>securitygroupagencyconfig</td>\n",
       "    </tr>\n",
       "    <tr>\n",
       "      <th>236</th>\n",
       "      <td>&lt;AppConfig: security&gt;</td>\n",
       "      <td>&lt;class 'security.models.SecurityGroup'&gt;</td>\n",
       "      <td>security.models</td>\n",
       "      <td>SecurityGroup</td>\n",
       "      <td>security.SecurityGroup.id</td>\n",
       "      <td>id</td>\n",
       "    </tr>\n",
       "    <tr>\n",
       "      <th>237</th>\n",
       "      <td>&lt;AppConfig: security&gt;</td>\n",
       "      <td>&lt;class 'security.models.SecurityGroup'&gt;</td>\n",
       "      <td>security.models</td>\n",
       "      <td>SecurityGroup</td>\n",
       "      <td>security.SecurityGroup.name</td>\n",
       "      <td>name</td>\n",
       "    </tr>\n",
       "    <tr>\n",
       "      <th>238</th>\n",
       "      <td>&lt;AppConfig: security&gt;</td>\n",
       "      <td>&lt;class 'security.models.SecurityGroup'&gt;</td>\n",
       "      <td>security.models</td>\n",
       "      <td>SecurityGroup</td>\n",
       "      <td>security.SecurityGroup.responses</td>\n",
       "      <td>responses</td>\n",
       "    </tr>\n",
       "    <tr>\n",
       "      <th>239</th>\n",
       "      <td>&lt;AppConfig: security&gt;</td>\n",
       "      <td>&lt;class 'security.models.SecurityGroup'&gt;</td>\n",
       "      <td>security.models</td>\n",
       "      <td>SecurityGroup</td>\n",
       "      <td>security.SecurityGroup.enrollments</td>\n",
       "      <td>enrollments</td>\n",
       "    </tr>\n",
       "    <tr>\n",
       "      <th>240</th>\n",
       "      <td>&lt;AppConfig: security&gt;</td>\n",
       "      <td>&lt;class 'security.models.SecurityGroup'&gt;</td>\n",
       "      <td>security.models</td>\n",
       "      <td>SecurityGroup</td>\n",
       "      <td>security.SecurityGroup.referrals</td>\n",
       "      <td>referrals</td>\n",
       "    </tr>\n",
       "    <tr>\n",
       "      <th>241</th>\n",
       "      <td>&lt;AppConfig: security&gt;</td>\n",
       "      <td>&lt;class 'security.models.SecurityGroup'&gt;</td>\n",
       "      <td>security.models</td>\n",
       "      <td>SecurityGroup</td>\n",
       "      <td>security.SecurityGroup.programs</td>\n",
       "      <td>programs</td>\n",
       "    </tr>\n",
       "    <tr>\n",
       "      <th>242</th>\n",
       "      <td>&lt;AppConfig: security&gt;</td>\n",
       "      <td>&lt;class 'security.models.SecurityGroup'&gt;</td>\n",
       "      <td>security.models</td>\n",
       "      <td>SecurityGroup</td>\n",
       "      <td>security.SecurityGroup.agencies</td>\n",
       "      <td>agencies</td>\n",
       "    </tr>\n",
       "    <tr>\n",
       "      <th>243</th>\n",
       "      <td>&lt;AppConfig: security&gt;</td>\n",
       "      <td>&lt;class 'security.models.SecurityGroupAgencyCon...</td>\n",
       "      <td>security.models</td>\n",
       "      <td>SecurityGroupAgencyConfig</td>\n",
       "      <td>security.SecurityGroupAgencyConfig.id</td>\n",
       "      <td>id</td>\n",
       "    </tr>\n",
       "    <tr>\n",
       "      <th>244</th>\n",
       "      <td>&lt;AppConfig: security&gt;</td>\n",
       "      <td>&lt;class 'security.models.SecurityGroupAgencyCon...</td>\n",
       "      <td>security.models</td>\n",
       "      <td>SecurityGroupAgencyConfig</td>\n",
       "      <td>security.SecurityGroupAgencyConfig.agency</td>\n",
       "      <td>agency</td>\n",
       "    </tr>\n",
       "    <tr>\n",
       "      <th>245</th>\n",
       "      <td>&lt;AppConfig: security&gt;</td>\n",
       "      <td>&lt;class 'security.models.SecurityGroupAgencyCon...</td>\n",
       "      <td>security.models</td>\n",
       "      <td>SecurityGroupAgencyConfig</td>\n",
       "      <td>security.SecurityGroupAgencyConfig.security_group</td>\n",
       "      <td>security_group</td>\n",
       "    </tr>\n",
       "    <tr>\n",
       "      <th>246</th>\n",
       "      <td>&lt;AppConfig: security&gt;</td>\n",
       "      <td>&lt;class 'security.models.SecurityGroupUserAgency'&gt;</td>\n",
       "      <td>security.models</td>\n",
       "      <td>SecurityGroupUserAgency</td>\n",
       "      <td>security.SecurityGroupUserAgency.id</td>\n",
       "      <td>id</td>\n",
       "    </tr>\n",
       "    <tr>\n",
       "      <th>247</th>\n",
       "      <td>&lt;AppConfig: security&gt;</td>\n",
       "      <td>&lt;class 'security.models.SecurityGroupUserAgency'&gt;</td>\n",
       "      <td>security.models</td>\n",
       "      <td>SecurityGroupUserAgency</td>\n",
       "      <td>security.SecurityGroupUserAgency.desc</td>\n",
       "      <td>desc</td>\n",
       "    </tr>\n",
       "    <tr>\n",
       "      <th>248</th>\n",
       "      <td>&lt;AppConfig: security&gt;</td>\n",
       "      <td>&lt;class 'security.models.SecurityGroupUserAgency'&gt;</td>\n",
       "      <td>security.models</td>\n",
       "      <td>SecurityGroupUserAgency</td>\n",
       "      <td>security.SecurityGroupUserAgency.agency_ref</td>\n",
       "      <td>agency_ref</td>\n",
       "    </tr>\n",
       "    <tr>\n",
       "      <th>249</th>\n",
       "      <td>&lt;AppConfig: security&gt;</td>\n",
       "      <td>&lt;class 'security.models.SecurityGroupUserAgency'&gt;</td>\n",
       "      <td>security.models</td>\n",
       "      <td>SecurityGroupUserAgency</td>\n",
       "      <td>security.SecurityGroupUserAgency.user_ref</td>\n",
       "      <td>user_ref</td>\n",
       "    </tr>\n",
       "    <tr>\n",
       "      <th>250</th>\n",
       "      <td>&lt;AppConfig: security&gt;</td>\n",
       "      <td>&lt;class 'security.models.SecurityGroupUserAgency'&gt;</td>\n",
       "      <td>security.models</td>\n",
       "      <td>SecurityGroupUserAgency</td>\n",
       "      <td>security.SecurityGroupUserAgency.group_ref</td>\n",
       "      <td>group_ref</td>\n",
       "    </tr>\n",
       "  </tbody>\n",
       "</table>\n",
       "</div>"
      ],
      "text/plain": [
       "                    config                                              model  \\\n",
       "235  <AppConfig: security>            <class 'security.models.SecurityGroup'>   \n",
       "236  <AppConfig: security>            <class 'security.models.SecurityGroup'>   \n",
       "237  <AppConfig: security>            <class 'security.models.SecurityGroup'>   \n",
       "238  <AppConfig: security>            <class 'security.models.SecurityGroup'>   \n",
       "239  <AppConfig: security>            <class 'security.models.SecurityGroup'>   \n",
       "240  <AppConfig: security>            <class 'security.models.SecurityGroup'>   \n",
       "241  <AppConfig: security>            <class 'security.models.SecurityGroup'>   \n",
       "242  <AppConfig: security>            <class 'security.models.SecurityGroup'>   \n",
       "243  <AppConfig: security>  <class 'security.models.SecurityGroupAgencyCon...   \n",
       "244  <AppConfig: security>  <class 'security.models.SecurityGroupAgencyCon...   \n",
       "245  <AppConfig: security>  <class 'security.models.SecurityGroupAgencyCon...   \n",
       "246  <AppConfig: security>  <class 'security.models.SecurityGroupUserAgency'>   \n",
       "247  <AppConfig: security>  <class 'security.models.SecurityGroupUserAgency'>   \n",
       "248  <AppConfig: security>  <class 'security.models.SecurityGroupUserAgency'>   \n",
       "249  <AppConfig: security>  <class 'security.models.SecurityGroupUserAgency'>   \n",
       "250  <AppConfig: security>  <class 'security.models.SecurityGroupUserAgency'>   \n",
       "\n",
       "              module                      class  \\\n",
       "235  security.models              SecurityGroup   \n",
       "236  security.models              SecurityGroup   \n",
       "237  security.models              SecurityGroup   \n",
       "238  security.models              SecurityGroup   \n",
       "239  security.models              SecurityGroup   \n",
       "240  security.models              SecurityGroup   \n",
       "241  security.models              SecurityGroup   \n",
       "242  security.models              SecurityGroup   \n",
       "243  security.models  SecurityGroupAgencyConfig   \n",
       "244  security.models  SecurityGroupAgencyConfig   \n",
       "245  security.models  SecurityGroupAgencyConfig   \n",
       "246  security.models    SecurityGroupUserAgency   \n",
       "247  security.models    SecurityGroupUserAgency   \n",
       "248  security.models    SecurityGroupUserAgency   \n",
       "249  security.models    SecurityGroupUserAgency   \n",
       "250  security.models    SecurityGroupUserAgency   \n",
       "\n",
       "                                                 field  \\\n",
       "235  <ManyToOneRel: security.securitygroupagencycon...   \n",
       "236                          security.SecurityGroup.id   \n",
       "237                        security.SecurityGroup.name   \n",
       "238                   security.SecurityGroup.responses   \n",
       "239                 security.SecurityGroup.enrollments   \n",
       "240                   security.SecurityGroup.referrals   \n",
       "241                    security.SecurityGroup.programs   \n",
       "242                    security.SecurityGroup.agencies   \n",
       "243              security.SecurityGroupAgencyConfig.id   \n",
       "244          security.SecurityGroupAgencyConfig.agency   \n",
       "245  security.SecurityGroupAgencyConfig.security_group   \n",
       "246                security.SecurityGroupUserAgency.id   \n",
       "247              security.SecurityGroupUserAgency.desc   \n",
       "248        security.SecurityGroupUserAgency.agency_ref   \n",
       "249          security.SecurityGroupUserAgency.user_ref   \n",
       "250         security.SecurityGroupUserAgency.group_ref   \n",
       "\n",
       "                    field_name  \n",
       "235  securitygroupagencyconfig  \n",
       "236                         id  \n",
       "237                       name  \n",
       "238                  responses  \n",
       "239                enrollments  \n",
       "240                  referrals  \n",
       "241                   programs  \n",
       "242                   agencies  \n",
       "243                         id  \n",
       "244                     agency  \n",
       "245             security_group  \n",
       "246                         id  \n",
       "247                       desc  \n",
       "248                 agency_ref  \n",
       "249                   user_ref  \n",
       "250                  group_ref  "
      ]
     },
     "metadata": {},
     "output_type": "display_data"
    }
   ],
   "source": [
    "display_modules=['client.models', 'security.models']\n",
    "\n",
    "for module in modelsDF['module'].unique():\n",
    "    mask=modelsDF['module']==module\n",
    "    if module in display_modules:\n",
    "        print('\\n{}'.format(module))\n",
    "        display(modelsDF[mask])\n",
    "    "
   ]
  },
  {
   "cell_type": "markdown",
   "metadata": {},
   "source": [
    "# Examine existing Django permissions"
   ]
  },
  {
   "cell_type": "code",
   "execution_count": 6,
   "metadata": {
    "ExecuteTime": {
     "end_time": "2020-08-18T18:59:32.687169Z",
     "start_time": "2020-08-18T18:59:32.559804Z"
    }
   },
   "outputs": [
    {
     "data": {
      "text/html": [
       "<div>\n",
       "<style scoped>\n",
       "    .dataframe tbody tr th:only-of-type {\n",
       "        vertical-align: middle;\n",
       "    }\n",
       "\n",
       "    .dataframe tbody tr th {\n",
       "        vertical-align: top;\n",
       "    }\n",
       "\n",
       "    .dataframe thead th {\n",
       "        text-align: right;\n",
       "    }\n",
       "</style>\n",
       "<table border=\"1\" class=\"dataframe\">\n",
       "  <thead>\n",
       "    <tr style=\"text-align: right;\">\n",
       "      <th></th>\n",
       "      <th>p_id</th>\n",
       "      <th>name</th>\n",
       "      <th>content_type_id</th>\n",
       "      <th>codename</th>\n",
       "    </tr>\n",
       "  </thead>\n",
       "  <tbody>\n",
       "    <tr>\n",
       "      <th>0</th>\n",
       "      <td>1</td>\n",
       "      <td>Can add log entry</td>\n",
       "      <td>1</td>\n",
       "      <td>add_logentry</td>\n",
       "    </tr>\n",
       "    <tr>\n",
       "      <th>1</th>\n",
       "      <td>2</td>\n",
       "      <td>Can change log entry</td>\n",
       "      <td>1</td>\n",
       "      <td>change_logentry</td>\n",
       "    </tr>\n",
       "    <tr>\n",
       "      <th>2</th>\n",
       "      <td>3</td>\n",
       "      <td>Can delete log entry</td>\n",
       "      <td>1</td>\n",
       "      <td>delete_logentry</td>\n",
       "    </tr>\n",
       "    <tr>\n",
       "      <th>3</th>\n",
       "      <td>4</td>\n",
       "      <td>Can view log entry</td>\n",
       "      <td>1</td>\n",
       "      <td>view_logentry</td>\n",
       "    </tr>\n",
       "    <tr>\n",
       "      <th>4</th>\n",
       "      <td>33</td>\n",
       "      <td>Can add agency</td>\n",
       "      <td>9</td>\n",
       "      <td>add_agency</td>\n",
       "    </tr>\n",
       "    <tr>\n",
       "      <th>...</th>\n",
       "      <td>...</td>\n",
       "      <td>...</td>\n",
       "      <td>...</td>\n",
       "      <td>...</td>\n",
       "    </tr>\n",
       "    <tr>\n",
       "      <th>123</th>\n",
       "      <td>56</td>\n",
       "      <td>Can view response</td>\n",
       "      <td>14</td>\n",
       "      <td>view_response</td>\n",
       "    </tr>\n",
       "    <tr>\n",
       "      <th>124</th>\n",
       "      <td>49</td>\n",
       "      <td>Can add survey</td>\n",
       "      <td>13</td>\n",
       "      <td>add_survey</td>\n",
       "    </tr>\n",
       "    <tr>\n",
       "      <th>125</th>\n",
       "      <td>50</td>\n",
       "      <td>Can change survey</td>\n",
       "      <td>13</td>\n",
       "      <td>change_survey</td>\n",
       "    </tr>\n",
       "    <tr>\n",
       "      <th>126</th>\n",
       "      <td>51</td>\n",
       "      <td>Can delete survey</td>\n",
       "      <td>13</td>\n",
       "      <td>delete_survey</td>\n",
       "    </tr>\n",
       "    <tr>\n",
       "      <th>127</th>\n",
       "      <td>52</td>\n",
       "      <td>Can view survey</td>\n",
       "      <td>13</td>\n",
       "      <td>view_survey</td>\n",
       "    </tr>\n",
       "  </tbody>\n",
       "</table>\n",
       "<p>128 rows × 4 columns</p>\n",
       "</div>"
      ],
      "text/plain": [
       "     p_id                  name  content_type_id         codename\n",
       "0       1     Can add log entry                1     add_logentry\n",
       "1       2  Can change log entry                1  change_logentry\n",
       "2       3  Can delete log entry                1  delete_logentry\n",
       "3       4    Can view log entry                1    view_logentry\n",
       "4      33        Can add agency                9       add_agency\n",
       "..    ...                   ...              ...              ...\n",
       "123    56     Can view response               14    view_response\n",
       "124    49        Can add survey               13       add_survey\n",
       "125    50     Can change survey               13    change_survey\n",
       "126    51     Can delete survey               13    delete_survey\n",
       "127    52       Can view survey               13      view_survey\n",
       "\n",
       "[128 rows x 4 columns]"
      ]
     },
     "metadata": {},
     "output_type": "display_data"
    }
   ],
   "source": [
    "# Create a list of all permissions \n",
    "perms=[dict(p_id=perm.id, name=perm.name, \n",
    "            content_type_id=perm.content_type_id, codename=perm.codename)\n",
    "       for perm in Permission.objects.all().iterator()]\n",
    "\n",
    "# Create a dictionary\n",
    "perms=pd.DataFrame(data=perms)\n",
    "    \n",
    "display(perms)\n"
   ]
  },
  {
   "cell_type": "markdown",
   "metadata": {},
   "source": [
    "# Ingest data into the database\n",
    "\n",
    "In this section, we write demo data to the database using the Django models.\n",
    "\n",
    "Notes\n",
    "- For the most part, data are stored in a Google Sheet with a number of tabs: 'agency', 'auth_user', 'client', 'groups_perms', 'security_group_user_agency'.\n",
    "- Data from each tab is read into a dataframe.  It is then ingested into the Django models and associated postgres database, if the entries are not already in existence.  This if-exists condition is to avoid duplicating data when running the notebook.\n"
   ]
  },
  {
   "cell_type": "markdown",
   "metadata": {},
   "source": [
    "## Create a pygsheets object "
   ]
  },
  {
   "cell_type": "code",
   "execution_count": 7,
   "metadata": {
    "ExecuteTime": {
     "end_time": "2020-08-18T18:59:36.684003Z",
     "start_time": "2020-08-18T18:59:36.675849Z"
    }
   },
   "outputs": [],
   "source": [
    "# Authorize pygsheets API\n",
    "gc=pygsheets.authorize(client_secret=os.path.join(config_path, google_secret_file), \n",
    "                         kwargs={'key':api_key})\n"
   ]
  },
  {
   "cell_type": "code",
   "execution_count": 8,
   "metadata": {
    "ExecuteTime": {
     "end_time": "2020-08-18T18:59:37.600327Z",
     "start_time": "2020-08-18T18:59:37.598073Z"
    }
   },
   "outputs": [],
   "source": [
    "# These are the Google Sheet tabs used later in this analysis\n",
    "test_tables = ['agency', 'auth_user', 'client', 'groups_perms',\n",
    "               'security_group_user_agency']\n",
    "\n",
    "# A dictionary of dataframes using data from the Google Sheets\n",
    "dfs={}\n"
   ]
  },
  {
   "cell_type": "markdown",
   "metadata": {},
   "source": [
    "## Add some data to the Agency model\n",
    "\n",
    "In this section, we are pulling data from the Google Sheet to add data to the Agency model.  \n",
    "\n",
    "Notes \n",
    "- This simulation uses a ref_id which as a unique integer id in addition to the current agency UUID.  This was intended to simplify the mapping and internal reference, but it is probably not necessary and the simulation should be reworked to only use the agency's unique UUID.  For code examples using UUID see the client examples in this notebook.  As noted under the client, it seems likely the client agency_assoc field is not necessary in favor of a mapping table.  If this case going forward, the agency_ref field on the Agency model seems even more unnecessary.\n"
   ]
  },
  {
   "cell_type": "markdown",
   "metadata": {},
   "source": [
    "### Read the example data from Google sheets"
   ]
  },
  {
   "cell_type": "code",
   "execution_count": 9,
   "metadata": {
    "ExecuteTime": {
     "end_time": "2020-08-18T18:59:40.813010Z",
     "start_time": "2020-08-18T18:59:39.095741Z"
    }
   },
   "outputs": [
    {
     "data": {
      "text/markdown": [
       "### The agency demo dataframe:"
      ],
      "text/plain": [
       "<IPython.core.display.Markdown object>"
      ]
     },
     "metadata": {},
     "output_type": "display_data"
    },
    {
     "data": {
      "text/html": [
       "<div>\n",
       "<style scoped>\n",
       "    .dataframe tbody tr th:only-of-type {\n",
       "        vertical-align: middle;\n",
       "    }\n",
       "\n",
       "    .dataframe tbody tr th {\n",
       "        vertical-align: top;\n",
       "    }\n",
       "\n",
       "    .dataframe thead th {\n",
       "        text-align: right;\n",
       "    }\n",
       "</style>\n",
       "<table border=\"1\" class=\"dataframe\">\n",
       "  <thead>\n",
       "    <tr style=\"text-align: right;\">\n",
       "      <th></th>\n",
       "      <th>id (uuid)</th>\n",
       "      <th>ref_id</th>\n",
       "      <th>name</th>\n",
       "      <th>Address1</th>\n",
       "      <th>Address2</th>\n",
       "      <th>City</th>\n",
       "      <th>State</th>\n",
       "      <th>Zip</th>\n",
       "      <th>HoursOperation</th>\n",
       "      <th>MainPhoneNumber</th>\n",
       "      <th>FaxNumber</th>\n",
       "    </tr>\n",
       "  </thead>\n",
       "  <tbody>\n",
       "    <tr>\n",
       "      <th>0</th>\n",
       "      <td></td>\n",
       "      <td>1</td>\n",
       "      <td>Goodwill North Georgia</td>\n",
       "      <td>2201 Lawrenceville Highway</td>\n",
       "      <td>Suite 300</td>\n",
       "      <td>Decatur</td>\n",
       "      <td>GA</td>\n",
       "      <td>30033</td>\n",
       "      <td></td>\n",
       "      <td>404-420-9900</td>\n",
       "      <td>404-420-9901</td>\n",
       "    </tr>\n",
       "    <tr>\n",
       "      <th>1</th>\n",
       "      <td></td>\n",
       "      <td>2</td>\n",
       "      <td>Goodwill Middle Georgia</td>\n",
       "      <td>5171 Eisenhower Pkwy suite a</td>\n",
       "      <td></td>\n",
       "      <td>Macon</td>\n",
       "      <td>GA</td>\n",
       "      <td>31206</td>\n",
       "      <td>None</td>\n",
       "      <td>None</td>\n",
       "      <td>None</td>\n",
       "    </tr>\n",
       "    <tr>\n",
       "      <th>2</th>\n",
       "      <td></td>\n",
       "      <td>3</td>\n",
       "      <td>Goodwill Big Bend</td>\n",
       "      <td>300 Mabry Street</td>\n",
       "      <td></td>\n",
       "      <td>Tallahassee</td>\n",
       "      <td>FL</td>\n",
       "      <td>32304</td>\n",
       "      <td>None</td>\n",
       "      <td>None</td>\n",
       "      <td>None</td>\n",
       "    </tr>\n",
       "    <tr>\n",
       "      <th>3</th>\n",
       "      <td></td>\n",
       "      <td>4</td>\n",
       "      <td>Goodwill of SouthEast Georgia</td>\n",
       "      <td>7220 Sallie Mood Drive</td>\n",
       "      <td></td>\n",
       "      <td>Savannah</td>\n",
       "      <td>GA</td>\n",
       "      <td>31406</td>\n",
       "      <td></td>\n",
       "      <td>912-354-6611</td>\n",
       "      <td>912-354-6612</td>\n",
       "    </tr>\n",
       "    <tr>\n",
       "      <th>4</th>\n",
       "      <td></td>\n",
       "      <td>5</td>\n",
       "      <td>Goodwill Industries of the Southern Rivers</td>\n",
       "      <td>2601 Cross Country Drive</td>\n",
       "      <td>Building A</td>\n",
       "      <td>Columbus</td>\n",
       "      <td>GA</td>\n",
       "      <td>31906</td>\n",
       "      <td></td>\n",
       "      <td>866-325-8265</td>\n",
       "      <td>866-325-8266</td>\n",
       "    </tr>\n",
       "  </tbody>\n",
       "</table>\n",
       "</div>"
      ],
      "text/plain": [
       "  id (uuid)  ref_id                                        name  \\\n",
       "0                 1                      Goodwill North Georgia   \n",
       "1                 2                     Goodwill Middle Georgia   \n",
       "2                 3                           Goodwill Big Bend   \n",
       "3                 4               Goodwill of SouthEast Georgia   \n",
       "4                 5  Goodwill Industries of the Southern Rivers   \n",
       "\n",
       "                       Address1    Address2         City State    Zip  \\\n",
       "0    2201 Lawrenceville Highway   Suite 300      Decatur    GA  30033   \n",
       "1  5171 Eisenhower Pkwy suite a                    Macon    GA  31206   \n",
       "2              300 Mabry Street              Tallahassee    FL  32304   \n",
       "3        7220 Sallie Mood Drive                 Savannah    GA  31406   \n",
       "4      2601 Cross Country Drive  Building A     Columbus    GA  31906   \n",
       "\n",
       "  HoursOperation MainPhoneNumber     FaxNumber  \n",
       "0                   404-420-9900  404-420-9901  \n",
       "1           None            None          None  \n",
       "2           None            None          None  \n",
       "3                   912-354-6611  912-354-6612  \n",
       "4                   866-325-8265  866-325-8266  "
      ]
     },
     "metadata": {},
     "output_type": "display_data"
    }
   ],
   "source": [
    "# Set up a filter\n",
    "t_table='agency'\n",
    "\n",
    "# Get demo data, display it and save in a dictionary\n",
    "dfs[t_table]=get_demo_data(table=t_table)\n"
   ]
  },
  {
   "cell_type": "markdown",
   "metadata": {},
   "source": [
    "### Add data to the model"
   ]
  },
  {
   "cell_type": "code",
   "execution_count": 10,
   "metadata": {
    "ExecuteTime": {
     "end_time": "2020-08-18T18:59:40.824970Z",
     "start_time": "2020-08-18T18:59:40.814742Z"
    }
   },
   "outputs": [],
   "source": [
    "# Get a list of current ref_ids of existing agencies\n",
    "cur_ref_ids = [a.ref_id for a in Agency.objects.all()]\n",
    "\n",
    "# For each entry in the agency example data dataframe\n",
    "# Add the entry, if the ref_id does not exist (to prevent dups \n",
    "# in testing data)\n",
    "for idx in dfs[t_table].index:\n",
    "    if dfs[t_table].loc[idx,'ref_id'] not in cur_ref_ids:\n",
    "        a = Agency(ref_id=dfs[t_table].loc[idx,'ref_id'],\n",
    "                   name=dfs[t_table].loc[idx,'name'])\n",
    "        a.save()\n"
   ]
  },
  {
   "cell_type": "markdown",
   "metadata": {},
   "source": [
    "### View the new model dataset"
   ]
  },
  {
   "cell_type": "code",
   "execution_count": 11,
   "metadata": {
    "ExecuteTime": {
     "end_time": "2020-08-18T18:59:42.054020Z",
     "start_time": "2020-08-18T18:59:42.043632Z"
    }
   },
   "outputs": [
    {
     "name": "stdout",
     "output_type": "stream",
     "text": [
      "<bound method QuerySet.values_list of <QuerySet [<Agency: Goodwill Big Bend>, <Agency: Goodwill Industries of the Southern Rivers>, <Agency: Goodwill Middle Georgia>, <Agency: Goodwill North Georgia>, <Agency: Goodwill of SouthEast Georgia>]>>\n"
     ]
    }
   ],
   "source": [
    "# Retrieve data from the agency object\n",
    "print(Agency.objects.all().values_list)\n"
   ]
  },
  {
   "cell_type": "markdown",
   "metadata": {},
   "source": [
    "## Add some data to the User model\n",
    "\n",
    "In this section, we are pulling data from the Google Sheet to add data to the User model.\n",
    "\n",
    "Notes\n",
    "\n",
    "- This simulation does not create superusers.  If the dataframe field is_superuser == True, the porgram does not attempt to create that user.  Instead, superusers are created using django's `manage.py createsuperuser` script prior to launching the server.  They are inlcuded in the Google Sheet for reference.\n"
   ]
  },
  {
   "cell_type": "markdown",
   "metadata": {},
   "source": [
    "### Read the example data from Google sheets"
   ]
  },
  {
   "cell_type": "code",
   "execution_count": 12,
   "metadata": {
    "ExecuteTime": {
     "end_time": "2020-08-18T18:59:44.669138Z",
     "start_time": "2020-08-18T18:59:43.933049Z"
    }
   },
   "outputs": [
    {
     "data": {
      "text/markdown": [
       "### The auth_user demo dataframe:"
      ],
      "text/plain": [
       "<IPython.core.display.Markdown object>"
      ]
     },
     "metadata": {},
     "output_type": "display_data"
    },
    {
     "data": {
      "text/html": [
       "<div>\n",
       "<style scoped>\n",
       "    .dataframe tbody tr th:only-of-type {\n",
       "        vertical-align: middle;\n",
       "    }\n",
       "\n",
       "    .dataframe tbody tr th {\n",
       "        vertical-align: top;\n",
       "    }\n",
       "\n",
       "    .dataframe thead th {\n",
       "        text-align: right;\n",
       "    }\n",
       "</style>\n",
       "<table border=\"1\" class=\"dataframe\">\n",
       "  <thead>\n",
       "    <tr style=\"text-align: right;\">\n",
       "      <th></th>\n",
       "      <th>worksheet_id</th>\n",
       "      <th>username</th>\n",
       "      <th>first_name</th>\n",
       "      <th>last_name</th>\n",
       "      <th>email</th>\n",
       "      <th>is_superuser</th>\n",
       "      <th>is_staff</th>\n",
       "      <th>is_active</th>\n",
       "    </tr>\n",
       "  </thead>\n",
       "  <tbody>\n",
       "    <tr>\n",
       "      <th>0</th>\n",
       "      <td>1</td>\n",
       "      <td>superuser1</td>\n",
       "      <td></td>\n",
       "      <td></td>\n",
       "      <td>super@super.com</td>\n",
       "      <td>TRUE</td>\n",
       "      <td>FALSE</td>\n",
       "      <td>TRUE</td>\n",
       "    </tr>\n",
       "    <tr>\n",
       "      <th>1</th>\n",
       "      <td>2</td>\n",
       "      <td>cecpowell</td>\n",
       "      <td>Ceclila</td>\n",
       "      <td>Powell</td>\n",
       "      <td>cpowell@gwnorthga.org</td>\n",
       "      <td>TRUE</td>\n",
       "      <td>FALSE</td>\n",
       "      <td>TRUE</td>\n",
       "    </tr>\n",
       "    <tr>\n",
       "      <th>2</th>\n",
       "      <td>3</td>\n",
       "      <td>levmendoza</td>\n",
       "      <td>Levina</td>\n",
       "      <td>Mendoza</td>\n",
       "      <td>levinamendoza@gwmidga.org</td>\n",
       "      <td>TRUE</td>\n",
       "      <td>FALSE</td>\n",
       "      <td>TRUE</td>\n",
       "    </tr>\n",
       "    <tr>\n",
       "      <th>3</th>\n",
       "      <td>4</td>\n",
       "      <td>hilbeemer</td>\n",
       "      <td>Hilda</td>\n",
       "      <td>Beemer</td>\n",
       "      <td>hb@gwbigbend.org</td>\n",
       "      <td>TRUE</td>\n",
       "      <td>FALSE</td>\n",
       "      <td>TRUE</td>\n",
       "    </tr>\n",
       "    <tr>\n",
       "      <th>4</th>\n",
       "      <td>5</td>\n",
       "      <td>felmoore</td>\n",
       "      <td>Felix</td>\n",
       "      <td>Moore</td>\n",
       "      <td>felixmoore@gwsouteastga.org</td>\n",
       "      <td>TRUE</td>\n",
       "      <td>FALSE</td>\n",
       "      <td>TRUE</td>\n",
       "    </tr>\n",
       "    <tr>\n",
       "      <th>5</th>\n",
       "      <td>6</td>\n",
       "      <td>janclark</td>\n",
       "      <td>Jan</td>\n",
       "      <td>Clark</td>\n",
       "      <td>jclark@gwindustries.org</td>\n",
       "      <td>TRUE</td>\n",
       "      <td>FALSE</td>\n",
       "      <td>TRUE</td>\n",
       "    </tr>\n",
       "  </tbody>\n",
       "</table>\n",
       "</div>"
      ],
      "text/plain": [
       "   worksheet_id    username first_name last_name                        email  \\\n",
       "0             1  superuser1                                   super@super.com   \n",
       "1             2   cecpowell    Ceclila    Powell        cpowell@gwnorthga.org   \n",
       "2             3  levmendoza     Levina   Mendoza    levinamendoza@gwmidga.org   \n",
       "3             4   hilbeemer      Hilda    Beemer             hb@gwbigbend.org   \n",
       "4             5    felmoore      Felix     Moore  felixmoore@gwsouteastga.org   \n",
       "5             6    janclark        Jan     Clark      jclark@gwindustries.org   \n",
       "\n",
       "  is_superuser is_staff is_active  \n",
       "0         TRUE    FALSE      TRUE  \n",
       "1         TRUE    FALSE      TRUE  \n",
       "2         TRUE    FALSE      TRUE  \n",
       "3         TRUE    FALSE      TRUE  \n",
       "4         TRUE    FALSE      TRUE  \n",
       "5         TRUE    FALSE      TRUE  "
      ]
     },
     "metadata": {},
     "output_type": "display_data"
    }
   ],
   "source": [
    "# Set up a filter\n",
    "t_table='auth_user'\n",
    "\n",
    "# Get demo data, display it and save in a dictionary\n",
    "dfs[t_table]=get_demo_data(table=t_table)\n",
    "\n",
    "# Convert to booleans\n",
    "dfs[t_table]['is_superuser'] = dfs[t_table]['is_superuser'].map({'FALSE': False, 'TRUE': True})\n",
    "dfs[t_table]['is_staff'] = dfs[t_table]['is_staff'].map({'FALSE': False, 'TRUE': True})\n",
    "dfs[t_table]['is_active'] = dfs[t_table]['is_active'].map({'FALSE': False, 'TRUE': True})\n"
   ]
  },
  {
   "cell_type": "markdown",
   "metadata": {},
   "source": [
    "### Add data to the model"
   ]
  },
  {
   "cell_type": "code",
   "execution_count": 13,
   "metadata": {
    "ExecuteTime": {
     "end_time": "2020-08-18T18:59:45.755759Z",
     "start_time": "2020-08-18T18:59:45.743992Z"
    },
    "scrolled": false
   },
   "outputs": [],
   "source": [
    "# Get a list of current ref_ids of existing agencies\n",
    "cur_usernames = [u.username for u in User.objects.all()]\n",
    "\n",
    "# For each entry in the user example data dataframe\n",
    "# Add the entry, if the username does not exist (to prevent dups \n",
    "# in testing data)\n",
    "\n",
    "# Use this mask to fitler out any superusers\n",
    "mask =dfs[t_table]['is_superuser']==False\n",
    "\n",
    "for idx in dfs[t_table][mask].index:\n",
    "    if dfs[t_table].loc[idx,'username'] not in cur_usernames:\n",
    "        u = User(username=dfs[t_table].loc[idx,'username'],\n",
    "                 first_name=dfs[t_table].loc[idx,'first_name'],\n",
    "                 last_name=dfs[t_table].loc[idx,'last_name'],\n",
    "                 email=dfs[t_table].loc[idx,'email'],\n",
    "                 is_superuser=dfs[t_table].loc[idx,'is_superuser'],\n",
    "                 is_staff=dfs[t_table].loc[idx,'is_staff'],\n",
    "                 is_active=dfs[t_table].loc[idx,'is_active']\n",
    "                )\n",
    "        u.save()\n"
   ]
  },
  {
   "cell_type": "markdown",
   "metadata": {},
   "source": [
    "### View the new model dataset"
   ]
  },
  {
   "cell_type": "code",
   "execution_count": 14,
   "metadata": {
    "ExecuteTime": {
     "end_time": "2020-08-18T18:59:47.964208Z",
     "start_time": "2020-08-18T18:59:47.959774Z"
    }
   },
   "outputs": [
    {
     "name": "stdout",
     "output_type": "stream",
     "text": [
      "<bound method QuerySet.values_list of <QuerySet [<User: superuser1>, <User: levmendoza>, <User: hilbeemer>, <User: felmoore>, <User: cecpowell>, <User: janclark>]>>\n"
     ]
    }
   ],
   "source": [
    "# Retrieve data from the agency object\n",
    "print(User.objects.all().values_list)\n"
   ]
  },
  {
   "cell_type": "markdown",
   "metadata": {},
   "source": [
    "## Add some data to the Client Model\n",
    "\n",
    "In this section, we are pulling data from the Google Sheet to add data to the Client model.\n",
    "\n",
    "Notes\n",
    "\n",
    "- This simulation employs an `agency_assoc` field which is in the Google Sheet and built into the CLient model.  It is here to replicate other process that associate clients and agencies.  For example, if the release of information (ROI) model is used, there could be a process to associate clients to particular agencies since the  client has given explicit permission to share their information with these agencies.  Additionally or alternatively, if an agency-sharing model is used, a process could be run to associate clients with agencies.  In either case, under this simulation those associations are stored in the `agency.AgencyClient` model, and the `agency_assoc` field would probably no longer be necessary.\n",
    "- This first section adds client data.  The next section will use the `agency_assoc` field to add data to the `agency.AgencyClient` model.\n",
    "\n"
   ]
  },
  {
   "cell_type": "markdown",
   "metadata": {
    "ExecuteTime": {
     "end_time": "2020-08-14T11:50:33.203348Z",
     "start_time": "2020-08-14T11:50:33.201097Z"
    }
   },
   "source": [
    "### Read the example data from the Google Sheets"
   ]
  },
  {
   "cell_type": "code",
   "execution_count": 15,
   "metadata": {
    "ExecuteTime": {
     "end_time": "2020-08-18T18:59:51.281426Z",
     "start_time": "2020-08-18T18:59:50.402074Z"
    }
   },
   "outputs": [
    {
     "data": {
      "text/markdown": [
       "### The client demo dataframe:"
      ],
      "text/plain": [
       "<IPython.core.display.Markdown object>"
      ]
     },
     "metadata": {},
     "output_type": "display_data"
    },
    {
     "data": {
      "text/html": [
       "<div>\n",
       "<style scoped>\n",
       "    .dataframe tbody tr th:only-of-type {\n",
       "        vertical-align: middle;\n",
       "    }\n",
       "\n",
       "    .dataframe tbody tr th {\n",
       "        vertical-align: top;\n",
       "    }\n",
       "\n",
       "    .dataframe thead th {\n",
       "        text-align: right;\n",
       "    }\n",
       "</style>\n",
       "<table border=\"1\" class=\"dataframe\">\n",
       "  <thead>\n",
       "    <tr style=\"text-align: right;\">\n",
       "      <th></th>\n",
       "      <th>id</th>\n",
       "      <th>first_name</th>\n",
       "      <th>last_name</th>\n",
       "      <th>agency_assoc</th>\n",
       "      <th>dob-date</th>\n",
       "      <th>dob</th>\n",
       "      <th>SSN</th>\n",
       "      <th>Address1</th>\n",
       "      <th>Address2</th>\n",
       "      <th>City</th>\n",
       "      <th>State</th>\n",
       "      <th>Zip</th>\n",
       "    </tr>\n",
       "  </thead>\n",
       "  <tbody>\n",
       "    <tr>\n",
       "      <th>0</th>\n",
       "      <td>1</td>\n",
       "      <td>Hailie</td>\n",
       "      <td>Boyd</td>\n",
       "      <td>2,3,4,</td>\n",
       "      <td>1/3/1987 0:00:00</td>\n",
       "      <td>1987-01-03</td>\n",
       "      <td>257-54-9891</td>\n",
       "      <td>16000 Old Bullpen</td>\n",
       "      <td></td>\n",
       "      <td>Atlanta</td>\n",
       "      <td>GA</td>\n",
       "      <td>30004-2625</td>\n",
       "    </tr>\n",
       "    <tr>\n",
       "      <th>1</th>\n",
       "      <td>2</td>\n",
       "      <td>Camille</td>\n",
       "      <td>Howell</td>\n",
       "      <td>2,</td>\n",
       "      <td>4/8/2000 0:00:00</td>\n",
       "      <td>2000-04-08</td>\n",
       "      <td>595-45-4214</td>\n",
       "      <td>108 Castle Oak Ct</td>\n",
       "      <td></td>\n",
       "      <td>Kingsland</td>\n",
       "      <td>GA</td>\n",
       "      <td>31548</td>\n",
       "    </tr>\n",
       "    <tr>\n",
       "      <th>2</th>\n",
       "      <td>3</td>\n",
       "      <td>Sandra</td>\n",
       "      <td>Obrien</td>\n",
       "      <td>2,</td>\n",
       "      <td>4/14/1988 0:00:00</td>\n",
       "      <td>1988-04-14</td>\n",
       "      <td>221-57-3987</td>\n",
       "      <td>8821 Ga 15 Hwy N</td>\n",
       "      <td></td>\n",
       "      <td>Warthen</td>\n",
       "      <td>GA</td>\n",
       "      <td>31094</td>\n",
       "    </tr>\n",
       "    <tr>\n",
       "      <th>3</th>\n",
       "      <td>4</td>\n",
       "      <td>Scarlett</td>\n",
       "      <td>Montgomery</td>\n",
       "      <td>3,</td>\n",
       "      <td>4/11/1983 0:00:00</td>\n",
       "      <td>1983-04-11</td>\n",
       "      <td>261-57-3384</td>\n",
       "      <td>None</td>\n",
       "      <td>None</td>\n",
       "      <td>None</td>\n",
       "      <td>None</td>\n",
       "      <td>None</td>\n",
       "    </tr>\n",
       "    <tr>\n",
       "      <th>4</th>\n",
       "      <td>5</td>\n",
       "      <td>Sanai</td>\n",
       "      <td>Curtis</td>\n",
       "      <td>1,2,</td>\n",
       "      <td>6/24/1991 0:00:00</td>\n",
       "      <td>1991-06-24</td>\n",
       "      <td></td>\n",
       "      <td>7415 Jamestown</td>\n",
       "      <td></td>\n",
       "      <td>Atlanta</td>\n",
       "      <td>GA</td>\n",
       "      <td>30005-3018</td>\n",
       "    </tr>\n",
       "    <tr>\n",
       "      <th>5</th>\n",
       "      <td>6</td>\n",
       "      <td>Warren</td>\n",
       "      <td>Aguirre</td>\n",
       "      <td>1,5,</td>\n",
       "      <td>6/9/1978 0:00:00</td>\n",
       "      <td>1978-06-09</td>\n",
       "      <td>258-50-4217</td>\n",
       "      <td>2712 Southside Dr</td>\n",
       "      <td></td>\n",
       "      <td>Donalsonville</td>\n",
       "      <td>GA</td>\n",
       "      <td>39845</td>\n",
       "    </tr>\n",
       "    <tr>\n",
       "      <th>6</th>\n",
       "      <td>7</td>\n",
       "      <td>Trent</td>\n",
       "      <td>Carpenter</td>\n",
       "      <td>1,</td>\n",
       "      <td>1/12/1979 0:00:00</td>\n",
       "      <td>1979-01-12</td>\n",
       "      <td>091-80-5624</td>\n",
       "      <td>8822 Waycross Hwy</td>\n",
       "      <td></td>\n",
       "      <td>Screven</td>\n",
       "      <td>GA</td>\n",
       "      <td>31560</td>\n",
       "    </tr>\n",
       "    <tr>\n",
       "      <th>7</th>\n",
       "      <td>8</td>\n",
       "      <td>Layla</td>\n",
       "      <td>Diaz</td>\n",
       "      <td>1,</td>\n",
       "      <td>5/23/2000 0:00:00</td>\n",
       "      <td>2000-05-23</td>\n",
       "      <td>None</td>\n",
       "      <td>None</td>\n",
       "      <td>None</td>\n",
       "      <td>None</td>\n",
       "      <td>None</td>\n",
       "      <td>None</td>\n",
       "    </tr>\n",
       "    <tr>\n",
       "      <th>8</th>\n",
       "      <td>9</td>\n",
       "      <td>Khalil</td>\n",
       "      <td>Farley</td>\n",
       "      <td>4,</td>\n",
       "      <td>4/18/1994 0:00:00</td>\n",
       "      <td>1994-04-18</td>\n",
       "      <td>413-11-6488</td>\n",
       "      <td>1055 Windward Ridge</td>\n",
       "      <td></td>\n",
       "      <td>Atlanta</td>\n",
       "      <td>GA</td>\n",
       "      <td>30005-1767</td>\n",
       "    </tr>\n",
       "    <tr>\n",
       "      <th>9</th>\n",
       "      <td>10</td>\n",
       "      <td>Amya</td>\n",
       "      <td>Flowers</td>\n",
       "      <td>4,</td>\n",
       "      <td>6/17/1980 0:00:00</td>\n",
       "      <td>1980-06-17</td>\n",
       "      <td></td>\n",
       "      <td>1027 Ga 45 Hwy</td>\n",
       "      <td></td>\n",
       "      <td>Colquitt</td>\n",
       "      <td>GA</td>\n",
       "      <td>39837</td>\n",
       "    </tr>\n",
       "    <tr>\n",
       "      <th>10</th>\n",
       "      <td>11</td>\n",
       "      <td>Courtney</td>\n",
       "      <td>Nolan</td>\n",
       "      <td>2,</td>\n",
       "      <td>1/12/1980 0:00:00</td>\n",
       "      <td>1980-01-12</td>\n",
       "      <td>261-57-2851</td>\n",
       "      <td>883 Ten Oaks Rd</td>\n",
       "      <td></td>\n",
       "      <td>Buchanan</td>\n",
       "      <td>GA</td>\n",
       "      <td>30113</td>\n",
       "    </tr>\n",
       "    <tr>\n",
       "      <th>11</th>\n",
       "      <td>12</td>\n",
       "      <td>Nickolas</td>\n",
       "      <td>Maxwell</td>\n",
       "      <td>4,2,</td>\n",
       "      <td>5/1/1980 0:00:00</td>\n",
       "      <td>1980-05-01</td>\n",
       "      <td>None</td>\n",
       "      <td>None</td>\n",
       "      <td>None</td>\n",
       "      <td>None</td>\n",
       "      <td>None</td>\n",
       "      <td>None</td>\n",
       "    </tr>\n",
       "    <tr>\n",
       "      <th>12</th>\n",
       "      <td>13</td>\n",
       "      <td>Briley</td>\n",
       "      <td>Leach</td>\n",
       "      <td>1,2,</td>\n",
       "      <td>4/5/1983 0:00:00</td>\n",
       "      <td>1983-04-05</td>\n",
       "      <td></td>\n",
       "      <td>12500 Arnold Mill</td>\n",
       "      <td></td>\n",
       "      <td>Atlanta</td>\n",
       "      <td>GA</td>\n",
       "      <td>30004-4011</td>\n",
       "    </tr>\n",
       "    <tr>\n",
       "      <th>13</th>\n",
       "      <td>14</td>\n",
       "      <td>Van</td>\n",
       "      <td>Andrews</td>\n",
       "      <td>1,5,</td>\n",
       "      <td>4/1/2001 0:00:00</td>\n",
       "      <td>2001-04-01</td>\n",
       "      <td>489-16-6562</td>\n",
       "      <td>30 Technology Pky Nw #200</td>\n",
       "      <td></td>\n",
       "      <td>Norcross</td>\n",
       "      <td>GA</td>\n",
       "      <td>30092</td>\n",
       "    </tr>\n",
       "    <tr>\n",
       "      <th>14</th>\n",
       "      <td>15</td>\n",
       "      <td>Coleman</td>\n",
       "      <td>Pace</td>\n",
       "      <td>1,</td>\n",
       "      <td>2/19/1988 0:00:00</td>\n",
       "      <td>1988-02-19</td>\n",
       "      <td>595-67-4289</td>\n",
       "      <td>884 Allen Dr</td>\n",
       "      <td></td>\n",
       "      <td>Vidalia</td>\n",
       "      <td>GA</td>\n",
       "      <td>30474</td>\n",
       "    </tr>\n",
       "    <tr>\n",
       "      <th>15</th>\n",
       "      <td>16</td>\n",
       "      <td>Amya</td>\n",
       "      <td>Dominguez</td>\n",
       "      <td>2,</td>\n",
       "      <td>5/25/1979 0:00:00</td>\n",
       "      <td>1979-05-25</td>\n",
       "      <td>595-10-4265</td>\n",
       "      <td>None</td>\n",
       "      <td>None</td>\n",
       "      <td>None</td>\n",
       "      <td>None</td>\n",
       "      <td>None</td>\n",
       "    </tr>\n",
       "    <tr>\n",
       "      <th>16</th>\n",
       "      <td>17</td>\n",
       "      <td>Keenan</td>\n",
       "      <td>Foster</td>\n",
       "      <td>5,</td>\n",
       "      <td>3/18/1989 0:00:00</td>\n",
       "      <td>1989-03-18</td>\n",
       "      <td>254-74-3844</td>\n",
       "      <td>401 Tumbling Creek</td>\n",
       "      <td></td>\n",
       "      <td>Atlanta</td>\n",
       "      <td>GA</td>\n",
       "      <td>30005-6477</td>\n",
       "    </tr>\n",
       "    <tr>\n",
       "      <th>17</th>\n",
       "      <td>18</td>\n",
       "      <td>Aaden</td>\n",
       "      <td>Harding</td>\n",
       "      <td>4,</td>\n",
       "      <td>6/17/1990 0:00:00</td>\n",
       "      <td>1990-06-17</td>\n",
       "      <td></td>\n",
       "      <td>Po Box 997</td>\n",
       "      <td></td>\n",
       "      <td>Blue Ridge</td>\n",
       "      <td>GA</td>\n",
       "      <td>30513</td>\n",
       "    </tr>\n",
       "    <tr>\n",
       "      <th>18</th>\n",
       "      <td>19</td>\n",
       "      <td>Luciana</td>\n",
       "      <td>Kim</td>\n",
       "      <td>4,</td>\n",
       "      <td>4/11/2000 0:00:00</td>\n",
       "      <td>2000-04-11</td>\n",
       "      <td>247-65-5665</td>\n",
       "      <td>8846 Fairview Blf</td>\n",
       "      <td></td>\n",
       "      <td>Alpharetta</td>\n",
       "      <td>GA</td>\n",
       "      <td>30022</td>\n",
       "    </tr>\n",
       "    <tr>\n",
       "      <th>19</th>\n",
       "      <td>20</td>\n",
       "      <td>Kaylin</td>\n",
       "      <td>Daniel</td>\n",
       "      <td>3,</td>\n",
       "      <td>6/8/1992 0:00:00</td>\n",
       "      <td>1992-06-08</td>\n",
       "      <td>247-55-6786</td>\n",
       "      <td>None</td>\n",
       "      <td>None</td>\n",
       "      <td>None</td>\n",
       "      <td>None</td>\n",
       "      <td>None</td>\n",
       "    </tr>\n",
       "    <tr>\n",
       "      <th>20</th>\n",
       "      <td>21</td>\n",
       "      <td>Miguel</td>\n",
       "      <td>Mcintyre</td>\n",
       "      <td>3,</td>\n",
       "      <td>6/21/1987 0:00:00</td>\n",
       "      <td>1987-06-21</td>\n",
       "      <td>250-65-5667</td>\n",
       "      <td>500 Pine Bough</td>\n",
       "      <td></td>\n",
       "      <td>Atlanta</td>\n",
       "      <td>GA</td>\n",
       "      <td>30004-4540</td>\n",
       "    </tr>\n",
       "    <tr>\n",
       "      <th>21</th>\n",
       "      <td>22</td>\n",
       "      <td>Marlene</td>\n",
       "      <td>Ibarra</td>\n",
       "      <td>4,</td>\n",
       "      <td>3/18/1984 0:00:00</td>\n",
       "      <td>1984-03-18</td>\n",
       "      <td>252-65-3954</td>\n",
       "      <td>None</td>\n",
       "      <td>None</td>\n",
       "      <td>None</td>\n",
       "      <td>None</td>\n",
       "      <td>None</td>\n",
       "    </tr>\n",
       "    <tr>\n",
       "      <th>22</th>\n",
       "      <td>23</td>\n",
       "      <td>Rihanna</td>\n",
       "      <td>Ferrell</td>\n",
       "      <td>4,1,2,3,</td>\n",
       "      <td>2/23/1987 0:00:00</td>\n",
       "      <td>1987-02-23</td>\n",
       "      <td>091-80-5348</td>\n",
       "      <td>None</td>\n",
       "      <td>None</td>\n",
       "      <td>None</td>\n",
       "      <td>None</td>\n",
       "      <td>None</td>\n",
       "    </tr>\n",
       "    <tr>\n",
       "      <th>23</th>\n",
       "      <td>24</td>\n",
       "      <td>Perla</td>\n",
       "      <td>Kaiser</td>\n",
       "      <td>5,</td>\n",
       "      <td>4/3/1995 0:00:00</td>\n",
       "      <td>1995-04-03</td>\n",
       "      <td></td>\n",
       "      <td>5436 Northside Dr</td>\n",
       "      <td></td>\n",
       "      <td>Donalsonville</td>\n",
       "      <td>GA</td>\n",
       "      <td>39845</td>\n",
       "    </tr>\n",
       "    <tr>\n",
       "      <th>24</th>\n",
       "      <td>25</td>\n",
       "      <td>Zachery</td>\n",
       "      <td>Morton</td>\n",
       "      <td>2,4,</td>\n",
       "      <td>6/9/1983 0:00:00</td>\n",
       "      <td>1983-06-09</td>\n",
       "      <td>111-98-3835</td>\n",
       "      <td>856 Waymouth Hwy</td>\n",
       "      <td></td>\n",
       "      <td>Screven</td>\n",
       "      <td>GA</td>\n",
       "      <td>31560</td>\n",
       "    </tr>\n",
       "  </tbody>\n",
       "</table>\n",
       "</div>"
      ],
      "text/plain": [
       "    id first_name   last_name agency_assoc           dob-date         dob  \\\n",
       "0    1    Hailie         Boyd       2,3,4,   1/3/1987 0:00:00  1987-01-03   \n",
       "1    2   Camille       Howell           2,   4/8/2000 0:00:00  2000-04-08   \n",
       "2    3    Sandra       Obrien           2,  4/14/1988 0:00:00  1988-04-14   \n",
       "3    4  Scarlett   Montgomery           3,  4/11/1983 0:00:00  1983-04-11   \n",
       "4    5     Sanai       Curtis         1,2,  6/24/1991 0:00:00  1991-06-24   \n",
       "5    6    Warren      Aguirre         1,5,   6/9/1978 0:00:00  1978-06-09   \n",
       "6    7     Trent    Carpenter           1,  1/12/1979 0:00:00  1979-01-12   \n",
       "7    8     Layla         Diaz           1,  5/23/2000 0:00:00  2000-05-23   \n",
       "8    9    Khalil       Farley           4,  4/18/1994 0:00:00  1994-04-18   \n",
       "9   10      Amya      Flowers           4,  6/17/1980 0:00:00  1980-06-17   \n",
       "10  11  Courtney        Nolan           2,  1/12/1980 0:00:00  1980-01-12   \n",
       "11  12  Nickolas      Maxwell         4,2,   5/1/1980 0:00:00  1980-05-01   \n",
       "12  13    Briley        Leach         1,2,   4/5/1983 0:00:00  1983-04-05   \n",
       "13  14       Van      Andrews         1,5,   4/1/2001 0:00:00  2001-04-01   \n",
       "14  15   Coleman         Pace           1,  2/19/1988 0:00:00  1988-02-19   \n",
       "15  16      Amya    Dominguez           2,  5/25/1979 0:00:00  1979-05-25   \n",
       "16  17    Keenan       Foster           5,  3/18/1989 0:00:00  1989-03-18   \n",
       "17  18     Aaden      Harding           4,  6/17/1990 0:00:00  1990-06-17   \n",
       "18  19   Luciana          Kim           4,  4/11/2000 0:00:00  2000-04-11   \n",
       "19  20    Kaylin       Daniel           3,   6/8/1992 0:00:00  1992-06-08   \n",
       "20  21    Miguel     Mcintyre           3,  6/21/1987 0:00:00  1987-06-21   \n",
       "21  22   Marlene       Ibarra           4,  3/18/1984 0:00:00  1984-03-18   \n",
       "22  23   Rihanna      Ferrell     4,1,2,3,  2/23/1987 0:00:00  1987-02-23   \n",
       "23  24     Perla       Kaiser           5,   4/3/1995 0:00:00  1995-04-03   \n",
       "24  25   Zachery       Morton         2,4,   6/9/1983 0:00:00  1983-06-09   \n",
       "\n",
       "            SSN                   Address1 Address2           City State  \\\n",
       "0   257-54-9891          16000 Old Bullpen                 Atlanta    GA   \n",
       "1   595-45-4214          108 Castle Oak Ct               Kingsland    GA   \n",
       "2   221-57-3987           8821 Ga 15 Hwy N                 Warthen    GA   \n",
       "3   261-57-3384                       None     None           None  None   \n",
       "4                           7415 Jamestown                 Atlanta    GA   \n",
       "5   258-50-4217          2712 Southside Dr           Donalsonville    GA   \n",
       "6   091-80-5624          8822 Waycross Hwy                 Screven    GA   \n",
       "7          None                       None     None           None  None   \n",
       "8   413-11-6488        1055 Windward Ridge                 Atlanta    GA   \n",
       "9                           1027 Ga 45 Hwy                Colquitt    GA   \n",
       "10  261-57-2851            883 Ten Oaks Rd                Buchanan    GA   \n",
       "11         None                       None     None           None  None   \n",
       "12                       12500 Arnold Mill                 Atlanta    GA   \n",
       "13  489-16-6562  30 Technology Pky Nw #200                Norcross    GA   \n",
       "14  595-67-4289               884 Allen Dr                 Vidalia    GA   \n",
       "15  595-10-4265                       None     None           None  None   \n",
       "16  254-74-3844         401 Tumbling Creek                 Atlanta    GA   \n",
       "17                              Po Box 997              Blue Ridge    GA   \n",
       "18  247-65-5665          8846 Fairview Blf              Alpharetta    GA   \n",
       "19  247-55-6786                       None     None           None  None   \n",
       "20  250-65-5667             500 Pine Bough                 Atlanta    GA   \n",
       "21  252-65-3954                       None     None           None  None   \n",
       "22  091-80-5348                       None     None           None  None   \n",
       "23                       5436 Northside Dr           Donalsonville    GA   \n",
       "24  111-98-3835           856 Waymouth Hwy                 Screven    GA   \n",
       "\n",
       "           Zip  \n",
       "0   30004-2625  \n",
       "1        31548  \n",
       "2        31094  \n",
       "3         None  \n",
       "4   30005-3018  \n",
       "5        39845  \n",
       "6        31560  \n",
       "7         None  \n",
       "8   30005-1767  \n",
       "9        39837  \n",
       "10       30113  \n",
       "11        None  \n",
       "12  30004-4011  \n",
       "13       30092  \n",
       "14       30474  \n",
       "15        None  \n",
       "16  30005-6477  \n",
       "17       30513  \n",
       "18       30022  \n",
       "19        None  \n",
       "20  30004-4540  \n",
       "21        None  \n",
       "22        None  \n",
       "23       39845  \n",
       "24       31560  "
      ]
     },
     "metadata": {},
     "output_type": "display_data"
    }
   ],
   "source": [
    "# Set up a filter\n",
    "t_table='client'\n",
    "\n",
    "# Get demo data, display it and save in a dictionary\n",
    "dfs[t_table]=get_demo_data(table=t_table)\n"
   ]
  },
  {
   "cell_type": "markdown",
   "metadata": {},
   "source": [
    "### Add data to the model"
   ]
  },
  {
   "cell_type": "code",
   "execution_count": 16,
   "metadata": {
    "ExecuteTime": {
     "end_time": "2020-08-18T18:59:52.551036Z",
     "start_time": "2020-08-18T18:59:52.493151Z"
    }
   },
   "outputs": [],
   "source": [
    "# Get a list of current ref_ids of existing agencies\n",
    "cur_clients = [c.first_name+c.last_name for c in Client.objects.all()]\n",
    "\n",
    "# For each entry in the client example data dataframe\n",
    "# Add the entry, if the client does not exist (to prevent dups \n",
    "# in testing data)\n",
    "for idx in dfs[t_table].index:\n",
    "    client_ider = dfs[t_table].loc[idx,'first_name']+dfs[t_table].loc[idx,'last_name']\n",
    "    if client_ider not in cur_clients:\n",
    "        c = Client(first_name=dfs[t_table].loc[idx,'first_name'].strip(),\n",
    "                   last_name=dfs[t_table].loc[idx,'last_name'].strip(),\n",
    "                   dob=dfs[t_table].loc[idx,'dob'],\n",
    "                   agency_assoc=dfs[t_table].loc[idx,'agency_assoc']\n",
    "                )\n",
    "        c.save()\n",
    "        "
   ]
  },
  {
   "cell_type": "markdown",
   "metadata": {},
   "source": [
    "### View the new model dataset"
   ]
  },
  {
   "cell_type": "code",
   "execution_count": 17,
   "metadata": {
    "ExecuteTime": {
     "end_time": "2020-08-18T18:59:54.681066Z",
     "start_time": "2020-08-18T18:59:54.676360Z"
    }
   },
   "outputs": [
    {
     "name": "stdout",
     "output_type": "stream",
     "text": [
      "<bound method QuerySet.values_list of <QuerySet [<Client: Zachery Morton>, <Client: Perla Kaiser>, <Client: Rihanna Ferrell>, <Client: Marlene Ibarra>, <Client: Miguel Mcintyre>, <Client: Kaylin Daniel>, <Client: Luciana Kim>, <Client: Aaden Harding>, <Client: Keenan Foster>, <Client: Amya Dominguez>, <Client: Coleman Pace>, <Client: Van Andrews>, <Client: Briley Leach>, <Client: Nickolas Maxwell>, <Client: Courtney Nolan>, <Client: Amya Flowers>, <Client: Khalil Farley>, <Client: Layla Diaz>, <Client: Trent Carpenter>, <Client: Warren Aguirre>, '...(remaining elements truncated)...']>>\n"
     ]
    }
   ],
   "source": [
    "# Retrieve data from the agency object\n",
    "print(Client.objects.all().values_list)\n"
   ]
  },
  {
   "cell_type": "markdown",
   "metadata": {},
   "source": [
    "## Add data to the Agency-client model\n",
    "\n",
    "In this section, we use the `agency_assoc` field to add data to the AgencyClient model.\n",
    "\n",
    "Notes\n",
    "\n",
    "- This first section adds data by using the dataframe's `agency_assoc` field to create entries to the `agency.AgencyClient` model.\n"
   ]
  },
  {
   "cell_type": "code",
   "execution_count": 18,
   "metadata": {
    "ExecuteTime": {
     "end_time": "2020-08-18T18:59:56.561189Z",
     "start_time": "2020-08-18T18:59:56.408448Z"
    },
    "scrolled": true
   },
   "outputs": [],
   "source": [
    "cur_client_ids = [c.id for c in Client.objects.all()]\n",
    "cur_agclients = [(str(ac.client_id), str(ac.agency_ref.ref_id)) for ac in AgencyClient.objects.all()]\n",
    "\n",
    "# For each entry in the client example data dataframe\n",
    "# Add an entry for agency-client using the dataframe agency_assoc\n",
    "desc = 'Data sharing through client release'\n",
    "for c in Client.objects.all():\n",
    "    for a in c.agency_assoc.strip(',').split(','):\n",
    "        agency = Agency.objects.get(ref_id=a)\n",
    "        if (str(c.id), a) not in cur_agclients:\n",
    "            ac = AgencyClient(client_id=c.id,\n",
    "                              agency_ref=agency,\n",
    "                              desc=desc\n",
    "                             )\n",
    "            ac.save()\n",
    "        \n",
    "        "
   ]
  },
  {
   "cell_type": "markdown",
   "metadata": {},
   "source": [
    "### View the new model dataset"
   ]
  },
  {
   "cell_type": "code",
   "execution_count": 19,
   "metadata": {
    "ExecuteTime": {
     "end_time": "2020-08-18T18:59:57.842600Z",
     "start_time": "2020-08-18T18:59:57.837558Z"
    }
   },
   "outputs": [
    {
     "name": "stdout",
     "output_type": "stream",
     "text": [
      "<bound method QuerySet.values_list of <QuerySet [<AgencyClient: AgencyClient object (1)>, <AgencyClient: AgencyClient object (2)>, <AgencyClient: AgencyClient object (3)>, <AgencyClient: AgencyClient object (4)>, <AgencyClient: AgencyClient object (5)>, <AgencyClient: AgencyClient object (6)>, <AgencyClient: AgencyClient object (7)>, <AgencyClient: AgencyClient object (8)>, <AgencyClient: AgencyClient object (9)>, <AgencyClient: AgencyClient object (10)>, <AgencyClient: AgencyClient object (11)>, <AgencyClient: AgencyClient object (12)>, <AgencyClient: AgencyClient object (13)>, <AgencyClient: AgencyClient object (14)>, <AgencyClient: AgencyClient object (15)>, <AgencyClient: AgencyClient object (16)>, <AgencyClient: AgencyClient object (17)>, <AgencyClient: AgencyClient object (18)>, <AgencyClient: AgencyClient object (19)>, <AgencyClient: AgencyClient object (20)>, '...(remaining elements truncated)...']>>\n"
     ]
    }
   ],
   "source": [
    "# Retrieve data from the agency object\n",
    "print(AgencyClient.objects.all().values_list)\n"
   ]
  },
  {
   "cell_type": "markdown",
   "metadata": {},
   "source": [
    "## Add some data to the Group and apply Permissions \n",
    "\n",
    "In this section, we are pulling data from the Google Sheet to add to the Group model and to assign permissions to these groups using the Permission model.\n",
    "\n",
    "Notes\n",
    "\n",
    "- This simulation only applies permissions to the Client model.  \n",
    "- This simulation use the out-of-the box Django Group and Permissions models.  However, it adds an agency layer in which users can be in different groups for different agencies. \n",
    "\n",
    "\n"
   ]
  },
  {
   "cell_type": "markdown",
   "metadata": {},
   "source": [
    "### Read the example data from the Google Sheets"
   ]
  },
  {
   "cell_type": "code",
   "execution_count": 20,
   "metadata": {
    "ExecuteTime": {
     "end_time": "2020-08-18T19:00:00.928205Z",
     "start_time": "2020-08-18T19:00:00.064732Z"
    }
   },
   "outputs": [
    {
     "data": {
      "text/markdown": [
       "### The groups_perms demo dataframe:"
      ],
      "text/plain": [
       "<IPython.core.display.Markdown object>"
      ]
     },
     "metadata": {},
     "output_type": "display_data"
    },
    {
     "data": {
      "text/html": [
       "<div>\n",
       "<style scoped>\n",
       "    .dataframe tbody tr th:only-of-type {\n",
       "        vertical-align: middle;\n",
       "    }\n",
       "\n",
       "    .dataframe tbody tr th {\n",
       "        vertical-align: top;\n",
       "    }\n",
       "\n",
       "    .dataframe thead th {\n",
       "        text-align: right;\n",
       "    }\n",
       "</style>\n",
       "<table border=\"1\" class=\"dataframe\">\n",
       "  <thead>\n",
       "    <tr style=\"text-align: right;\">\n",
       "      <th></th>\n",
       "      <th>group</th>\n",
       "      <th>model</th>\n",
       "      <th>perm_slug</th>\n",
       "      <th>perm_id</th>\n",
       "      <th>perm_name</th>\n",
       "    </tr>\n",
       "  </thead>\n",
       "  <tbody>\n",
       "    <tr>\n",
       "      <th>0</th>\n",
       "      <td>Administrator</td>\n",
       "      <td>client</td>\n",
       "      <td>add</td>\n",
       "      <td>41</td>\n",
       "      <td>Can add client</td>\n",
       "    </tr>\n",
       "    <tr>\n",
       "      <th>1</th>\n",
       "      <td>Administrator</td>\n",
       "      <td>client</td>\n",
       "      <td>change</td>\n",
       "      <td>42</td>\n",
       "      <td>Can change client</td>\n",
       "    </tr>\n",
       "    <tr>\n",
       "      <th>2</th>\n",
       "      <td>Administrator</td>\n",
       "      <td>client</td>\n",
       "      <td>delete</td>\n",
       "      <td>43</td>\n",
       "      <td>Can delete client</td>\n",
       "    </tr>\n",
       "    <tr>\n",
       "      <th>3</th>\n",
       "      <td>Administrator</td>\n",
       "      <td>client</td>\n",
       "      <td>view</td>\n",
       "      <td>44</td>\n",
       "      <td>Can view client</td>\n",
       "    </tr>\n",
       "    <tr>\n",
       "      <th>4</th>\n",
       "      <td>Case Worker</td>\n",
       "      <td>client</td>\n",
       "      <td>change</td>\n",
       "      <td>42</td>\n",
       "      <td>Can change client</td>\n",
       "    </tr>\n",
       "    <tr>\n",
       "      <th>5</th>\n",
       "      <td>Case Worker</td>\n",
       "      <td>client</td>\n",
       "      <td>view</td>\n",
       "      <td>44</td>\n",
       "      <td>Can view client</td>\n",
       "    </tr>\n",
       "    <tr>\n",
       "      <th>6</th>\n",
       "      <td>Analyst</td>\n",
       "      <td>client</td>\n",
       "      <td>view</td>\n",
       "      <td>44</td>\n",
       "      <td>Can view client</td>\n",
       "    </tr>\n",
       "  </tbody>\n",
       "</table>\n",
       "</div>"
      ],
      "text/plain": [
       "           group   model perm_slug  perm_id          perm_name\n",
       "0  Administrator  client       add       41     Can add client\n",
       "1  Administrator  client    change       42  Can change client\n",
       "2  Administrator  client    delete       43  Can delete client\n",
       "3  Administrator  client      view       44    Can view client\n",
       "4    Case Worker  client    change       42  Can change client\n",
       "5    Case Worker  client      view       44    Can view client\n",
       "6        Analyst  client      view       44    Can view client"
      ]
     },
     "metadata": {},
     "output_type": "display_data"
    }
   ],
   "source": [
    "# Set up a filter\n",
    "t_table='groups_perms'\n",
    "\n",
    "# Get demo data, display it and save in a dictionary\n",
    "dfs[t_table]=get_demo_data(table=t_table)\n",
    "\n"
   ]
  },
  {
   "cell_type": "markdown",
   "metadata": {},
   "source": [
    "## Create group roles"
   ]
  },
  {
   "cell_type": "code",
   "execution_count": 21,
   "metadata": {
    "ExecuteTime": {
     "end_time": "2020-08-18T19:00:01.389913Z",
     "start_time": "2020-08-18T19:00:01.380735Z"
    }
   },
   "outputs": [],
   "source": [
    "# Get a list of the current role names\n",
    "cur_group_names = [g.name for g in Group.objects.all()]\n",
    "\n",
    "# For each role in the roles dictionary, add it\n",
    "for group in dfs[t_table]['group'].unique():\n",
    "    if group not in cur_group_names:\n",
    "        g = Group(name=group)\n",
    "        g.save()\n"
   ]
  },
  {
   "cell_type": "markdown",
   "metadata": {},
   "source": [
    "## Add permissions to groups"
   ]
  },
  {
   "cell_type": "code",
   "execution_count": 22,
   "metadata": {
    "ExecuteTime": {
     "end_time": "2020-08-18T19:00:02.965101Z",
     "start_time": "2020-08-18T19:00:02.910768Z"
    }
   },
   "outputs": [],
   "source": [
    "# Get a list of the current group ids and names\n",
    "cur_groups = [(group.id, group.name) for group in Group.objects.all()]\n",
    "\n",
    "mask=dfs[t_table]['group']=='Case Worker'\n",
    "dfs[t_table][mask]['group'].unique()\n",
    "\n",
    "# Add new permissions to the roles, if they don't already exist\n",
    "for group in cur_groups:\n",
    "    mask=dfs[t_table]['group']==group[1]\n",
    "    g = Group(id=group[0])\n",
    "    perm_ids = [p.id for p in g.permissions.iterator()]\n",
    "    for perm_id in dfs[t_table][mask]['perm_id'].unique():\n",
    "        if perm_id not in perm_ids:\n",
    "            g.permissions.add(perm_id)\n"
   ]
  },
  {
   "cell_type": "markdown",
   "metadata": {},
   "source": [
    "### View the new model dataset"
   ]
  },
  {
   "cell_type": "code",
   "execution_count": 23,
   "metadata": {
    "ExecuteTime": {
     "end_time": "2020-08-18T19:00:04.343713Z",
     "start_time": "2020-08-18T19:00:04.339510Z"
    }
   },
   "outputs": [
    {
     "name": "stdout",
     "output_type": "stream",
     "text": [
      "<bound method QuerySet.values_list of <QuerySet [<Group: Administrator>, <Group: Case Worker>, <Group: Analyst>]>>\n"
     ]
    }
   ],
   "source": [
    "print(Group.objects.all().values_list)\n",
    "\n"
   ]
  },
  {
   "cell_type": "code",
   "execution_count": 24,
   "metadata": {
    "ExecuteTime": {
     "end_time": "2020-08-18T19:00:05.105751Z",
     "start_time": "2020-08-18T19:00:05.082273Z"
    }
   },
   "outputs": [
    {
     "name": "stdout",
     "output_type": "stream",
     "text": [
      "Administrator\n",
      "permissions\n",
      "[(41, 'Can add client'), (42, 'Can change client'), (43, 'Can delete client'), (44, 'Can view client')]\n",
      "Case Worker\n",
      "permissions\n",
      "[(42, 'Can change client'), (44, 'Can view client')]\n",
      "Analyst\n",
      "permissions\n",
      "[(44, 'Can view client')]\n"
     ]
    }
   ],
   "source": [
    "for g in Group.objects.all():\n",
    "    perm_ids = [(p.id, p.name) for p in g.permissions.iterator()]    \n",
    "    print(g.name)\n",
    "    print('permissions')\n",
    "    print(perm_ids)\n",
    "    "
   ]
  },
  {
   "cell_type": "markdown",
   "metadata": {
    "ExecuteTime": {
     "end_time": "2020-08-11T16:31:13.340034Z",
     "start_time": "2020-08-11T16:31:13.337695Z"
    }
   },
   "source": [
    "## Read in Agency-User-Group data from Google Sheets\n",
    "\n",
    "In this section, we are pulling data from the Google Sheet to add data to the SecurityGroupUserAgency model.\n",
    "\n",
    "Notes\n",
    "\n",
    "- This model maps users to agencies and assigns them to a group within each agency.  This mapping is the primary customization from the out-of-the box Django group/permissions framework.\n",
    "\n",
    "\n"
   ]
  },
  {
   "cell_type": "markdown",
   "metadata": {},
   "source": [
    "### Read the example data from Google Sheets"
   ]
  },
  {
   "cell_type": "code",
   "execution_count": 25,
   "metadata": {
    "ExecuteTime": {
     "end_time": "2020-08-18T19:00:08.441678Z",
     "start_time": "2020-08-18T19:00:07.535002Z"
    }
   },
   "outputs": [
    {
     "data": {
      "text/markdown": [
       "### The security_group_user_agency demo dataframe:"
      ],
      "text/plain": [
       "<IPython.core.display.Markdown object>"
      ]
     },
     "metadata": {},
     "output_type": "display_data"
    },
    {
     "data": {
      "text/html": [
       "<div>\n",
       "<style scoped>\n",
       "    .dataframe tbody tr th:only-of-type {\n",
       "        vertical-align: middle;\n",
       "    }\n",
       "\n",
       "    .dataframe tbody tr th {\n",
       "        vertical-align: top;\n",
       "    }\n",
       "\n",
       "    .dataframe thead th {\n",
       "        text-align: right;\n",
       "    }\n",
       "</style>\n",
       "<table border=\"1\" class=\"dataframe\">\n",
       "  <thead>\n",
       "    <tr style=\"text-align: right;\">\n",
       "      <th></th>\n",
       "      <th>desc</th>\n",
       "      <th>agency_ref</th>\n",
       "      <th>group_ref_id</th>\n",
       "      <th>user_ref_id</th>\n",
       "    </tr>\n",
       "  </thead>\n",
       "  <tbody>\n",
       "    <tr>\n",
       "      <th>0</th>\n",
       "      <td>User 1 is in Group 1 for Agency 1</td>\n",
       "      <td>1</td>\n",
       "      <td>1</td>\n",
       "      <td>1</td>\n",
       "    </tr>\n",
       "    <tr>\n",
       "      <th>1</th>\n",
       "      <td>User 1 is in Group 3 for Agency 2</td>\n",
       "      <td>2</td>\n",
       "      <td>3</td>\n",
       "      <td>1</td>\n",
       "    </tr>\n",
       "    <tr>\n",
       "      <th>2</th>\n",
       "      <td>User 2 is in Group 1 for Agency 2</td>\n",
       "      <td>2</td>\n",
       "      <td>1</td>\n",
       "      <td>2</td>\n",
       "    </tr>\n",
       "    <tr>\n",
       "      <th>3</th>\n",
       "      <td>User 3 is in Group 2 for Agency 3</td>\n",
       "      <td>3</td>\n",
       "      <td>2</td>\n",
       "      <td>3</td>\n",
       "    </tr>\n",
       "    <tr>\n",
       "      <th>4</th>\n",
       "      <td>User 4 is in Group 3 for Agency 4</td>\n",
       "      <td>4</td>\n",
       "      <td>3</td>\n",
       "      <td>4</td>\n",
       "    </tr>\n",
       "    <tr>\n",
       "      <th>5</th>\n",
       "      <td>User 5 is in Group 3 for Agency 5</td>\n",
       "      <td>5</td>\n",
       "      <td>3</td>\n",
       "      <td>5</td>\n",
       "    </tr>\n",
       "    <tr>\n",
       "      <th>6</th>\n",
       "      <td>User 6 is in Group 1 for Agency 5</td>\n",
       "      <td>5</td>\n",
       "      <td>1</td>\n",
       "      <td>6</td>\n",
       "    </tr>\n",
       "  </tbody>\n",
       "</table>\n",
       "</div>"
      ],
      "text/plain": [
       "                                desc  agency_ref  group_ref_id  user_ref_id\n",
       "0  User 1 is in Group 1 for Agency 1           1             1            1\n",
       "1  User 1 is in Group 3 for Agency 2           2             3            1\n",
       "2  User 2 is in Group 1 for Agency 2           2             1            2\n",
       "3  User 3 is in Group 2 for Agency 3           3             2            3\n",
       "4  User 4 is in Group 3 for Agency 4           4             3            4\n",
       "5  User 5 is in Group 3 for Agency 5           5             3            5\n",
       "6  User 6 is in Group 1 for Agency 5           5             1            6"
      ]
     },
     "metadata": {},
     "output_type": "display_data"
    }
   ],
   "source": [
    "# Set up a filter\n",
    "t_table='security_group_user_agency'\n",
    "\n",
    "# Get demo data, display it and save in a dictionary\n",
    "dfs[t_table]=get_demo_data(table=t_table)\n"
   ]
  },
  {
   "cell_type": "markdown",
   "metadata": {},
   "source": [
    "### Add data to the model"
   ]
  },
  {
   "cell_type": "code",
   "execution_count": 26,
   "metadata": {
    "ExecuteTime": {
     "end_time": "2020-08-18T19:00:08.839353Z",
     "start_time": "2020-08-18T19:00:08.817188Z"
    },
    "scrolled": false
   },
   "outputs": [],
   "source": [
    "# Get the current mappings\n",
    "cur_sgua = [(u.agency_ref.ref_id, u.group_ref_id, u.user_ref_id) \n",
    "            for u in SecurityGroupUserAgency.objects.all()]\n",
    "\n",
    "for idx in dfs[t_table].index:\n",
    "    a = Agency(ref_id=dfs[t_table].loc[idx,'agency_ref'])    \n",
    "    g = Group(id=dfs[t_table].loc[idx,'group_ref_id'])    \n",
    "    u = User.objects.get(id=dfs[t_table].loc[idx,'user_ref_id'])\n",
    "    desc = dfs[t_table].loc[idx,'desc']\n",
    "    \n",
    "    if (a.ref_id, g.id, u.id) not in cur_sgua:\n",
    "        usg = SecurityGroupUserAgency(agency_ref=a,\n",
    "                                      group_ref_id=g.id,\n",
    "                                      user_ref_id=u.id,\n",
    "                                      desc=desc\n",
    "                                     )\n",
    "        usg.save()\n"
   ]
  },
  {
   "cell_type": "markdown",
   "metadata": {},
   "source": [
    "### View the new model dataset"
   ]
  },
  {
   "cell_type": "code",
   "execution_count": 27,
   "metadata": {
    "ExecuteTime": {
     "end_time": "2020-08-18T19:00:10.284473Z",
     "start_time": "2020-08-18T19:00:10.268648Z"
    }
   },
   "outputs": [
    {
     "name": "stdout",
     "output_type": "stream",
     "text": [
      "[(1, 1, 1, 'User 1 is in Group 1 for Agency 1'), (2, 3, 1, 'User 1 is in Group 3 for Agency 2'), (2, 1, 2, 'User 2 is in Group 1 for Agency 2'), (3, 2, 3, 'User 3 is in Group 2 for Agency 3'), (4, 3, 4, 'User 4 is in Group 3 for Agency 4'), (5, 3, 5, 'User 5 is in Group 3 for Agency 5'), (5, 1, 6, 'User 6 is in Group 1 for Agency 5')]\n"
     ]
    }
   ],
   "source": [
    "cur_sgua = [(u.agency_ref.ref_id, u.group_ref_id, u.user_ref_id, u.desc) \n",
    "            for u in SecurityGroupUserAgency.objects.all()]\n",
    "\n",
    "print(cur_sgua)\n"
   ]
  },
  {
   "cell_type": "markdown",
   "metadata": {},
   "source": [
    "# View the permissions for an individual user\n",
    "In this section, we are examining the permissions for a specific user and finding the clients which that user can view.\n",
    "\n",
    "Notes\n",
    "- The logic to view an individual user's permissions is:\n",
    "    - Look at the SecurityGroupUserAgency model to determine for which agencies this user has been assigned a group.\n",
    "    - Look at the permissions for each group.\n",
    "\n"
   ]
  },
  {
   "cell_type": "markdown",
   "metadata": {},
   "source": [
    "## Examine one user's permissions"
   ]
  },
  {
   "cell_type": "code",
   "execution_count": 28,
   "metadata": {
    "ExecuteTime": {
     "end_time": "2020-08-18T19:00:12.768540Z",
     "start_time": "2020-08-18T19:00:12.743375Z"
    }
   },
   "outputs": [
    {
     "name": "stdout",
     "output_type": "stream",
     "text": [
      "User: superuser1 can view clients in agencies: [5]\n",
      "For Agency Goodwill Industries of the Southern Rivers (ref_d: 5), User 6's permissions: [(41, 'Can add client'), (42, 'Can change client'), (43, 'Can delete client'), (44, 'Can view client')]\n"
     ]
    }
   ],
   "source": [
    "# # Get a list of current users\n",
    "cur_usernames = [u.username for u in User.objects.all()]\n",
    "\n",
    "ti=0\n",
    "username=cur_usernames[ti]\n",
    "\n",
    "# print(username)\n",
    "# u = User.objects.get(username=username)\n",
    "\n",
    "# Use the API test client\n",
    "api_client=APIClient(SERVER_NAME=\"localhost\")\n",
    "api_client.force_authenticate(user=User.objects.get(username=username))\n",
    "\n",
    "sgua = SecurityGroupUserAgency.objects.filter(user_ref_id=u.id)\n",
    "\n",
    "# Since all groups assignments allow the user to view client\n",
    "# data, we simply need to check to which agencies the user has been\n",
    "# assigned a role.  This could be more granular, if the user, for \n",
    "# example, wanted to edit the client.  In that case, we need to check \n",
    "# if the user has access to edit client data for that agency.\n",
    "agencies = [s.agency_ref.ref_id for s in sgua]\n",
    "\n",
    "# View results\n",
    "print('User: {} can view clients in agencies: {}'.format(username, agencies))\n",
    "\n",
    "# Permissions by Agency\n",
    "for s in sgua:\n",
    "    perm_ids = [(p.id, p.name) for p in Group(id=s.group_ref_id).permissions.iterator()]\n",
    "    print(\"For Agency {} (ref_d: {}), User {}'s permissions: {}\".format(s.agency_ref,\n",
    "                                                                        s.agency_ref.ref_id,\n",
    "                                                                        s.user_ref_id,\n",
    "                                                                        perm_ids))\n"
   ]
  },
  {
   "cell_type": "markdown",
   "metadata": {},
   "source": [
    "## Find the clients this user can view"
   ]
  },
  {
   "cell_type": "code",
   "execution_count": 29,
   "metadata": {
    "ExecuteTime": {
     "end_time": "2020-08-18T19:00:14.328251Z",
     "start_time": "2020-08-18T19:00:14.307352Z"
    }
   },
   "outputs": [
    {
     "name": "stdout",
     "output_type": "stream",
     "text": [
      "id: 47084e96-67ab-4f4f-b5ad-df951d6fd3ad; name: Perla Kaiser\n",
      "id: 1d48612e-428a-42cb-a5c4-c1dcf5537593; name: Keenan Foster\n",
      "id: 236a4b0a-fa49-45e7-8e8f-e81099736791; name: Van Andrews\n",
      "id: 034ee2f1-0ff8-47d0-804b-e0bb4dd77a5d; name: Warren Aguirre\n",
      "id: cf8364b5-5daa-48ef-88a6-b31005eb2cd8; name: Perla Kaiser\n",
      "id: fa33f401-bd59-4869-9903-5842a4791b09; name: Keenan Foster\n",
      "id: 3e56fd30-2195-4617-a6fa-c83cd1bdaf8b; name: Van Andrews\n",
      "id: 1143a5d2-2774-49cc-adc0-1d00c3ee3830; name: Warren Aguirre\n"
     ]
    }
   ],
   "source": [
    "# import django_filters\n",
    "from django.db.models import Q\n",
    "\n",
    "q_objects = Q() \n",
    "for a in agencies:\n",
    "    q_objects |= Q(agency_ref=a)\n",
    "    \n",
    "# result = AgencyClient.objects.filter(**filters)\n",
    "result = AgencyClient.objects.filter(q_objects)\n",
    "\n",
    "q_objects = Q() \n",
    "for c in [ac.client_id for ac in result]:\n",
    "    q_objects |= Q(id=c)\n",
    "    \n",
    "# result = AgencyClient.objects.filter(**filters)\n",
    "result = Client.objects.filter(q_objects)\n",
    "\n",
    "# print(agencies)\n",
    "# print(len([c.id for c in result]))\n",
    "for c in result:\n",
    "    print('id: {}; name: {} {}'.format(c.id, c.first_name, c.last_name))\n",
    "\n"
   ]
  },
  {
   "cell_type": "markdown",
   "metadata": {},
   "source": [
    "# Test the client viewset\n",
    "\n",
    "In this section, we are testing the data-access security model by viewing the client data each individual authenticated user can see. \n",
    "\n",
    "Notes\n",
    "- The logic to determine the client set to present to the user is:\n",
    "    - Determine for which agencies this user has an assigned role or group noting that all group assignments have view permission.  For this reason, we don't need to further check permissions.  However, if similar logic were employed to check permissions before allowing a user to edit client details, the logic would need to also validate that the user has a group role with an edit permission.\n",
    "    - Find the clients that have an association with the agencies for which the user has a group role,\n",
    "    - Present these data to the user.\n",
    "- Note that each of these users is set to a superuser to accommodate logic in the current BackEnd framework.\n"
   ]
  },
  {
   "cell_type": "code",
   "execution_count": 30,
   "metadata": {
    "ExecuteTime": {
     "end_time": "2020-08-18T19:00:16.870231Z",
     "start_time": "2020-08-18T19:00:16.558391Z"
    },
    "scrolled": false
   },
   "outputs": [
    {
     "name": "stderr",
     "output_type": "stream",
     "text": [
      "{\"message\": \"App started\", \"@timestamp\": \"2020-08-18T19:00:16.646056\", \"level\": \"INFO\", \"logger\": \"django.app\"}\n"
     ]
    },
    {
     "name": "stdout",
     "output_type": "stream",
     "text": [
      "superuser1\n",
      "200\n",
      "User superuser1 can view 30 clients\n",
      "id: ba7f11f8-05e3-49a3-aa69-b2c425179138; name: Zachery Morton\n",
      "id: 7faf09de-a30b-4060-b03d-4314ce795fa0; name: Rihanna Ferrell\n",
      "id: 95e30d88-abdf-4356-85bb-0f19746e82e1; name: Amya Dominguez\n",
      "id: 52bbe85c-5f50-4ef0-9699-d0a4d03f9ddd; name: Coleman Pace\n",
      "id: 236a4b0a-fa49-45e7-8e8f-e81099736791; name: Van Andrews\n",
      "id: b7457753-6018-49e4-b968-60881b729575; name: Briley Leach\n",
      "id: 470004cc-03b8-4684-bf85-34df7dc4d12c; name: Nickolas Maxwell\n",
      "id: 11a7f015-69b7-4d29-b324-602813ef3e4b; name: Courtney Nolan\n",
      "id: 3c7c1495-1cc5-49cf-b75a-c89b37cceba3; name: Layla Diaz\n",
      "id: b9ae8439-8a39-4abe-9874-b5153b637e0a; name: Trent Carpenter\n",
      "id: 034ee2f1-0ff8-47d0-804b-e0bb4dd77a5d; name: Warren Aguirre\n",
      "id: 963ac82e-c268-4906-999b-5fd096880314; name: Sanai Curtis\n",
      "id: 90577445-a323-4dd4-835e-f4aa18872c7d; name: Sandra Obrien\n",
      "id: 01e4ef03-846a-4fef-89d8-8aff2b5917f2; name: Camille Howell\n",
      "id: 54151652-174d-4ae3-a949-9c70095158cb; name: Hailie Boyd\n",
      "id: a9a2ab75-57a5-4649-8fab-abbd31db1319; name: Zachery Morton\n",
      "id: 106e71bd-829a-4480-bd85-aec0f6bde1bb; name: Rihanna Ferrell\n",
      "id: 95fb4ed4-21a7-4429-94dc-027321d7fd2b; name: Amya Dominguez\n",
      "id: 51d6da2b-cc68-4515-86f9-cbaf8a44a2e6; name: Coleman Pace\n",
      "id: 3e56fd30-2195-4617-a6fa-c83cd1bdaf8b; name: Van Andrews\n",
      "id: acef35bc-18fa-4441-b5cc-20fe234ae019; name: Briley Leach\n",
      "id: 51592f1f-d82e-4203-a04a-25c5dc655dfd; name: Nickolas Maxwell\n",
      "id: c977d1f3-9c7d-45a9-9d85-b4e0c0634792; name: Courtney Nolan\n",
      "id: e947f0ce-1922-4f01-9680-d8008574ee88; name: Layla Diaz\n",
      "id: 244fcbd4-d4f5-4eb8-8146-65b17100ad4a; name: Trent Carpenter\n",
      "id: 1143a5d2-2774-49cc-adc0-1d00c3ee3830; name: Warren Aguirre\n",
      "id: 1d0f59cf-e21f-430d-b860-3b6fe093c3e8; name: Sanai Curtis\n",
      "id: 405aed03-39df-47f2-88c7-ba76f5ad4822; name: Sandra Obrien\n",
      "id: 2fe269dd-eec0-4088-846b-afb53707a080; name: Camille Howell\n",
      "id: 98f15b91-0354-4b76-b0d3-401c605c0383; name: Hailie Boyd\n",
      "levmendoza\n",
      "200\n",
      "User levmendoza can view 10 clients\n",
      "id: 7faf09de-a30b-4060-b03d-4314ce795fa0; name: Rihanna Ferrell\n",
      "id: a3bb306b-017e-4f78-8f3d-ee81abf7c2b7; name: Miguel Mcintyre\n",
      "id: a575ac44-0f9e-4c70-9adc-836e122449cd; name: Kaylin Daniel\n",
      "id: 5e3cf067-4511-4efa-8bdd-004386685d7a; name: Scarlett Montgomery\n",
      "id: 54151652-174d-4ae3-a949-9c70095158cb; name: Hailie Boyd\n",
      "id: 106e71bd-829a-4480-bd85-aec0f6bde1bb; name: Rihanna Ferrell\n",
      "id: 60d51965-b0e4-404a-b592-2dea143ccbaa; name: Miguel Mcintyre\n",
      "id: ebd6f2f6-bec7-461e-b700-fd2e520199c2; name: Kaylin Daniel\n",
      "id: 531b5fd5-20f2-417c-b861-03aa4c7ef0e9; name: Scarlett Montgomery\n",
      "id: 98f15b91-0354-4b76-b0d3-401c605c0383; name: Hailie Boyd\n",
      "hilbeemer\n",
      "200\n",
      "User hilbeemer can view 18 clients\n",
      "id: ba7f11f8-05e3-49a3-aa69-b2c425179138; name: Zachery Morton\n",
      "id: 7faf09de-a30b-4060-b03d-4314ce795fa0; name: Rihanna Ferrell\n",
      "id: 63ffc01a-d8de-421d-a2fe-925a90282b56; name: Marlene Ibarra\n",
      "id: 6ec3f0a0-1adb-4e0c-a7b2-880c2399fe84; name: Luciana Kim\n",
      "id: 09446d83-35a4-4126-96b8-9d521eabd463; name: Aaden Harding\n",
      "id: 470004cc-03b8-4684-bf85-34df7dc4d12c; name: Nickolas Maxwell\n",
      "id: f1ff3842-86dc-486c-ae5b-cf66063ec3cf; name: Amya Flowers\n",
      "id: 086f379e-379d-40eb-bb16-1a2636df3d47; name: Khalil Farley\n",
      "id: 54151652-174d-4ae3-a949-9c70095158cb; name: Hailie Boyd\n",
      "id: a9a2ab75-57a5-4649-8fab-abbd31db1319; name: Zachery Morton\n",
      "id: 106e71bd-829a-4480-bd85-aec0f6bde1bb; name: Rihanna Ferrell\n",
      "id: 2c42348e-959d-44a1-9b4c-7263c109a945; name: Marlene Ibarra\n",
      "id: 347e83a4-aae0-463b-9900-0ea75de52173; name: Luciana Kim\n",
      "id: 0eb7b453-51f7-4f0a-9a40-63c6fd17f958; name: Aaden Harding\n",
      "id: 51592f1f-d82e-4203-a04a-25c5dc655dfd; name: Nickolas Maxwell\n",
      "id: e51e9c6b-cb28-4431-a172-1d0d564af1eb; name: Amya Flowers\n",
      "id: f9b1a2df-a0a2-4a31-8fb8-023077147c1b; name: Khalil Farley\n",
      "id: 98f15b91-0354-4b76-b0d3-401c605c0383; name: Hailie Boyd\n",
      "felmoore\n",
      "200\n",
      "User felmoore can view 8 clients\n",
      "id: 47084e96-67ab-4f4f-b5ad-df951d6fd3ad; name: Perla Kaiser\n",
      "id: 1d48612e-428a-42cb-a5c4-c1dcf5537593; name: Keenan Foster\n",
      "id: 236a4b0a-fa49-45e7-8e8f-e81099736791; name: Van Andrews\n",
      "id: 034ee2f1-0ff8-47d0-804b-e0bb4dd77a5d; name: Warren Aguirre\n",
      "id: cf8364b5-5daa-48ef-88a6-b31005eb2cd8; name: Perla Kaiser\n",
      "id: fa33f401-bd59-4869-9903-5842a4791b09; name: Keenan Foster\n",
      "id: 3e56fd30-2195-4617-a6fa-c83cd1bdaf8b; name: Van Andrews\n",
      "id: 1143a5d2-2774-49cc-adc0-1d00c3ee3830; name: Warren Aguirre\n",
      "cecpowell\n",
      "200\n",
      "User cecpowell can view 20 clients\n",
      "id: ba7f11f8-05e3-49a3-aa69-b2c425179138; name: Zachery Morton\n",
      "id: 7faf09de-a30b-4060-b03d-4314ce795fa0; name: Rihanna Ferrell\n",
      "id: 95e30d88-abdf-4356-85bb-0f19746e82e1; name: Amya Dominguez\n",
      "id: b7457753-6018-49e4-b968-60881b729575; name: Briley Leach\n",
      "id: 470004cc-03b8-4684-bf85-34df7dc4d12c; name: Nickolas Maxwell\n",
      "id: 11a7f015-69b7-4d29-b324-602813ef3e4b; name: Courtney Nolan\n",
      "id: 963ac82e-c268-4906-999b-5fd096880314; name: Sanai Curtis\n",
      "id: 90577445-a323-4dd4-835e-f4aa18872c7d; name: Sandra Obrien\n",
      "id: 01e4ef03-846a-4fef-89d8-8aff2b5917f2; name: Camille Howell\n",
      "id: 54151652-174d-4ae3-a949-9c70095158cb; name: Hailie Boyd\n",
      "id: a9a2ab75-57a5-4649-8fab-abbd31db1319; name: Zachery Morton\n",
      "id: 106e71bd-829a-4480-bd85-aec0f6bde1bb; name: Rihanna Ferrell\n",
      "id: 95fb4ed4-21a7-4429-94dc-027321d7fd2b; name: Amya Dominguez\n",
      "id: acef35bc-18fa-4441-b5cc-20fe234ae019; name: Briley Leach\n",
      "id: 51592f1f-d82e-4203-a04a-25c5dc655dfd; name: Nickolas Maxwell\n",
      "id: c977d1f3-9c7d-45a9-9d85-b4e0c0634792; name: Courtney Nolan\n",
      "id: 1d0f59cf-e21f-430d-b860-3b6fe093c3e8; name: Sanai Curtis\n",
      "id: 405aed03-39df-47f2-88c7-ba76f5ad4822; name: Sandra Obrien\n",
      "id: 2fe269dd-eec0-4088-846b-afb53707a080; name: Camille Howell\n",
      "id: 98f15b91-0354-4b76-b0d3-401c605c0383; name: Hailie Boyd\n",
      "janclark\n",
      "200\n",
      "User janclark can view 8 clients\n",
      "id: 47084e96-67ab-4f4f-b5ad-df951d6fd3ad; name: Perla Kaiser\n",
      "id: 1d48612e-428a-42cb-a5c4-c1dcf5537593; name: Keenan Foster\n",
      "id: 236a4b0a-fa49-45e7-8e8f-e81099736791; name: Van Andrews\n",
      "id: 034ee2f1-0ff8-47d0-804b-e0bb4dd77a5d; name: Warren Aguirre\n",
      "id: cf8364b5-5daa-48ef-88a6-b31005eb2cd8; name: Perla Kaiser\n",
      "id: fa33f401-bd59-4869-9903-5842a4791b09; name: Keenan Foster\n",
      "id: 3e56fd30-2195-4617-a6fa-c83cd1bdaf8b; name: Van Andrews\n",
      "id: 1143a5d2-2774-49cc-adc0-1d00c3ee3830; name: Warren Aguirre\n"
     ]
    }
   ],
   "source": [
    "# Establish the api client and url\n",
    "api_client=APIClient(SERVER_NAME=\"localhost\")\n",
    "url = '/clients/'\n",
    "\n",
    "# Look at clients viewable to each user\n",
    "for u in User.objects.all():\n",
    "    api_client.force_authenticate(user=User.objects.get(username=u.username))\n",
    "    response = api_client.get(url)\n",
    "    print(u.username)\n",
    "    print(response.status_code)\n",
    "    if response.status_code != 403:\n",
    "        c_results = json.loads(response.content)\n",
    "        print('User {} can view {} clients'.format(u.username, c_results['count']))\n",
    "        for c in c_results['results']:\n",
    "            print('id: {}; name: {} {}'.format(c['id'], c['first_name'], c['last_name']))\n",
    "    \n"
   ]
  },
  {
   "cell_type": "code",
   "execution_count": null,
   "metadata": {},
   "outputs": [],
   "source": []
  }
 ],
 "metadata": {
  "kernelspec": {
   "display_name": "Django Shell-Plus",
   "language": "python",
   "name": "django_extensions"
  },
  "language_info": {
   "codemirror_mode": {
    "name": "ipython",
    "version": 3
   },
   "file_extension": ".py",
   "mimetype": "text/x-python",
   "name": "python",
   "nbconvert_exporter": "python",
   "pygments_lexer": "ipython3",
   "version": "3.8.3"
  },
  "toc": {
   "base_numbering": 1,
   "nav_menu": {},
   "number_sections": true,
   "sideBar": true,
   "skip_h1_title": false,
   "title_cell": "Table of Contents",
   "title_sidebar": "Contents",
   "toc_cell": true,
   "toc_position": {
    "height": "calc(100% - 180px)",
    "left": "10px",
    "top": "150px",
    "width": "331.797px"
   },
   "toc_section_display": true,
   "toc_window_display": true
  }
 },
 "nbformat": 4,
 "nbformat_minor": 4
}
