{
 "cells": [
  {
   "cell_type": "markdown",
   "metadata": {
    "toc": true
   },
   "source": [
    "<h1>Table of Contents<span class=\"tocSkip\"></span></h1>\n",
    "<div class=\"toc\"><ul class=\"toc-item\"><li><span><a href=\"#Summary\" data-toc-modified-id=\"Summary-1\"><span class=\"toc-item-num\">1&nbsp;&nbsp;</span>Summary</a></span></li><li><span><a href=\"#Establish-programming-components\" data-toc-modified-id=\"Establish-programming-components-2\"><span class=\"toc-item-num\">2&nbsp;&nbsp;</span>Establish programming components</a></span><ul class=\"toc-item\"><li><span><a href=\"#Install-and-import-libraries\" data-toc-modified-id=\"Install-and-import-libraries-2.1\"><span class=\"toc-item-num\">2.1&nbsp;&nbsp;</span>Install and import libraries</a></span></li><li><span><a href=\"#Set-paths\" data-toc-modified-id=\"Set-paths-2.2\"><span class=\"toc-item-num\">2.2&nbsp;&nbsp;</span>Set paths</a></span></li></ul></li><li><span><a href=\"#Define-functions\" data-toc-modified-id=\"Define-functions-3\"><span class=\"toc-item-num\">3&nbsp;&nbsp;</span>Define functions</a></span></li><li><span><a href=\"#Examine-the-Django-models\" data-toc-modified-id=\"Examine-the-Django-models-4\"><span class=\"toc-item-num\">4&nbsp;&nbsp;</span>Examine the Django models</a></span></li><li><span><a href=\"#Examine-existing-Django-permissions\" data-toc-modified-id=\"Examine-existing-Django-permissions-5\"><span class=\"toc-item-num\">5&nbsp;&nbsp;</span>Examine existing Django permissions</a></span></li><li><span><a href=\"#Ingest-data-into-the-database\" data-toc-modified-id=\"Ingest-data-into-the-database-6\"><span class=\"toc-item-num\">6&nbsp;&nbsp;</span>Ingest data into the database</a></span><ul class=\"toc-item\"><li><span><a href=\"#Create-a-pygsheets-object\" data-toc-modified-id=\"Create-a-pygsheets-object-6.1\"><span class=\"toc-item-num\">6.1&nbsp;&nbsp;</span>Create a pygsheets object</a></span></li><li><span><a href=\"#Add-some-data-to-the-Agency-model\" data-toc-modified-id=\"Add-some-data-to-the-Agency-model-6.2\"><span class=\"toc-item-num\">6.2&nbsp;&nbsp;</span>Add some data to the Agency model</a></span><ul class=\"toc-item\"><li><span><a href=\"#Read-the-example-data-from-Google-sheets\" data-toc-modified-id=\"Read-the-example-data-from-Google-sheets-6.2.1\"><span class=\"toc-item-num\">6.2.1&nbsp;&nbsp;</span>Read the example data from Google sheets</a></span></li><li><span><a href=\"#Add-data-to-the-model\" data-toc-modified-id=\"Add-data-to-the-model-6.2.2\"><span class=\"toc-item-num\">6.2.2&nbsp;&nbsp;</span>Add data to the model</a></span></li><li><span><a href=\"#View-the-new-model-dataset\" data-toc-modified-id=\"View-the-new-model-dataset-6.2.3\"><span class=\"toc-item-num\">6.2.3&nbsp;&nbsp;</span>View the new model dataset</a></span></li></ul></li><li><span><a href=\"#Add-some-data-to-the-User-model\" data-toc-modified-id=\"Add-some-data-to-the-User-model-6.3\"><span class=\"toc-item-num\">6.3&nbsp;&nbsp;</span>Add some data to the User model</a></span><ul class=\"toc-item\"><li><span><a href=\"#Read-the-example-data-from-Google-sheets\" data-toc-modified-id=\"Read-the-example-data-from-Google-sheets-6.3.1\"><span class=\"toc-item-num\">6.3.1&nbsp;&nbsp;</span>Read the example data from Google sheets</a></span></li><li><span><a href=\"#Add-data-to-the-model\" data-toc-modified-id=\"Add-data-to-the-model-6.3.2\"><span class=\"toc-item-num\">6.3.2&nbsp;&nbsp;</span>Add data to the model</a></span></li><li><span><a href=\"#View-the-new-model-dataset\" data-toc-modified-id=\"View-the-new-model-dataset-6.3.3\"><span class=\"toc-item-num\">6.3.3&nbsp;&nbsp;</span>View the new model dataset</a></span></li></ul></li><li><span><a href=\"#Add-some-data-to-the-Client-Model\" data-toc-modified-id=\"Add-some-data-to-the-Client-Model-6.4\"><span class=\"toc-item-num\">6.4&nbsp;&nbsp;</span>Add some data to the Client Model</a></span><ul class=\"toc-item\"><li><span><a href=\"#Read-the-example-data-from-the-Google-Sheets\" data-toc-modified-id=\"Read-the-example-data-from-the-Google-Sheets-6.4.1\"><span class=\"toc-item-num\">6.4.1&nbsp;&nbsp;</span>Read the example data from the Google Sheets</a></span></li><li><span><a href=\"#Add-data-to-the-model\" data-toc-modified-id=\"Add-data-to-the-model-6.4.2\"><span class=\"toc-item-num\">6.4.2&nbsp;&nbsp;</span>Add data to the model</a></span></li><li><span><a href=\"#View-the-new-model-dataset\" data-toc-modified-id=\"View-the-new-model-dataset-6.4.3\"><span class=\"toc-item-num\">6.4.3&nbsp;&nbsp;</span>View the new model dataset</a></span></li></ul></li><li><span><a href=\"#Add-data-to-the-Agency-client-model\" data-toc-modified-id=\"Add-data-to-the-Agency-client-model-6.5\"><span class=\"toc-item-num\">6.5&nbsp;&nbsp;</span>Add data to the Agency-client model</a></span><ul class=\"toc-item\"><li><span><a href=\"#View-the-new-model-dataset\" data-toc-modified-id=\"View-the-new-model-dataset-6.5.1\"><span class=\"toc-item-num\">6.5.1&nbsp;&nbsp;</span>View the new model dataset</a></span></li></ul></li><li><span><a href=\"#Add-some-data-to-the-Group-and-apply-Permissions\" data-toc-modified-id=\"Add-some-data-to-the-Group-and-apply-Permissions-6.6\"><span class=\"toc-item-num\">6.6&nbsp;&nbsp;</span>Add some data to the Group and apply Permissions</a></span><ul class=\"toc-item\"><li><span><a href=\"#Read-the-example-data-from-the-Google-Sheets\" data-toc-modified-id=\"Read-the-example-data-from-the-Google-Sheets-6.6.1\"><span class=\"toc-item-num\">6.6.1&nbsp;&nbsp;</span>Read the example data from the Google Sheets</a></span></li></ul></li><li><span><a href=\"#Create-group-roles\" data-toc-modified-id=\"Create-group-roles-6.7\"><span class=\"toc-item-num\">6.7&nbsp;&nbsp;</span>Create group roles</a></span></li><li><span><a href=\"#Add-permissions-to-groups\" data-toc-modified-id=\"Add-permissions-to-groups-6.8\"><span class=\"toc-item-num\">6.8&nbsp;&nbsp;</span>Add permissions to groups</a></span><ul class=\"toc-item\"><li><span><a href=\"#View-the-new-model-dataset\" data-toc-modified-id=\"View-the-new-model-dataset-6.8.1\"><span class=\"toc-item-num\">6.8.1&nbsp;&nbsp;</span>View the new model dataset</a></span></li></ul></li><li><span><a href=\"#Read-in-Agency-User-Group-data-from-Google-Sheets\" data-toc-modified-id=\"Read-in-Agency-User-Group-data-from-Google-Sheets-6.9\"><span class=\"toc-item-num\">6.9&nbsp;&nbsp;</span>Read in Agency-User-Group data from Google Sheets</a></span><ul class=\"toc-item\"><li><span><a href=\"#Read-the-example-data-from-Google-Sheets\" data-toc-modified-id=\"Read-the-example-data-from-Google-Sheets-6.9.1\"><span class=\"toc-item-num\">6.9.1&nbsp;&nbsp;</span>Read the example data from Google Sheets</a></span></li><li><span><a href=\"#Add-data-to-the-model\" data-toc-modified-id=\"Add-data-to-the-model-6.9.2\"><span class=\"toc-item-num\">6.9.2&nbsp;&nbsp;</span>Add data to the model</a></span></li><li><span><a href=\"#View-the-new-model-dataset\" data-toc-modified-id=\"View-the-new-model-dataset-6.9.3\"><span class=\"toc-item-num\">6.9.3&nbsp;&nbsp;</span>View the new model dataset</a></span></li></ul></li></ul></li><li><span><a href=\"#View-the-permissions-for-an-individual-user\" data-toc-modified-id=\"View-the-permissions-for-an-individual-user-7\"><span class=\"toc-item-num\">7&nbsp;&nbsp;</span>View the permissions for an individual user</a></span><ul class=\"toc-item\"><li><span><a href=\"#Examine-one-user's-permissions\" data-toc-modified-id=\"Examine-one-user's-permissions-7.1\"><span class=\"toc-item-num\">7.1&nbsp;&nbsp;</span>Examine one user's permissions</a></span></li><li><span><a href=\"#Find-the-clients-this-user-can-view\" data-toc-modified-id=\"Find-the-clients-this-user-can-view-7.2\"><span class=\"toc-item-num\">7.2&nbsp;&nbsp;</span>Find the clients this user can view</a></span></li></ul></li><li><span><a href=\"#Test-the-client-viewset\" data-toc-modified-id=\"Test-the-client-viewset-8\"><span class=\"toc-item-num\">8&nbsp;&nbsp;</span>Test the client viewset</a></span></li></ul></div>"
   ]
  },
  {
   "cell_type": "markdown",
   "metadata": {},
   "source": [
    "# Summary\n"
   ]
  },
  {
   "cell_type": "markdown",
   "metadata": {},
   "source": [
    "# Establish programming components"
   ]
  },
  {
   "cell_type": "markdown",
   "metadata": {},
   "source": [
    "## Install and import libraries"
   ]
  },
  {
   "cell_type": "code",
   "execution_count": 1,
   "metadata": {
    "ExecuteTime": {
     "end_time": "2020-08-15T19:13:01.024745Z",
     "start_time": "2020-08-15T19:12:59.712497Z"
    }
   },
   "outputs": [
    {
     "name": "stdout",
     "output_type": "stream",
     "text": [
      "Using Dev config\n",
      "Logging DEBUG messages to /Users/stephengodfrey/Documents/Workbench/CTA_SNAP/SNAP-BackEnd/application.log\n"
     ]
    }
   ],
   "source": [
    "# Core Python\n",
    "import os\n",
    "import importlib\n",
    "import json\n",
    "from datetime import datetime\n",
    "\n",
    "# Django - these statements need to be in a specific order\n",
    "os.environ[\"DJANGO_ALLOW_ASYNC_UNSAFE\"] = \"true\"\n",
    "os.environ[\"DATABASE_URL\"] = \"postgres://stephengodfrey@localhost:5432/SNAPData\"\n",
    "\n",
    "# Django configurations\n",
    "import django\n",
    "from configurations import importer\n",
    "\n",
    "importer.install()\n",
    "django.setup()\n",
    "\n",
    "from django.apps import apps\n",
    "from django.contrib.auth import authenticate, login\n",
    "\n",
    "# from configurations import Configuration\n",
    "from rest_framework.test import APIClient\n",
    "from rest_framework.test import APIRequestFactory\n",
    "from rest_framework.test import force_authenticate\n",
    "\n",
    "# Django models\n",
    "from django.contrib.auth.models import Group, Permission, User\n",
    "from security.models import SecurityGroup, SecurityGroupAgencyConfig, SecurityGroupUserAgency\n",
    "from agency.models import Agency, AgencyClient\n",
    "from client.models import Client\n",
    "\n",
    "# Data tools\n",
    "import pandas as pd\n",
    "\n",
    "# Google API\n",
    "import pygsheets\n",
    "\n",
    "# Jupyter display\n",
    "from IPython.display import display, Markdown\n"
   ]
  },
  {
   "cell_type": "markdown",
   "metadata": {},
   "source": [
    "## Set paths"
   ]
  },
  {
   "cell_type": "code",
   "execution_count": 2,
   "metadata": {
    "ExecuteTime": {
     "end_time": "2020-08-15T19:13:02.737571Z",
     "start_time": "2020-08-15T19:13:02.734131Z"
    }
   },
   "outputs": [],
   "source": [
    "# Paths\n",
    "config_path = '/Users/stephengodfrey/Documents/Workbench/Credentials'\n",
    "\n",
    "# Configuration files\n",
    "google_secret_file='client_secret_929524554454-ijgbdqj83om26a0b3et2p607tur637sp.apps.googleusercontent.com.json'\n",
    "google_api_key_file='SWBC2CB_API_Key.json'\n",
    "\n",
    "# Read the API file contents\n",
    "api_json=json.loads(open(os.path.join(config_path,google_api_key_file)).read())\n",
    "# db_creds=json.loads(open(os.path.join(config_path,postgres_config_file)).read())\n",
    "\n",
    "# extract the api key\n",
    "api_key=api_json['SWBC2CB']['api_key']\n",
    "\n",
    "# Assign keys to Google sheets with the demo data\n",
    "demodata_django_sheet_key='1etZh01fctv1j8FrAwI4LzWL3YiYPR0fFD72lP-VXsw4'\n"
   ]
  },
  {
   "cell_type": "markdown",
   "metadata": {},
   "source": [
    "# Define functions"
   ]
  },
  {
   "cell_type": "code",
   "execution_count": 3,
   "metadata": {
    "ExecuteTime": {
     "end_time": "2020-08-15T19:13:03.719367Z",
     "start_time": "2020-08-15T19:13:03.712915Z"
    }
   },
   "outputs": [],
   "source": [
    "def get_demo_data(table: str):\n",
    "    \"\"\"\n",
    "        Retrieve demo data from a Google Sheet\n",
    "    \"\"\"\n",
    "    \n",
    "    # Open the Google spreadsheet using its key\n",
    "    sh=gc.open_by_key(key=demodata_django_sheet_key)\n",
    "\n",
    "    # Get a list of worksheets (where sheet_name is the name of my sheet)\n",
    "    wks_names=[tab.title for tab in sh.worksheets()]\n",
    "    # Create a worksheet object using the current index\n",
    "    wks=sh.worksheet_by_title(title=table)\n",
    "\n",
    "    # Read the dictionary data into a dataframe\n",
    "    df=wks.get_as_df(has_header=True, index_colum=None, start=None, \n",
    "                       end=None, numerize=True, empty_value='', \n",
    "                       value_render='FORMATTED_VALUE')\n",
    "    \n",
    "    # Display the dataframe\n",
    "    display(Markdown(\"### The {} demo dataframe:\".format(table)))\n",
    "    display(df)\n",
    "    \n",
    "    # return the dataframe\n",
    "    return df\n",
    "\n",
    "\n",
    "def ParseClassName(inst:str):\n",
    "    \"\"\"\n",
    "        Parse the class name into module and class components\n",
    "    \"\"\"\n",
    "    sc=inst.find(\"'\")\n",
    "    rc=inst.rfind(\".\")\n",
    "    rce=inst[rc+1:].find(\"'\")\n",
    "    return (inst[sc+1:rc], inst[rc+1:rce+rc+1])\n"
   ]
  },
  {
   "cell_type": "markdown",
   "metadata": {},
   "source": [
    "# Examine the Django models\n",
    "\n",
    "In this section, we are reviewing model contents by looking at filtered views of a models dataframe. \n",
    "\n",
    "Notes\n",
    "- The logic in this case, is to use Django's `apps.get_app_configs()` to get a list of app configurations.  Within each configuration, we get field names.  These elements are stored in a dictionary and those dictionaries are stored in a list.  The list of dictionaries is converted to a pandas dataframe for easy examination.\n"
   ]
  },
  {
   "cell_type": "code",
   "execution_count": 4,
   "metadata": {
    "ExecuteTime": {
     "end_time": "2020-08-15T19:13:05.740396Z",
     "start_time": "2020-08-15T19:13:05.726900Z"
    },
    "scrolled": false
   },
   "outputs": [
    {
     "data": {
      "text/plain": [
       "array(['django.contrib.admin.models', 'django.contrib.auth.models',\n",
       "       'django.contrib.contenttypes.models',\n",
       "       'django.contrib.sessions.models',\n",
       "       'rest_framework.authtoken.models', 'core.models', 'agency.models',\n",
       "       'client.models', 'survey.models', 'program.models',\n",
       "       'eligibility.models', 'security.models', 'note.models',\n",
       "       'matching.models'], dtype=object)"
      ]
     },
     "execution_count": 4,
     "metadata": {},
     "output_type": "execute_result"
    }
   ],
   "source": [
    "# For each Django model configuration, view the models\n",
    "# Note that by using the import_module method from the importlib library the \n",
    "# Django models are NOT imported; here these imports are still done explicitly \n",
    "\n",
    "mdl_lst=[]\n",
    "# Get the Django app configurations\n",
    "configs = apps.get_app_configs()\n",
    "\n",
    "# for each config\n",
    "for config in configs:\n",
    "    \n",
    "    # Look at each model in this configuration\n",
    "    for model in config.get_models():\n",
    "        module=ParseClassName(inst=str(model))[0]\n",
    "        cls=ParseClassName(inst=str(model))[1]\n",
    "        \n",
    "        # Note: this line does NOT import Django model classes       \n",
    "        flds=getattr(importlib.import_module(module), cls)._meta.get_fields()\n",
    "        \n",
    "        # Create a dictionary entry for each field\n",
    "        for fld in flds:\n",
    "            mdl_lst.append({'config': config,\n",
    "                            'model': model,\n",
    "                            'module': module,\n",
    "                            'class': cls,\n",
    "                            'field': fld,\n",
    "                            'field_name':fld.name\n",
    "                           }\n",
    "                          )\n",
    "            \n",
    "# Create a dataframe of model fields \n",
    "modelsDF=pd.DataFrame(data=mdl_lst)\n",
    "\n",
    "modelsDF['module'].unique()\n"
   ]
  },
  {
   "cell_type": "code",
   "execution_count": 5,
   "metadata": {
    "ExecuteTime": {
     "end_time": "2020-08-15T19:13:06.760716Z",
     "start_time": "2020-08-15T19:13:06.717872Z"
    }
   },
   "outputs": [
    {
     "name": "stdout",
     "output_type": "stream",
     "text": [
      "\n",
      "client.models\n"
     ]
    },
    {
     "data": {
      "text/html": [
       "<div>\n",
       "<style scoped>\n",
       "    .dataframe tbody tr th:only-of-type {\n",
       "        vertical-align: middle;\n",
       "    }\n",
       "\n",
       "    .dataframe tbody tr th {\n",
       "        vertical-align: top;\n",
       "    }\n",
       "\n",
       "    .dataframe thead th {\n",
       "        text-align: right;\n",
       "    }\n",
       "</style>\n",
       "<table border=\"1\" class=\"dataframe\">\n",
       "  <thead>\n",
       "    <tr style=\"text-align: right;\">\n",
       "      <th></th>\n",
       "      <th>config</th>\n",
       "      <th>model</th>\n",
       "      <th>module</th>\n",
       "      <th>class</th>\n",
       "      <th>field</th>\n",
       "      <th>field_name</th>\n",
       "    </tr>\n",
       "  </thead>\n",
       "  <tbody>\n",
       "    <tr>\n",
       "      <th>87</th>\n",
       "      <td>&lt;AppConfig: client&gt;</td>\n",
       "      <td>&lt;class 'client.models.Client'&gt;</td>\n",
       "      <td>client.models</td>\n",
       "      <td>Client</td>\n",
       "      <td>&lt;ManyToOneRel: agency.agencyclient&gt;</td>\n",
       "      <td>agency_clients</td>\n",
       "    </tr>\n",
       "    <tr>\n",
       "      <th>88</th>\n",
       "      <td>&lt;AppConfig: client&gt;</td>\n",
       "      <td>&lt;class 'client.models.Client'&gt;</td>\n",
       "      <td>client.models</td>\n",
       "      <td>Client</td>\n",
       "      <td>&lt;ManyToOneRel: program.enrollment&gt;</td>\n",
       "      <td>enrollments</td>\n",
       "    </tr>\n",
       "    <tr>\n",
       "      <th>89</th>\n",
       "      <td>&lt;AppConfig: client&gt;</td>\n",
       "      <td>&lt;class 'client.models.Client'&gt;</td>\n",
       "      <td>client.models</td>\n",
       "      <td>Client</td>\n",
       "      <td>&lt;ManyToOneRel: program.programeligibility&gt;</td>\n",
       "      <td>program_eligibility</td>\n",
       "    </tr>\n",
       "    <tr>\n",
       "      <th>90</th>\n",
       "      <td>&lt;AppConfig: client&gt;</td>\n",
       "      <td>&lt;class 'client.models.Client'&gt;</td>\n",
       "      <td>client.models</td>\n",
       "      <td>Client</td>\n",
       "      <td>&lt;ManyToOneRel: eligibility.clienteligibility&gt;</td>\n",
       "      <td>eligibility</td>\n",
       "    </tr>\n",
       "    <tr>\n",
       "      <th>91</th>\n",
       "      <td>&lt;AppConfig: client&gt;</td>\n",
       "      <td>&lt;class 'client.models.Client'&gt;</td>\n",
       "      <td>client.models</td>\n",
       "      <td>Client</td>\n",
       "      <td>&lt;ManyToOneRel: matching.clientmatching&gt;</td>\n",
       "      <td>matching</td>\n",
       "    </tr>\n",
       "    <tr>\n",
       "      <th>92</th>\n",
       "      <td>&lt;AppConfig: client&gt;</td>\n",
       "      <td>&lt;class 'client.models.Client'&gt;</td>\n",
       "      <td>client.models</td>\n",
       "      <td>Client</td>\n",
       "      <td>client.Client.id</td>\n",
       "      <td>id</td>\n",
       "    </tr>\n",
       "    <tr>\n",
       "      <th>93</th>\n",
       "      <td>&lt;AppConfig: client&gt;</td>\n",
       "      <td>&lt;class 'client.models.Client'&gt;</td>\n",
       "      <td>client.models</td>\n",
       "      <td>Client</td>\n",
       "      <td>client.Client.created_by</td>\n",
       "      <td>created_by</td>\n",
       "    </tr>\n",
       "    <tr>\n",
       "      <th>94</th>\n",
       "      <td>&lt;AppConfig: client&gt;</td>\n",
       "      <td>&lt;class 'client.models.Client'&gt;</td>\n",
       "      <td>client.models</td>\n",
       "      <td>Client</td>\n",
       "      <td>client.Client.created_at</td>\n",
       "      <td>created_at</td>\n",
       "    </tr>\n",
       "    <tr>\n",
       "      <th>95</th>\n",
       "      <td>&lt;AppConfig: client&gt;</td>\n",
       "      <td>&lt;class 'client.models.Client'&gt;</td>\n",
       "      <td>client.models</td>\n",
       "      <td>Client</td>\n",
       "      <td>client.Client.modified_at</td>\n",
       "      <td>modified_at</td>\n",
       "    </tr>\n",
       "    <tr>\n",
       "      <th>96</th>\n",
       "      <td>&lt;AppConfig: client&gt;</td>\n",
       "      <td>&lt;class 'client.models.Client'&gt;</td>\n",
       "      <td>client.models</td>\n",
       "      <td>Client</td>\n",
       "      <td>client.Client.first_name</td>\n",
       "      <td>first_name</td>\n",
       "    </tr>\n",
       "    <tr>\n",
       "      <th>97</th>\n",
       "      <td>&lt;AppConfig: client&gt;</td>\n",
       "      <td>&lt;class 'client.models.Client'&gt;</td>\n",
       "      <td>client.models</td>\n",
       "      <td>Client</td>\n",
       "      <td>client.Client.middle_name</td>\n",
       "      <td>middle_name</td>\n",
       "    </tr>\n",
       "    <tr>\n",
       "      <th>98</th>\n",
       "      <td>&lt;AppConfig: client&gt;</td>\n",
       "      <td>&lt;class 'client.models.Client'&gt;</td>\n",
       "      <td>client.models</td>\n",
       "      <td>Client</td>\n",
       "      <td>client.Client.last_name</td>\n",
       "      <td>last_name</td>\n",
       "    </tr>\n",
       "    <tr>\n",
       "      <th>99</th>\n",
       "      <td>&lt;AppConfig: client&gt;</td>\n",
       "      <td>&lt;class 'client.models.Client'&gt;</td>\n",
       "      <td>client.models</td>\n",
       "      <td>Client</td>\n",
       "      <td>client.Client.dob</td>\n",
       "      <td>dob</td>\n",
       "    </tr>\n",
       "    <tr>\n",
       "      <th>100</th>\n",
       "      <td>&lt;AppConfig: client&gt;</td>\n",
       "      <td>&lt;class 'client.models.Client'&gt;</td>\n",
       "      <td>client.models</td>\n",
       "      <td>Client</td>\n",
       "      <td>client.Client.agency_assoc</td>\n",
       "      <td>agency_assoc</td>\n",
       "    </tr>\n",
       "  </tbody>\n",
       "</table>\n",
       "</div>"
      ],
      "text/plain": [
       "                  config                           model         module  \\\n",
       "87   <AppConfig: client>  <class 'client.models.Client'>  client.models   \n",
       "88   <AppConfig: client>  <class 'client.models.Client'>  client.models   \n",
       "89   <AppConfig: client>  <class 'client.models.Client'>  client.models   \n",
       "90   <AppConfig: client>  <class 'client.models.Client'>  client.models   \n",
       "91   <AppConfig: client>  <class 'client.models.Client'>  client.models   \n",
       "92   <AppConfig: client>  <class 'client.models.Client'>  client.models   \n",
       "93   <AppConfig: client>  <class 'client.models.Client'>  client.models   \n",
       "94   <AppConfig: client>  <class 'client.models.Client'>  client.models   \n",
       "95   <AppConfig: client>  <class 'client.models.Client'>  client.models   \n",
       "96   <AppConfig: client>  <class 'client.models.Client'>  client.models   \n",
       "97   <AppConfig: client>  <class 'client.models.Client'>  client.models   \n",
       "98   <AppConfig: client>  <class 'client.models.Client'>  client.models   \n",
       "99   <AppConfig: client>  <class 'client.models.Client'>  client.models   \n",
       "100  <AppConfig: client>  <class 'client.models.Client'>  client.models   \n",
       "\n",
       "      class                                          field  \\\n",
       "87   Client            <ManyToOneRel: agency.agencyclient>   \n",
       "88   Client             <ManyToOneRel: program.enrollment>   \n",
       "89   Client     <ManyToOneRel: program.programeligibility>   \n",
       "90   Client  <ManyToOneRel: eligibility.clienteligibility>   \n",
       "91   Client        <ManyToOneRel: matching.clientmatching>   \n",
       "92   Client                               client.Client.id   \n",
       "93   Client                       client.Client.created_by   \n",
       "94   Client                       client.Client.created_at   \n",
       "95   Client                      client.Client.modified_at   \n",
       "96   Client                       client.Client.first_name   \n",
       "97   Client                      client.Client.middle_name   \n",
       "98   Client                        client.Client.last_name   \n",
       "99   Client                              client.Client.dob   \n",
       "100  Client                     client.Client.agency_assoc   \n",
       "\n",
       "              field_name  \n",
       "87        agency_clients  \n",
       "88           enrollments  \n",
       "89   program_eligibility  \n",
       "90           eligibility  \n",
       "91              matching  \n",
       "92                    id  \n",
       "93            created_by  \n",
       "94            created_at  \n",
       "95           modified_at  \n",
       "96            first_name  \n",
       "97           middle_name  \n",
       "98             last_name  \n",
       "99                   dob  \n",
       "100         agency_assoc  "
      ]
     },
     "metadata": {},
     "output_type": "display_data"
    },
    {
     "name": "stdout",
     "output_type": "stream",
     "text": [
      "\n",
      "security.models\n"
     ]
    },
    {
     "data": {
      "text/html": [
       "<div>\n",
       "<style scoped>\n",
       "    .dataframe tbody tr th:only-of-type {\n",
       "        vertical-align: middle;\n",
       "    }\n",
       "\n",
       "    .dataframe tbody tr th {\n",
       "        vertical-align: top;\n",
       "    }\n",
       "\n",
       "    .dataframe thead th {\n",
       "        text-align: right;\n",
       "    }\n",
       "</style>\n",
       "<table border=\"1\" class=\"dataframe\">\n",
       "  <thead>\n",
       "    <tr style=\"text-align: right;\">\n",
       "      <th></th>\n",
       "      <th>config</th>\n",
       "      <th>model</th>\n",
       "      <th>module</th>\n",
       "      <th>class</th>\n",
       "      <th>field</th>\n",
       "      <th>field_name</th>\n",
       "    </tr>\n",
       "  </thead>\n",
       "  <tbody>\n",
       "    <tr>\n",
       "      <th>235</th>\n",
       "      <td>&lt;AppConfig: security&gt;</td>\n",
       "      <td>&lt;class 'security.models.SecurityGroup'&gt;</td>\n",
       "      <td>security.models</td>\n",
       "      <td>SecurityGroup</td>\n",
       "      <td>&lt;ManyToOneRel: security.securitygroupagencycon...</td>\n",
       "      <td>securitygroupagencyconfig</td>\n",
       "    </tr>\n",
       "    <tr>\n",
       "      <th>236</th>\n",
       "      <td>&lt;AppConfig: security&gt;</td>\n",
       "      <td>&lt;class 'security.models.SecurityGroup'&gt;</td>\n",
       "      <td>security.models</td>\n",
       "      <td>SecurityGroup</td>\n",
       "      <td>security.SecurityGroup.id</td>\n",
       "      <td>id</td>\n",
       "    </tr>\n",
       "    <tr>\n",
       "      <th>237</th>\n",
       "      <td>&lt;AppConfig: security&gt;</td>\n",
       "      <td>&lt;class 'security.models.SecurityGroup'&gt;</td>\n",
       "      <td>security.models</td>\n",
       "      <td>SecurityGroup</td>\n",
       "      <td>security.SecurityGroup.name</td>\n",
       "      <td>name</td>\n",
       "    </tr>\n",
       "    <tr>\n",
       "      <th>238</th>\n",
       "      <td>&lt;AppConfig: security&gt;</td>\n",
       "      <td>&lt;class 'security.models.SecurityGroup'&gt;</td>\n",
       "      <td>security.models</td>\n",
       "      <td>SecurityGroup</td>\n",
       "      <td>security.SecurityGroup.responses</td>\n",
       "      <td>responses</td>\n",
       "    </tr>\n",
       "    <tr>\n",
       "      <th>239</th>\n",
       "      <td>&lt;AppConfig: security&gt;</td>\n",
       "      <td>&lt;class 'security.models.SecurityGroup'&gt;</td>\n",
       "      <td>security.models</td>\n",
       "      <td>SecurityGroup</td>\n",
       "      <td>security.SecurityGroup.enrollments</td>\n",
       "      <td>enrollments</td>\n",
       "    </tr>\n",
       "    <tr>\n",
       "      <th>240</th>\n",
       "      <td>&lt;AppConfig: security&gt;</td>\n",
       "      <td>&lt;class 'security.models.SecurityGroup'&gt;</td>\n",
       "      <td>security.models</td>\n",
       "      <td>SecurityGroup</td>\n",
       "      <td>security.SecurityGroup.referrals</td>\n",
       "      <td>referrals</td>\n",
       "    </tr>\n",
       "    <tr>\n",
       "      <th>241</th>\n",
       "      <td>&lt;AppConfig: security&gt;</td>\n",
       "      <td>&lt;class 'security.models.SecurityGroup'&gt;</td>\n",
       "      <td>security.models</td>\n",
       "      <td>SecurityGroup</td>\n",
       "      <td>security.SecurityGroup.programs</td>\n",
       "      <td>programs</td>\n",
       "    </tr>\n",
       "    <tr>\n",
       "      <th>242</th>\n",
       "      <td>&lt;AppConfig: security&gt;</td>\n",
       "      <td>&lt;class 'security.models.SecurityGroup'&gt;</td>\n",
       "      <td>security.models</td>\n",
       "      <td>SecurityGroup</td>\n",
       "      <td>security.SecurityGroup.agencies</td>\n",
       "      <td>agencies</td>\n",
       "    </tr>\n",
       "    <tr>\n",
       "      <th>243</th>\n",
       "      <td>&lt;AppConfig: security&gt;</td>\n",
       "      <td>&lt;class 'security.models.SecurityGroupAgencyCon...</td>\n",
       "      <td>security.models</td>\n",
       "      <td>SecurityGroupAgencyConfig</td>\n",
       "      <td>security.SecurityGroupAgencyConfig.id</td>\n",
       "      <td>id</td>\n",
       "    </tr>\n",
       "    <tr>\n",
       "      <th>244</th>\n",
       "      <td>&lt;AppConfig: security&gt;</td>\n",
       "      <td>&lt;class 'security.models.SecurityGroupAgencyCon...</td>\n",
       "      <td>security.models</td>\n",
       "      <td>SecurityGroupAgencyConfig</td>\n",
       "      <td>security.SecurityGroupAgencyConfig.agency</td>\n",
       "      <td>agency</td>\n",
       "    </tr>\n",
       "    <tr>\n",
       "      <th>245</th>\n",
       "      <td>&lt;AppConfig: security&gt;</td>\n",
       "      <td>&lt;class 'security.models.SecurityGroupAgencyCon...</td>\n",
       "      <td>security.models</td>\n",
       "      <td>SecurityGroupAgencyConfig</td>\n",
       "      <td>security.SecurityGroupAgencyConfig.security_group</td>\n",
       "      <td>security_group</td>\n",
       "    </tr>\n",
       "    <tr>\n",
       "      <th>246</th>\n",
       "      <td>&lt;AppConfig: security&gt;</td>\n",
       "      <td>&lt;class 'security.models.SecurityGroupUserAgency'&gt;</td>\n",
       "      <td>security.models</td>\n",
       "      <td>SecurityGroupUserAgency</td>\n",
       "      <td>security.SecurityGroupUserAgency.id</td>\n",
       "      <td>id</td>\n",
       "    </tr>\n",
       "    <tr>\n",
       "      <th>247</th>\n",
       "      <td>&lt;AppConfig: security&gt;</td>\n",
       "      <td>&lt;class 'security.models.SecurityGroupUserAgency'&gt;</td>\n",
       "      <td>security.models</td>\n",
       "      <td>SecurityGroupUserAgency</td>\n",
       "      <td>security.SecurityGroupUserAgency.desc</td>\n",
       "      <td>desc</td>\n",
       "    </tr>\n",
       "    <tr>\n",
       "      <th>248</th>\n",
       "      <td>&lt;AppConfig: security&gt;</td>\n",
       "      <td>&lt;class 'security.models.SecurityGroupUserAgency'&gt;</td>\n",
       "      <td>security.models</td>\n",
       "      <td>SecurityGroupUserAgency</td>\n",
       "      <td>security.SecurityGroupUserAgency.agency_ref</td>\n",
       "      <td>agency_ref</td>\n",
       "    </tr>\n",
       "    <tr>\n",
       "      <th>249</th>\n",
       "      <td>&lt;AppConfig: security&gt;</td>\n",
       "      <td>&lt;class 'security.models.SecurityGroupUserAgency'&gt;</td>\n",
       "      <td>security.models</td>\n",
       "      <td>SecurityGroupUserAgency</td>\n",
       "      <td>security.SecurityGroupUserAgency.user_ref</td>\n",
       "      <td>user_ref</td>\n",
       "    </tr>\n",
       "    <tr>\n",
       "      <th>250</th>\n",
       "      <td>&lt;AppConfig: security&gt;</td>\n",
       "      <td>&lt;class 'security.models.SecurityGroupUserAgency'&gt;</td>\n",
       "      <td>security.models</td>\n",
       "      <td>SecurityGroupUserAgency</td>\n",
       "      <td>security.SecurityGroupUserAgency.group_ref</td>\n",
       "      <td>group_ref</td>\n",
       "    </tr>\n",
       "  </tbody>\n",
       "</table>\n",
       "</div>"
      ],
      "text/plain": [
       "                    config                                              model  \\\n",
       "235  <AppConfig: security>            <class 'security.models.SecurityGroup'>   \n",
       "236  <AppConfig: security>            <class 'security.models.SecurityGroup'>   \n",
       "237  <AppConfig: security>            <class 'security.models.SecurityGroup'>   \n",
       "238  <AppConfig: security>            <class 'security.models.SecurityGroup'>   \n",
       "239  <AppConfig: security>            <class 'security.models.SecurityGroup'>   \n",
       "240  <AppConfig: security>            <class 'security.models.SecurityGroup'>   \n",
       "241  <AppConfig: security>            <class 'security.models.SecurityGroup'>   \n",
       "242  <AppConfig: security>            <class 'security.models.SecurityGroup'>   \n",
       "243  <AppConfig: security>  <class 'security.models.SecurityGroupAgencyCon...   \n",
       "244  <AppConfig: security>  <class 'security.models.SecurityGroupAgencyCon...   \n",
       "245  <AppConfig: security>  <class 'security.models.SecurityGroupAgencyCon...   \n",
       "246  <AppConfig: security>  <class 'security.models.SecurityGroupUserAgency'>   \n",
       "247  <AppConfig: security>  <class 'security.models.SecurityGroupUserAgency'>   \n",
       "248  <AppConfig: security>  <class 'security.models.SecurityGroupUserAgency'>   \n",
       "249  <AppConfig: security>  <class 'security.models.SecurityGroupUserAgency'>   \n",
       "250  <AppConfig: security>  <class 'security.models.SecurityGroupUserAgency'>   \n",
       "\n",
       "              module                      class  \\\n",
       "235  security.models              SecurityGroup   \n",
       "236  security.models              SecurityGroup   \n",
       "237  security.models              SecurityGroup   \n",
       "238  security.models              SecurityGroup   \n",
       "239  security.models              SecurityGroup   \n",
       "240  security.models              SecurityGroup   \n",
       "241  security.models              SecurityGroup   \n",
       "242  security.models              SecurityGroup   \n",
       "243  security.models  SecurityGroupAgencyConfig   \n",
       "244  security.models  SecurityGroupAgencyConfig   \n",
       "245  security.models  SecurityGroupAgencyConfig   \n",
       "246  security.models    SecurityGroupUserAgency   \n",
       "247  security.models    SecurityGroupUserAgency   \n",
       "248  security.models    SecurityGroupUserAgency   \n",
       "249  security.models    SecurityGroupUserAgency   \n",
       "250  security.models    SecurityGroupUserAgency   \n",
       "\n",
       "                                                 field  \\\n",
       "235  <ManyToOneRel: security.securitygroupagencycon...   \n",
       "236                          security.SecurityGroup.id   \n",
       "237                        security.SecurityGroup.name   \n",
       "238                   security.SecurityGroup.responses   \n",
       "239                 security.SecurityGroup.enrollments   \n",
       "240                   security.SecurityGroup.referrals   \n",
       "241                    security.SecurityGroup.programs   \n",
       "242                    security.SecurityGroup.agencies   \n",
       "243              security.SecurityGroupAgencyConfig.id   \n",
       "244          security.SecurityGroupAgencyConfig.agency   \n",
       "245  security.SecurityGroupAgencyConfig.security_group   \n",
       "246                security.SecurityGroupUserAgency.id   \n",
       "247              security.SecurityGroupUserAgency.desc   \n",
       "248        security.SecurityGroupUserAgency.agency_ref   \n",
       "249          security.SecurityGroupUserAgency.user_ref   \n",
       "250         security.SecurityGroupUserAgency.group_ref   \n",
       "\n",
       "                    field_name  \n",
       "235  securitygroupagencyconfig  \n",
       "236                         id  \n",
       "237                       name  \n",
       "238                  responses  \n",
       "239                enrollments  \n",
       "240                  referrals  \n",
       "241                   programs  \n",
       "242                   agencies  \n",
       "243                         id  \n",
       "244                     agency  \n",
       "245             security_group  \n",
       "246                         id  \n",
       "247                       desc  \n",
       "248                 agency_ref  \n",
       "249                   user_ref  \n",
       "250                  group_ref  "
      ]
     },
     "metadata": {},
     "output_type": "display_data"
    }
   ],
   "source": [
    "display_modules=['client.models', 'security.models']\n",
    "\n",
    "for module in modelsDF['module'].unique():\n",
    "    mask=modelsDF['module']==module\n",
    "    if module in display_modules:\n",
    "        print('\\n{}'.format(module))\n",
    "        display(modelsDF[mask])\n",
    "    "
   ]
  },
  {
   "cell_type": "markdown",
   "metadata": {},
   "source": [
    "# Examine existing Django permissions"
   ]
  },
  {
   "cell_type": "code",
   "execution_count": 6,
   "metadata": {
    "ExecuteTime": {
     "end_time": "2020-08-15T19:13:11.988864Z",
     "start_time": "2020-08-15T19:13:11.869557Z"
    }
   },
   "outputs": [
    {
     "name": "stderr",
     "output_type": "stream",
     "text": [
      "{\"message\": \"(0.003) DECLARE \\\"_django_curs_4578045376_140471612456768_1\\\" NO SCROLL CURSOR WITH HOLD FOR SELECT \\\"auth_permission\\\".\\\"id\\\", \\\"auth_permission\\\".\\\"name\\\", \\\"auth_permission\\\".\\\"content_type_id\\\", \\\"auth_permission\\\".\\\"codename\\\" FROM \\\"auth_permission\\\" INNER JOIN \\\"django_content_type\\\" ON (\\\"auth_permission\\\".\\\"content_type_id\\\" = \\\"django_content_type\\\".\\\"id\\\") ORDER BY \\\"django_content_type\\\".\\\"app_label\\\" ASC, \\\"django_content_type\\\".\\\"model\\\" ASC, \\\"auth_permission\\\".\\\"codename\\\" ASC; args=()\", \"duration\": 0.002658273999998073, \"sql\": \"DECLARE \\\"_django_curs_4578045376_140471612456768_1\\\" NO SCROLL CURSOR WITH HOLD FOR SELECT \\\"auth_permission\\\".\\\"id\\\", \\\"auth_permission\\\".\\\"name\\\", \\\"auth_permission\\\".\\\"content_type_id\\\", \\\"auth_permission\\\".\\\"codename\\\" FROM \\\"auth_permission\\\" INNER JOIN \\\"django_content_type\\\" ON (\\\"auth_permission\\\".\\\"content_type_id\\\" = \\\"django_content_type\\\".\\\"id\\\") ORDER BY \\\"django_content_type\\\".\\\"app_label\\\" ASC, \\\"django_content_type\\\".\\\"model\\\" ASC, \\\"auth_permission\\\".\\\"codename\\\" ASC\", \"params\": [], \"@timestamp\": \"2020-08-15T19:13:11.969922\", \"level\": \"DEBUG\", \"logger\": \"django.db.backends\"}\n"
     ]
    },
    {
     "data": {
      "text/html": [
       "<div>\n",
       "<style scoped>\n",
       "    .dataframe tbody tr th:only-of-type {\n",
       "        vertical-align: middle;\n",
       "    }\n",
       "\n",
       "    .dataframe tbody tr th {\n",
       "        vertical-align: top;\n",
       "    }\n",
       "\n",
       "    .dataframe thead th {\n",
       "        text-align: right;\n",
       "    }\n",
       "</style>\n",
       "<table border=\"1\" class=\"dataframe\">\n",
       "  <thead>\n",
       "    <tr style=\"text-align: right;\">\n",
       "      <th></th>\n",
       "      <th>p_id</th>\n",
       "      <th>name</th>\n",
       "      <th>content_type_id</th>\n",
       "      <th>codename</th>\n",
       "    </tr>\n",
       "  </thead>\n",
       "  <tbody>\n",
       "    <tr>\n",
       "      <th>0</th>\n",
       "      <td>1</td>\n",
       "      <td>Can add log entry</td>\n",
       "      <td>1</td>\n",
       "      <td>add_logentry</td>\n",
       "    </tr>\n",
       "    <tr>\n",
       "      <th>1</th>\n",
       "      <td>2</td>\n",
       "      <td>Can change log entry</td>\n",
       "      <td>1</td>\n",
       "      <td>change_logentry</td>\n",
       "    </tr>\n",
       "    <tr>\n",
       "      <th>2</th>\n",
       "      <td>3</td>\n",
       "      <td>Can delete log entry</td>\n",
       "      <td>1</td>\n",
       "      <td>delete_logentry</td>\n",
       "    </tr>\n",
       "    <tr>\n",
       "      <th>3</th>\n",
       "      <td>4</td>\n",
       "      <td>Can view log entry</td>\n",
       "      <td>1</td>\n",
       "      <td>view_logentry</td>\n",
       "    </tr>\n",
       "    <tr>\n",
       "      <th>4</th>\n",
       "      <td>33</td>\n",
       "      <td>Can add agency</td>\n",
       "      <td>9</td>\n",
       "      <td>add_agency</td>\n",
       "    </tr>\n",
       "    <tr>\n",
       "      <th>...</th>\n",
       "      <td>...</td>\n",
       "      <td>...</td>\n",
       "      <td>...</td>\n",
       "      <td>...</td>\n",
       "    </tr>\n",
       "    <tr>\n",
       "      <th>123</th>\n",
       "      <td>56</td>\n",
       "      <td>Can view response</td>\n",
       "      <td>14</td>\n",
       "      <td>view_response</td>\n",
       "    </tr>\n",
       "    <tr>\n",
       "      <th>124</th>\n",
       "      <td>49</td>\n",
       "      <td>Can add survey</td>\n",
       "      <td>13</td>\n",
       "      <td>add_survey</td>\n",
       "    </tr>\n",
       "    <tr>\n",
       "      <th>125</th>\n",
       "      <td>50</td>\n",
       "      <td>Can change survey</td>\n",
       "      <td>13</td>\n",
       "      <td>change_survey</td>\n",
       "    </tr>\n",
       "    <tr>\n",
       "      <th>126</th>\n",
       "      <td>51</td>\n",
       "      <td>Can delete survey</td>\n",
       "      <td>13</td>\n",
       "      <td>delete_survey</td>\n",
       "    </tr>\n",
       "    <tr>\n",
       "      <th>127</th>\n",
       "      <td>52</td>\n",
       "      <td>Can view survey</td>\n",
       "      <td>13</td>\n",
       "      <td>view_survey</td>\n",
       "    </tr>\n",
       "  </tbody>\n",
       "</table>\n",
       "<p>128 rows × 4 columns</p>\n",
       "</div>"
      ],
      "text/plain": [
       "     p_id                  name  content_type_id         codename\n",
       "0       1     Can add log entry                1     add_logentry\n",
       "1       2  Can change log entry                1  change_logentry\n",
       "2       3  Can delete log entry                1  delete_logentry\n",
       "3       4    Can view log entry                1    view_logentry\n",
       "4      33        Can add agency                9       add_agency\n",
       "..    ...                   ...              ...              ...\n",
       "123    56     Can view response               14    view_response\n",
       "124    49        Can add survey               13       add_survey\n",
       "125    50     Can change survey               13    change_survey\n",
       "126    51     Can delete survey               13    delete_survey\n",
       "127    52       Can view survey               13      view_survey\n",
       "\n",
       "[128 rows x 4 columns]"
      ]
     },
     "metadata": {},
     "output_type": "display_data"
    }
   ],
   "source": [
    "# Create a list of all permissions \n",
    "perms=[dict(p_id=perm.id, name=perm.name, \n",
    "            content_type_id=perm.content_type_id, codename=perm.codename)\n",
    "       for perm in Permission.objects.all().iterator()]\n",
    "\n",
    "# Create a dictionary\n",
    "perms=pd.DataFrame(data=perms)\n",
    "    \n",
    "display(perms)\n"
   ]
  },
  {
   "cell_type": "markdown",
   "metadata": {},
   "source": [
    "# Ingest data into the database\n",
    "\n",
    "In this section, we write demo data to the database using the Django models.\n",
    "\n",
    "Notes\n",
    "- For the most part, data are stored in a Google Sheet with a number of tabs: 'agency', 'auth_user', 'client', 'groups_perms', 'security_group_user_agency'.\n",
    "- Data from each tab is read into a dataframe.  It is then ingested into the Django models and associated postgres database, if the entries are not already in existence.  This if-exists condition is to avoid duplicating data when running the notebook.\n"
   ]
  },
  {
   "cell_type": "markdown",
   "metadata": {},
   "source": [
    "## Create a pygsheets object "
   ]
  },
  {
   "cell_type": "code",
   "execution_count": 7,
   "metadata": {
    "ExecuteTime": {
     "end_time": "2020-08-15T19:13:15.509459Z",
     "start_time": "2020-08-15T19:13:15.481297Z"
    }
   },
   "outputs": [],
   "source": [
    "# Authorize pygsheets API\n",
    "gc=pygsheets.authorize(client_secret=os.path.join(config_path, google_secret_file), \n",
    "                         kwargs={'key':api_key})\n"
   ]
  },
  {
   "cell_type": "code",
   "execution_count": 8,
   "metadata": {
    "ExecuteTime": {
     "end_time": "2020-08-15T19:13:16.599640Z",
     "start_time": "2020-08-15T19:13:16.596620Z"
    }
   },
   "outputs": [],
   "source": [
    "# These are the Google Sheet tabs used later in this analysis\n",
    "test_tables = ['agency', 'auth_user', 'client', 'groups_perms',\n",
    "               'security_group_user_agency']\n",
    "\n",
    "# A dictionary of dataframes using data from the Google Sheets\n",
    "dfs={}\n"
   ]
  },
  {
   "cell_type": "markdown",
   "metadata": {},
   "source": [
    "## Add some data to the Agency model\n",
    "\n",
    "In this section, we are pulling data from the Google Sheet to add data to the Agency model.  \n",
    "\n",
    "Notes \n",
    "- This simulation uses a ref_id which as a unique integer id in addition to the current agency UUID.  This was intended to simplify the mapping and internal reference, but it is probably not necessary and the simulation should be reworked to only use the agency's unique UUID.  For code examples using UUID see the client examples in this notebook.  As noted under the client, it seems likely the client agency_assoc field is not necessary in favor of a mapping table.  If this case going forward, the agency_ref field on the Agency model seems even more unnecessary.\n"
   ]
  },
  {
   "cell_type": "markdown",
   "metadata": {},
   "source": [
    "### Read the example data from Google sheets"
   ]
  },
  {
   "cell_type": "code",
   "execution_count": 9,
   "metadata": {
    "ExecuteTime": {
     "end_time": "2020-08-15T19:13:23.341347Z",
     "start_time": "2020-08-15T19:13:20.206575Z"
    }
   },
   "outputs": [
    {
     "data": {
      "text/markdown": [
       "### The agency demo dataframe:"
      ],
      "text/plain": [
       "<IPython.core.display.Markdown object>"
      ]
     },
     "metadata": {},
     "output_type": "display_data"
    },
    {
     "data": {
      "text/html": [
       "<div>\n",
       "<style scoped>\n",
       "    .dataframe tbody tr th:only-of-type {\n",
       "        vertical-align: middle;\n",
       "    }\n",
       "\n",
       "    .dataframe tbody tr th {\n",
       "        vertical-align: top;\n",
       "    }\n",
       "\n",
       "    .dataframe thead th {\n",
       "        text-align: right;\n",
       "    }\n",
       "</style>\n",
       "<table border=\"1\" class=\"dataframe\">\n",
       "  <thead>\n",
       "    <tr style=\"text-align: right;\">\n",
       "      <th></th>\n",
       "      <th>id (uuid)</th>\n",
       "      <th>ref_id</th>\n",
       "      <th>name</th>\n",
       "      <th>Address1</th>\n",
       "      <th>Address2</th>\n",
       "      <th>City</th>\n",
       "      <th>State</th>\n",
       "      <th>Zip</th>\n",
       "      <th>HoursOperation</th>\n",
       "      <th>MainPhoneNumber</th>\n",
       "      <th>FaxNumber</th>\n",
       "    </tr>\n",
       "  </thead>\n",
       "  <tbody>\n",
       "    <tr>\n",
       "      <th>0</th>\n",
       "      <td></td>\n",
       "      <td>1</td>\n",
       "      <td>Goodwill North Georgia</td>\n",
       "      <td>2201 Lawrenceville Highway</td>\n",
       "      <td>Suite 300</td>\n",
       "      <td>Decatur</td>\n",
       "      <td>GA</td>\n",
       "      <td>30033</td>\n",
       "      <td></td>\n",
       "      <td>404-420-9900</td>\n",
       "      <td>404-420-9901</td>\n",
       "    </tr>\n",
       "    <tr>\n",
       "      <th>1</th>\n",
       "      <td></td>\n",
       "      <td>2</td>\n",
       "      <td>Goodwill Middle Georgia</td>\n",
       "      <td>5171 Eisenhower Pkwy suite a</td>\n",
       "      <td></td>\n",
       "      <td>Macon</td>\n",
       "      <td>GA</td>\n",
       "      <td>31206</td>\n",
       "      <td>None</td>\n",
       "      <td>None</td>\n",
       "      <td>None</td>\n",
       "    </tr>\n",
       "    <tr>\n",
       "      <th>2</th>\n",
       "      <td></td>\n",
       "      <td>3</td>\n",
       "      <td>Goodwill Big Bend</td>\n",
       "      <td>300 Mabry Street</td>\n",
       "      <td></td>\n",
       "      <td>Tallahassee</td>\n",
       "      <td>FL</td>\n",
       "      <td>32304</td>\n",
       "      <td>None</td>\n",
       "      <td>None</td>\n",
       "      <td>None</td>\n",
       "    </tr>\n",
       "    <tr>\n",
       "      <th>3</th>\n",
       "      <td></td>\n",
       "      <td>4</td>\n",
       "      <td>Goodwill of SouthEast Georgia</td>\n",
       "      <td>7220 Sallie Mood Drive</td>\n",
       "      <td></td>\n",
       "      <td>Savannah</td>\n",
       "      <td>GA</td>\n",
       "      <td>31406</td>\n",
       "      <td></td>\n",
       "      <td>912-354-6611</td>\n",
       "      <td>912-354-6612</td>\n",
       "    </tr>\n",
       "    <tr>\n",
       "      <th>4</th>\n",
       "      <td></td>\n",
       "      <td>5</td>\n",
       "      <td>Goodwill Industries of the Southern Rivers</td>\n",
       "      <td>2601 Cross Country Drive</td>\n",
       "      <td>Building A</td>\n",
       "      <td>Columbus</td>\n",
       "      <td>GA</td>\n",
       "      <td>31906</td>\n",
       "      <td></td>\n",
       "      <td>866-325-8265</td>\n",
       "      <td>866-325-8266</td>\n",
       "    </tr>\n",
       "  </tbody>\n",
       "</table>\n",
       "</div>"
      ],
      "text/plain": [
       "  id (uuid)  ref_id                                        name  \\\n",
       "0                 1                      Goodwill North Georgia   \n",
       "1                 2                     Goodwill Middle Georgia   \n",
       "2                 3                           Goodwill Big Bend   \n",
       "3                 4               Goodwill of SouthEast Georgia   \n",
       "4                 5  Goodwill Industries of the Southern Rivers   \n",
       "\n",
       "                       Address1    Address2         City State    Zip  \\\n",
       "0    2201 Lawrenceville Highway   Suite 300      Decatur    GA  30033   \n",
       "1  5171 Eisenhower Pkwy suite a                    Macon    GA  31206   \n",
       "2              300 Mabry Street              Tallahassee    FL  32304   \n",
       "3        7220 Sallie Mood Drive                 Savannah    GA  31406   \n",
       "4      2601 Cross Country Drive  Building A     Columbus    GA  31906   \n",
       "\n",
       "  HoursOperation MainPhoneNumber     FaxNumber  \n",
       "0                   404-420-9900  404-420-9901  \n",
       "1           None            None          None  \n",
       "2           None            None          None  \n",
       "3                   912-354-6611  912-354-6612  \n",
       "4                   866-325-8265  866-325-8266  "
      ]
     },
     "metadata": {},
     "output_type": "display_data"
    }
   ],
   "source": [
    "# Set up a filter\n",
    "t_table='agency'\n",
    "\n",
    "# Get demo data, display it and save in a dictionary\n",
    "dfs[t_table]=get_demo_data(table=t_table)\n"
   ]
  },
  {
   "cell_type": "markdown",
   "metadata": {},
   "source": [
    "### Add data to the model"
   ]
  },
  {
   "cell_type": "code",
   "execution_count": 10,
   "metadata": {
    "ExecuteTime": {
     "end_time": "2020-08-15T19:13:51.528810Z",
     "start_time": "2020-08-15T19:13:51.459505Z"
    }
   },
   "outputs": [
    {
     "name": "stderr",
     "output_type": "stream",
     "text": [
      "{\"message\": \"(0.001) SELECT \\\"agency\\\".\\\"id\\\", \\\"agency\\\".\\\"created_by_id\\\", \\\"agency\\\".\\\"created_at\\\", \\\"agency\\\".\\\"modified_at\\\", \\\"agency\\\".\\\"name\\\", \\\"agency\\\".\\\"ref_id\\\" FROM \\\"agency\\\" ORDER BY \\\"agency\\\".\\\"name\\\" ASC; args=()\", \"duration\": 0.00123702900000211, \"sql\": \"SELECT \\\"agency\\\".\\\"id\\\", \\\"agency\\\".\\\"created_by_id\\\", \\\"agency\\\".\\\"created_at\\\", \\\"agency\\\".\\\"modified_at\\\", \\\"agency\\\".\\\"name\\\", \\\"agency\\\".\\\"ref_id\\\" FROM \\\"agency\\\" ORDER BY \\\"agency\\\".\\\"name\\\" ASC\", \"params\": [], \"@timestamp\": \"2020-08-15T19:13:51.511035\", \"level\": \"DEBUG\", \"logger\": \"django.db.backends\"}\n",
      "{\"message\": \"(0.002) INSERT INTO \\\"agency\\\" (\\\"id\\\", \\\"created_by_id\\\", \\\"created_at\\\", \\\"modified_at\\\", \\\"name\\\", \\\"ref_id\\\") VALUES ('52cb2cb4-bf13-4806-8b1f-9abc2812c458'::uuid, NULL, '2020-08-15T19:13:51.512453+00:00'::timestamptz, '2020-08-15T19:13:51.512453+00:00'::timestamptz, 'Goodwill North Georgia', 1); args=(UUID('52cb2cb4-bf13-4806-8b1f-9abc2812c458'), None, datetime.datetime(2020, 8, 15, 19, 13, 51, 512453, tzinfo=<UTC>), datetime.datetime(2020, 8, 15, 19, 13, 51, 512453, tzinfo=<UTC>), 'Goodwill North Georgia', 1)\", \"duration\": 0.0016260680000002026, \"sql\": \"INSERT INTO \\\"agency\\\" (\\\"id\\\", \\\"created_by_id\\\", \\\"created_at\\\", \\\"modified_at\\\", \\\"name\\\", \\\"ref_id\\\") VALUES ('52cb2cb4-bf13-4806-8b1f-9abc2812c458'::uuid, NULL, '2020-08-15T19:13:51.512453+00:00'::timestamptz, '2020-08-15T19:13:51.512453+00:00'::timestamptz, 'Goodwill North Georgia', 1)\", \"params\": [\"52cb2cb4-bf13-4806-8b1f-9abc2812c458\", null, \"2020-08-15T19:13:51.512453+00:00\", \"2020-08-15T19:13:51.512453+00:00\", \"Goodwill North Georgia\", 1], \"@timestamp\": \"2020-08-15T19:13:51.514553\", \"level\": \"DEBUG\", \"logger\": \"django.db.backends\"}\n",
      "{\"message\": \"(0.001) INSERT INTO \\\"agency\\\" (\\\"id\\\", \\\"created_by_id\\\", \\\"created_at\\\", \\\"modified_at\\\", \\\"name\\\", \\\"ref_id\\\") VALUES ('1337d75c-e3be-4da3-8e10-6b62dde0667d'::uuid, NULL, '2020-08-15T19:13:51.515589+00:00'::timestamptz, '2020-08-15T19:13:51.515589+00:00'::timestamptz, 'Goodwill Middle Georgia', 2); args=(UUID('1337d75c-e3be-4da3-8e10-6b62dde0667d'), None, datetime.datetime(2020, 8, 15, 19, 13, 51, 515589, tzinfo=<UTC>), datetime.datetime(2020, 8, 15, 19, 13, 51, 515589, tzinfo=<UTC>), 'Goodwill Middle Georgia', 2)\", \"duration\": 0.00066987599999635, \"sql\": \"INSERT INTO \\\"agency\\\" (\\\"id\\\", \\\"created_by_id\\\", \\\"created_at\\\", \\\"modified_at\\\", \\\"name\\\", \\\"ref_id\\\") VALUES ('1337d75c-e3be-4da3-8e10-6b62dde0667d'::uuid, NULL, '2020-08-15T19:13:51.515589+00:00'::timestamptz, '2020-08-15T19:13:51.515589+00:00'::timestamptz, 'Goodwill Middle Georgia', 2)\", \"params\": [\"1337d75c-e3be-4da3-8e10-6b62dde0667d\", null, \"2020-08-15T19:13:51.515589+00:00\", \"2020-08-15T19:13:51.515589+00:00\", \"Goodwill Middle Georgia\", 2], \"@timestamp\": \"2020-08-15T19:13:51.516638\", \"level\": \"DEBUG\", \"logger\": \"django.db.backends\"}\n",
      "{\"message\": \"(0.001) INSERT INTO \\\"agency\\\" (\\\"id\\\", \\\"created_by_id\\\", \\\"created_at\\\", \\\"modified_at\\\", \\\"name\\\", \\\"ref_id\\\") VALUES ('5b6aa079-60b7-4eb6-93b8-583a3d2a06df'::uuid, NULL, '2020-08-15T19:13:51.517651+00:00'::timestamptz, '2020-08-15T19:13:51.517651+00:00'::timestamptz, 'Goodwill Big Bend', 3); args=(UUID('5b6aa079-60b7-4eb6-93b8-583a3d2a06df'), None, datetime.datetime(2020, 8, 15, 19, 13, 51, 517651, tzinfo=<UTC>), datetime.datetime(2020, 8, 15, 19, 13, 51, 517651, tzinfo=<UTC>), 'Goodwill Big Bend', 3)\", \"duration\": 0.0006631409999968696, \"sql\": \"INSERT INTO \\\"agency\\\" (\\\"id\\\", \\\"created_by_id\\\", \\\"created_at\\\", \\\"modified_at\\\", \\\"name\\\", \\\"ref_id\\\") VALUES ('5b6aa079-60b7-4eb6-93b8-583a3d2a06df'::uuid, NULL, '2020-08-15T19:13:51.517651+00:00'::timestamptz, '2020-08-15T19:13:51.517651+00:00'::timestamptz, 'Goodwill Big Bend', 3)\", \"params\": [\"5b6aa079-60b7-4eb6-93b8-583a3d2a06df\", null, \"2020-08-15T19:13:51.517651+00:00\", \"2020-08-15T19:13:51.517651+00:00\", \"Goodwill Big Bend\", 3], \"@timestamp\": \"2020-08-15T19:13:51.518686\", \"level\": \"DEBUG\", \"logger\": \"django.db.backends\"}\n",
      "{\"message\": \"(0.001) INSERT INTO \\\"agency\\\" (\\\"id\\\", \\\"created_by_id\\\", \\\"created_at\\\", \\\"modified_at\\\", \\\"name\\\", \\\"ref_id\\\") VALUES ('551a1dc4-2e13-4a30-b7ee-8f5cf1153a05'::uuid, NULL, '2020-08-15T19:13:51.519700+00:00'::timestamptz, '2020-08-15T19:13:51.519700+00:00'::timestamptz, 'Goodwill of SouthEast Georgia', 4); args=(UUID('551a1dc4-2e13-4a30-b7ee-8f5cf1153a05'), None, datetime.datetime(2020, 8, 15, 19, 13, 51, 519700, tzinfo=<UTC>), datetime.datetime(2020, 8, 15, 19, 13, 51, 519700, tzinfo=<UTC>), 'Goodwill of SouthEast Georgia', 4)\", \"duration\": 0.0007758200000012039, \"sql\": \"INSERT INTO \\\"agency\\\" (\\\"id\\\", \\\"created_by_id\\\", \\\"created_at\\\", \\\"modified_at\\\", \\\"name\\\", \\\"ref_id\\\") VALUES ('551a1dc4-2e13-4a30-b7ee-8f5cf1153a05'::uuid, NULL, '2020-08-15T19:13:51.519700+00:00'::timestamptz, '2020-08-15T19:13:51.519700+00:00'::timestamptz, 'Goodwill of SouthEast Georgia', 4)\", \"params\": [\"551a1dc4-2e13-4a30-b7ee-8f5cf1153a05\", null, \"2020-08-15T19:13:51.519700+00:00\", \"2020-08-15T19:13:51.519700+00:00\", \"Goodwill of SouthEast Georgia\", 4], \"@timestamp\": \"2020-08-15T19:13:51.520853\", \"level\": \"DEBUG\", \"logger\": \"django.db.backends\"}\n",
      "{\"message\": \"(0.002) INSERT INTO \\\"agency\\\" (\\\"id\\\", \\\"created_by_id\\\", \\\"created_at\\\", \\\"modified_at\\\", \\\"name\\\", \\\"ref_id\\\") VALUES ('59f907f8-464a-4c1e-bbbd-b7c373ab5e80'::uuid, NULL, '2020-08-15T19:13:51.521990+00:00'::timestamptz, '2020-08-15T19:13:51.521990+00:00'::timestamptz, 'Goodwill Industries of the Southern Rivers', 5); args=(UUID('59f907f8-464a-4c1e-bbbd-b7c373ab5e80'), None, datetime.datetime(2020, 8, 15, 19, 13, 51, 521990, tzinfo=<UTC>), datetime.datetime(2020, 8, 15, 19, 13, 51, 521990, tzinfo=<UTC>), 'Goodwill Industries of the Southern Rivers', 5)\", \"duration\": 0.0016872460000030287, \"sql\": \"INSERT INTO \\\"agency\\\" (\\\"id\\\", \\\"created_by_id\\\", \\\"created_at\\\", \\\"modified_at\\\", \\\"name\\\", \\\"ref_id\\\") VALUES ('59f907f8-464a-4c1e-bbbd-b7c373ab5e80'::uuid, NULL, '2020-08-15T19:13:51.521990+00:00'::timestamptz, '2020-08-15T19:13:51.521990+00:00'::timestamptz, 'Goodwill Industries of the Southern Rivers', 5)\", \"params\": [\"59f907f8-464a-4c1e-bbbd-b7c373ab5e80\", null, \"2020-08-15T19:13:51.521990+00:00\", \"2020-08-15T19:13:51.521990+00:00\", \"Goodwill Industries of the Southern Rivers\", 5], \"@timestamp\": \"2020-08-15T19:13:51.524084\", \"level\": \"DEBUG\", \"logger\": \"django.db.backends\"}\n"
     ]
    }
   ],
   "source": [
    "# Get a list of current ref_ids of existing agencies\n",
    "cur_ref_ids = [a.ref_id for a in Agency.objects.all()]\n",
    "\n",
    "# For each entry in the agency example data dataframe\n",
    "# Add the entry, if the ref_id does not exist (to prevent dups \n",
    "# in testing data)\n",
    "for idx in dfs[t_table].index:\n",
    "    if dfs[t_table].loc[idx,'ref_id'] not in cur_ref_ids:\n",
    "        a = Agency(ref_id=dfs[t_table].loc[idx,'ref_id'],\n",
    "                   name=dfs[t_table].loc[idx,'name'])\n",
    "        a.save()\n"
   ]
  },
  {
   "cell_type": "markdown",
   "metadata": {},
   "source": [
    "### View the new model dataset"
   ]
  },
  {
   "cell_type": "code",
   "execution_count": 12,
   "metadata": {
    "ExecuteTime": {
     "end_time": "2020-08-15T19:14:25.415582Z",
     "start_time": "2020-08-15T19:14:25.410303Z"
    }
   },
   "outputs": [
    {
     "name": "stderr",
     "output_type": "stream",
     "text": [
      "{\"message\": \"(0.000) SELECT \\\"agency\\\".\\\"id\\\", \\\"agency\\\".\\\"created_by_id\\\", \\\"agency\\\".\\\"created_at\\\", \\\"agency\\\".\\\"modified_at\\\", \\\"agency\\\".\\\"name\\\", \\\"agency\\\".\\\"ref_id\\\" FROM \\\"agency\\\" ORDER BY \\\"agency\\\".\\\"name\\\" ASC LIMIT 21; args=()\", \"duration\": 0.0004710420000009208, \"sql\": \"SELECT \\\"agency\\\".\\\"id\\\", \\\"agency\\\".\\\"created_by_id\\\", \\\"agency\\\".\\\"created_at\\\", \\\"agency\\\".\\\"modified_at\\\", \\\"agency\\\".\\\"name\\\", \\\"agency\\\".\\\"ref_id\\\" FROM \\\"agency\\\" ORDER BY \\\"agency\\\".\\\"name\\\" ASC LIMIT 21\", \"params\": [], \"@timestamp\": \"2020-08-15T19:14:25.411922\", \"level\": \"DEBUG\", \"logger\": \"django.db.backends\"}\n"
     ]
    },
    {
     "name": "stdout",
     "output_type": "stream",
     "text": [
      "<bound method QuerySet.values_list of <QuerySet [<Agency: Goodwill Big Bend>, <Agency: Goodwill Industries of the Southern Rivers>, <Agency: Goodwill Middle Georgia>, <Agency: Goodwill North Georgia>, <Agency: Goodwill of SouthEast Georgia>]>>\n"
     ]
    }
   ],
   "source": [
    "# Retrieve data from the agency object\n",
    "print(Agency.objects.all().values_list)\n"
   ]
  },
  {
   "cell_type": "markdown",
   "metadata": {},
   "source": [
    "## Add some data to the User model\n",
    "\n",
    "In this section, we are pulling data from the Google Sheet to add data to the User model.\n",
    "\n",
    "Notes\n",
    "\n",
    "- This simulation does not create superusers.  If the dataframe field is_superuser == True, the porgram does not attempt to create that user.  Instead, superusers are created using django's `manage.py createsuperuser` script prior to launching the server.  They are inlcuded in the Google Sheet for reference.\n"
   ]
  },
  {
   "cell_type": "markdown",
   "metadata": {},
   "source": [
    "### Read the example data from Google sheets"
   ]
  },
  {
   "cell_type": "code",
   "execution_count": 70,
   "metadata": {
    "ExecuteTime": {
     "end_time": "2020-08-15T19:41:56.193281Z",
     "start_time": "2020-08-15T19:41:55.435877Z"
    }
   },
   "outputs": [
    {
     "data": {
      "text/markdown": [
       "### The auth_user demo dataframe:"
      ],
      "text/plain": [
       "<IPython.core.display.Markdown object>"
      ]
     },
     "metadata": {},
     "output_type": "display_data"
    },
    {
     "data": {
      "text/html": [
       "<div>\n",
       "<style scoped>\n",
       "    .dataframe tbody tr th:only-of-type {\n",
       "        vertical-align: middle;\n",
       "    }\n",
       "\n",
       "    .dataframe tbody tr th {\n",
       "        vertical-align: top;\n",
       "    }\n",
       "\n",
       "    .dataframe thead th {\n",
       "        text-align: right;\n",
       "    }\n",
       "</style>\n",
       "<table border=\"1\" class=\"dataframe\">\n",
       "  <thead>\n",
       "    <tr style=\"text-align: right;\">\n",
       "      <th></th>\n",
       "      <th>worksheet_id</th>\n",
       "      <th>username</th>\n",
       "      <th>first_name</th>\n",
       "      <th>last_name</th>\n",
       "      <th>email</th>\n",
       "      <th>is_superuser</th>\n",
       "      <th>is_staff</th>\n",
       "      <th>is_active</th>\n",
       "    </tr>\n",
       "  </thead>\n",
       "  <tbody>\n",
       "    <tr>\n",
       "      <th>0</th>\n",
       "      <td>1</td>\n",
       "      <td>superuser1</td>\n",
       "      <td></td>\n",
       "      <td></td>\n",
       "      <td>super@super.com</td>\n",
       "      <td>TRUE</td>\n",
       "      <td>FALSE</td>\n",
       "      <td>TRUE</td>\n",
       "    </tr>\n",
       "    <tr>\n",
       "      <th>1</th>\n",
       "      <td>2</td>\n",
       "      <td>cecpowell</td>\n",
       "      <td>Ceclila</td>\n",
       "      <td>Powell</td>\n",
       "      <td>cpowell@gwnorthga.org</td>\n",
       "      <td>TRUE</td>\n",
       "      <td>FALSE</td>\n",
       "      <td>TRUE</td>\n",
       "    </tr>\n",
       "    <tr>\n",
       "      <th>2</th>\n",
       "      <td>3</td>\n",
       "      <td>levmendoza</td>\n",
       "      <td>Levina</td>\n",
       "      <td>Mendoza</td>\n",
       "      <td>levinamendoza@gwmidga.org</td>\n",
       "      <td>TRUE</td>\n",
       "      <td>FALSE</td>\n",
       "      <td>TRUE</td>\n",
       "    </tr>\n",
       "    <tr>\n",
       "      <th>3</th>\n",
       "      <td>4</td>\n",
       "      <td>hilbeemer</td>\n",
       "      <td>Hilda</td>\n",
       "      <td>Beemer</td>\n",
       "      <td>hb@gwbigbend.org</td>\n",
       "      <td>TRUE</td>\n",
       "      <td>FALSE</td>\n",
       "      <td>TRUE</td>\n",
       "    </tr>\n",
       "    <tr>\n",
       "      <th>4</th>\n",
       "      <td>5</td>\n",
       "      <td>felmoore</td>\n",
       "      <td>Felix</td>\n",
       "      <td>Moore</td>\n",
       "      <td>felixmoore@gwsouteastga.org</td>\n",
       "      <td>TRUE</td>\n",
       "      <td>FALSE</td>\n",
       "      <td>TRUE</td>\n",
       "    </tr>\n",
       "    <tr>\n",
       "      <th>5</th>\n",
       "      <td>6</td>\n",
       "      <td>janclark</td>\n",
       "      <td>Jan</td>\n",
       "      <td>Clark</td>\n",
       "      <td>jclark@gwindustries.org</td>\n",
       "      <td>TRUE</td>\n",
       "      <td>FALSE</td>\n",
       "      <td>TRUE</td>\n",
       "    </tr>\n",
       "  </tbody>\n",
       "</table>\n",
       "</div>"
      ],
      "text/plain": [
       "   worksheet_id    username first_name last_name                        email  \\\n",
       "0             1  superuser1                                   super@super.com   \n",
       "1             2   cecpowell    Ceclila    Powell        cpowell@gwnorthga.org   \n",
       "2             3  levmendoza     Levina   Mendoza    levinamendoza@gwmidga.org   \n",
       "3             4   hilbeemer      Hilda    Beemer             hb@gwbigbend.org   \n",
       "4             5    felmoore      Felix     Moore  felixmoore@gwsouteastga.org   \n",
       "5             6    janclark        Jan     Clark      jclark@gwindustries.org   \n",
       "\n",
       "  is_superuser is_staff is_active  \n",
       "0         TRUE    FALSE      TRUE  \n",
       "1         TRUE    FALSE      TRUE  \n",
       "2         TRUE    FALSE      TRUE  \n",
       "3         TRUE    FALSE      TRUE  \n",
       "4         TRUE    FALSE      TRUE  \n",
       "5         TRUE    FALSE      TRUE  "
      ]
     },
     "metadata": {},
     "output_type": "display_data"
    }
   ],
   "source": [
    "# Set up a filter\n",
    "t_table='auth_user'\n",
    "\n",
    "# Get demo data, display it and save in a dictionary\n",
    "dfs[t_table]=get_demo_data(table=t_table)\n",
    "\n",
    "# Convert to booleans\n",
    "dfs[t_table]['is_superuser'] = dfs[t_table]['is_superuser'].map({'FALSE': False, 'TRUE': True})\n",
    "dfs[t_table]['is_staff'] = dfs[t_table]['is_staff'].map({'FALSE': False, 'TRUE': True})\n",
    "dfs[t_table]['is_active'] = dfs[t_table]['is_active'].map({'FALSE': False, 'TRUE': True})\n"
   ]
  },
  {
   "cell_type": "markdown",
   "metadata": {},
   "source": [
    "### Add data to the model"
   ]
  },
  {
   "cell_type": "code",
   "execution_count": 37,
   "metadata": {
    "ExecuteTime": {
     "end_time": "2020-08-15T19:24:33.370752Z",
     "start_time": "2020-08-15T19:24:33.261821Z"
    },
    "scrolled": false
   },
   "outputs": [
    {
     "name": "stderr",
     "output_type": "stream",
     "text": [
      "{\"message\": \"(0.001) SELECT \\\"auth_user\\\".\\\"id\\\", \\\"auth_user\\\".\\\"password\\\", \\\"auth_user\\\".\\\"last_login\\\", \\\"auth_user\\\".\\\"is_superuser\\\", \\\"auth_user\\\".\\\"username\\\", \\\"auth_user\\\".\\\"first_name\\\", \\\"auth_user\\\".\\\"last_name\\\", \\\"auth_user\\\".\\\"email\\\", \\\"auth_user\\\".\\\"is_staff\\\", \\\"auth_user\\\".\\\"is_active\\\", \\\"auth_user\\\".\\\"date_joined\\\" FROM \\\"auth_user\\\"; args=()\", \"duration\": 0.0011399710000432606, \"sql\": \"SELECT \\\"auth_user\\\".\\\"id\\\", \\\"auth_user\\\".\\\"password\\\", \\\"auth_user\\\".\\\"last_login\\\", \\\"auth_user\\\".\\\"is_superuser\\\", \\\"auth_user\\\".\\\"username\\\", \\\"auth_user\\\".\\\"first_name\\\", \\\"auth_user\\\".\\\"last_name\\\", \\\"auth_user\\\".\\\"email\\\", \\\"auth_user\\\".\\\"is_staff\\\", \\\"auth_user\\\".\\\"is_active\\\", \\\"auth_user\\\".\\\"date_joined\\\" FROM \\\"auth_user\\\"\", \"params\": [], \"@timestamp\": \"2020-08-15T19:24:33.316431\", \"level\": \"DEBUG\", \"logger\": \"django.db.backends\"}\n",
      "{\"message\": \"(0.001) INSERT INTO \\\"auth_user\\\" (\\\"password\\\", \\\"last_login\\\", \\\"is_superuser\\\", \\\"username\\\", \\\"first_name\\\", \\\"last_name\\\", \\\"email\\\", \\\"is_staff\\\", \\\"is_active\\\", \\\"date_joined\\\") VALUES ('', NULL, false, 'cecpowell', 'Ceclila', 'Powell', 'cpowell@gwnorthga.org', false, true, '2020-08-15T19:24:33.319220+00:00'::timestamptz) RETURNING \\\"auth_user\\\".\\\"id\\\"; args=('', None, False, 'cecpowell', 'Ceclila', 'Powell', 'cpowell@gwnorthga.org', False, True, datetime.datetime(2020, 8, 15, 19, 24, 33, 319220, tzinfo=<UTC>))\", \"duration\": 0.0014311659999748372, \"sql\": \"INSERT INTO \\\"auth_user\\\" (\\\"password\\\", \\\"last_login\\\", \\\"is_superuser\\\", \\\"username\\\", \\\"first_name\\\", \\\"last_name\\\", \\\"email\\\", \\\"is_staff\\\", \\\"is_active\\\", \\\"date_joined\\\") VALUES ('', NULL, false, 'cecpowell', 'Ceclila', 'Powell', 'cpowell@gwnorthga.org', false, true, '2020-08-15T19:24:33.319220+00:00'::timestamptz) RETURNING \\\"auth_user\\\".\\\"id\\\"\", \"params\": [\"\", null, false, \"cecpowell\", \"Ceclila\", \"Powell\", \"cpowell@gwnorthga.org\", false, true, \"2020-08-15T19:24:33.319220+00:00\"], \"@timestamp\": \"2020-08-15T19:24:33.321048\", \"level\": \"DEBUG\", \"logger\": \"django.db.backends\"}\n",
      "{\"message\": \"(0.001) INSERT INTO \\\"user_profile\\\" (\\\"user_id\\\", \\\"agency_id\\\") VALUES (2, NULL) RETURNING \\\"user_profile\\\".\\\"id\\\"; args=(2, None)\", \"duration\": 0.0013046770000073593, \"sql\": \"INSERT INTO \\\"user_profile\\\" (\\\"user_id\\\", \\\"agency_id\\\") VALUES (2, NULL) RETURNING \\\"user_profile\\\".\\\"id\\\"\", \"params\": [2, null], \"@timestamp\": \"2020-08-15T19:24:33.323774\", \"level\": \"DEBUG\", \"logger\": \"django.db.backends\"}\n",
      "{\"message\": \"(0.001) UPDATE \\\"user_profile\\\" SET \\\"user_id\\\" = 2, \\\"agency_id\\\" = NULL WHERE \\\"user_profile\\\".\\\"id\\\" = 2; args=(2, 2)\", \"duration\": 0.0008729349999612168, \"sql\": \"UPDATE \\\"user_profile\\\" SET \\\"user_id\\\" = 2, \\\"agency_id\\\" = NULL WHERE \\\"user_profile\\\".\\\"id\\\" = 2\", \"params\": [2, 2], \"@timestamp\": \"2020-08-15T19:24:33.326403\", \"level\": \"DEBUG\", \"logger\": \"django.db.backends\"}\n",
      "{\"message\": \"(0.001) INSERT INTO \\\"authtoken_token\\\" (\\\"key\\\", \\\"user_id\\\", \\\"created\\\") VALUES ('0fe54367169e5fe04b57c7e4e932786c4ce962a3', 2, '2020-08-15T19:24:33.327816+00:00'::timestamptz); args=('0fe54367169e5fe04b57c7e4e932786c4ce962a3', 2, datetime.datetime(2020, 8, 15, 19, 24, 33, 327816, tzinfo=<UTC>))\", \"duration\": 0.0009542559999999867, \"sql\": \"INSERT INTO \\\"authtoken_token\\\" (\\\"key\\\", \\\"user_id\\\", \\\"created\\\") VALUES ('0fe54367169e5fe04b57c7e4e932786c4ce962a3', 2, '2020-08-15T19:24:33.327816+00:00'::timestamptz)\", \"params\": [\"0fe54367169e5fe04b57c7e4e932786c4ce962a3\", 2, \"2020-08-15T19:24:33.327816+00:00\"], \"@timestamp\": \"2020-08-15T19:24:33.328910\", \"level\": \"DEBUG\", \"logger\": \"django.db.backends\"}\n",
      "{\"message\": \"(0.001) INSERT INTO \\\"auth_user\\\" (\\\"password\\\", \\\"last_login\\\", \\\"is_superuser\\\", \\\"username\\\", \\\"first_name\\\", \\\"last_name\\\", \\\"email\\\", \\\"is_staff\\\", \\\"is_active\\\", \\\"date_joined\\\") VALUES ('', NULL, false, 'levmendoza', 'Levina', 'Mendoza', 'levinamendoza@gwmidga.org', false, true, '2020-08-15T19:24:33.329893+00:00'::timestamptz) RETURNING \\\"auth_user\\\".\\\"id\\\"; args=('', None, False, 'levmendoza', 'Levina', 'Mendoza', 'levinamendoza@gwmidga.org', False, True, datetime.datetime(2020, 8, 15, 19, 24, 33, 329893, tzinfo=<UTC>))\", \"duration\": 0.0007017809999751989, \"sql\": \"INSERT INTO \\\"auth_user\\\" (\\\"password\\\", \\\"last_login\\\", \\\"is_superuser\\\", \\\"username\\\", \\\"first_name\\\", \\\"last_name\\\", \\\"email\\\", \\\"is_staff\\\", \\\"is_active\\\", \\\"date_joined\\\") VALUES ('', NULL, false, 'levmendoza', 'Levina', 'Mendoza', 'levinamendoza@gwmidga.org', false, true, '2020-08-15T19:24:33.329893+00:00'::timestamptz) RETURNING \\\"auth_user\\\".\\\"id\\\"\", \"params\": [\"\", null, false, \"levmendoza\", \"Levina\", \"Mendoza\", \"levinamendoza@gwmidga.org\", false, true, \"2020-08-15T19:24:33.329893+00:00\"], \"@timestamp\": \"2020-08-15T19:24:33.330959\", \"level\": \"DEBUG\", \"logger\": \"django.db.backends\"}\n",
      "{\"message\": \"(0.001) INSERT INTO \\\"user_profile\\\" (\\\"user_id\\\", \\\"agency_id\\\") VALUES (3, NULL) RETURNING \\\"user_profile\\\".\\\"id\\\"; args=(3, None)\", \"duration\": 0.00068942000007155, \"sql\": \"INSERT INTO \\\"user_profile\\\" (\\\"user_id\\\", \\\"agency_id\\\") VALUES (3, NULL) RETURNING \\\"user_profile\\\".\\\"id\\\"\", \"params\": [3, null], \"@timestamp\": \"2020-08-15T19:24:33.332831\", \"level\": \"DEBUG\", \"logger\": \"django.db.backends\"}\n",
      "{\"message\": \"(0.001) UPDATE \\\"user_profile\\\" SET \\\"user_id\\\" = 3, \\\"agency_id\\\" = NULL WHERE \\\"user_profile\\\".\\\"id\\\" = 3; args=(3, 3)\", \"duration\": 0.0007021220000069661, \"sql\": \"UPDATE \\\"user_profile\\\" SET \\\"user_id\\\" = 3, \\\"agency_id\\\" = NULL WHERE \\\"user_profile\\\".\\\"id\\\" = 3\", \"params\": [3, 3], \"@timestamp\": \"2020-08-15T19:24:33.334976\", \"level\": \"DEBUG\", \"logger\": \"django.db.backends\"}\n",
      "{\"message\": \"(0.001) INSERT INTO \\\"authtoken_token\\\" (\\\"key\\\", \\\"user_id\\\", \\\"created\\\") VALUES ('4e0dd34dc966df3b1cea430aebb19dd8191fb82d', 3, '2020-08-15T19:24:33.336197+00:00'::timestamptz); args=('4e0dd34dc966df3b1cea430aebb19dd8191fb82d', 3, datetime.datetime(2020, 8, 15, 19, 24, 33, 336197, tzinfo=<UTC>))\", \"duration\": 0.0007373750000851942, \"sql\": \"INSERT INTO \\\"authtoken_token\\\" (\\\"key\\\", \\\"user_id\\\", \\\"created\\\") VALUES ('4e0dd34dc966df3b1cea430aebb19dd8191fb82d', 3, '2020-08-15T19:24:33.336197+00:00'::timestamptz)\", \"params\": [\"4e0dd34dc966df3b1cea430aebb19dd8191fb82d\", 3, \"2020-08-15T19:24:33.336197+00:00\"], \"@timestamp\": \"2020-08-15T19:24:33.337063\", \"level\": \"DEBUG\", \"logger\": \"django.db.backends\"}\n",
      "{\"message\": \"(0.001) INSERT INTO \\\"auth_user\\\" (\\\"password\\\", \\\"last_login\\\", \\\"is_superuser\\\", \\\"username\\\", \\\"first_name\\\", \\\"last_name\\\", \\\"email\\\", \\\"is_staff\\\", \\\"is_active\\\", \\\"date_joined\\\") VALUES ('', NULL, false, 'hilbeemer', 'Hilda', 'Beemer', 'hb@gwbigbend.org', false, true, '2020-08-15T19:24:33.338186+00:00'::timestamptz) RETURNING \\\"auth_user\\\".\\\"id\\\"; args=('', None, False, 'hilbeemer', 'Hilda', 'Beemer', 'hb@gwbigbend.org', False, True, datetime.datetime(2020, 8, 15, 19, 24, 33, 338186, tzinfo=<UTC>))\", \"duration\": 0.000666784999907577, \"sql\": \"INSERT INTO \\\"auth_user\\\" (\\\"password\\\", \\\"last_login\\\", \\\"is_superuser\\\", \\\"username\\\", \\\"first_name\\\", \\\"last_name\\\", \\\"email\\\", \\\"is_staff\\\", \\\"is_active\\\", \\\"date_joined\\\") VALUES ('', NULL, false, 'hilbeemer', 'Hilda', 'Beemer', 'hb@gwbigbend.org', false, true, '2020-08-15T19:24:33.338186+00:00'::timestamptz) RETURNING \\\"auth_user\\\".\\\"id\\\"\", \"params\": [\"\", null, false, \"hilbeemer\", \"Hilda\", \"Beemer\", \"hb@gwbigbend.org\", false, true, \"2020-08-15T19:24:33.338186+00:00\"], \"@timestamp\": \"2020-08-15T19:24:33.339210\", \"level\": \"DEBUG\", \"logger\": \"django.db.backends\"}\n",
      "{\"message\": \"(0.001) INSERT INTO \\\"user_profile\\\" (\\\"user_id\\\", \\\"agency_id\\\") VALUES (4, NULL) RETURNING \\\"user_profile\\\".\\\"id\\\"; args=(4, None)\", \"duration\": 0.0008249850000083825, \"sql\": \"INSERT INTO \\\"user_profile\\\" (\\\"user_id\\\", \\\"agency_id\\\") VALUES (4, NULL) RETURNING \\\"user_profile\\\".\\\"id\\\"\", \"params\": [4, null], \"@timestamp\": \"2020-08-15T19:24:33.341210\", \"level\": \"DEBUG\", \"logger\": \"django.db.backends\"}\n",
      "{\"message\": \"(0.001) UPDATE \\\"user_profile\\\" SET \\\"user_id\\\" = 4, \\\"agency_id\\\" = NULL WHERE \\\"user_profile\\\".\\\"id\\\" = 4; args=(4, 4)\", \"duration\": 0.000655504000064866, \"sql\": \"UPDATE \\\"user_profile\\\" SET \\\"user_id\\\" = 4, \\\"agency_id\\\" = NULL WHERE \\\"user_profile\\\".\\\"id\\\" = 4\", \"params\": [4, 4], \"@timestamp\": \"2020-08-15T19:24:33.343202\", \"level\": \"DEBUG\", \"logger\": \"django.db.backends\"}\n"
     ]
    },
    {
     "name": "stderr",
     "output_type": "stream",
     "text": [
      "{\"message\": \"(0.001) INSERT INTO \\\"authtoken_token\\\" (\\\"key\\\", \\\"user_id\\\", \\\"created\\\") VALUES ('5f2d3fc32f608845ac1c6dcccafbb555c4891629', 4, '2020-08-15T19:24:33.344352+00:00'::timestamptz); args=('5f2d3fc32f608845ac1c6dcccafbb555c4891629', 4, datetime.datetime(2020, 8, 15, 19, 24, 33, 344352, tzinfo=<UTC>))\", \"duration\": 0.0007177290000299763, \"sql\": \"INSERT INTO \\\"authtoken_token\\\" (\\\"key\\\", \\\"user_id\\\", \\\"created\\\") VALUES ('5f2d3fc32f608845ac1c6dcccafbb555c4891629', 4, '2020-08-15T19:24:33.344352+00:00'::timestamptz)\", \"params\": [\"5f2d3fc32f608845ac1c6dcccafbb555c4891629\", 4, \"2020-08-15T19:24:33.344352+00:00\"], \"@timestamp\": \"2020-08-15T19:24:33.345231\", \"level\": \"DEBUG\", \"logger\": \"django.db.backends\"}\n",
      "{\"message\": \"(0.001) INSERT INTO \\\"auth_user\\\" (\\\"password\\\", \\\"last_login\\\", \\\"is_superuser\\\", \\\"username\\\", \\\"first_name\\\", \\\"last_name\\\", \\\"email\\\", \\\"is_staff\\\", \\\"is_active\\\", \\\"date_joined\\\") VALUES ('', NULL, false, 'felmoore', 'Felix', 'Moore', 'felixmoore@gwsouteastga.org', false, true, '2020-08-15T19:24:33.346241+00:00'::timestamptz) RETURNING \\\"auth_user\\\".\\\"id\\\"; args=('', None, False, 'felmoore', 'Felix', 'Moore', 'felixmoore@gwsouteastga.org', False, True, datetime.datetime(2020, 8, 15, 19, 24, 33, 346241, tzinfo=<UTC>))\", \"duration\": 0.0006919630000083998, \"sql\": \"INSERT INTO \\\"auth_user\\\" (\\\"password\\\", \\\"last_login\\\", \\\"is_superuser\\\", \\\"username\\\", \\\"first_name\\\", \\\"last_name\\\", \\\"email\\\", \\\"is_staff\\\", \\\"is_active\\\", \\\"date_joined\\\") VALUES ('', NULL, false, 'felmoore', 'Felix', 'Moore', 'felixmoore@gwsouteastga.org', false, true, '2020-08-15T19:24:33.346241+00:00'::timestamptz) RETURNING \\\"auth_user\\\".\\\"id\\\"\", \"params\": [\"\", null, false, \"felmoore\", \"Felix\", \"Moore\", \"felixmoore@gwsouteastga.org\", false, true, \"2020-08-15T19:24:33.346241+00:00\"], \"@timestamp\": \"2020-08-15T19:24:33.347295\", \"level\": \"DEBUG\", \"logger\": \"django.db.backends\"}\n",
      "{\"message\": \"(0.001) INSERT INTO \\\"user_profile\\\" (\\\"user_id\\\", \\\"agency_id\\\") VALUES (5, NULL) RETURNING \\\"user_profile\\\".\\\"id\\\"; args=(5, None)\", \"duration\": 0.0007143620000533701, \"sql\": \"INSERT INTO \\\"user_profile\\\" (\\\"user_id\\\", \\\"agency_id\\\") VALUES (5, NULL) RETURNING \\\"user_profile\\\".\\\"id\\\"\", \"params\": [5, null], \"@timestamp\": \"2020-08-15T19:24:33.349258\", \"level\": \"DEBUG\", \"logger\": \"django.db.backends\"}\n",
      "{\"message\": \"(0.001) UPDATE \\\"user_profile\\\" SET \\\"user_id\\\" = 5, \\\"agency_id\\\" = NULL WHERE \\\"user_profile\\\".\\\"id\\\" = 5; args=(5, 5)\", \"duration\": 0.0007379879999689365, \"sql\": \"UPDATE \\\"user_profile\\\" SET \\\"user_id\\\" = 5, \\\"agency_id\\\" = NULL WHERE \\\"user_profile\\\".\\\"id\\\" = 5\", \"params\": [5, 5], \"@timestamp\": \"2020-08-15T19:24:33.351399\", \"level\": \"DEBUG\", \"logger\": \"django.db.backends\"}\n",
      "{\"message\": \"(0.001) INSERT INTO \\\"authtoken_token\\\" (\\\"key\\\", \\\"user_id\\\", \\\"created\\\") VALUES ('5dbb59cf81224272123ee021c06d307027d595db', 5, '2020-08-15T19:24:33.352613+00:00'::timestamptz); args=('5dbb59cf81224272123ee021c06d307027d595db', 5, datetime.datetime(2020, 8, 15, 19, 24, 33, 352613, tzinfo=<UTC>))\", \"duration\": 0.0011518969999997353, \"sql\": \"INSERT INTO \\\"authtoken_token\\\" (\\\"key\\\", \\\"user_id\\\", \\\"created\\\") VALUES ('5dbb59cf81224272123ee021c06d307027d595db', 5, '2020-08-15T19:24:33.352613+00:00'::timestamptz)\", \"params\": [\"5dbb59cf81224272123ee021c06d307027d595db\", 5, \"2020-08-15T19:24:33.352613+00:00\"], \"@timestamp\": \"2020-08-15T19:24:33.353910\", \"level\": \"DEBUG\", \"logger\": \"django.db.backends\"}\n",
      "{\"message\": \"(0.002) INSERT INTO \\\"auth_user\\\" (\\\"password\\\", \\\"last_login\\\", \\\"is_superuser\\\", \\\"username\\\", \\\"first_name\\\", \\\"last_name\\\", \\\"email\\\", \\\"is_staff\\\", \\\"is_active\\\", \\\"date_joined\\\") VALUES ('', NULL, false, 'janclark', 'Jan', 'Clark', 'jclark@gwindustries.org', false, true, '2020-08-15T19:24:33.355356+00:00'::timestamptz) RETURNING \\\"auth_user\\\".\\\"id\\\"; args=('', None, False, 'janclark', 'Jan', 'Clark', 'jclark@gwindustries.org', False, True, datetime.datetime(2020, 8, 15, 19, 24, 33, 355356, tzinfo=<UTC>))\", \"duration\": 0.0024476270000377554, \"sql\": \"INSERT INTO \\\"auth_user\\\" (\\\"password\\\", \\\"last_login\\\", \\\"is_superuser\\\", \\\"username\\\", \\\"first_name\\\", \\\"last_name\\\", \\\"email\\\", \\\"is_staff\\\", \\\"is_active\\\", \\\"date_joined\\\") VALUES ('', NULL, false, 'janclark', 'Jan', 'Clark', 'jclark@gwindustries.org', false, true, '2020-08-15T19:24:33.355356+00:00'::timestamptz) RETURNING \\\"auth_user\\\".\\\"id\\\"\", \"params\": [\"\", null, false, \"janclark\", \"Jan\", \"Clark\", \"jclark@gwindustries.org\", false, true, \"2020-08-15T19:24:33.355356+00:00\"], \"@timestamp\": \"2020-08-15T19:24:33.358580\", \"level\": \"DEBUG\", \"logger\": \"django.db.backends\"}\n",
      "{\"message\": \"(0.001) INSERT INTO \\\"user_profile\\\" (\\\"user_id\\\", \\\"agency_id\\\") VALUES (6, NULL) RETURNING \\\"user_profile\\\".\\\"id\\\"; args=(6, None)\", \"duration\": 0.0008658719999630193, \"sql\": \"INSERT INTO \\\"user_profile\\\" (\\\"user_id\\\", \\\"agency_id\\\") VALUES (6, NULL) RETURNING \\\"user_profile\\\".\\\"id\\\"\", \"params\": [6, null], \"@timestamp\": \"2020-08-15T19:24:33.361890\", \"level\": \"DEBUG\", \"logger\": \"django.db.backends\"}\n",
      "{\"message\": \"(0.001) UPDATE \\\"user_profile\\\" SET \\\"user_id\\\" = 6, \\\"agency_id\\\" = NULL WHERE \\\"user_profile\\\".\\\"id\\\" = 6; args=(6, 6)\", \"duration\": 0.0010387610000179848, \"sql\": \"UPDATE \\\"user_profile\\\" SET \\\"user_id\\\" = 6, \\\"agency_id\\\" = NULL WHERE \\\"user_profile\\\".\\\"id\\\" = 6\", \"params\": [6, 6], \"@timestamp\": \"2020-08-15T19:24:33.364517\", \"level\": \"DEBUG\", \"logger\": \"django.db.backends\"}\n",
      "{\"message\": \"(0.001) INSERT INTO \\\"authtoken_token\\\" (\\\"key\\\", \\\"user_id\\\", \\\"created\\\") VALUES ('cff1a00784a49c3b2988ffe3cb38e06248d891aa', 6, '2020-08-15T19:24:33.365934+00:00'::timestamptz); args=('cff1a00784a49c3b2988ffe3cb38e06248d891aa', 6, datetime.datetime(2020, 8, 15, 19, 24, 33, 365934, tzinfo=<UTC>))\", \"duration\": 0.0011491879999994126, \"sql\": \"INSERT INTO \\\"authtoken_token\\\" (\\\"key\\\", \\\"user_id\\\", \\\"created\\\") VALUES ('cff1a00784a49c3b2988ffe3cb38e06248d891aa', 6, '2020-08-15T19:24:33.365934+00:00'::timestamptz)\", \"params\": [\"cff1a00784a49c3b2988ffe3cb38e06248d891aa\", 6, \"2020-08-15T19:24:33.365934+00:00\"], \"@timestamp\": \"2020-08-15T19:24:33.367229\", \"level\": \"DEBUG\", \"logger\": \"django.db.backends\"}\n"
     ]
    }
   ],
   "source": [
    "# Get a list of current ref_ids of existing agencies\n",
    "cur_usernames = [u.username for u in User.objects.all()]\n",
    "\n",
    "# For each entry in the user example data dataframe\n",
    "# Add the entry, if the username does not exist (to prevent dups \n",
    "# in testing data)\n",
    "\n",
    "# Use this mask to fitler out any superusers\n",
    "mask =dfs[t_table]['is_superuser']==False\n",
    "\n",
    "for idx in dfs[t_table][mask].index:\n",
    "    if dfs[t_table].loc[idx,'username'] not in cur_usernames:\n",
    "        u = User(username=dfs[t_table].loc[idx,'username'],\n",
    "                 first_name=dfs[t_table].loc[idx,'first_name'],\n",
    "                 last_name=dfs[t_table].loc[idx,'last_name'],\n",
    "                 email=dfs[t_table].loc[idx,'email'],\n",
    "                 is_superuser=dfs[t_table].loc[idx,'is_superuser'],\n",
    "                 is_staff=dfs[t_table].loc[idx,'is_staff'],\n",
    "                 is_active=dfs[t_table].loc[idx,'is_active']\n",
    "                )\n",
    "        u.save()\n"
   ]
  },
  {
   "cell_type": "markdown",
   "metadata": {},
   "source": [
    "### View the new model dataset"
   ]
  },
  {
   "cell_type": "code",
   "execution_count": 39,
   "metadata": {
    "ExecuteTime": {
     "end_time": "2020-08-15T19:25:18.312601Z",
     "start_time": "2020-08-15T19:25:18.307063Z"
    }
   },
   "outputs": [
    {
     "name": "stderr",
     "output_type": "stream",
     "text": [
      "{\"message\": \"(0.001) SELECT \\\"auth_user\\\".\\\"id\\\", \\\"auth_user\\\".\\\"password\\\", \\\"auth_user\\\".\\\"last_login\\\", \\\"auth_user\\\".\\\"is_superuser\\\", \\\"auth_user\\\".\\\"username\\\", \\\"auth_user\\\".\\\"first_name\\\", \\\"auth_user\\\".\\\"last_name\\\", \\\"auth_user\\\".\\\"email\\\", \\\"auth_user\\\".\\\"is_staff\\\", \\\"auth_user\\\".\\\"is_active\\\", \\\"auth_user\\\".\\\"date_joined\\\" FROM \\\"auth_user\\\" LIMIT 21; args=()\", \"duration\": 0.0005241250000835862, \"sql\": \"SELECT \\\"auth_user\\\".\\\"id\\\", \\\"auth_user\\\".\\\"password\\\", \\\"auth_user\\\".\\\"last_login\\\", \\\"auth_user\\\".\\\"is_superuser\\\", \\\"auth_user\\\".\\\"username\\\", \\\"auth_user\\\".\\\"first_name\\\", \\\"auth_user\\\".\\\"last_name\\\", \\\"auth_user\\\".\\\"email\\\", \\\"auth_user\\\".\\\"is_staff\\\", \\\"auth_user\\\".\\\"is_active\\\", \\\"auth_user\\\".\\\"date_joined\\\" FROM \\\"auth_user\\\" LIMIT 21\", \"params\": [], \"@timestamp\": \"2020-08-15T19:25:18.308768\", \"level\": \"DEBUG\", \"logger\": \"django.db.backends\"}\n"
     ]
    },
    {
     "name": "stdout",
     "output_type": "stream",
     "text": [
      "<bound method QuerySet.values_list of <QuerySet [<User: superuser1>, <User: cecpowell>, <User: levmendoza>, <User: hilbeemer>, <User: felmoore>, <User: janclark>]>>\n"
     ]
    }
   ],
   "source": [
    "# Retrieve data from the agency object\n",
    "print(User.objects.all().values_list)\n"
   ]
  },
  {
   "cell_type": "markdown",
   "metadata": {},
   "source": [
    "## Add some data to the Client Model\n",
    "\n",
    "In this section, we are pulling data from the Google Sheet to add data to the Client model.\n",
    "\n",
    "Notes\n",
    "\n",
    "- This simulation employs an `agency_assoc` field which is in the Google Sheet and built into the CLient model.  It is here to replicate other process that associate clients and agencies.  For example, if the release of information (ROI) model is used, there could be a process to associate clients to particular agencies since the  client has given explicit permission to share their information with these agencies.  Additionally or alternatively, if an agency-sharing model is used, a process could be run to associate clients with agencies.  In either case, under this simulation those associations are stored in the `agency.AgencyClient` model, and the `agency_assoc` field would probably no longer be necessary.\n",
    "- This first section adds client data.  The next section will use the `agency_assoc` field to add data to the `agency.AgencyClient` model.\n",
    "\n"
   ]
  },
  {
   "cell_type": "markdown",
   "metadata": {
    "ExecuteTime": {
     "end_time": "2020-08-14T11:50:33.203348Z",
     "start_time": "2020-08-14T11:50:33.201097Z"
    }
   },
   "source": [
    "### Read the example data from the Google Sheets"
   ]
  },
  {
   "cell_type": "code",
   "execution_count": 40,
   "metadata": {
    "ExecuteTime": {
     "end_time": "2020-08-15T19:25:58.126326Z",
     "start_time": "2020-08-15T19:25:57.312603Z"
    }
   },
   "outputs": [
    {
     "data": {
      "text/markdown": [
       "### The client demo dataframe:"
      ],
      "text/plain": [
       "<IPython.core.display.Markdown object>"
      ]
     },
     "metadata": {},
     "output_type": "display_data"
    },
    {
     "data": {
      "text/html": [
       "<div>\n",
       "<style scoped>\n",
       "    .dataframe tbody tr th:only-of-type {\n",
       "        vertical-align: middle;\n",
       "    }\n",
       "\n",
       "    .dataframe tbody tr th {\n",
       "        vertical-align: top;\n",
       "    }\n",
       "\n",
       "    .dataframe thead th {\n",
       "        text-align: right;\n",
       "    }\n",
       "</style>\n",
       "<table border=\"1\" class=\"dataframe\">\n",
       "  <thead>\n",
       "    <tr style=\"text-align: right;\">\n",
       "      <th></th>\n",
       "      <th>id</th>\n",
       "      <th>first_name</th>\n",
       "      <th>last_name</th>\n",
       "      <th>agency_assoc</th>\n",
       "      <th>dob-date</th>\n",
       "      <th>dob</th>\n",
       "      <th>SSN</th>\n",
       "      <th>Address1</th>\n",
       "      <th>Address2</th>\n",
       "      <th>City</th>\n",
       "      <th>State</th>\n",
       "      <th>Zip</th>\n",
       "    </tr>\n",
       "  </thead>\n",
       "  <tbody>\n",
       "    <tr>\n",
       "      <th>0</th>\n",
       "      <td>1</td>\n",
       "      <td>Hailie</td>\n",
       "      <td>Boyd</td>\n",
       "      <td>2,3,4,</td>\n",
       "      <td>1/3/1987 0:00:00</td>\n",
       "      <td>1987-01-03</td>\n",
       "      <td>257-54-9891</td>\n",
       "      <td>16000 Old Bullpen</td>\n",
       "      <td></td>\n",
       "      <td>Atlanta</td>\n",
       "      <td>GA</td>\n",
       "      <td>30004-2625</td>\n",
       "    </tr>\n",
       "    <tr>\n",
       "      <th>1</th>\n",
       "      <td>2</td>\n",
       "      <td>Camille</td>\n",
       "      <td>Howell</td>\n",
       "      <td>2,</td>\n",
       "      <td>4/8/2000 0:00:00</td>\n",
       "      <td>2000-04-08</td>\n",
       "      <td>595-45-4214</td>\n",
       "      <td>108 Castle Oak Ct</td>\n",
       "      <td></td>\n",
       "      <td>Kingsland</td>\n",
       "      <td>GA</td>\n",
       "      <td>31548</td>\n",
       "    </tr>\n",
       "    <tr>\n",
       "      <th>2</th>\n",
       "      <td>3</td>\n",
       "      <td>Sandra</td>\n",
       "      <td>Obrien</td>\n",
       "      <td>2,</td>\n",
       "      <td>4/14/1988 0:00:00</td>\n",
       "      <td>1988-04-14</td>\n",
       "      <td>221-57-3987</td>\n",
       "      <td>8821 Ga 15 Hwy N</td>\n",
       "      <td></td>\n",
       "      <td>Warthen</td>\n",
       "      <td>GA</td>\n",
       "      <td>31094</td>\n",
       "    </tr>\n",
       "    <tr>\n",
       "      <th>3</th>\n",
       "      <td>4</td>\n",
       "      <td>Scarlett</td>\n",
       "      <td>Montgomery</td>\n",
       "      <td>3,</td>\n",
       "      <td>4/11/1983 0:00:00</td>\n",
       "      <td>1983-04-11</td>\n",
       "      <td>261-57-3384</td>\n",
       "      <td>None</td>\n",
       "      <td>None</td>\n",
       "      <td>None</td>\n",
       "      <td>None</td>\n",
       "      <td>None</td>\n",
       "    </tr>\n",
       "    <tr>\n",
       "      <th>4</th>\n",
       "      <td>5</td>\n",
       "      <td>Sanai</td>\n",
       "      <td>Curtis</td>\n",
       "      <td>1,2,</td>\n",
       "      <td>6/24/1991 0:00:00</td>\n",
       "      <td>1991-06-24</td>\n",
       "      <td></td>\n",
       "      <td>7415 Jamestown</td>\n",
       "      <td></td>\n",
       "      <td>Atlanta</td>\n",
       "      <td>GA</td>\n",
       "      <td>30005-3018</td>\n",
       "    </tr>\n",
       "    <tr>\n",
       "      <th>5</th>\n",
       "      <td>6</td>\n",
       "      <td>Warren</td>\n",
       "      <td>Aguirre</td>\n",
       "      <td>1,5,</td>\n",
       "      <td>6/9/1978 0:00:00</td>\n",
       "      <td>1978-06-09</td>\n",
       "      <td>258-50-4217</td>\n",
       "      <td>2712 Southside Dr</td>\n",
       "      <td></td>\n",
       "      <td>Donalsonville</td>\n",
       "      <td>GA</td>\n",
       "      <td>39845</td>\n",
       "    </tr>\n",
       "    <tr>\n",
       "      <th>6</th>\n",
       "      <td>7</td>\n",
       "      <td>Trent</td>\n",
       "      <td>Carpenter</td>\n",
       "      <td>1,</td>\n",
       "      <td>1/12/1979 0:00:00</td>\n",
       "      <td>1979-01-12</td>\n",
       "      <td>091-80-5624</td>\n",
       "      <td>8822 Waycross Hwy</td>\n",
       "      <td></td>\n",
       "      <td>Screven</td>\n",
       "      <td>GA</td>\n",
       "      <td>31560</td>\n",
       "    </tr>\n",
       "    <tr>\n",
       "      <th>7</th>\n",
       "      <td>8</td>\n",
       "      <td>Layla</td>\n",
       "      <td>Diaz</td>\n",
       "      <td>1,</td>\n",
       "      <td>5/23/2000 0:00:00</td>\n",
       "      <td>2000-05-23</td>\n",
       "      <td>None</td>\n",
       "      <td>None</td>\n",
       "      <td>None</td>\n",
       "      <td>None</td>\n",
       "      <td>None</td>\n",
       "      <td>None</td>\n",
       "    </tr>\n",
       "    <tr>\n",
       "      <th>8</th>\n",
       "      <td>9</td>\n",
       "      <td>Khalil</td>\n",
       "      <td>Farley</td>\n",
       "      <td>4,</td>\n",
       "      <td>4/18/1994 0:00:00</td>\n",
       "      <td>1994-04-18</td>\n",
       "      <td>413-11-6488</td>\n",
       "      <td>1055 Windward Ridge</td>\n",
       "      <td></td>\n",
       "      <td>Atlanta</td>\n",
       "      <td>GA</td>\n",
       "      <td>30005-1767</td>\n",
       "    </tr>\n",
       "    <tr>\n",
       "      <th>9</th>\n",
       "      <td>10</td>\n",
       "      <td>Amya</td>\n",
       "      <td>Flowers</td>\n",
       "      <td>4,</td>\n",
       "      <td>6/17/1980 0:00:00</td>\n",
       "      <td>1980-06-17</td>\n",
       "      <td></td>\n",
       "      <td>1027 Ga 45 Hwy</td>\n",
       "      <td></td>\n",
       "      <td>Colquitt</td>\n",
       "      <td>GA</td>\n",
       "      <td>39837</td>\n",
       "    </tr>\n",
       "    <tr>\n",
       "      <th>10</th>\n",
       "      <td>11</td>\n",
       "      <td>Courtney</td>\n",
       "      <td>Nolan</td>\n",
       "      <td>2,</td>\n",
       "      <td>1/12/1980 0:00:00</td>\n",
       "      <td>1980-01-12</td>\n",
       "      <td>261-57-2851</td>\n",
       "      <td>883 Ten Oaks Rd</td>\n",
       "      <td></td>\n",
       "      <td>Buchanan</td>\n",
       "      <td>GA</td>\n",
       "      <td>30113</td>\n",
       "    </tr>\n",
       "    <tr>\n",
       "      <th>11</th>\n",
       "      <td>12</td>\n",
       "      <td>Nickolas</td>\n",
       "      <td>Maxwell</td>\n",
       "      <td>4,2,</td>\n",
       "      <td>5/1/1980 0:00:00</td>\n",
       "      <td>1980-05-01</td>\n",
       "      <td>None</td>\n",
       "      <td>None</td>\n",
       "      <td>None</td>\n",
       "      <td>None</td>\n",
       "      <td>None</td>\n",
       "      <td>None</td>\n",
       "    </tr>\n",
       "    <tr>\n",
       "      <th>12</th>\n",
       "      <td>13</td>\n",
       "      <td>Briley</td>\n",
       "      <td>Leach</td>\n",
       "      <td>1,2,</td>\n",
       "      <td>4/5/1983 0:00:00</td>\n",
       "      <td>1983-04-05</td>\n",
       "      <td></td>\n",
       "      <td>12500 Arnold Mill</td>\n",
       "      <td></td>\n",
       "      <td>Atlanta</td>\n",
       "      <td>GA</td>\n",
       "      <td>30004-4011</td>\n",
       "    </tr>\n",
       "    <tr>\n",
       "      <th>13</th>\n",
       "      <td>14</td>\n",
       "      <td>Van</td>\n",
       "      <td>Andrews</td>\n",
       "      <td>1,5,</td>\n",
       "      <td>4/1/2001 0:00:00</td>\n",
       "      <td>2001-04-01</td>\n",
       "      <td>489-16-6562</td>\n",
       "      <td>30 Technology Pky Nw #200</td>\n",
       "      <td></td>\n",
       "      <td>Norcross</td>\n",
       "      <td>GA</td>\n",
       "      <td>30092</td>\n",
       "    </tr>\n",
       "    <tr>\n",
       "      <th>14</th>\n",
       "      <td>15</td>\n",
       "      <td>Coleman</td>\n",
       "      <td>Pace</td>\n",
       "      <td>1,</td>\n",
       "      <td>2/19/1988 0:00:00</td>\n",
       "      <td>1988-02-19</td>\n",
       "      <td>595-67-4289</td>\n",
       "      <td>884 Allen Dr</td>\n",
       "      <td></td>\n",
       "      <td>Vidalia</td>\n",
       "      <td>GA</td>\n",
       "      <td>30474</td>\n",
       "    </tr>\n",
       "    <tr>\n",
       "      <th>15</th>\n",
       "      <td>16</td>\n",
       "      <td>Amya</td>\n",
       "      <td>Dominguez</td>\n",
       "      <td>2,</td>\n",
       "      <td>5/25/1979 0:00:00</td>\n",
       "      <td>1979-05-25</td>\n",
       "      <td>595-10-4265</td>\n",
       "      <td>None</td>\n",
       "      <td>None</td>\n",
       "      <td>None</td>\n",
       "      <td>None</td>\n",
       "      <td>None</td>\n",
       "    </tr>\n",
       "    <tr>\n",
       "      <th>16</th>\n",
       "      <td>17</td>\n",
       "      <td>Keenan</td>\n",
       "      <td>Foster</td>\n",
       "      <td>5,</td>\n",
       "      <td>3/18/1989 0:00:00</td>\n",
       "      <td>1989-03-18</td>\n",
       "      <td>254-74-3844</td>\n",
       "      <td>401 Tumbling Creek</td>\n",
       "      <td></td>\n",
       "      <td>Atlanta</td>\n",
       "      <td>GA</td>\n",
       "      <td>30005-6477</td>\n",
       "    </tr>\n",
       "    <tr>\n",
       "      <th>17</th>\n",
       "      <td>18</td>\n",
       "      <td>Aaden</td>\n",
       "      <td>Harding</td>\n",
       "      <td>4,</td>\n",
       "      <td>6/17/1990 0:00:00</td>\n",
       "      <td>1990-06-17</td>\n",
       "      <td></td>\n",
       "      <td>Po Box 997</td>\n",
       "      <td></td>\n",
       "      <td>Blue Ridge</td>\n",
       "      <td>GA</td>\n",
       "      <td>30513</td>\n",
       "    </tr>\n",
       "    <tr>\n",
       "      <th>18</th>\n",
       "      <td>19</td>\n",
       "      <td>Luciana</td>\n",
       "      <td>Kim</td>\n",
       "      <td>4,</td>\n",
       "      <td>4/11/2000 0:00:00</td>\n",
       "      <td>2000-04-11</td>\n",
       "      <td>247-65-5665</td>\n",
       "      <td>8846 Fairview Blf</td>\n",
       "      <td></td>\n",
       "      <td>Alpharetta</td>\n",
       "      <td>GA</td>\n",
       "      <td>30022</td>\n",
       "    </tr>\n",
       "    <tr>\n",
       "      <th>19</th>\n",
       "      <td>20</td>\n",
       "      <td>Kaylin</td>\n",
       "      <td>Daniel</td>\n",
       "      <td>3,</td>\n",
       "      <td>6/8/1992 0:00:00</td>\n",
       "      <td>1992-06-08</td>\n",
       "      <td>247-55-6786</td>\n",
       "      <td>None</td>\n",
       "      <td>None</td>\n",
       "      <td>None</td>\n",
       "      <td>None</td>\n",
       "      <td>None</td>\n",
       "    </tr>\n",
       "    <tr>\n",
       "      <th>20</th>\n",
       "      <td>21</td>\n",
       "      <td>Miguel</td>\n",
       "      <td>Mcintyre</td>\n",
       "      <td>3,</td>\n",
       "      <td>6/21/1987 0:00:00</td>\n",
       "      <td>1987-06-21</td>\n",
       "      <td>250-65-5667</td>\n",
       "      <td>500 Pine Bough</td>\n",
       "      <td></td>\n",
       "      <td>Atlanta</td>\n",
       "      <td>GA</td>\n",
       "      <td>30004-4540</td>\n",
       "    </tr>\n",
       "    <tr>\n",
       "      <th>21</th>\n",
       "      <td>22</td>\n",
       "      <td>Marlene</td>\n",
       "      <td>Ibarra</td>\n",
       "      <td>4,</td>\n",
       "      <td>3/18/1984 0:00:00</td>\n",
       "      <td>1984-03-18</td>\n",
       "      <td>252-65-3954</td>\n",
       "      <td>None</td>\n",
       "      <td>None</td>\n",
       "      <td>None</td>\n",
       "      <td>None</td>\n",
       "      <td>None</td>\n",
       "    </tr>\n",
       "    <tr>\n",
       "      <th>22</th>\n",
       "      <td>23</td>\n",
       "      <td>Rihanna</td>\n",
       "      <td>Ferrell</td>\n",
       "      <td>4,1,2,3,</td>\n",
       "      <td>2/23/1987 0:00:00</td>\n",
       "      <td>1987-02-23</td>\n",
       "      <td>091-80-5348</td>\n",
       "      <td>None</td>\n",
       "      <td>None</td>\n",
       "      <td>None</td>\n",
       "      <td>None</td>\n",
       "      <td>None</td>\n",
       "    </tr>\n",
       "    <tr>\n",
       "      <th>23</th>\n",
       "      <td>24</td>\n",
       "      <td>Perla</td>\n",
       "      <td>Kaiser</td>\n",
       "      <td>5,</td>\n",
       "      <td>4/3/1995 0:00:00</td>\n",
       "      <td>1995-04-03</td>\n",
       "      <td></td>\n",
       "      <td>5436 Northside Dr</td>\n",
       "      <td></td>\n",
       "      <td>Donalsonville</td>\n",
       "      <td>GA</td>\n",
       "      <td>39845</td>\n",
       "    </tr>\n",
       "    <tr>\n",
       "      <th>24</th>\n",
       "      <td>25</td>\n",
       "      <td>Zachery</td>\n",
       "      <td>Morton</td>\n",
       "      <td>2,4,</td>\n",
       "      <td>6/9/1983 0:00:00</td>\n",
       "      <td>1983-06-09</td>\n",
       "      <td>111-98-3835</td>\n",
       "      <td>856 Waymouth Hwy</td>\n",
       "      <td></td>\n",
       "      <td>Screven</td>\n",
       "      <td>GA</td>\n",
       "      <td>31560</td>\n",
       "    </tr>\n",
       "  </tbody>\n",
       "</table>\n",
       "</div>"
      ],
      "text/plain": [
       "    id first_name   last_name agency_assoc           dob-date         dob  \\\n",
       "0    1    Hailie         Boyd       2,3,4,   1/3/1987 0:00:00  1987-01-03   \n",
       "1    2   Camille       Howell           2,   4/8/2000 0:00:00  2000-04-08   \n",
       "2    3    Sandra       Obrien           2,  4/14/1988 0:00:00  1988-04-14   \n",
       "3    4  Scarlett   Montgomery           3,  4/11/1983 0:00:00  1983-04-11   \n",
       "4    5     Sanai       Curtis         1,2,  6/24/1991 0:00:00  1991-06-24   \n",
       "5    6    Warren      Aguirre         1,5,   6/9/1978 0:00:00  1978-06-09   \n",
       "6    7     Trent    Carpenter           1,  1/12/1979 0:00:00  1979-01-12   \n",
       "7    8     Layla         Diaz           1,  5/23/2000 0:00:00  2000-05-23   \n",
       "8    9    Khalil       Farley           4,  4/18/1994 0:00:00  1994-04-18   \n",
       "9   10      Amya      Flowers           4,  6/17/1980 0:00:00  1980-06-17   \n",
       "10  11  Courtney        Nolan           2,  1/12/1980 0:00:00  1980-01-12   \n",
       "11  12  Nickolas      Maxwell         4,2,   5/1/1980 0:00:00  1980-05-01   \n",
       "12  13    Briley        Leach         1,2,   4/5/1983 0:00:00  1983-04-05   \n",
       "13  14       Van      Andrews         1,5,   4/1/2001 0:00:00  2001-04-01   \n",
       "14  15   Coleman         Pace           1,  2/19/1988 0:00:00  1988-02-19   \n",
       "15  16      Amya    Dominguez           2,  5/25/1979 0:00:00  1979-05-25   \n",
       "16  17    Keenan       Foster           5,  3/18/1989 0:00:00  1989-03-18   \n",
       "17  18     Aaden      Harding           4,  6/17/1990 0:00:00  1990-06-17   \n",
       "18  19   Luciana          Kim           4,  4/11/2000 0:00:00  2000-04-11   \n",
       "19  20    Kaylin       Daniel           3,   6/8/1992 0:00:00  1992-06-08   \n",
       "20  21    Miguel     Mcintyre           3,  6/21/1987 0:00:00  1987-06-21   \n",
       "21  22   Marlene       Ibarra           4,  3/18/1984 0:00:00  1984-03-18   \n",
       "22  23   Rihanna      Ferrell     4,1,2,3,  2/23/1987 0:00:00  1987-02-23   \n",
       "23  24     Perla       Kaiser           5,   4/3/1995 0:00:00  1995-04-03   \n",
       "24  25   Zachery       Morton         2,4,   6/9/1983 0:00:00  1983-06-09   \n",
       "\n",
       "            SSN                   Address1 Address2           City State  \\\n",
       "0   257-54-9891          16000 Old Bullpen                 Atlanta    GA   \n",
       "1   595-45-4214          108 Castle Oak Ct               Kingsland    GA   \n",
       "2   221-57-3987           8821 Ga 15 Hwy N                 Warthen    GA   \n",
       "3   261-57-3384                       None     None           None  None   \n",
       "4                           7415 Jamestown                 Atlanta    GA   \n",
       "5   258-50-4217          2712 Southside Dr           Donalsonville    GA   \n",
       "6   091-80-5624          8822 Waycross Hwy                 Screven    GA   \n",
       "7          None                       None     None           None  None   \n",
       "8   413-11-6488        1055 Windward Ridge                 Atlanta    GA   \n",
       "9                           1027 Ga 45 Hwy                Colquitt    GA   \n",
       "10  261-57-2851            883 Ten Oaks Rd                Buchanan    GA   \n",
       "11         None                       None     None           None  None   \n",
       "12                       12500 Arnold Mill                 Atlanta    GA   \n",
       "13  489-16-6562  30 Technology Pky Nw #200                Norcross    GA   \n",
       "14  595-67-4289               884 Allen Dr                 Vidalia    GA   \n",
       "15  595-10-4265                       None     None           None  None   \n",
       "16  254-74-3844         401 Tumbling Creek                 Atlanta    GA   \n",
       "17                              Po Box 997              Blue Ridge    GA   \n",
       "18  247-65-5665          8846 Fairview Blf              Alpharetta    GA   \n",
       "19  247-55-6786                       None     None           None  None   \n",
       "20  250-65-5667             500 Pine Bough                 Atlanta    GA   \n",
       "21  252-65-3954                       None     None           None  None   \n",
       "22  091-80-5348                       None     None           None  None   \n",
       "23                       5436 Northside Dr           Donalsonville    GA   \n",
       "24  111-98-3835           856 Waymouth Hwy                 Screven    GA   \n",
       "\n",
       "           Zip  \n",
       "0   30004-2625  \n",
       "1        31548  \n",
       "2        31094  \n",
       "3         None  \n",
       "4   30005-3018  \n",
       "5        39845  \n",
       "6        31560  \n",
       "7         None  \n",
       "8   30005-1767  \n",
       "9        39837  \n",
       "10       30113  \n",
       "11        None  \n",
       "12  30004-4011  \n",
       "13       30092  \n",
       "14       30474  \n",
       "15        None  \n",
       "16  30005-6477  \n",
       "17       30513  \n",
       "18       30022  \n",
       "19        None  \n",
       "20  30004-4540  \n",
       "21        None  \n",
       "22        None  \n",
       "23       39845  \n",
       "24       31560  "
      ]
     },
     "metadata": {},
     "output_type": "display_data"
    }
   ],
   "source": [
    "# Set up a filter\n",
    "t_table='client'\n",
    "\n",
    "# Get demo data, display it and save in a dictionary\n",
    "dfs[t_table]=get_demo_data(table=t_table)\n"
   ]
  },
  {
   "cell_type": "markdown",
   "metadata": {},
   "source": [
    "### Add data to the model"
   ]
  },
  {
   "cell_type": "code",
   "execution_count": 41,
   "metadata": {
    "ExecuteTime": {
     "end_time": "2020-08-15T19:26:03.244755Z",
     "start_time": "2020-08-15T19:26:03.072832Z"
    }
   },
   "outputs": [
    {
     "name": "stderr",
     "output_type": "stream",
     "text": [
      "{\"message\": \"(0.002) SELECT \\\"client\\\".\\\"id\\\", \\\"client\\\".\\\"created_by_id\\\", \\\"client\\\".\\\"created_at\\\", \\\"client\\\".\\\"modified_at\\\", \\\"client\\\".\\\"first_name\\\", \\\"client\\\".\\\"middle_name\\\", \\\"client\\\".\\\"last_name\\\", \\\"client\\\".\\\"dob\\\", \\\"client\\\".\\\"agency_assoc\\\" FROM \\\"client\\\" ORDER BY \\\"client\\\".\\\"created_at\\\" DESC; args=()\", \"duration\": 0.0018487350000668812, \"sql\": \"SELECT \\\"client\\\".\\\"id\\\", \\\"client\\\".\\\"created_by_id\\\", \\\"client\\\".\\\"created_at\\\", \\\"client\\\".\\\"modified_at\\\", \\\"client\\\".\\\"first_name\\\", \\\"client\\\".\\\"middle_name\\\", \\\"client\\\".\\\"last_name\\\", \\\"client\\\".\\\"dob\\\", \\\"client\\\".\\\"agency_assoc\\\" FROM \\\"client\\\" ORDER BY \\\"client\\\".\\\"created_at\\\" DESC\", \"params\": [], \"@timestamp\": \"2020-08-15T19:26:03.177821\", \"level\": \"DEBUG\", \"logger\": \"django.db.backends\"}\n",
      "{\"message\": \"(0.003) INSERT INTO \\\"client\\\" (\\\"id\\\", \\\"created_by_id\\\", \\\"created_at\\\", \\\"modified_at\\\", \\\"first_name\\\", \\\"middle_name\\\", \\\"last_name\\\", \\\"dob\\\", \\\"agency_assoc\\\") VALUES ('98f15b91-0354-4b76-b0d3-401c605c0383'::uuid, NULL, '2020-08-15T19:26:03.180057+00:00'::timestamptz, '2020-08-15T19:26:03.180057+00:00'::timestamptz, 'Hailie', '', 'Boyd', '1987-01-03'::date, '2,3,4,'); args=(UUID('98f15b91-0354-4b76-b0d3-401c605c0383'), None, datetime.datetime(2020, 8, 15, 19, 26, 3, 180057, tzinfo=<UTC>), datetime.datetime(2020, 8, 15, 19, 26, 3, 180057, tzinfo=<UTC>), 'Hailie', '', 'Boyd', datetime.date(1987, 1, 3), '2,3,4,')\", \"duration\": 0.002612514000020383, \"sql\": \"INSERT INTO \\\"client\\\" (\\\"id\\\", \\\"created_by_id\\\", \\\"created_at\\\", \\\"modified_at\\\", \\\"first_name\\\", \\\"middle_name\\\", \\\"last_name\\\", \\\"dob\\\", \\\"agency_assoc\\\") VALUES ('98f15b91-0354-4b76-b0d3-401c605c0383'::uuid, NULL, '2020-08-15T19:26:03.180057+00:00'::timestamptz, '2020-08-15T19:26:03.180057+00:00'::timestamptz, 'Hailie', '', 'Boyd', '1987-01-03'::date, '2,3,4,')\", \"params\": [\"98f15b91-0354-4b76-b0d3-401c605c0383\", null, \"2020-08-15T19:26:03.180057+00:00\", \"2020-08-15T19:26:03.180057+00:00\", \"Hailie\", \"\", \"Boyd\", \"1987-01-03\", \"2,3,4,\"], \"@timestamp\": \"2020-08-15T19:26:03.183369\", \"level\": \"DEBUG\", \"logger\": \"django.db.backends\"}\n",
      "{\"message\": \"(0.001) INSERT INTO \\\"client\\\" (\\\"id\\\", \\\"created_by_id\\\", \\\"created_at\\\", \\\"modified_at\\\", \\\"first_name\\\", \\\"middle_name\\\", \\\"last_name\\\", \\\"dob\\\", \\\"agency_assoc\\\") VALUES ('2fe269dd-eec0-4088-846b-afb53707a080'::uuid, NULL, '2020-08-15T19:26:03.184733+00:00'::timestamptz, '2020-08-15T19:26:03.184733+00:00'::timestamptz, 'Camille', '', 'Howell', '2000-04-08'::date, '2,'); args=(UUID('2fe269dd-eec0-4088-846b-afb53707a080'), None, datetime.datetime(2020, 8, 15, 19, 26, 3, 184733, tzinfo=<UTC>), datetime.datetime(2020, 8, 15, 19, 26, 3, 184733, tzinfo=<UTC>), 'Camille', '', 'Howell', datetime.date(2000, 4, 8), '2,')\", \"duration\": 0.0007811720000745481, \"sql\": \"INSERT INTO \\\"client\\\" (\\\"id\\\", \\\"created_by_id\\\", \\\"created_at\\\", \\\"modified_at\\\", \\\"first_name\\\", \\\"middle_name\\\", \\\"last_name\\\", \\\"dob\\\", \\\"agency_assoc\\\") VALUES ('2fe269dd-eec0-4088-846b-afb53707a080'::uuid, NULL, '2020-08-15T19:26:03.184733+00:00'::timestamptz, '2020-08-15T19:26:03.184733+00:00'::timestamptz, 'Camille', '', 'Howell', '2000-04-08'::date, '2,')\", \"params\": [\"2fe269dd-eec0-4088-846b-afb53707a080\", null, \"2020-08-15T19:26:03.184733+00:00\", \"2020-08-15T19:26:03.184733+00:00\", \"Camille\", \"\", \"Howell\", \"2000-04-08\", \"2,\"], \"@timestamp\": \"2020-08-15T19:26:03.185984\", \"level\": \"DEBUG\", \"logger\": \"django.db.backends\"}\n",
      "{\"message\": \"(0.001) INSERT INTO \\\"client\\\" (\\\"id\\\", \\\"created_by_id\\\", \\\"created_at\\\", \\\"modified_at\\\", \\\"first_name\\\", \\\"middle_name\\\", \\\"last_name\\\", \\\"dob\\\", \\\"agency_assoc\\\") VALUES ('405aed03-39df-47f2-88c7-ba76f5ad4822'::uuid, NULL, '2020-08-15T19:26:03.187181+00:00'::timestamptz, '2020-08-15T19:26:03.187181+00:00'::timestamptz, 'Sandra', '', 'Obrien', '1988-04-14'::date, '2,'); args=(UUID('405aed03-39df-47f2-88c7-ba76f5ad4822'), None, datetime.datetime(2020, 8, 15, 19, 26, 3, 187181, tzinfo=<UTC>), datetime.datetime(2020, 8, 15, 19, 26, 3, 187181, tzinfo=<UTC>), 'Sandra', '', 'Obrien', datetime.date(1988, 4, 14), '2,')\", \"duration\": 0.000678738999909001, \"sql\": \"INSERT INTO \\\"client\\\" (\\\"id\\\", \\\"created_by_id\\\", \\\"created_at\\\", \\\"modified_at\\\", \\\"first_name\\\", \\\"middle_name\\\", \\\"last_name\\\", \\\"dob\\\", \\\"agency_assoc\\\") VALUES ('405aed03-39df-47f2-88c7-ba76f5ad4822'::uuid, NULL, '2020-08-15T19:26:03.187181+00:00'::timestamptz, '2020-08-15T19:26:03.187181+00:00'::timestamptz, 'Sandra', '', 'Obrien', '1988-04-14'::date, '2,')\", \"params\": [\"405aed03-39df-47f2-88c7-ba76f5ad4822\", null, \"2020-08-15T19:26:03.187181+00:00\", \"2020-08-15T19:26:03.187181+00:00\", \"Sandra\", \"\", \"Obrien\", \"1988-04-14\", \"2,\"], \"@timestamp\": \"2020-08-15T19:26:03.188254\", \"level\": \"DEBUG\", \"logger\": \"django.db.backends\"}\n",
      "{\"message\": \"(0.001) INSERT INTO \\\"client\\\" (\\\"id\\\", \\\"created_by_id\\\", \\\"created_at\\\", \\\"modified_at\\\", \\\"first_name\\\", \\\"middle_name\\\", \\\"last_name\\\", \\\"dob\\\", \\\"agency_assoc\\\") VALUES ('531b5fd5-20f2-417c-b861-03aa4c7ef0e9'::uuid, NULL, '2020-08-15T19:26:03.189582+00:00'::timestamptz, '2020-08-15T19:26:03.189582+00:00'::timestamptz, 'Scarlett', '', 'Montgomery', '1983-04-11'::date, '3,'); args=(UUID('531b5fd5-20f2-417c-b861-03aa4c7ef0e9'), None, datetime.datetime(2020, 8, 15, 19, 26, 3, 189582, tzinfo=<UTC>), datetime.datetime(2020, 8, 15, 19, 26, 3, 189582, tzinfo=<UTC>), 'Scarlett', '', 'Montgomery', datetime.date(1983, 4, 11), '3,')\", \"duration\": 0.0009239789999355708, \"sql\": \"INSERT INTO \\\"client\\\" (\\\"id\\\", \\\"created_by_id\\\", \\\"created_at\\\", \\\"modified_at\\\", \\\"first_name\\\", \\\"middle_name\\\", \\\"last_name\\\", \\\"dob\\\", \\\"agency_assoc\\\") VALUES ('531b5fd5-20f2-417c-b861-03aa4c7ef0e9'::uuid, NULL, '2020-08-15T19:26:03.189582+00:00'::timestamptz, '2020-08-15T19:26:03.189582+00:00'::timestamptz, 'Scarlett', '', 'Montgomery', '1983-04-11'::date, '3,')\", \"params\": [\"531b5fd5-20f2-417c-b861-03aa4c7ef0e9\", null, \"2020-08-15T19:26:03.189582+00:00\", \"2020-08-15T19:26:03.189582+00:00\", \"Scarlett\", \"\", \"Montgomery\", \"1983-04-11\", \"3,\"], \"@timestamp\": \"2020-08-15T19:26:03.191068\", \"level\": \"DEBUG\", \"logger\": \"django.db.backends\"}\n",
      "{\"message\": \"(0.001) INSERT INTO \\\"client\\\" (\\\"id\\\", \\\"created_by_id\\\", \\\"created_at\\\", \\\"modified_at\\\", \\\"first_name\\\", \\\"middle_name\\\", \\\"last_name\\\", \\\"dob\\\", \\\"agency_assoc\\\") VALUES ('1d0f59cf-e21f-430d-b860-3b6fe093c3e8'::uuid, NULL, '2020-08-15T19:26:03.192532+00:00'::timestamptz, '2020-08-15T19:26:03.192532+00:00'::timestamptz, 'Sanai', '', 'Curtis', '1991-06-24'::date, '1,2,'); args=(UUID('1d0f59cf-e21f-430d-b860-3b6fe093c3e8'), None, datetime.datetime(2020, 8, 15, 19, 26, 3, 192532, tzinfo=<UTC>), datetime.datetime(2020, 8, 15, 19, 26, 3, 192532, tzinfo=<UTC>), 'Sanai', '', 'Curtis', datetime.date(1991, 6, 24), '1,2,')\", \"duration\": 0.0007818369999768038, \"sql\": \"INSERT INTO \\\"client\\\" (\\\"id\\\", \\\"created_by_id\\\", \\\"created_at\\\", \\\"modified_at\\\", \\\"first_name\\\", \\\"middle_name\\\", \\\"last_name\\\", \\\"dob\\\", \\\"agency_assoc\\\") VALUES ('1d0f59cf-e21f-430d-b860-3b6fe093c3e8'::uuid, NULL, '2020-08-15T19:26:03.192532+00:00'::timestamptz, '2020-08-15T19:26:03.192532+00:00'::timestamptz, 'Sanai', '', 'Curtis', '1991-06-24'::date, '1,2,')\", \"params\": [\"1d0f59cf-e21f-430d-b860-3b6fe093c3e8\", null, \"2020-08-15T19:26:03.192532+00:00\", \"2020-08-15T19:26:03.192532+00:00\", \"Sanai\", \"\", \"Curtis\", \"1991-06-24\", \"1,2,\"], \"@timestamp\": \"2020-08-15T19:26:03.193775\", \"level\": \"DEBUG\", \"logger\": \"django.db.backends\"}\n",
      "{\"message\": \"(0.001) INSERT INTO \\\"client\\\" (\\\"id\\\", \\\"created_by_id\\\", \\\"created_at\\\", \\\"modified_at\\\", \\\"first_name\\\", \\\"middle_name\\\", \\\"last_name\\\", \\\"dob\\\", \\\"agency_assoc\\\") VALUES ('1143a5d2-2774-49cc-adc0-1d00c3ee3830'::uuid, NULL, '2020-08-15T19:26:03.195069+00:00'::timestamptz, '2020-08-15T19:26:03.195069+00:00'::timestamptz, 'Warren', '', 'Aguirre', '1978-06-09'::date, '1,5,'); args=(UUID('1143a5d2-2774-49cc-adc0-1d00c3ee3830'), None, datetime.datetime(2020, 8, 15, 19, 26, 3, 195069, tzinfo=<UTC>), datetime.datetime(2020, 8, 15, 19, 26, 3, 195069, tzinfo=<UTC>), 'Warren', '', 'Aguirre', datetime.date(1978, 6, 9), '1,5,')\", \"duration\": 0.0007855840000274839, \"sql\": \"INSERT INTO \\\"client\\\" (\\\"id\\\", \\\"created_by_id\\\", \\\"created_at\\\", \\\"modified_at\\\", \\\"first_name\\\", \\\"middle_name\\\", \\\"last_name\\\", \\\"dob\\\", \\\"agency_assoc\\\") VALUES ('1143a5d2-2774-49cc-adc0-1d00c3ee3830'::uuid, NULL, '2020-08-15T19:26:03.195069+00:00'::timestamptz, '2020-08-15T19:26:03.195069+00:00'::timestamptz, 'Warren', '', 'Aguirre', '1978-06-09'::date, '1,5,')\", \"params\": [\"1143a5d2-2774-49cc-adc0-1d00c3ee3830\", null, \"2020-08-15T19:26:03.195069+00:00\", \"2020-08-15T19:26:03.195069+00:00\", \"Warren\", \"\", \"Aguirre\", \"1978-06-09\", \"1,5,\"], \"@timestamp\": \"2020-08-15T19:26:03.196329\", \"level\": \"DEBUG\", \"logger\": \"django.db.backends\"}\n"
     ]
    },
    {
     "name": "stderr",
     "output_type": "stream",
     "text": [
      "{\"message\": \"(0.001) INSERT INTO \\\"client\\\" (\\\"id\\\", \\\"created_by_id\\\", \\\"created_at\\\", \\\"modified_at\\\", \\\"first_name\\\", \\\"middle_name\\\", \\\"last_name\\\", \\\"dob\\\", \\\"agency_assoc\\\") VALUES ('244fcbd4-d4f5-4eb8-8146-65b17100ad4a'::uuid, NULL, '2020-08-15T19:26:03.197811+00:00'::timestamptz, '2020-08-15T19:26:03.197811+00:00'::timestamptz, 'Trent', '', 'Carpenter', '1979-01-12'::date, '1,'); args=(UUID('244fcbd4-d4f5-4eb8-8146-65b17100ad4a'), None, datetime.datetime(2020, 8, 15, 19, 26, 3, 197811, tzinfo=<UTC>), datetime.datetime(2020, 8, 15, 19, 26, 3, 197811, tzinfo=<UTC>), 'Trent', '', 'Carpenter', datetime.date(1979, 1, 12), '1,')\", \"duration\": 0.000730236999970657, \"sql\": \"INSERT INTO \\\"client\\\" (\\\"id\\\", \\\"created_by_id\\\", \\\"created_at\\\", \\\"modified_at\\\", \\\"first_name\\\", \\\"middle_name\\\", \\\"last_name\\\", \\\"dob\\\", \\\"agency_assoc\\\") VALUES ('244fcbd4-d4f5-4eb8-8146-65b17100ad4a'::uuid, NULL, '2020-08-15T19:26:03.197811+00:00'::timestamptz, '2020-08-15T19:26:03.197811+00:00'::timestamptz, 'Trent', '', 'Carpenter', '1979-01-12'::date, '1,')\", \"params\": [\"244fcbd4-d4f5-4eb8-8146-65b17100ad4a\", null, \"2020-08-15T19:26:03.197811+00:00\", \"2020-08-15T19:26:03.197811+00:00\", \"Trent\", \"\", \"Carpenter\", \"1979-01-12\", \"1,\"], \"@timestamp\": \"2020-08-15T19:26:03.199025\", \"level\": \"DEBUG\", \"logger\": \"django.db.backends\"}\n",
      "{\"message\": \"(0.001) INSERT INTO \\\"client\\\" (\\\"id\\\", \\\"created_by_id\\\", \\\"created_at\\\", \\\"modified_at\\\", \\\"first_name\\\", \\\"middle_name\\\", \\\"last_name\\\", \\\"dob\\\", \\\"agency_assoc\\\") VALUES ('e947f0ce-1922-4f01-9680-d8008574ee88'::uuid, NULL, '2020-08-15T19:26:03.200290+00:00'::timestamptz, '2020-08-15T19:26:03.200290+00:00'::timestamptz, 'Layla', '', 'Diaz', '2000-05-23'::date, '1,'); args=(UUID('e947f0ce-1922-4f01-9680-d8008574ee88'), None, datetime.datetime(2020, 8, 15, 19, 26, 3, 200290, tzinfo=<UTC>), datetime.datetime(2020, 8, 15, 19, 26, 3, 200290, tzinfo=<UTC>), 'Layla', '', 'Diaz', datetime.date(2000, 5, 23), '1,')\", \"duration\": 0.0011521850000235645, \"sql\": \"INSERT INTO \\\"client\\\" (\\\"id\\\", \\\"created_by_id\\\", \\\"created_at\\\", \\\"modified_at\\\", \\\"first_name\\\", \\\"middle_name\\\", \\\"last_name\\\", \\\"dob\\\", \\\"agency_assoc\\\") VALUES ('e947f0ce-1922-4f01-9680-d8008574ee88'::uuid, NULL, '2020-08-15T19:26:03.200290+00:00'::timestamptz, '2020-08-15T19:26:03.200290+00:00'::timestamptz, 'Layla', '', 'Diaz', '2000-05-23'::date, '1,')\", \"params\": [\"e947f0ce-1922-4f01-9680-d8008574ee88\", null, \"2020-08-15T19:26:03.200290+00:00\", \"2020-08-15T19:26:03.200290+00:00\", \"Layla\", \"\", \"Diaz\", \"2000-05-23\", \"1,\"], \"@timestamp\": \"2020-08-15T19:26:03.201924\", \"level\": \"DEBUG\", \"logger\": \"django.db.backends\"}\n",
      "{\"message\": \"(0.001) INSERT INTO \\\"client\\\" (\\\"id\\\", \\\"created_by_id\\\", \\\"created_at\\\", \\\"modified_at\\\", \\\"first_name\\\", \\\"middle_name\\\", \\\"last_name\\\", \\\"dob\\\", \\\"agency_assoc\\\") VALUES ('f9b1a2df-a0a2-4a31-8fb8-023077147c1b'::uuid, NULL, '2020-08-15T19:26:03.203107+00:00'::timestamptz, '2020-08-15T19:26:03.203107+00:00'::timestamptz, 'Khalil', '', 'Farley', '1994-04-18'::date, '4,'); args=(UUID('f9b1a2df-a0a2-4a31-8fb8-023077147c1b'), None, datetime.datetime(2020, 8, 15, 19, 26, 3, 203107, tzinfo=<UTC>), datetime.datetime(2020, 8, 15, 19, 26, 3, 203107, tzinfo=<UTC>), 'Khalil', '', 'Farley', datetime.date(1994, 4, 18), '4,')\", \"duration\": 0.0006704659999741125, \"sql\": \"INSERT INTO \\\"client\\\" (\\\"id\\\", \\\"created_by_id\\\", \\\"created_at\\\", \\\"modified_at\\\", \\\"first_name\\\", \\\"middle_name\\\", \\\"last_name\\\", \\\"dob\\\", \\\"agency_assoc\\\") VALUES ('f9b1a2df-a0a2-4a31-8fb8-023077147c1b'::uuid, NULL, '2020-08-15T19:26:03.203107+00:00'::timestamptz, '2020-08-15T19:26:03.203107+00:00'::timestamptz, 'Khalil', '', 'Farley', '1994-04-18'::date, '4,')\", \"params\": [\"f9b1a2df-a0a2-4a31-8fb8-023077147c1b\", null, \"2020-08-15T19:26:03.203107+00:00\", \"2020-08-15T19:26:03.203107+00:00\", \"Khalil\", \"\", \"Farley\", \"1994-04-18\", \"4,\"], \"@timestamp\": \"2020-08-15T19:26:03.204215\", \"level\": \"DEBUG\", \"logger\": \"django.db.backends\"}\n",
      "{\"message\": \"(0.001) INSERT INTO \\\"client\\\" (\\\"id\\\", \\\"created_by_id\\\", \\\"created_at\\\", \\\"modified_at\\\", \\\"first_name\\\", \\\"middle_name\\\", \\\"last_name\\\", \\\"dob\\\", \\\"agency_assoc\\\") VALUES ('e51e9c6b-cb28-4431-a172-1d0d564af1eb'::uuid, NULL, '2020-08-15T19:26:03.205337+00:00'::timestamptz, '2020-08-15T19:26:03.205337+00:00'::timestamptz, 'Amya', '', 'Flowers', '1980-06-17'::date, '4,'); args=(UUID('e51e9c6b-cb28-4431-a172-1d0d564af1eb'), None, datetime.datetime(2020, 8, 15, 19, 26, 3, 205337, tzinfo=<UTC>), datetime.datetime(2020, 8, 15, 19, 26, 3, 205337, tzinfo=<UTC>), 'Amya', '', 'Flowers', datetime.date(1980, 6, 17), '4,')\", \"duration\": 0.0006426879999708035, \"sql\": \"INSERT INTO \\\"client\\\" (\\\"id\\\", \\\"created_by_id\\\", \\\"created_at\\\", \\\"modified_at\\\", \\\"first_name\\\", \\\"middle_name\\\", \\\"last_name\\\", \\\"dob\\\", \\\"agency_assoc\\\") VALUES ('e51e9c6b-cb28-4431-a172-1d0d564af1eb'::uuid, NULL, '2020-08-15T19:26:03.205337+00:00'::timestamptz, '2020-08-15T19:26:03.205337+00:00'::timestamptz, 'Amya', '', 'Flowers', '1980-06-17'::date, '4,')\", \"params\": [\"e51e9c6b-cb28-4431-a172-1d0d564af1eb\", null, \"2020-08-15T19:26:03.205337+00:00\", \"2020-08-15T19:26:03.205337+00:00\", \"Amya\", \"\", \"Flowers\", \"1980-06-17\", \"4,\"], \"@timestamp\": \"2020-08-15T19:26:03.206362\", \"level\": \"DEBUG\", \"logger\": \"django.db.backends\"}\n",
      "{\"message\": \"(0.001) INSERT INTO \\\"client\\\" (\\\"id\\\", \\\"created_by_id\\\", \\\"created_at\\\", \\\"modified_at\\\", \\\"first_name\\\", \\\"middle_name\\\", \\\"last_name\\\", \\\"dob\\\", \\\"agency_assoc\\\") VALUES ('c977d1f3-9c7d-45a9-9d85-b4e0c0634792'::uuid, NULL, '2020-08-15T19:26:03.207702+00:00'::timestamptz, '2020-08-15T19:26:03.207702+00:00'::timestamptz, 'Courtney', '', 'Nolan', '1980-01-12'::date, '2,'); args=(UUID('c977d1f3-9c7d-45a9-9d85-b4e0c0634792'), None, datetime.datetime(2020, 8, 15, 19, 26, 3, 207702, tzinfo=<UTC>), datetime.datetime(2020, 8, 15, 19, 26, 3, 207702, tzinfo=<UTC>), 'Courtney', '', 'Nolan', datetime.date(1980, 1, 12), '2,')\", \"duration\": 0.0005807630000163044, \"sql\": \"INSERT INTO \\\"client\\\" (\\\"id\\\", \\\"created_by_id\\\", \\\"created_at\\\", \\\"modified_at\\\", \\\"first_name\\\", \\\"middle_name\\\", \\\"last_name\\\", \\\"dob\\\", \\\"agency_assoc\\\") VALUES ('c977d1f3-9c7d-45a9-9d85-b4e0c0634792'::uuid, NULL, '2020-08-15T19:26:03.207702+00:00'::timestamptz, '2020-08-15T19:26:03.207702+00:00'::timestamptz, 'Courtney', '', 'Nolan', '1980-01-12'::date, '2,')\", \"params\": [\"c977d1f3-9c7d-45a9-9d85-b4e0c0634792\", null, \"2020-08-15T19:26:03.207702+00:00\", \"2020-08-15T19:26:03.207702+00:00\", \"Courtney\", \"\", \"Nolan\", \"1980-01-12\", \"2,\"], \"@timestamp\": \"2020-08-15T19:26:03.208699\", \"level\": \"DEBUG\", \"logger\": \"django.db.backends\"}\n",
      "{\"message\": \"(0.001) INSERT INTO \\\"client\\\" (\\\"id\\\", \\\"created_by_id\\\", \\\"created_at\\\", \\\"modified_at\\\", \\\"first_name\\\", \\\"middle_name\\\", \\\"last_name\\\", \\\"dob\\\", \\\"agency_assoc\\\") VALUES ('51592f1f-d82e-4203-a04a-25c5dc655dfd'::uuid, NULL, '2020-08-15T19:26:03.210019+00:00'::timestamptz, '2020-08-15T19:26:03.210019+00:00'::timestamptz, 'Nickolas', '', 'Maxwell', '1980-05-01'::date, '4,2,'); args=(UUID('51592f1f-d82e-4203-a04a-25c5dc655dfd'), None, datetime.datetime(2020, 8, 15, 19, 26, 3, 210019, tzinfo=<UTC>), datetime.datetime(2020, 8, 15, 19, 26, 3, 210019, tzinfo=<UTC>), 'Nickolas', '', 'Maxwell', datetime.date(1980, 5, 1), '4,2,')\", \"duration\": 0.0007045989999596713, \"sql\": \"INSERT INTO \\\"client\\\" (\\\"id\\\", \\\"created_by_id\\\", \\\"created_at\\\", \\\"modified_at\\\", \\\"first_name\\\", \\\"middle_name\\\", \\\"last_name\\\", \\\"dob\\\", \\\"agency_assoc\\\") VALUES ('51592f1f-d82e-4203-a04a-25c5dc655dfd'::uuid, NULL, '2020-08-15T19:26:03.210019+00:00'::timestamptz, '2020-08-15T19:26:03.210019+00:00'::timestamptz, 'Nickolas', '', 'Maxwell', '1980-05-01'::date, '4,2,')\", \"params\": [\"51592f1f-d82e-4203-a04a-25c5dc655dfd\", null, \"2020-08-15T19:26:03.210019+00:00\", \"2020-08-15T19:26:03.210019+00:00\", \"Nickolas\", \"\", \"Maxwell\", \"1980-05-01\", \"4,2,\"], \"@timestamp\": \"2020-08-15T19:26:03.211148\", \"level\": \"DEBUG\", \"logger\": \"django.db.backends\"}\n",
      "{\"message\": \"(0.001) INSERT INTO \\\"client\\\" (\\\"id\\\", \\\"created_by_id\\\", \\\"created_at\\\", \\\"modified_at\\\", \\\"first_name\\\", \\\"middle_name\\\", \\\"last_name\\\", \\\"dob\\\", \\\"agency_assoc\\\") VALUES ('acef35bc-18fa-4441-b5cc-20fe234ae019'::uuid, NULL, '2020-08-15T19:26:03.212152+00:00'::timestamptz, '2020-08-15T19:26:03.212152+00:00'::timestamptz, 'Briley', '', 'Leach', '1983-04-05'::date, '1,2,'); args=(UUID('acef35bc-18fa-4441-b5cc-20fe234ae019'), None, datetime.datetime(2020, 8, 15, 19, 26, 3, 212152, tzinfo=<UTC>), datetime.datetime(2020, 8, 15, 19, 26, 3, 212152, tzinfo=<UTC>), 'Briley', '', 'Leach', datetime.date(1983, 4, 5), '1,2,')\", \"duration\": 0.0009707520000574732, \"sql\": \"INSERT INTO \\\"client\\\" (\\\"id\\\", \\\"created_by_id\\\", \\\"created_at\\\", \\\"modified_at\\\", \\\"first_name\\\", \\\"middle_name\\\", \\\"last_name\\\", \\\"dob\\\", \\\"agency_assoc\\\") VALUES ('acef35bc-18fa-4441-b5cc-20fe234ae019'::uuid, NULL, '2020-08-15T19:26:03.212152+00:00'::timestamptz, '2020-08-15T19:26:03.212152+00:00'::timestamptz, 'Briley', '', 'Leach', '1983-04-05'::date, '1,2,')\", \"params\": [\"acef35bc-18fa-4441-b5cc-20fe234ae019\", null, \"2020-08-15T19:26:03.212152+00:00\", \"2020-08-15T19:26:03.212152+00:00\", \"Briley\", \"\", \"Leach\", \"1983-04-05\", \"1,2,\"], \"@timestamp\": \"2020-08-15T19:26:03.213539\", \"level\": \"DEBUG\", \"logger\": \"django.db.backends\"}\n"
     ]
    },
    {
     "name": "stderr",
     "output_type": "stream",
     "text": [
      "{\"message\": \"(0.001) INSERT INTO \\\"client\\\" (\\\"id\\\", \\\"created_by_id\\\", \\\"created_at\\\", \\\"modified_at\\\", \\\"first_name\\\", \\\"middle_name\\\", \\\"last_name\\\", \\\"dob\\\", \\\"agency_assoc\\\") VALUES ('3e56fd30-2195-4617-a6fa-c83cd1bdaf8b'::uuid, NULL, '2020-08-15T19:26:03.215099+00:00'::timestamptz, '2020-08-15T19:26:03.215099+00:00'::timestamptz, 'Van', '', 'Andrews', '2001-04-01'::date, '1,5,'); args=(UUID('3e56fd30-2195-4617-a6fa-c83cd1bdaf8b'), None, datetime.datetime(2020, 8, 15, 19, 26, 3, 215099, tzinfo=<UTC>), datetime.datetime(2020, 8, 15, 19, 26, 3, 215099, tzinfo=<UTC>), 'Van', '', 'Andrews', datetime.date(2001, 4, 1), '1,5,')\", \"duration\": 0.0007638439999482216, \"sql\": \"INSERT INTO \\\"client\\\" (\\\"id\\\", \\\"created_by_id\\\", \\\"created_at\\\", \\\"modified_at\\\", \\\"first_name\\\", \\\"middle_name\\\", \\\"last_name\\\", \\\"dob\\\", \\\"agency_assoc\\\") VALUES ('3e56fd30-2195-4617-a6fa-c83cd1bdaf8b'::uuid, NULL, '2020-08-15T19:26:03.215099+00:00'::timestamptz, '2020-08-15T19:26:03.215099+00:00'::timestamptz, 'Van', '', 'Andrews', '2001-04-01'::date, '1,5,')\", \"params\": [\"3e56fd30-2195-4617-a6fa-c83cd1bdaf8b\", null, \"2020-08-15T19:26:03.215099+00:00\", \"2020-08-15T19:26:03.215099+00:00\", \"Van\", \"\", \"Andrews\", \"2001-04-01\", \"1,5,\"], \"@timestamp\": \"2020-08-15T19:26:03.216353\", \"level\": \"DEBUG\", \"logger\": \"django.db.backends\"}\n",
      "{\"message\": \"(0.001) INSERT INTO \\\"client\\\" (\\\"id\\\", \\\"created_by_id\\\", \\\"created_at\\\", \\\"modified_at\\\", \\\"first_name\\\", \\\"middle_name\\\", \\\"last_name\\\", \\\"dob\\\", \\\"agency_assoc\\\") VALUES ('51d6da2b-cc68-4515-86f9-cbaf8a44a2e6'::uuid, NULL, '2020-08-15T19:26:03.217631+00:00'::timestamptz, '2020-08-15T19:26:03.217631+00:00'::timestamptz, 'Coleman', '', 'Pace', '1988-02-19'::date, '1,'); args=(UUID('51d6da2b-cc68-4515-86f9-cbaf8a44a2e6'), None, datetime.datetime(2020, 8, 15, 19, 26, 3, 217631, tzinfo=<UTC>), datetime.datetime(2020, 8, 15, 19, 26, 3, 217631, tzinfo=<UTC>), 'Coleman', '', 'Pace', datetime.date(1988, 2, 19), '1,')\", \"duration\": 0.0007171760000801441, \"sql\": \"INSERT INTO \\\"client\\\" (\\\"id\\\", \\\"created_by_id\\\", \\\"created_at\\\", \\\"modified_at\\\", \\\"first_name\\\", \\\"middle_name\\\", \\\"last_name\\\", \\\"dob\\\", \\\"agency_assoc\\\") VALUES ('51d6da2b-cc68-4515-86f9-cbaf8a44a2e6'::uuid, NULL, '2020-08-15T19:26:03.217631+00:00'::timestamptz, '2020-08-15T19:26:03.217631+00:00'::timestamptz, 'Coleman', '', 'Pace', '1988-02-19'::date, '1,')\", \"params\": [\"51d6da2b-cc68-4515-86f9-cbaf8a44a2e6\", null, \"2020-08-15T19:26:03.217631+00:00\", \"2020-08-15T19:26:03.217631+00:00\", \"Coleman\", \"\", \"Pace\", \"1988-02-19\", \"1,\"], \"@timestamp\": \"2020-08-15T19:26:03.218831\", \"level\": \"DEBUG\", \"logger\": \"django.db.backends\"}\n",
      "{\"message\": \"(0.001) INSERT INTO \\\"client\\\" (\\\"id\\\", \\\"created_by_id\\\", \\\"created_at\\\", \\\"modified_at\\\", \\\"first_name\\\", \\\"middle_name\\\", \\\"last_name\\\", \\\"dob\\\", \\\"agency_assoc\\\") VALUES ('95fb4ed4-21a7-4429-94dc-027321d7fd2b'::uuid, NULL, '2020-08-15T19:26:03.220144+00:00'::timestamptz, '2020-08-15T19:26:03.220144+00:00'::timestamptz, 'Amya', '', 'Dominguez', '1979-05-25'::date, '2,'); args=(UUID('95fb4ed4-21a7-4429-94dc-027321d7fd2b'), None, datetime.datetime(2020, 8, 15, 19, 26, 3, 220144, tzinfo=<UTC>), datetime.datetime(2020, 8, 15, 19, 26, 3, 220144, tzinfo=<UTC>), 'Amya', '', 'Dominguez', datetime.date(1979, 5, 25), '2,')\", \"duration\": 0.000751164999996945, \"sql\": \"INSERT INTO \\\"client\\\" (\\\"id\\\", \\\"created_by_id\\\", \\\"created_at\\\", \\\"modified_at\\\", \\\"first_name\\\", \\\"middle_name\\\", \\\"last_name\\\", \\\"dob\\\", \\\"agency_assoc\\\") VALUES ('95fb4ed4-21a7-4429-94dc-027321d7fd2b'::uuid, NULL, '2020-08-15T19:26:03.220144+00:00'::timestamptz, '2020-08-15T19:26:03.220144+00:00'::timestamptz, 'Amya', '', 'Dominguez', '1979-05-25'::date, '2,')\", \"params\": [\"95fb4ed4-21a7-4429-94dc-027321d7fd2b\", null, \"2020-08-15T19:26:03.220144+00:00\", \"2020-08-15T19:26:03.220144+00:00\", \"Amya\", \"\", \"Dominguez\", \"1979-05-25\", \"2,\"], \"@timestamp\": \"2020-08-15T19:26:03.221361\", \"level\": \"DEBUG\", \"logger\": \"django.db.backends\"}\n",
      "{\"message\": \"(0.001) INSERT INTO \\\"client\\\" (\\\"id\\\", \\\"created_by_id\\\", \\\"created_at\\\", \\\"modified_at\\\", \\\"first_name\\\", \\\"middle_name\\\", \\\"last_name\\\", \\\"dob\\\", \\\"agency_assoc\\\") VALUES ('fa33f401-bd59-4869-9903-5842a4791b09'::uuid, NULL, '2020-08-15T19:26:03.222716+00:00'::timestamptz, '2020-08-15T19:26:03.222716+00:00'::timestamptz, 'Keenan', '', 'Foster', '1989-03-18'::date, '5,'); args=(UUID('fa33f401-bd59-4869-9903-5842a4791b09'), None, datetime.datetime(2020, 8, 15, 19, 26, 3, 222716, tzinfo=<UTC>), datetime.datetime(2020, 8, 15, 19, 26, 3, 222716, tzinfo=<UTC>), 'Keenan', '', 'Foster', datetime.date(1989, 3, 18), '5,')\", \"duration\": 0.0007437819999722706, \"sql\": \"INSERT INTO \\\"client\\\" (\\\"id\\\", \\\"created_by_id\\\", \\\"created_at\\\", \\\"modified_at\\\", \\\"first_name\\\", \\\"middle_name\\\", \\\"last_name\\\", \\\"dob\\\", \\\"agency_assoc\\\") VALUES ('fa33f401-bd59-4869-9903-5842a4791b09'::uuid, NULL, '2020-08-15T19:26:03.222716+00:00'::timestamptz, '2020-08-15T19:26:03.222716+00:00'::timestamptz, 'Keenan', '', 'Foster', '1989-03-18'::date, '5,')\", \"params\": [\"fa33f401-bd59-4869-9903-5842a4791b09\", null, \"2020-08-15T19:26:03.222716+00:00\", \"2020-08-15T19:26:03.222716+00:00\", \"Keenan\", \"\", \"Foster\", \"1989-03-18\", \"5,\"], \"@timestamp\": \"2020-08-15T19:26:03.223915\", \"level\": \"DEBUG\", \"logger\": \"django.db.backends\"}\n",
      "{\"message\": \"(0.001) INSERT INTO \\\"client\\\" (\\\"id\\\", \\\"created_by_id\\\", \\\"created_at\\\", \\\"modified_at\\\", \\\"first_name\\\", \\\"middle_name\\\", \\\"last_name\\\", \\\"dob\\\", \\\"agency_assoc\\\") VALUES ('0eb7b453-51f7-4f0a-9a40-63c6fd17f958'::uuid, NULL, '2020-08-15T19:26:03.225138+00:00'::timestamptz, '2020-08-15T19:26:03.225138+00:00'::timestamptz, 'Aaden', '', 'Harding', '1990-06-17'::date, '4,'); args=(UUID('0eb7b453-51f7-4f0a-9a40-63c6fd17f958'), None, datetime.datetime(2020, 8, 15, 19, 26, 3, 225138, tzinfo=<UTC>), datetime.datetime(2020, 8, 15, 19, 26, 3, 225138, tzinfo=<UTC>), 'Aaden', '', 'Harding', datetime.date(1990, 6, 17), '4,')\", \"duration\": 0.0006768569999167084, \"sql\": \"INSERT INTO \\\"client\\\" (\\\"id\\\", \\\"created_by_id\\\", \\\"created_at\\\", \\\"modified_at\\\", \\\"first_name\\\", \\\"middle_name\\\", \\\"last_name\\\", \\\"dob\\\", \\\"agency_assoc\\\") VALUES ('0eb7b453-51f7-4f0a-9a40-63c6fd17f958'::uuid, NULL, '2020-08-15T19:26:03.225138+00:00'::timestamptz, '2020-08-15T19:26:03.225138+00:00'::timestamptz, 'Aaden', '', 'Harding', '1990-06-17'::date, '4,')\", \"params\": [\"0eb7b453-51f7-4f0a-9a40-63c6fd17f958\", null, \"2020-08-15T19:26:03.225138+00:00\", \"2020-08-15T19:26:03.225138+00:00\", \"Aaden\", \"\", \"Harding\", \"1990-06-17\", \"4,\"], \"@timestamp\": \"2020-08-15T19:26:03.226211\", \"level\": \"DEBUG\", \"logger\": \"django.db.backends\"}\n",
      "{\"message\": \"(0.001) INSERT INTO \\\"client\\\" (\\\"id\\\", \\\"created_by_id\\\", \\\"created_at\\\", \\\"modified_at\\\", \\\"first_name\\\", \\\"middle_name\\\", \\\"last_name\\\", \\\"dob\\\", \\\"agency_assoc\\\") VALUES ('347e83a4-aae0-463b-9900-0ea75de52173'::uuid, NULL, '2020-08-15T19:26:03.227406+00:00'::timestamptz, '2020-08-15T19:26:03.227406+00:00'::timestamptz, 'Luciana', '', 'Kim', '2000-04-11'::date, '4,'); args=(UUID('347e83a4-aae0-463b-9900-0ea75de52173'), None, datetime.datetime(2020, 8, 15, 19, 26, 3, 227406, tzinfo=<UTC>), datetime.datetime(2020, 8, 15, 19, 26, 3, 227406, tzinfo=<UTC>), 'Luciana', '', 'Kim', datetime.date(2000, 4, 11), '4,')\", \"duration\": 0.0008020679999845015, \"sql\": \"INSERT INTO \\\"client\\\" (\\\"id\\\", \\\"created_by_id\\\", \\\"created_at\\\", \\\"modified_at\\\", \\\"first_name\\\", \\\"middle_name\\\", \\\"last_name\\\", \\\"dob\\\", \\\"agency_assoc\\\") VALUES ('347e83a4-aae0-463b-9900-0ea75de52173'::uuid, NULL, '2020-08-15T19:26:03.227406+00:00'::timestamptz, '2020-08-15T19:26:03.227406+00:00'::timestamptz, 'Luciana', '', 'Kim', '2000-04-11'::date, '4,')\", \"params\": [\"347e83a4-aae0-463b-9900-0ea75de52173\", null, \"2020-08-15T19:26:03.227406+00:00\", \"2020-08-15T19:26:03.227406+00:00\", \"Luciana\", \"\", \"Kim\", \"2000-04-11\", \"4,\"], \"@timestamp\": \"2020-08-15T19:26:03.228674\", \"level\": \"DEBUG\", \"logger\": \"django.db.backends\"}\n",
      "{\"message\": \"(0.001) INSERT INTO \\\"client\\\" (\\\"id\\\", \\\"created_by_id\\\", \\\"created_at\\\", \\\"modified_at\\\", \\\"first_name\\\", \\\"middle_name\\\", \\\"last_name\\\", \\\"dob\\\", \\\"agency_assoc\\\") VALUES ('ebd6f2f6-bec7-461e-b700-fd2e520199c2'::uuid, NULL, '2020-08-15T19:26:03.230164+00:00'::timestamptz, '2020-08-15T19:26:03.230164+00:00'::timestamptz, 'Kaylin', '', 'Daniel', '1992-06-08'::date, '3,'); args=(UUID('ebd6f2f6-bec7-461e-b700-fd2e520199c2'), None, datetime.datetime(2020, 8, 15, 19, 26, 3, 230164, tzinfo=<UTC>), datetime.datetime(2020, 8, 15, 19, 26, 3, 230164, tzinfo=<UTC>), 'Kaylin', '', 'Daniel', datetime.date(1992, 6, 8), '3,')\", \"duration\": 0.0006846320000022388, \"sql\": \"INSERT INTO \\\"client\\\" (\\\"id\\\", \\\"created_by_id\\\", \\\"created_at\\\", \\\"modified_at\\\", \\\"first_name\\\", \\\"middle_name\\\", \\\"last_name\\\", \\\"dob\\\", \\\"agency_assoc\\\") VALUES ('ebd6f2f6-bec7-461e-b700-fd2e520199c2'::uuid, NULL, '2020-08-15T19:26:03.230164+00:00'::timestamptz, '2020-08-15T19:26:03.230164+00:00'::timestamptz, 'Kaylin', '', 'Daniel', '1992-06-08'::date, '3,')\", \"params\": [\"ebd6f2f6-bec7-461e-b700-fd2e520199c2\", null, \"2020-08-15T19:26:03.230164+00:00\", \"2020-08-15T19:26:03.230164+00:00\", \"Kaylin\", \"\", \"Daniel\", \"1992-06-08\", \"3,\"], \"@timestamp\": \"2020-08-15T19:26:03.231268\", \"level\": \"DEBUG\", \"logger\": \"django.db.backends\"}\n"
     ]
    },
    {
     "name": "stderr",
     "output_type": "stream",
     "text": [
      "{\"message\": \"(0.001) INSERT INTO \\\"client\\\" (\\\"id\\\", \\\"created_by_id\\\", \\\"created_at\\\", \\\"modified_at\\\", \\\"first_name\\\", \\\"middle_name\\\", \\\"last_name\\\", \\\"dob\\\", \\\"agency_assoc\\\") VALUES ('60d51965-b0e4-404a-b592-2dea143ccbaa'::uuid, NULL, '2020-08-15T19:26:03.232338+00:00'::timestamptz, '2020-08-15T19:26:03.232338+00:00'::timestamptz, 'Miguel', '', 'Mcintyre', '1987-06-21'::date, '3,'); args=(UUID('60d51965-b0e4-404a-b592-2dea143ccbaa'), None, datetime.datetime(2020, 8, 15, 19, 26, 3, 232338, tzinfo=<UTC>), datetime.datetime(2020, 8, 15, 19, 26, 3, 232338, tzinfo=<UTC>), 'Miguel', '', 'Mcintyre', datetime.date(1987, 6, 21), '3,')\", \"duration\": 0.0007064269999546013, \"sql\": \"INSERT INTO \\\"client\\\" (\\\"id\\\", \\\"created_by_id\\\", \\\"created_at\\\", \\\"modified_at\\\", \\\"first_name\\\", \\\"middle_name\\\", \\\"last_name\\\", \\\"dob\\\", \\\"agency_assoc\\\") VALUES ('60d51965-b0e4-404a-b592-2dea143ccbaa'::uuid, NULL, '2020-08-15T19:26:03.232338+00:00'::timestamptz, '2020-08-15T19:26:03.232338+00:00'::timestamptz, 'Miguel', '', 'Mcintyre', '1987-06-21'::date, '3,')\", \"params\": [\"60d51965-b0e4-404a-b592-2dea143ccbaa\", null, \"2020-08-15T19:26:03.232338+00:00\", \"2020-08-15T19:26:03.232338+00:00\", \"Miguel\", \"\", \"Mcintyre\", \"1987-06-21\", \"3,\"], \"@timestamp\": \"2020-08-15T19:26:03.233479\", \"level\": \"DEBUG\", \"logger\": \"django.db.backends\"}\n",
      "{\"message\": \"(0.001) INSERT INTO \\\"client\\\" (\\\"id\\\", \\\"created_by_id\\\", \\\"created_at\\\", \\\"modified_at\\\", \\\"first_name\\\", \\\"middle_name\\\", \\\"last_name\\\", \\\"dob\\\", \\\"agency_assoc\\\") VALUES ('2c42348e-959d-44a1-9b4c-7263c109a945'::uuid, NULL, '2020-08-15T19:26:03.234491+00:00'::timestamptz, '2020-08-15T19:26:03.234491+00:00'::timestamptz, 'Marlene', '', 'Ibarra', '1984-03-18'::date, '4,'); args=(UUID('2c42348e-959d-44a1-9b4c-7263c109a945'), None, datetime.datetime(2020, 8, 15, 19, 26, 3, 234491, tzinfo=<UTC>), datetime.datetime(2020, 8, 15, 19, 26, 3, 234491, tzinfo=<UTC>), 'Marlene', '', 'Ibarra', datetime.date(1984, 3, 18), '4,')\", \"duration\": 0.0006785369999988689, \"sql\": \"INSERT INTO \\\"client\\\" (\\\"id\\\", \\\"created_by_id\\\", \\\"created_at\\\", \\\"modified_at\\\", \\\"first_name\\\", \\\"middle_name\\\", \\\"last_name\\\", \\\"dob\\\", \\\"agency_assoc\\\") VALUES ('2c42348e-959d-44a1-9b4c-7263c109a945'::uuid, NULL, '2020-08-15T19:26:03.234491+00:00'::timestamptz, '2020-08-15T19:26:03.234491+00:00'::timestamptz, 'Marlene', '', 'Ibarra', '1984-03-18'::date, '4,')\", \"params\": [\"2c42348e-959d-44a1-9b4c-7263c109a945\", null, \"2020-08-15T19:26:03.234491+00:00\", \"2020-08-15T19:26:03.234491+00:00\", \"Marlene\", \"\", \"Ibarra\", \"1984-03-18\", \"4,\"], \"@timestamp\": \"2020-08-15T19:26:03.235559\", \"level\": \"DEBUG\", \"logger\": \"django.db.backends\"}\n",
      "{\"message\": \"(0.001) INSERT INTO \\\"client\\\" (\\\"id\\\", \\\"created_by_id\\\", \\\"created_at\\\", \\\"modified_at\\\", \\\"first_name\\\", \\\"middle_name\\\", \\\"last_name\\\", \\\"dob\\\", \\\"agency_assoc\\\") VALUES ('106e71bd-829a-4480-bd85-aec0f6bde1bb'::uuid, NULL, '2020-08-15T19:26:03.236638+00:00'::timestamptz, '2020-08-15T19:26:03.236638+00:00'::timestamptz, 'Rihanna', '', 'Ferrell', '1987-02-23'::date, '4,1,2,3,'); args=(UUID('106e71bd-829a-4480-bd85-aec0f6bde1bb'), None, datetime.datetime(2020, 8, 15, 19, 26, 3, 236638, tzinfo=<UTC>), datetime.datetime(2020, 8, 15, 19, 26, 3, 236638, tzinfo=<UTC>), 'Rihanna', '', 'Ferrell', datetime.date(1987, 2, 23), '4,1,2,3,')\", \"duration\": 0.000651646000051187, \"sql\": \"INSERT INTO \\\"client\\\" (\\\"id\\\", \\\"created_by_id\\\", \\\"created_at\\\", \\\"modified_at\\\", \\\"first_name\\\", \\\"middle_name\\\", \\\"last_name\\\", \\\"dob\\\", \\\"agency_assoc\\\") VALUES ('106e71bd-829a-4480-bd85-aec0f6bde1bb'::uuid, NULL, '2020-08-15T19:26:03.236638+00:00'::timestamptz, '2020-08-15T19:26:03.236638+00:00'::timestamptz, 'Rihanna', '', 'Ferrell', '1987-02-23'::date, '4,1,2,3,')\", \"params\": [\"106e71bd-829a-4480-bd85-aec0f6bde1bb\", null, \"2020-08-15T19:26:03.236638+00:00\", \"2020-08-15T19:26:03.236638+00:00\", \"Rihanna\", \"\", \"Ferrell\", \"1987-02-23\", \"4,1,2,3,\"], \"@timestamp\": \"2020-08-15T19:26:03.237705\", \"level\": \"DEBUG\", \"logger\": \"django.db.backends\"}\n",
      "{\"message\": \"(0.001) INSERT INTO \\\"client\\\" (\\\"id\\\", \\\"created_by_id\\\", \\\"created_at\\\", \\\"modified_at\\\", \\\"first_name\\\", \\\"middle_name\\\", \\\"last_name\\\", \\\"dob\\\", \\\"agency_assoc\\\") VALUES ('cf8364b5-5daa-48ef-88a6-b31005eb2cd8'::uuid, NULL, '2020-08-15T19:26:03.238760+00:00'::timestamptz, '2020-08-15T19:26:03.238760+00:00'::timestamptz, 'Perla', '', 'Kaiser', '1995-04-03'::date, '5,'); args=(UUID('cf8364b5-5daa-48ef-88a6-b31005eb2cd8'), None, datetime.datetime(2020, 8, 15, 19, 26, 3, 238760, tzinfo=<UTC>), datetime.datetime(2020, 8, 15, 19, 26, 3, 238760, tzinfo=<UTC>), 'Perla', '', 'Kaiser', datetime.date(1995, 4, 3), '5,')\", \"duration\": 0.0007652350000171282, \"sql\": \"INSERT INTO \\\"client\\\" (\\\"id\\\", \\\"created_by_id\\\", \\\"created_at\\\", \\\"modified_at\\\", \\\"first_name\\\", \\\"middle_name\\\", \\\"last_name\\\", \\\"dob\\\", \\\"agency_assoc\\\") VALUES ('cf8364b5-5daa-48ef-88a6-b31005eb2cd8'::uuid, NULL, '2020-08-15T19:26:03.238760+00:00'::timestamptz, '2020-08-15T19:26:03.238760+00:00'::timestamptz, 'Perla', '', 'Kaiser', '1995-04-03'::date, '5,')\", \"params\": [\"cf8364b5-5daa-48ef-88a6-b31005eb2cd8\", null, \"2020-08-15T19:26:03.238760+00:00\", \"2020-08-15T19:26:03.238760+00:00\", \"Perla\", \"\", \"Kaiser\", \"1995-04-03\", \"5,\"], \"@timestamp\": \"2020-08-15T19:26:03.239903\", \"level\": \"DEBUG\", \"logger\": \"django.db.backends\"}\n",
      "{\"message\": \"(0.001) INSERT INTO \\\"client\\\" (\\\"id\\\", \\\"created_by_id\\\", \\\"created_at\\\", \\\"modified_at\\\", \\\"first_name\\\", \\\"middle_name\\\", \\\"last_name\\\", \\\"dob\\\", \\\"agency_assoc\\\") VALUES ('a9a2ab75-57a5-4649-8fab-abbd31db1319'::uuid, NULL, '2020-08-15T19:26:03.240991+00:00'::timestamptz, '2020-08-15T19:26:03.240991+00:00'::timestamptz, 'Zachery', '', 'Morton', '1983-06-09'::date, '2,4,'); args=(UUID('a9a2ab75-57a5-4649-8fab-abbd31db1319'), None, datetime.datetime(2020, 8, 15, 19, 26, 3, 240991, tzinfo=<UTC>), datetime.datetime(2020, 8, 15, 19, 26, 3, 240991, tzinfo=<UTC>), 'Zachery', '', 'Morton', datetime.date(1983, 6, 9), '2,4,')\", \"duration\": 0.0007293339999705495, \"sql\": \"INSERT INTO \\\"client\\\" (\\\"id\\\", \\\"created_by_id\\\", \\\"created_at\\\", \\\"modified_at\\\", \\\"first_name\\\", \\\"middle_name\\\", \\\"last_name\\\", \\\"dob\\\", \\\"agency_assoc\\\") VALUES ('a9a2ab75-57a5-4649-8fab-abbd31db1319'::uuid, NULL, '2020-08-15T19:26:03.240991+00:00'::timestamptz, '2020-08-15T19:26:03.240991+00:00'::timestamptz, 'Zachery', '', 'Morton', '1983-06-09'::date, '2,4,')\", \"params\": [\"a9a2ab75-57a5-4649-8fab-abbd31db1319\", null, \"2020-08-15T19:26:03.240991+00:00\", \"2020-08-15T19:26:03.240991+00:00\", \"Zachery\", \"\", \"Morton\", \"1983-06-09\", \"2,4,\"], \"@timestamp\": \"2020-08-15T19:26:03.242107\", \"level\": \"DEBUG\", \"logger\": \"django.db.backends\"}\n"
     ]
    }
   ],
   "source": [
    "# Get a list of current ref_ids of existing agencies\n",
    "cur_clients = [c.first_name+c.last_name for c in Client.objects.all()]\n",
    "\n",
    "# For each entry in the client example data dataframe\n",
    "# Add the entry, if the client does not exist (to prevent dups \n",
    "# in testing data)\n",
    "for idx in dfs[t_table].index:\n",
    "    client_ider = dfs[t_table].loc[idx,'first_name']+dfs[t_table].loc[idx,'last_name']\n",
    "    if client_ider not in cur_clients:\n",
    "        c = Client(first_name=dfs[t_table].loc[idx,'first_name'].strip(),\n",
    "                   last_name=dfs[t_table].loc[idx,'last_name'].strip(),\n",
    "                   dob=dfs[t_table].loc[idx,'dob'],\n",
    "                   agency_assoc=dfs[t_table].loc[idx,'agency_assoc']\n",
    "                )\n",
    "        c.save()\n",
    "        "
   ]
  },
  {
   "cell_type": "markdown",
   "metadata": {},
   "source": [
    "### View the new model dataset"
   ]
  },
  {
   "cell_type": "code",
   "execution_count": 43,
   "metadata": {
    "ExecuteTime": {
     "end_time": "2020-08-15T19:27:39.100476Z",
     "start_time": "2020-08-15T19:27:39.094122Z"
    }
   },
   "outputs": [
    {
     "name": "stderr",
     "output_type": "stream",
     "text": [
      "{\"message\": \"(0.001) SELECT \\\"client\\\".\\\"id\\\", \\\"client\\\".\\\"created_by_id\\\", \\\"client\\\".\\\"created_at\\\", \\\"client\\\".\\\"modified_at\\\", \\\"client\\\".\\\"first_name\\\", \\\"client\\\".\\\"middle_name\\\", \\\"client\\\".\\\"last_name\\\", \\\"client\\\".\\\"dob\\\", \\\"client\\\".\\\"agency_assoc\\\" FROM \\\"client\\\" ORDER BY \\\"client\\\".\\\"created_at\\\" DESC LIMIT 21; args=()\", \"duration\": 0.0012902600000188613, \"sql\": \"SELECT \\\"client\\\".\\\"id\\\", \\\"client\\\".\\\"created_by_id\\\", \\\"client\\\".\\\"created_at\\\", \\\"client\\\".\\\"modified_at\\\", \\\"client\\\".\\\"first_name\\\", \\\"client\\\".\\\"middle_name\\\", \\\"client\\\".\\\"last_name\\\", \\\"client\\\".\\\"dob\\\", \\\"client\\\".\\\"agency_assoc\\\" FROM \\\"client\\\" ORDER BY \\\"client\\\".\\\"created_at\\\" DESC LIMIT 21\", \"params\": [], \"@timestamp\": \"2020-08-15T19:27:39.096624\", \"level\": \"DEBUG\", \"logger\": \"django.db.backends\"}\n"
     ]
    },
    {
     "name": "stdout",
     "output_type": "stream",
     "text": [
      "<bound method QuerySet.values_list of <QuerySet [<Client: Zachery Morton>, <Client: Perla Kaiser>, <Client: Rihanna Ferrell>, <Client: Marlene Ibarra>, <Client: Miguel Mcintyre>, <Client: Kaylin Daniel>, <Client: Luciana Kim>, <Client: Aaden Harding>, <Client: Keenan Foster>, <Client: Amya Dominguez>, <Client: Coleman Pace>, <Client: Van Andrews>, <Client: Briley Leach>, <Client: Nickolas Maxwell>, <Client: Courtney Nolan>, <Client: Amya Flowers>, <Client: Khalil Farley>, <Client: Layla Diaz>, <Client: Trent Carpenter>, <Client: Warren Aguirre>, '...(remaining elements truncated)...']>>\n"
     ]
    }
   ],
   "source": [
    "# Retrieve data from the agency object\n",
    "print(Client.objects.all().values_list)\n"
   ]
  },
  {
   "cell_type": "markdown",
   "metadata": {},
   "source": [
    "## Add data to the Agency-client model\n",
    "\n",
    "In this section, we use the `agency_assoc` field to add data to the AgencyClient model.\n",
    "\n",
    "Notes\n",
    "\n",
    "- This first section adds data by using the dataframe's `agency_assoc` field to create entries to the `agency.AgencyClient` model.\n"
   ]
  },
  {
   "cell_type": "code",
   "execution_count": 44,
   "metadata": {
    "ExecuteTime": {
     "end_time": "2020-08-15T19:27:56.580598Z",
     "start_time": "2020-08-15T19:27:56.350534Z"
    },
    "scrolled": true
   },
   "outputs": [
    {
     "name": "stderr",
     "output_type": "stream",
     "text": [
      "{\"message\": \"(0.001) SELECT \\\"client\\\".\\\"id\\\", \\\"client\\\".\\\"created_by_id\\\", \\\"client\\\".\\\"created_at\\\", \\\"client\\\".\\\"modified_at\\\", \\\"client\\\".\\\"first_name\\\", \\\"client\\\".\\\"middle_name\\\", \\\"client\\\".\\\"last_name\\\", \\\"client\\\".\\\"dob\\\", \\\"client\\\".\\\"agency_assoc\\\" FROM \\\"client\\\" ORDER BY \\\"client\\\".\\\"created_at\\\" DESC; args=()\", \"duration\": 0.001472831999990376, \"sql\": \"SELECT \\\"client\\\".\\\"id\\\", \\\"client\\\".\\\"created_by_id\\\", \\\"client\\\".\\\"created_at\\\", \\\"client\\\".\\\"modified_at\\\", \\\"client\\\".\\\"first_name\\\", \\\"client\\\".\\\"middle_name\\\", \\\"client\\\".\\\"last_name\\\", \\\"client\\\".\\\"dob\\\", \\\"client\\\".\\\"agency_assoc\\\" FROM \\\"client\\\" ORDER BY \\\"client\\\".\\\"created_at\\\" DESC\", \"params\": [], \"@timestamp\": \"2020-08-15T19:27:56.401949\", \"level\": \"DEBUG\", \"logger\": \"django.db.backends\"}\n",
      "{\"message\": \"(0.001) SELECT \\\"agency_client\\\".\\\"id\\\", \\\"agency_client\\\".\\\"client_id\\\", \\\"agency_client\\\".\\\"agency_ref\\\", \\\"agency_client\\\".\\\"desc\\\" FROM \\\"agency_client\\\"; args=()\", \"duration\": 0.001018239000018184, \"sql\": \"SELECT \\\"agency_client\\\".\\\"id\\\", \\\"agency_client\\\".\\\"client_id\\\", \\\"agency_client\\\".\\\"agency_ref\\\", \\\"agency_client\\\".\\\"desc\\\" FROM \\\"agency_client\\\"\", \"params\": [], \"@timestamp\": \"2020-08-15T19:27:56.404681\", \"level\": \"DEBUG\", \"logger\": \"django.db.backends\"}\n",
      "{\"message\": \"(0.001) SELECT \\\"agency\\\".\\\"id\\\", \\\"agency\\\".\\\"created_by_id\\\", \\\"agency\\\".\\\"created_at\\\", \\\"agency\\\".\\\"modified_at\\\", \\\"agency\\\".\\\"name\\\", \\\"agency\\\".\\\"ref_id\\\" FROM \\\"agency\\\" WHERE \\\"agency\\\".\\\"ref_id\\\" = 2 LIMIT 21; args=(2,)\", \"duration\": 0.0008790330000465474, \"sql\": \"SELECT \\\"agency\\\".\\\"id\\\", \\\"agency\\\".\\\"created_by_id\\\", \\\"agency\\\".\\\"created_at\\\", \\\"agency\\\".\\\"modified_at\\\", \\\"agency\\\".\\\"name\\\", \\\"agency\\\".\\\"ref_id\\\" FROM \\\"agency\\\" WHERE \\\"agency\\\".\\\"ref_id\\\" = 2 LIMIT 21\", \"params\": [2], \"@timestamp\": \"2020-08-15T19:27:56.407536\", \"level\": \"DEBUG\", \"logger\": \"django.db.backends\"}\n",
      "{\"message\": \"(0.000) SELECT \\\"agency\\\".\\\"id\\\", \\\"agency\\\".\\\"created_by_id\\\", \\\"agency\\\".\\\"created_at\\\", \\\"agency\\\".\\\"modified_at\\\", \\\"agency\\\".\\\"name\\\", \\\"agency\\\".\\\"ref_id\\\" FROM \\\"agency\\\" WHERE \\\"agency\\\".\\\"ref_id\\\" = 4 LIMIT 21; args=(4,)\", \"duration\": 0.00048325399995974294, \"sql\": \"SELECT \\\"agency\\\".\\\"id\\\", \\\"agency\\\".\\\"created_by_id\\\", \\\"agency\\\".\\\"created_at\\\", \\\"agency\\\".\\\"modified_at\\\", \\\"agency\\\".\\\"name\\\", \\\"agency\\\".\\\"ref_id\\\" FROM \\\"agency\\\" WHERE \\\"agency\\\".\\\"ref_id\\\" = 4 LIMIT 21\", \"params\": [4], \"@timestamp\": \"2020-08-15T19:27:56.409640\", \"level\": \"DEBUG\", \"logger\": \"django.db.backends\"}\n",
      "{\"message\": \"(0.001) SELECT \\\"agency\\\".\\\"id\\\", \\\"agency\\\".\\\"created_by_id\\\", \\\"agency\\\".\\\"created_at\\\", \\\"agency\\\".\\\"modified_at\\\", \\\"agency\\\".\\\"name\\\", \\\"agency\\\".\\\"ref_id\\\" FROM \\\"agency\\\" WHERE \\\"agency\\\".\\\"ref_id\\\" = 5 LIMIT 21; args=(5,)\", \"duration\": 0.0009085949999416698, \"sql\": \"SELECT \\\"agency\\\".\\\"id\\\", \\\"agency\\\".\\\"created_by_id\\\", \\\"agency\\\".\\\"created_at\\\", \\\"agency\\\".\\\"modified_at\\\", \\\"agency\\\".\\\"name\\\", \\\"agency\\\".\\\"ref_id\\\" FROM \\\"agency\\\" WHERE \\\"agency\\\".\\\"ref_id\\\" = 5 LIMIT 21\", \"params\": [5], \"@timestamp\": \"2020-08-15T19:27:56.412716\", \"level\": \"DEBUG\", \"logger\": \"django.db.backends\"}\n",
      "{\"message\": \"(0.001) SELECT \\\"agency\\\".\\\"id\\\", \\\"agency\\\".\\\"created_by_id\\\", \\\"agency\\\".\\\"created_at\\\", \\\"agency\\\".\\\"modified_at\\\", \\\"agency\\\".\\\"name\\\", \\\"agency\\\".\\\"ref_id\\\" FROM \\\"agency\\\" WHERE \\\"agency\\\".\\\"ref_id\\\" = 4 LIMIT 21; args=(4,)\", \"duration\": 0.001161343000035231, \"sql\": \"SELECT \\\"agency\\\".\\\"id\\\", \\\"agency\\\".\\\"created_by_id\\\", \\\"agency\\\".\\\"created_at\\\", \\\"agency\\\".\\\"modified_at\\\", \\\"agency\\\".\\\"name\\\", \\\"agency\\\".\\\"ref_id\\\" FROM \\\"agency\\\" WHERE \\\"agency\\\".\\\"ref_id\\\" = 4 LIMIT 21\", \"params\": [4], \"@timestamp\": \"2020-08-15T19:27:56.415689\", \"level\": \"DEBUG\", \"logger\": \"django.db.backends\"}\n",
      "{\"message\": \"(0.000) SELECT \\\"agency\\\".\\\"id\\\", \\\"agency\\\".\\\"created_by_id\\\", \\\"agency\\\".\\\"created_at\\\", \\\"agency\\\".\\\"modified_at\\\", \\\"agency\\\".\\\"name\\\", \\\"agency\\\".\\\"ref_id\\\" FROM \\\"agency\\\" WHERE \\\"agency\\\".\\\"ref_id\\\" = 1 LIMIT 21; args=(1,)\", \"duration\": 0.0004002849999551472, \"sql\": \"SELECT \\\"agency\\\".\\\"id\\\", \\\"agency\\\".\\\"created_by_id\\\", \\\"agency\\\".\\\"created_at\\\", \\\"agency\\\".\\\"modified_at\\\", \\\"agency\\\".\\\"name\\\", \\\"agency\\\".\\\"ref_id\\\" FROM \\\"agency\\\" WHERE \\\"agency\\\".\\\"ref_id\\\" = 1 LIMIT 21\", \"params\": [1], \"@timestamp\": \"2020-08-15T19:27:56.417785\", \"level\": \"DEBUG\", \"logger\": \"django.db.backends\"}\n",
      "{\"message\": \"(0.000) SELECT \\\"agency\\\".\\\"id\\\", \\\"agency\\\".\\\"created_by_id\\\", \\\"agency\\\".\\\"created_at\\\", \\\"agency\\\".\\\"modified_at\\\", \\\"agency\\\".\\\"name\\\", \\\"agency\\\".\\\"ref_id\\\" FROM \\\"agency\\\" WHERE \\\"agency\\\".\\\"ref_id\\\" = 2 LIMIT 21; args=(2,)\", \"duration\": 0.00045041199996376236, \"sql\": \"SELECT \\\"agency\\\".\\\"id\\\", \\\"agency\\\".\\\"created_by_id\\\", \\\"agency\\\".\\\"created_at\\\", \\\"agency\\\".\\\"modified_at\\\", \\\"agency\\\".\\\"name\\\", \\\"agency\\\".\\\"ref_id\\\" FROM \\\"agency\\\" WHERE \\\"agency\\\".\\\"ref_id\\\" = 2 LIMIT 21\", \"params\": [2], \"@timestamp\": \"2020-08-15T19:27:56.419847\", \"level\": \"DEBUG\", \"logger\": \"django.db.backends\"}\n",
      "{\"message\": \"(0.001) SELECT \\\"agency\\\".\\\"id\\\", \\\"agency\\\".\\\"created_by_id\\\", \\\"agency\\\".\\\"created_at\\\", \\\"agency\\\".\\\"modified_at\\\", \\\"agency\\\".\\\"name\\\", \\\"agency\\\".\\\"ref_id\\\" FROM \\\"agency\\\" WHERE \\\"agency\\\".\\\"ref_id\\\" = 3 LIMIT 21; args=(3,)\", \"duration\": 0.000691488999905232, \"sql\": \"SELECT \\\"agency\\\".\\\"id\\\", \\\"agency\\\".\\\"created_by_id\\\", \\\"agency\\\".\\\"created_at\\\", \\\"agency\\\".\\\"modified_at\\\", \\\"agency\\\".\\\"name\\\", \\\"agency\\\".\\\"ref_id\\\" FROM \\\"agency\\\" WHERE \\\"agency\\\".\\\"ref_id\\\" = 3 LIMIT 21\", \"params\": [3], \"@timestamp\": \"2020-08-15T19:27:56.422453\", \"level\": \"DEBUG\", \"logger\": \"django.db.backends\"}\n",
      "{\"message\": \"(0.000) SELECT \\\"agency\\\".\\\"id\\\", \\\"agency\\\".\\\"created_by_id\\\", \\\"agency\\\".\\\"created_at\\\", \\\"agency\\\".\\\"modified_at\\\", \\\"agency\\\".\\\"name\\\", \\\"agency\\\".\\\"ref_id\\\" FROM \\\"agency\\\" WHERE \\\"agency\\\".\\\"ref_id\\\" = 4 LIMIT 21; args=(4,)\", \"duration\": 0.0003276569999570711, \"sql\": \"SELECT \\\"agency\\\".\\\"id\\\", \\\"agency\\\".\\\"created_by_id\\\", \\\"agency\\\".\\\"created_at\\\", \\\"agency\\\".\\\"modified_at\\\", \\\"agency\\\".\\\"name\\\", \\\"agency\\\".\\\"ref_id\\\" FROM \\\"agency\\\" WHERE \\\"agency\\\".\\\"ref_id\\\" = 4 LIMIT 21\", \"params\": [4], \"@timestamp\": \"2020-08-15T19:27:56.424519\", \"level\": \"DEBUG\", \"logger\": \"django.db.backends\"}\n",
      "{\"message\": \"(0.000) SELECT \\\"agency\\\".\\\"id\\\", \\\"agency\\\".\\\"created_by_id\\\", \\\"agency\\\".\\\"created_at\\\", \\\"agency\\\".\\\"modified_at\\\", \\\"agency\\\".\\\"name\\\", \\\"agency\\\".\\\"ref_id\\\" FROM \\\"agency\\\" WHERE \\\"agency\\\".\\\"ref_id\\\" = 3 LIMIT 21; args=(3,)\", \"duration\": 0.00039635899997847446, \"sql\": \"SELECT \\\"agency\\\".\\\"id\\\", \\\"agency\\\".\\\"created_by_id\\\", \\\"agency\\\".\\\"created_at\\\", \\\"agency\\\".\\\"modified_at\\\", \\\"agency\\\".\\\"name\\\", \\\"agency\\\".\\\"ref_id\\\" FROM \\\"agency\\\" WHERE \\\"agency\\\".\\\"ref_id\\\" = 3 LIMIT 21\", \"params\": [3], \"@timestamp\": \"2020-08-15T19:27:56.426519\", \"level\": \"DEBUG\", \"logger\": \"django.db.backends\"}\n",
      "{\"message\": \"(0.000) SELECT \\\"agency\\\".\\\"id\\\", \\\"agency\\\".\\\"created_by_id\\\", \\\"agency\\\".\\\"created_at\\\", \\\"agency\\\".\\\"modified_at\\\", \\\"agency\\\".\\\"name\\\", \\\"agency\\\".\\\"ref_id\\\" FROM \\\"agency\\\" WHERE \\\"agency\\\".\\\"ref_id\\\" = 3 LIMIT 21; args=(3,)\", \"duration\": 0.0004352419999804624, \"sql\": \"SELECT \\\"agency\\\".\\\"id\\\", \\\"agency\\\".\\\"created_by_id\\\", \\\"agency\\\".\\\"created_at\\\", \\\"agency\\\".\\\"modified_at\\\", \\\"agency\\\".\\\"name\\\", \\\"agency\\\".\\\"ref_id\\\" FROM \\\"agency\\\" WHERE \\\"agency\\\".\\\"ref_id\\\" = 3 LIMIT 21\", \"params\": [3], \"@timestamp\": \"2020-08-15T19:27:56.428764\", \"level\": \"DEBUG\", \"logger\": \"django.db.backends\"}\n",
      "{\"message\": \"(0.000) SELECT \\\"agency\\\".\\\"id\\\", \\\"agency\\\".\\\"created_by_id\\\", \\\"agency\\\".\\\"created_at\\\", \\\"agency\\\".\\\"modified_at\\\", \\\"agency\\\".\\\"name\\\", \\\"agency\\\".\\\"ref_id\\\" FROM \\\"agency\\\" WHERE \\\"agency\\\".\\\"ref_id\\\" = 4 LIMIT 21; args=(4,)\", \"duration\": 0.0003214689999140319, \"sql\": \"SELECT \\\"agency\\\".\\\"id\\\", \\\"agency\\\".\\\"created_by_id\\\", \\\"agency\\\".\\\"created_at\\\", \\\"agency\\\".\\\"modified_at\\\", \\\"agency\\\".\\\"name\\\", \\\"agency\\\".\\\"ref_id\\\" FROM \\\"agency\\\" WHERE \\\"agency\\\".\\\"ref_id\\\" = 4 LIMIT 21\", \"params\": [4], \"@timestamp\": \"2020-08-15T19:27:56.430679\", \"level\": \"DEBUG\", \"logger\": \"django.db.backends\"}\n",
      "{\"message\": \"(0.000) SELECT \\\"agency\\\".\\\"id\\\", \\\"agency\\\".\\\"created_by_id\\\", \\\"agency\\\".\\\"created_at\\\", \\\"agency\\\".\\\"modified_at\\\", \\\"agency\\\".\\\"name\\\", \\\"agency\\\".\\\"ref_id\\\" FROM \\\"agency\\\" WHERE \\\"agency\\\".\\\"ref_id\\\" = 4 LIMIT 21; args=(4,)\", \"duration\": 0.00038939299997764465, \"sql\": \"SELECT \\\"agency\\\".\\\"id\\\", \\\"agency\\\".\\\"created_by_id\\\", \\\"agency\\\".\\\"created_at\\\", \\\"agency\\\".\\\"modified_at\\\", \\\"agency\\\".\\\"name\\\", \\\"agency\\\".\\\"ref_id\\\" FROM \\\"agency\\\" WHERE \\\"agency\\\".\\\"ref_id\\\" = 4 LIMIT 21\", \"params\": [4], \"@timestamp\": \"2020-08-15T19:27:56.432644\", \"level\": \"DEBUG\", \"logger\": \"django.db.backends\"}\n"
     ]
    },
    {
     "name": "stderr",
     "output_type": "stream",
     "text": [
      "{\"message\": \"(0.000) SELECT \\\"agency\\\".\\\"id\\\", \\\"agency\\\".\\\"created_by_id\\\", \\\"agency\\\".\\\"created_at\\\", \\\"agency\\\".\\\"modified_at\\\", \\\"agency\\\".\\\"name\\\", \\\"agency\\\".\\\"ref_id\\\" FROM \\\"agency\\\" WHERE \\\"agency\\\".\\\"ref_id\\\" = 5 LIMIT 21; args=(5,)\", \"duration\": 0.0003960390000656844, \"sql\": \"SELECT \\\"agency\\\".\\\"id\\\", \\\"agency\\\".\\\"created_by_id\\\", \\\"agency\\\".\\\"created_at\\\", \\\"agency\\\".\\\"modified_at\\\", \\\"agency\\\".\\\"name\\\", \\\"agency\\\".\\\"ref_id\\\" FROM \\\"agency\\\" WHERE \\\"agency\\\".\\\"ref_id\\\" = 5 LIMIT 21\", \"params\": [5], \"@timestamp\": \"2020-08-15T19:27:56.434640\", \"level\": \"DEBUG\", \"logger\": \"django.db.backends\"}\n",
      "{\"message\": \"(0.000) SELECT \\\"agency\\\".\\\"id\\\", \\\"agency\\\".\\\"created_by_id\\\", \\\"agency\\\".\\\"created_at\\\", \\\"agency\\\".\\\"modified_at\\\", \\\"agency\\\".\\\"name\\\", \\\"agency\\\".\\\"ref_id\\\" FROM \\\"agency\\\" WHERE \\\"agency\\\".\\\"ref_id\\\" = 2 LIMIT 21; args=(2,)\", \"duration\": 0.00044241900002361945, \"sql\": \"SELECT \\\"agency\\\".\\\"id\\\", \\\"agency\\\".\\\"created_by_id\\\", \\\"agency\\\".\\\"created_at\\\", \\\"agency\\\".\\\"modified_at\\\", \\\"agency\\\".\\\"name\\\", \\\"agency\\\".\\\"ref_id\\\" FROM \\\"agency\\\" WHERE \\\"agency\\\".\\\"ref_id\\\" = 2 LIMIT 21\", \"params\": [2], \"@timestamp\": \"2020-08-15T19:27:56.436661\", \"level\": \"DEBUG\", \"logger\": \"django.db.backends\"}\n",
      "{\"message\": \"(0.000) SELECT \\\"agency\\\".\\\"id\\\", \\\"agency\\\".\\\"created_by_id\\\", \\\"agency\\\".\\\"created_at\\\", \\\"agency\\\".\\\"modified_at\\\", \\\"agency\\\".\\\"name\\\", \\\"agency\\\".\\\"ref_id\\\" FROM \\\"agency\\\" WHERE \\\"agency\\\".\\\"ref_id\\\" = 1 LIMIT 21; args=(1,)\", \"duration\": 0.00034331300003032084, \"sql\": \"SELECT \\\"agency\\\".\\\"id\\\", \\\"agency\\\".\\\"created_by_id\\\", \\\"agency\\\".\\\"created_at\\\", \\\"agency\\\".\\\"modified_at\\\", \\\"agency\\\".\\\"name\\\", \\\"agency\\\".\\\"ref_id\\\" FROM \\\"agency\\\" WHERE \\\"agency\\\".\\\"ref_id\\\" = 1 LIMIT 21\", \"params\": [1], \"@timestamp\": \"2020-08-15T19:27:56.438644\", \"level\": \"DEBUG\", \"logger\": \"django.db.backends\"}\n",
      "{\"message\": \"(0.000) SELECT \\\"agency\\\".\\\"id\\\", \\\"agency\\\".\\\"created_by_id\\\", \\\"agency\\\".\\\"created_at\\\", \\\"agency\\\".\\\"modified_at\\\", \\\"agency\\\".\\\"name\\\", \\\"agency\\\".\\\"ref_id\\\" FROM \\\"agency\\\" WHERE \\\"agency\\\".\\\"ref_id\\\" = 1 LIMIT 21; args=(1,)\", \"duration\": 0.0003075070000022606, \"sql\": \"SELECT \\\"agency\\\".\\\"id\\\", \\\"agency\\\".\\\"created_by_id\\\", \\\"agency\\\".\\\"created_at\\\", \\\"agency\\\".\\\"modified_at\\\", \\\"agency\\\".\\\"name\\\", \\\"agency\\\".\\\"ref_id\\\" FROM \\\"agency\\\" WHERE \\\"agency\\\".\\\"ref_id\\\" = 1 LIMIT 21\", \"params\": [1], \"@timestamp\": \"2020-08-15T19:27:56.440815\", \"level\": \"DEBUG\", \"logger\": \"django.db.backends\"}\n",
      "{\"message\": \"(0.000) SELECT \\\"agency\\\".\\\"id\\\", \\\"agency\\\".\\\"created_by_id\\\", \\\"agency\\\".\\\"created_at\\\", \\\"agency\\\".\\\"modified_at\\\", \\\"agency\\\".\\\"name\\\", \\\"agency\\\".\\\"ref_id\\\" FROM \\\"agency\\\" WHERE \\\"agency\\\".\\\"ref_id\\\" = 5 LIMIT 21; args=(5,)\", \"duration\": 0.0002879410000105054, \"sql\": \"SELECT \\\"agency\\\".\\\"id\\\", \\\"agency\\\".\\\"created_by_id\\\", \\\"agency\\\".\\\"created_at\\\", \\\"agency\\\".\\\"modified_at\\\", \\\"agency\\\".\\\"name\\\", \\\"agency\\\".\\\"ref_id\\\" FROM \\\"agency\\\" WHERE \\\"agency\\\".\\\"ref_id\\\" = 5 LIMIT 21\", \"params\": [5], \"@timestamp\": \"2020-08-15T19:27:56.442955\", \"level\": \"DEBUG\", \"logger\": \"django.db.backends\"}\n",
      "{\"message\": \"(0.001) SELECT \\\"agency\\\".\\\"id\\\", \\\"agency\\\".\\\"created_by_id\\\", \\\"agency\\\".\\\"created_at\\\", \\\"agency\\\".\\\"modified_at\\\", \\\"agency\\\".\\\"name\\\", \\\"agency\\\".\\\"ref_id\\\" FROM \\\"agency\\\" WHERE \\\"agency\\\".\\\"ref_id\\\" = 1 LIMIT 21; args=(1,)\", \"duration\": 0.0008645840000554017, \"sql\": \"SELECT \\\"agency\\\".\\\"id\\\", \\\"agency\\\".\\\"created_by_id\\\", \\\"agency\\\".\\\"created_at\\\", \\\"agency\\\".\\\"modified_at\\\", \\\"agency\\\".\\\"name\\\", \\\"agency\\\".\\\"ref_id\\\" FROM \\\"agency\\\" WHERE \\\"agency\\\".\\\"ref_id\\\" = 1 LIMIT 21\", \"params\": [1], \"@timestamp\": \"2020-08-15T19:27:56.445623\", \"level\": \"DEBUG\", \"logger\": \"django.db.backends\"}\n",
      "{\"message\": \"(0.001) SELECT \\\"agency\\\".\\\"id\\\", \\\"agency\\\".\\\"created_by_id\\\", \\\"agency\\\".\\\"created_at\\\", \\\"agency\\\".\\\"modified_at\\\", \\\"agency\\\".\\\"name\\\", \\\"agency\\\".\\\"ref_id\\\" FROM \\\"agency\\\" WHERE \\\"agency\\\".\\\"ref_id\\\" = 2 LIMIT 21; args=(2,)\", \"duration\": 0.0007236909999619456, \"sql\": \"SELECT \\\"agency\\\".\\\"id\\\", \\\"agency\\\".\\\"created_by_id\\\", \\\"agency\\\".\\\"created_at\\\", \\\"agency\\\".\\\"modified_at\\\", \\\"agency\\\".\\\"name\\\", \\\"agency\\\".\\\"ref_id\\\" FROM \\\"agency\\\" WHERE \\\"agency\\\".\\\"ref_id\\\" = 2 LIMIT 21\", \"params\": [2], \"@timestamp\": \"2020-08-15T19:27:56.448393\", \"level\": \"DEBUG\", \"logger\": \"django.db.backends\"}\n",
      "{\"message\": \"(0.000) SELECT \\\"agency\\\".\\\"id\\\", \\\"agency\\\".\\\"created_by_id\\\", \\\"agency\\\".\\\"created_at\\\", \\\"agency\\\".\\\"modified_at\\\", \\\"agency\\\".\\\"name\\\", \\\"agency\\\".\\\"ref_id\\\" FROM \\\"agency\\\" WHERE \\\"agency\\\".\\\"ref_id\\\" = 4 LIMIT 21; args=(4,)\", \"duration\": 0.00044048500001281354, \"sql\": \"SELECT \\\"agency\\\".\\\"id\\\", \\\"agency\\\".\\\"created_by_id\\\", \\\"agency\\\".\\\"created_at\\\", \\\"agency\\\".\\\"modified_at\\\", \\\"agency\\\".\\\"name\\\", \\\"agency\\\".\\\"ref_id\\\" FROM \\\"agency\\\" WHERE \\\"agency\\\".\\\"ref_id\\\" = 4 LIMIT 21\", \"params\": [4], \"@timestamp\": \"2020-08-15T19:27:56.450900\", \"level\": \"DEBUG\", \"logger\": \"django.db.backends\"}\n",
      "{\"message\": \"(0.001) SELECT \\\"agency\\\".\\\"id\\\", \\\"agency\\\".\\\"created_by_id\\\", \\\"agency\\\".\\\"created_at\\\", \\\"agency\\\".\\\"modified_at\\\", \\\"agency\\\".\\\"name\\\", \\\"agency\\\".\\\"ref_id\\\" FROM \\\"agency\\\" WHERE \\\"agency\\\".\\\"ref_id\\\" = 2 LIMIT 21; args=(2,)\", \"duration\": 0.0005337049999525334, \"sql\": \"SELECT \\\"agency\\\".\\\"id\\\", \\\"agency\\\".\\\"created_by_id\\\", \\\"agency\\\".\\\"created_at\\\", \\\"agency\\\".\\\"modified_at\\\", \\\"agency\\\".\\\"name\\\", \\\"agency\\\".\\\"ref_id\\\" FROM \\\"agency\\\" WHERE \\\"agency\\\".\\\"ref_id\\\" = 2 LIMIT 21\", \"params\": [2], \"@timestamp\": \"2020-08-15T19:27:56.453214\", \"level\": \"DEBUG\", \"logger\": \"django.db.backends\"}\n",
      "{\"message\": \"(0.000) SELECT \\\"agency\\\".\\\"id\\\", \\\"agency\\\".\\\"created_by_id\\\", \\\"agency\\\".\\\"created_at\\\", \\\"agency\\\".\\\"modified_at\\\", \\\"agency\\\".\\\"name\\\", \\\"agency\\\".\\\"ref_id\\\" FROM \\\"agency\\\" WHERE \\\"agency\\\".\\\"ref_id\\\" = 2 LIMIT 21; args=(2,)\", \"duration\": 0.0004545839999536838, \"sql\": \"SELECT \\\"agency\\\".\\\"id\\\", \\\"agency\\\".\\\"created_by_id\\\", \\\"agency\\\".\\\"created_at\\\", \\\"agency\\\".\\\"modified_at\\\", \\\"agency\\\".\\\"name\\\", \\\"agency\\\".\\\"ref_id\\\" FROM \\\"agency\\\" WHERE \\\"agency\\\".\\\"ref_id\\\" = 2 LIMIT 21\", \"params\": [2], \"@timestamp\": \"2020-08-15T19:27:56.456123\", \"level\": \"DEBUG\", \"logger\": \"django.db.backends\"}\n",
      "{\"message\": \"(0.000) SELECT \\\"agency\\\".\\\"id\\\", \\\"agency\\\".\\\"created_by_id\\\", \\\"agency\\\".\\\"created_at\\\", \\\"agency\\\".\\\"modified_at\\\", \\\"agency\\\".\\\"name\\\", \\\"agency\\\".\\\"ref_id\\\" FROM \\\"agency\\\" WHERE \\\"agency\\\".\\\"ref_id\\\" = 4 LIMIT 21; args=(4,)\", \"duration\": 0.00037171099995703116, \"sql\": \"SELECT \\\"agency\\\".\\\"id\\\", \\\"agency\\\".\\\"created_by_id\\\", \\\"agency\\\".\\\"created_at\\\", \\\"agency\\\".\\\"modified_at\\\", \\\"agency\\\".\\\"name\\\", \\\"agency\\\".\\\"ref_id\\\" FROM \\\"agency\\\" WHERE \\\"agency\\\".\\\"ref_id\\\" = 4 LIMIT 21\", \"params\": [4], \"@timestamp\": \"2020-08-15T19:27:56.458238\", \"level\": \"DEBUG\", \"logger\": \"django.db.backends\"}\n",
      "{\"message\": \"(0.000) SELECT \\\"agency\\\".\\\"id\\\", \\\"agency\\\".\\\"created_by_id\\\", \\\"agency\\\".\\\"created_at\\\", \\\"agency\\\".\\\"modified_at\\\", \\\"agency\\\".\\\"name\\\", \\\"agency\\\".\\\"ref_id\\\" FROM \\\"agency\\\" WHERE \\\"agency\\\".\\\"ref_id\\\" = 4 LIMIT 21; args=(4,)\", \"duration\": 0.00038544999995338003, \"sql\": \"SELECT \\\"agency\\\".\\\"id\\\", \\\"agency\\\".\\\"created_by_id\\\", \\\"agency\\\".\\\"created_at\\\", \\\"agency\\\".\\\"modified_at\\\", \\\"agency\\\".\\\"name\\\", \\\"agency\\\".\\\"ref_id\\\" FROM \\\"agency\\\" WHERE \\\"agency\\\".\\\"ref_id\\\" = 4 LIMIT 21\", \"params\": [4], \"@timestamp\": \"2020-08-15T19:27:56.460522\", \"level\": \"DEBUG\", \"logger\": \"django.db.backends\"}\n",
      "{\"message\": \"(0.001) SELECT \\\"agency\\\".\\\"id\\\", \\\"agency\\\".\\\"created_by_id\\\", \\\"agency\\\".\\\"created_at\\\", \\\"agency\\\".\\\"modified_at\\\", \\\"agency\\\".\\\"name\\\", \\\"agency\\\".\\\"ref_id\\\" FROM \\\"agency\\\" WHERE \\\"agency\\\".\\\"ref_id\\\" = 1 LIMIT 21; args=(1,)\", \"duration\": 0.0005458009999301794, \"sql\": \"SELECT \\\"agency\\\".\\\"id\\\", \\\"agency\\\".\\\"created_by_id\\\", \\\"agency\\\".\\\"created_at\\\", \\\"agency\\\".\\\"modified_at\\\", \\\"agency\\\".\\\"name\\\", \\\"agency\\\".\\\"ref_id\\\" FROM \\\"agency\\\" WHERE \\\"agency\\\".\\\"ref_id\\\" = 1 LIMIT 21\", \"params\": [1], \"@timestamp\": \"2020-08-15T19:27:56.462875\", \"level\": \"DEBUG\", \"logger\": \"django.db.backends\"}\n",
      "{\"message\": \"(0.000) SELECT \\\"agency\\\".\\\"id\\\", \\\"agency\\\".\\\"created_by_id\\\", \\\"agency\\\".\\\"created_at\\\", \\\"agency\\\".\\\"modified_at\\\", \\\"agency\\\".\\\"name\\\", \\\"agency\\\".\\\"ref_id\\\" FROM \\\"agency\\\" WHERE \\\"agency\\\".\\\"ref_id\\\" = 1 LIMIT 21; args=(1,)\", \"duration\": 0.0004355080000095768, \"sql\": \"SELECT \\\"agency\\\".\\\"id\\\", \\\"agency\\\".\\\"created_by_id\\\", \\\"agency\\\".\\\"created_at\\\", \\\"agency\\\".\\\"modified_at\\\", \\\"agency\\\".\\\"name\\\", \\\"agency\\\".\\\"ref_id\\\" FROM \\\"agency\\\" WHERE \\\"agency\\\".\\\"ref_id\\\" = 1 LIMIT 21\", \"params\": [1], \"@timestamp\": \"2020-08-15T19:27:56.465491\", \"level\": \"DEBUG\", \"logger\": \"django.db.backends\"}\n"
     ]
    },
    {
     "name": "stderr",
     "output_type": "stream",
     "text": [
      "{\"message\": \"(0.000) SELECT \\\"agency\\\".\\\"id\\\", \\\"agency\\\".\\\"created_by_id\\\", \\\"agency\\\".\\\"created_at\\\", \\\"agency\\\".\\\"modified_at\\\", \\\"agency\\\".\\\"name\\\", \\\"agency\\\".\\\"ref_id\\\" FROM \\\"agency\\\" WHERE \\\"agency\\\".\\\"ref_id\\\" = 1 LIMIT 21; args=(1,)\", \"duration\": 0.00038303199994516035, \"sql\": \"SELECT \\\"agency\\\".\\\"id\\\", \\\"agency\\\".\\\"created_by_id\\\", \\\"agency\\\".\\\"created_at\\\", \\\"agency\\\".\\\"modified_at\\\", \\\"agency\\\".\\\"name\\\", \\\"agency\\\".\\\"ref_id\\\" FROM \\\"agency\\\" WHERE \\\"agency\\\".\\\"ref_id\\\" = 1 LIMIT 21\", \"params\": [1], \"@timestamp\": \"2020-08-15T19:27:56.467737\", \"level\": \"DEBUG\", \"logger\": \"django.db.backends\"}\n",
      "{\"message\": \"(0.000) SELECT \\\"agency\\\".\\\"id\\\", \\\"agency\\\".\\\"created_by_id\\\", \\\"agency\\\".\\\"created_at\\\", \\\"agency\\\".\\\"modified_at\\\", \\\"agency\\\".\\\"name\\\", \\\"agency\\\".\\\"ref_id\\\" FROM \\\"agency\\\" WHERE \\\"agency\\\".\\\"ref_id\\\" = 5 LIMIT 21; args=(5,)\", \"duration\": 0.00029810399996677006, \"sql\": \"SELECT \\\"agency\\\".\\\"id\\\", \\\"agency\\\".\\\"created_by_id\\\", \\\"agency\\\".\\\"created_at\\\", \\\"agency\\\".\\\"modified_at\\\", \\\"agency\\\".\\\"name\\\", \\\"agency\\\".\\\"ref_id\\\" FROM \\\"agency\\\" WHERE \\\"agency\\\".\\\"ref_id\\\" = 5 LIMIT 21\", \"params\": [5], \"@timestamp\": \"2020-08-15T19:27:56.469755\", \"level\": \"DEBUG\", \"logger\": \"django.db.backends\"}\n",
      "{\"message\": \"(0.001) SELECT \\\"agency\\\".\\\"id\\\", \\\"agency\\\".\\\"created_by_id\\\", \\\"agency\\\".\\\"created_at\\\", \\\"agency\\\".\\\"modified_at\\\", \\\"agency\\\".\\\"name\\\", \\\"agency\\\".\\\"ref_id\\\" FROM \\\"agency\\\" WHERE \\\"agency\\\".\\\"ref_id\\\" = 1 LIMIT 21; args=(1,)\", \"duration\": 0.0009237289999646237, \"sql\": \"SELECT \\\"agency\\\".\\\"id\\\", \\\"agency\\\".\\\"created_by_id\\\", \\\"agency\\\".\\\"created_at\\\", \\\"agency\\\".\\\"modified_at\\\", \\\"agency\\\".\\\"name\\\", \\\"agency\\\".\\\"ref_id\\\" FROM \\\"agency\\\" WHERE \\\"agency\\\".\\\"ref_id\\\" = 1 LIMIT 21\", \"params\": [1], \"@timestamp\": \"2020-08-15T19:27:56.472554\", \"level\": \"DEBUG\", \"logger\": \"django.db.backends\"}\n",
      "{\"message\": \"(0.000) SELECT \\\"agency\\\".\\\"id\\\", \\\"agency\\\".\\\"created_by_id\\\", \\\"agency\\\".\\\"created_at\\\", \\\"agency\\\".\\\"modified_at\\\", \\\"agency\\\".\\\"name\\\", \\\"agency\\\".\\\"ref_id\\\" FROM \\\"agency\\\" WHERE \\\"agency\\\".\\\"ref_id\\\" = 2 LIMIT 21; args=(2,)\", \"duration\": 0.00034853099998599646, \"sql\": \"SELECT \\\"agency\\\".\\\"id\\\", \\\"agency\\\".\\\"created_by_id\\\", \\\"agency\\\".\\\"created_at\\\", \\\"agency\\\".\\\"modified_at\\\", \\\"agency\\\".\\\"name\\\", \\\"agency\\\".\\\"ref_id\\\" FROM \\\"agency\\\" WHERE \\\"agency\\\".\\\"ref_id\\\" = 2 LIMIT 21\", \"params\": [2], \"@timestamp\": \"2020-08-15T19:27:56.474577\", \"level\": \"DEBUG\", \"logger\": \"django.db.backends\"}\n",
      "{\"message\": \"(0.000) SELECT \\\"agency\\\".\\\"id\\\", \\\"agency\\\".\\\"created_by_id\\\", \\\"agency\\\".\\\"created_at\\\", \\\"agency\\\".\\\"modified_at\\\", \\\"agency\\\".\\\"name\\\", \\\"agency\\\".\\\"ref_id\\\" FROM \\\"agency\\\" WHERE \\\"agency\\\".\\\"ref_id\\\" = 3 LIMIT 21; args=(3,)\", \"duration\": 0.0004066479999664807, \"sql\": \"SELECT \\\"agency\\\".\\\"id\\\", \\\"agency\\\".\\\"created_by_id\\\", \\\"agency\\\".\\\"created_at\\\", \\\"agency\\\".\\\"modified_at\\\", \\\"agency\\\".\\\"name\\\", \\\"agency\\\".\\\"ref_id\\\" FROM \\\"agency\\\" WHERE \\\"agency\\\".\\\"ref_id\\\" = 3 LIMIT 21\", \"params\": [3], \"@timestamp\": \"2020-08-15T19:27:56.476765\", \"level\": \"DEBUG\", \"logger\": \"django.db.backends\"}\n",
      "{\"message\": \"(0.000) SELECT \\\"agency\\\".\\\"id\\\", \\\"agency\\\".\\\"created_by_id\\\", \\\"agency\\\".\\\"created_at\\\", \\\"agency\\\".\\\"modified_at\\\", \\\"agency\\\".\\\"name\\\", \\\"agency\\\".\\\"ref_id\\\" FROM \\\"agency\\\" WHERE \\\"agency\\\".\\\"ref_id\\\" = 2 LIMIT 21; args=(2,)\", \"duration\": 0.00037085300004946475, \"sql\": \"SELECT \\\"agency\\\".\\\"id\\\", \\\"agency\\\".\\\"created_by_id\\\", \\\"agency\\\".\\\"created_at\\\", \\\"agency\\\".\\\"modified_at\\\", \\\"agency\\\".\\\"name\\\", \\\"agency\\\".\\\"ref_id\\\" FROM \\\"agency\\\" WHERE \\\"agency\\\".\\\"ref_id\\\" = 2 LIMIT 21\", \"params\": [2], \"@timestamp\": \"2020-08-15T19:27:56.478794\", \"level\": \"DEBUG\", \"logger\": \"django.db.backends\"}\n",
      "{\"message\": \"(0.000) SELECT \\\"agency\\\".\\\"id\\\", \\\"agency\\\".\\\"created_by_id\\\", \\\"agency\\\".\\\"created_at\\\", \\\"agency\\\".\\\"modified_at\\\", \\\"agency\\\".\\\"name\\\", \\\"agency\\\".\\\"ref_id\\\" FROM \\\"agency\\\" WHERE \\\"agency\\\".\\\"ref_id\\\" = 2 LIMIT 21; args=(2,)\", \"duration\": 0.0003020249999963198, \"sql\": \"SELECT \\\"agency\\\".\\\"id\\\", \\\"agency\\\".\\\"created_by_id\\\", \\\"agency\\\".\\\"created_at\\\", \\\"agency\\\".\\\"modified_at\\\", \\\"agency\\\".\\\"name\\\", \\\"agency\\\".\\\"ref_id\\\" FROM \\\"agency\\\" WHERE \\\"agency\\\".\\\"ref_id\\\" = 2 LIMIT 21\", \"params\": [2], \"@timestamp\": \"2020-08-15T19:27:56.480970\", \"level\": \"DEBUG\", \"logger\": \"django.db.backends\"}\n",
      "{\"message\": \"(0.000) SELECT \\\"agency\\\".\\\"id\\\", \\\"agency\\\".\\\"created_by_id\\\", \\\"agency\\\".\\\"created_at\\\", \\\"agency\\\".\\\"modified_at\\\", \\\"agency\\\".\\\"name\\\", \\\"agency\\\".\\\"ref_id\\\" FROM \\\"agency\\\" WHERE \\\"agency\\\".\\\"ref_id\\\" = 2 LIMIT 21; args=(2,)\", \"duration\": 0.0003706250000732325, \"sql\": \"SELECT \\\"agency\\\".\\\"id\\\", \\\"agency\\\".\\\"created_by_id\\\", \\\"agency\\\".\\\"created_at\\\", \\\"agency\\\".\\\"modified_at\\\", \\\"agency\\\".\\\"name\\\", \\\"agency\\\".\\\"ref_id\\\" FROM \\\"agency\\\" WHERE \\\"agency\\\".\\\"ref_id\\\" = 2 LIMIT 21\", \"params\": [2], \"@timestamp\": \"2020-08-15T19:27:56.482865\", \"level\": \"DEBUG\", \"logger\": \"django.db.backends\"}\n",
      "{\"message\": \"(0.000) SELECT \\\"agency\\\".\\\"id\\\", \\\"agency\\\".\\\"created_by_id\\\", \\\"agency\\\".\\\"created_at\\\", \\\"agency\\\".\\\"modified_at\\\", \\\"agency\\\".\\\"name\\\", \\\"agency\\\".\\\"ref_id\\\" FROM \\\"agency\\\" WHERE \\\"agency\\\".\\\"ref_id\\\" = 3 LIMIT 21; args=(3,)\", \"duration\": 0.00022893999994266778, \"sql\": \"SELECT \\\"agency\\\".\\\"id\\\", \\\"agency\\\".\\\"created_by_id\\\", \\\"agency\\\".\\\"created_at\\\", \\\"agency\\\".\\\"modified_at\\\", \\\"agency\\\".\\\"name\\\", \\\"agency\\\".\\\"ref_id\\\" FROM \\\"agency\\\" WHERE \\\"agency\\\".\\\"ref_id\\\" = 3 LIMIT 21\", \"params\": [3], \"@timestamp\": \"2020-08-15T19:27:56.484497\", \"level\": \"DEBUG\", \"logger\": \"django.db.backends\"}\n",
      "{\"message\": \"(0.000) SELECT \\\"agency\\\".\\\"id\\\", \\\"agency\\\".\\\"created_by_id\\\", \\\"agency\\\".\\\"created_at\\\", \\\"agency\\\".\\\"modified_at\\\", \\\"agency\\\".\\\"name\\\", \\\"agency\\\".\\\"ref_id\\\" FROM \\\"agency\\\" WHERE \\\"agency\\\".\\\"ref_id\\\" = 4 LIMIT 21; args=(4,)\", \"duration\": 0.00026508599989938375, \"sql\": \"SELECT \\\"agency\\\".\\\"id\\\", \\\"agency\\\".\\\"created_by_id\\\", \\\"agency\\\".\\\"created_at\\\", \\\"agency\\\".\\\"modified_at\\\", \\\"agency\\\".\\\"name\\\", \\\"agency\\\".\\\"ref_id\\\" FROM \\\"agency\\\" WHERE \\\"agency\\\".\\\"ref_id\\\" = 4 LIMIT 21\", \"params\": [4], \"@timestamp\": \"2020-08-15T19:27:56.486170\", \"level\": \"DEBUG\", \"logger\": \"django.db.backends\"}\n",
      "{\"message\": \"(0.001) SELECT \\\"client\\\".\\\"id\\\", \\\"client\\\".\\\"created_by_id\\\", \\\"client\\\".\\\"created_at\\\", \\\"client\\\".\\\"modified_at\\\", \\\"client\\\".\\\"first_name\\\", \\\"client\\\".\\\"middle_name\\\", \\\"client\\\".\\\"last_name\\\", \\\"client\\\".\\\"dob\\\", \\\"client\\\".\\\"agency_assoc\\\" FROM \\\"client\\\" ORDER BY \\\"client\\\".\\\"created_at\\\" DESC; args=()\", \"duration\": 0.0007943690000047354, \"sql\": \"SELECT \\\"client\\\".\\\"id\\\", \\\"client\\\".\\\"created_by_id\\\", \\\"client\\\".\\\"created_at\\\", \\\"client\\\".\\\"modified_at\\\", \\\"client\\\".\\\"first_name\\\", \\\"client\\\".\\\"middle_name\\\", \\\"client\\\".\\\"last_name\\\", \\\"client\\\".\\\"dob\\\", \\\"client\\\".\\\"agency_assoc\\\" FROM \\\"client\\\" ORDER BY \\\"client\\\".\\\"created_at\\\" DESC\", \"params\": [], \"@timestamp\": \"2020-08-15T19:27:56.488803\", \"level\": \"DEBUG\", \"logger\": \"django.db.backends\"}\n",
      "{\"message\": \"(0.000) SELECT \\\"agency\\\".\\\"id\\\", \\\"agency\\\".\\\"created_by_id\\\", \\\"agency\\\".\\\"created_at\\\", \\\"agency\\\".\\\"modified_at\\\", \\\"agency\\\".\\\"name\\\", \\\"agency\\\".\\\"ref_id\\\" FROM \\\"agency\\\" WHERE \\\"agency\\\".\\\"ref_id\\\" = 2 LIMIT 21; args=(2,)\", \"duration\": 0.0003865820000328313, \"sql\": \"SELECT \\\"agency\\\".\\\"id\\\", \\\"agency\\\".\\\"created_by_id\\\", \\\"agency\\\".\\\"created_at\\\", \\\"agency\\\".\\\"modified_at\\\", \\\"agency\\\".\\\"name\\\", \\\"agency\\\".\\\"ref_id\\\" FROM \\\"agency\\\" WHERE \\\"agency\\\".\\\"ref_id\\\" = 2 LIMIT 21\", \"params\": [2], \"@timestamp\": \"2020-08-15T19:27:56.490962\", \"level\": \"DEBUG\", \"logger\": \"django.db.backends\"}\n",
      "{\"message\": \"(0.000) SELECT \\\"agency\\\".\\\"id\\\", \\\"agency\\\".\\\"created_by_id\\\", \\\"agency\\\".\\\"created_at\\\", \\\"agency\\\".\\\"modified_at\\\", \\\"agency\\\".\\\"name\\\", \\\"agency\\\".\\\"ref_id\\\" FROM \\\"agency\\\" WHERE \\\"agency\\\".\\\"ref_id\\\" = 4 LIMIT 21; args=(4,)\", \"duration\": 0.00033154000004742556, \"sql\": \"SELECT \\\"agency\\\".\\\"id\\\", \\\"agency\\\".\\\"created_by_id\\\", \\\"agency\\\".\\\"created_at\\\", \\\"agency\\\".\\\"modified_at\\\", \\\"agency\\\".\\\"name\\\", \\\"agency\\\".\\\"ref_id\\\" FROM \\\"agency\\\" WHERE \\\"agency\\\".\\\"ref_id\\\" = 4 LIMIT 21\", \"params\": [4], \"@timestamp\": \"2020-08-15T19:27:56.492708\", \"level\": \"DEBUG\", \"logger\": \"django.db.backends\"}\n",
      "{\"message\": \"(0.000) SELECT \\\"agency\\\".\\\"id\\\", \\\"agency\\\".\\\"created_by_id\\\", \\\"agency\\\".\\\"created_at\\\", \\\"agency\\\".\\\"modified_at\\\", \\\"agency\\\".\\\"name\\\", \\\"agency\\\".\\\"ref_id\\\" FROM \\\"agency\\\" WHERE \\\"agency\\\".\\\"ref_id\\\" = 5 LIMIT 21; args=(5,)\", \"duration\": 0.00025695199997244345, \"sql\": \"SELECT \\\"agency\\\".\\\"id\\\", \\\"agency\\\".\\\"created_by_id\\\", \\\"agency\\\".\\\"created_at\\\", \\\"agency\\\".\\\"modified_at\\\", \\\"agency\\\".\\\"name\\\", \\\"agency\\\".\\\"ref_id\\\" FROM \\\"agency\\\" WHERE \\\"agency\\\".\\\"ref_id\\\" = 5 LIMIT 21\", \"params\": [5], \"@timestamp\": \"2020-08-15T19:27:56.494344\", \"level\": \"DEBUG\", \"logger\": \"django.db.backends\"}\n"
     ]
    },
    {
     "name": "stderr",
     "output_type": "stream",
     "text": [
      "{\"message\": \"(0.000) SELECT \\\"agency\\\".\\\"id\\\", \\\"agency\\\".\\\"created_by_id\\\", \\\"agency\\\".\\\"created_at\\\", \\\"agency\\\".\\\"modified_at\\\", \\\"agency\\\".\\\"name\\\", \\\"agency\\\".\\\"ref_id\\\" FROM \\\"agency\\\" WHERE \\\"agency\\\".\\\"ref_id\\\" = 4 LIMIT 21; args=(4,)\", \"duration\": 0.00030780800000229647, \"sql\": \"SELECT \\\"agency\\\".\\\"id\\\", \\\"agency\\\".\\\"created_by_id\\\", \\\"agency\\\".\\\"created_at\\\", \\\"agency\\\".\\\"modified_at\\\", \\\"agency\\\".\\\"name\\\", \\\"agency\\\".\\\"ref_id\\\" FROM \\\"agency\\\" WHERE \\\"agency\\\".\\\"ref_id\\\" = 4 LIMIT 21\", \"params\": [4], \"@timestamp\": \"2020-08-15T19:27:56.495997\", \"level\": \"DEBUG\", \"logger\": \"django.db.backends\"}\n",
      "{\"message\": \"(0.000) SELECT \\\"agency\\\".\\\"id\\\", \\\"agency\\\".\\\"created_by_id\\\", \\\"agency\\\".\\\"created_at\\\", \\\"agency\\\".\\\"modified_at\\\", \\\"agency\\\".\\\"name\\\", \\\"agency\\\".\\\"ref_id\\\" FROM \\\"agency\\\" WHERE \\\"agency\\\".\\\"ref_id\\\" = 1 LIMIT 21; args=(1,)\", \"duration\": 0.0003461090000200784, \"sql\": \"SELECT \\\"agency\\\".\\\"id\\\", \\\"agency\\\".\\\"created_by_id\\\", \\\"agency\\\".\\\"created_at\\\", \\\"agency\\\".\\\"modified_at\\\", \\\"agency\\\".\\\"name\\\", \\\"agency\\\".\\\"ref_id\\\" FROM \\\"agency\\\" WHERE \\\"agency\\\".\\\"ref_id\\\" = 1 LIMIT 21\", \"params\": [1], \"@timestamp\": \"2020-08-15T19:27:56.497718\", \"level\": \"DEBUG\", \"logger\": \"django.db.backends\"}\n",
      "{\"message\": \"(0.000) SELECT \\\"agency\\\".\\\"id\\\", \\\"agency\\\".\\\"created_by_id\\\", \\\"agency\\\".\\\"created_at\\\", \\\"agency\\\".\\\"modified_at\\\", \\\"agency\\\".\\\"name\\\", \\\"agency\\\".\\\"ref_id\\\" FROM \\\"agency\\\" WHERE \\\"agency\\\".\\\"ref_id\\\" = 2 LIMIT 21; args=(2,)\", \"duration\": 0.0002511220000087633, \"sql\": \"SELECT \\\"agency\\\".\\\"id\\\", \\\"agency\\\".\\\"created_by_id\\\", \\\"agency\\\".\\\"created_at\\\", \\\"agency\\\".\\\"modified_at\\\", \\\"agency\\\".\\\"name\\\", \\\"agency\\\".\\\"ref_id\\\" FROM \\\"agency\\\" WHERE \\\"agency\\\".\\\"ref_id\\\" = 2 LIMIT 21\", \"params\": [2], \"@timestamp\": \"2020-08-15T19:27:56.499340\", \"level\": \"DEBUG\", \"logger\": \"django.db.backends\"}\n",
      "{\"message\": \"(0.000) SELECT \\\"agency\\\".\\\"id\\\", \\\"agency\\\".\\\"created_by_id\\\", \\\"agency\\\".\\\"created_at\\\", \\\"agency\\\".\\\"modified_at\\\", \\\"agency\\\".\\\"name\\\", \\\"agency\\\".\\\"ref_id\\\" FROM \\\"agency\\\" WHERE \\\"agency\\\".\\\"ref_id\\\" = 3 LIMIT 21; args=(3,)\", \"duration\": 0.00032233299998551956, \"sql\": \"SELECT \\\"agency\\\".\\\"id\\\", \\\"agency\\\".\\\"created_by_id\\\", \\\"agency\\\".\\\"created_at\\\", \\\"agency\\\".\\\"modified_at\\\", \\\"agency\\\".\\\"name\\\", \\\"agency\\\".\\\"ref_id\\\" FROM \\\"agency\\\" WHERE \\\"agency\\\".\\\"ref_id\\\" = 3 LIMIT 21\", \"params\": [3], \"@timestamp\": \"2020-08-15T19:27:56.501024\", \"level\": \"DEBUG\", \"logger\": \"django.db.backends\"}\n",
      "{\"message\": \"(0.000) SELECT \\\"agency\\\".\\\"id\\\", \\\"agency\\\".\\\"created_by_id\\\", \\\"agency\\\".\\\"created_at\\\", \\\"agency\\\".\\\"modified_at\\\", \\\"agency\\\".\\\"name\\\", \\\"agency\\\".\\\"ref_id\\\" FROM \\\"agency\\\" WHERE \\\"agency\\\".\\\"ref_id\\\" = 4 LIMIT 21; args=(4,)\", \"duration\": 0.0003267749999622538, \"sql\": \"SELECT \\\"agency\\\".\\\"id\\\", \\\"agency\\\".\\\"created_by_id\\\", \\\"agency\\\".\\\"created_at\\\", \\\"agency\\\".\\\"modified_at\\\", \\\"agency\\\".\\\"name\\\", \\\"agency\\\".\\\"ref_id\\\" FROM \\\"agency\\\" WHERE \\\"agency\\\".\\\"ref_id\\\" = 4 LIMIT 21\", \"params\": [4], \"@timestamp\": \"2020-08-15T19:27:56.502691\", \"level\": \"DEBUG\", \"logger\": \"django.db.backends\"}\n",
      "{\"message\": \"(0.000) SELECT \\\"agency\\\".\\\"id\\\", \\\"agency\\\".\\\"created_by_id\\\", \\\"agency\\\".\\\"created_at\\\", \\\"agency\\\".\\\"modified_at\\\", \\\"agency\\\".\\\"name\\\", \\\"agency\\\".\\\"ref_id\\\" FROM \\\"agency\\\" WHERE \\\"agency\\\".\\\"ref_id\\\" = 3 LIMIT 21; args=(3,)\", \"duration\": 0.00027885800000149175, \"sql\": \"SELECT \\\"agency\\\".\\\"id\\\", \\\"agency\\\".\\\"created_by_id\\\", \\\"agency\\\".\\\"created_at\\\", \\\"agency\\\".\\\"modified_at\\\", \\\"agency\\\".\\\"name\\\", \\\"agency\\\".\\\"ref_id\\\" FROM \\\"agency\\\" WHERE \\\"agency\\\".\\\"ref_id\\\" = 3 LIMIT 21\", \"params\": [3], \"@timestamp\": \"2020-08-15T19:27:56.504366\", \"level\": \"DEBUG\", \"logger\": \"django.db.backends\"}\n",
      "{\"message\": \"(0.000) SELECT \\\"agency\\\".\\\"id\\\", \\\"agency\\\".\\\"created_by_id\\\", \\\"agency\\\".\\\"created_at\\\", \\\"agency\\\".\\\"modified_at\\\", \\\"agency\\\".\\\"name\\\", \\\"agency\\\".\\\"ref_id\\\" FROM \\\"agency\\\" WHERE \\\"agency\\\".\\\"ref_id\\\" = 3 LIMIT 21; args=(3,)\", \"duration\": 0.00033063799992305576, \"sql\": \"SELECT \\\"agency\\\".\\\"id\\\", \\\"agency\\\".\\\"created_by_id\\\", \\\"agency\\\".\\\"created_at\\\", \\\"agency\\\".\\\"modified_at\\\", \\\"agency\\\".\\\"name\\\", \\\"agency\\\".\\\"ref_id\\\" FROM \\\"agency\\\" WHERE \\\"agency\\\".\\\"ref_id\\\" = 3 LIMIT 21\", \"params\": [3], \"@timestamp\": \"2020-08-15T19:27:56.506085\", \"level\": \"DEBUG\", \"logger\": \"django.db.backends\"}\n",
      "{\"message\": \"(0.000) SELECT \\\"agency\\\".\\\"id\\\", \\\"agency\\\".\\\"created_by_id\\\", \\\"agency\\\".\\\"created_at\\\", \\\"agency\\\".\\\"modified_at\\\", \\\"agency\\\".\\\"name\\\", \\\"agency\\\".\\\"ref_id\\\" FROM \\\"agency\\\" WHERE \\\"agency\\\".\\\"ref_id\\\" = 4 LIMIT 21; args=(4,)\", \"duration\": 0.00032562500007315975, \"sql\": \"SELECT \\\"agency\\\".\\\"id\\\", \\\"agency\\\".\\\"created_by_id\\\", \\\"agency\\\".\\\"created_at\\\", \\\"agency\\\".\\\"modified_at\\\", \\\"agency\\\".\\\"name\\\", \\\"agency\\\".\\\"ref_id\\\" FROM \\\"agency\\\" WHERE \\\"agency\\\".\\\"ref_id\\\" = 4 LIMIT 21\", \"params\": [4], \"@timestamp\": \"2020-08-15T19:27:56.507800\", \"level\": \"DEBUG\", \"logger\": \"django.db.backends\"}\n",
      "{\"message\": \"(0.000) SELECT \\\"agency\\\".\\\"id\\\", \\\"agency\\\".\\\"created_by_id\\\", \\\"agency\\\".\\\"created_at\\\", \\\"agency\\\".\\\"modified_at\\\", \\\"agency\\\".\\\"name\\\", \\\"agency\\\".\\\"ref_id\\\" FROM \\\"agency\\\" WHERE \\\"agency\\\".\\\"ref_id\\\" = 4 LIMIT 21; args=(4,)\", \"duration\": 0.00031378500000300846, \"sql\": \"SELECT \\\"agency\\\".\\\"id\\\", \\\"agency\\\".\\\"created_by_id\\\", \\\"agency\\\".\\\"created_at\\\", \\\"agency\\\".\\\"modified_at\\\", \\\"agency\\\".\\\"name\\\", \\\"agency\\\".\\\"ref_id\\\" FROM \\\"agency\\\" WHERE \\\"agency\\\".\\\"ref_id\\\" = 4 LIMIT 21\", \"params\": [4], \"@timestamp\": \"2020-08-15T19:27:56.509525\", \"level\": \"DEBUG\", \"logger\": \"django.db.backends\"}\n",
      "{\"message\": \"(0.000) SELECT \\\"agency\\\".\\\"id\\\", \\\"agency\\\".\\\"created_by_id\\\", \\\"agency\\\".\\\"created_at\\\", \\\"agency\\\".\\\"modified_at\\\", \\\"agency\\\".\\\"name\\\", \\\"agency\\\".\\\"ref_id\\\" FROM \\\"agency\\\" WHERE \\\"agency\\\".\\\"ref_id\\\" = 5 LIMIT 21; args=(5,)\", \"duration\": 0.00027531499995347986, \"sql\": \"SELECT \\\"agency\\\".\\\"id\\\", \\\"agency\\\".\\\"created_by_id\\\", \\\"agency\\\".\\\"created_at\\\", \\\"agency\\\".\\\"modified_at\\\", \\\"agency\\\".\\\"name\\\", \\\"agency\\\".\\\"ref_id\\\" FROM \\\"agency\\\" WHERE \\\"agency\\\".\\\"ref_id\\\" = 5 LIMIT 21\", \"params\": [5], \"@timestamp\": \"2020-08-15T19:27:56.511213\", \"level\": \"DEBUG\", \"logger\": \"django.db.backends\"}\n",
      "{\"message\": \"(0.001) SELECT \\\"agency\\\".\\\"id\\\", \\\"agency\\\".\\\"created_by_id\\\", \\\"agency\\\".\\\"created_at\\\", \\\"agency\\\".\\\"modified_at\\\", \\\"agency\\\".\\\"name\\\", \\\"agency\\\".\\\"ref_id\\\" FROM \\\"agency\\\" WHERE \\\"agency\\\".\\\"ref_id\\\" = 2 LIMIT 21; args=(2,)\", \"duration\": 0.0011097719999497713, \"sql\": \"SELECT \\\"agency\\\".\\\"id\\\", \\\"agency\\\".\\\"created_by_id\\\", \\\"agency\\\".\\\"created_at\\\", \\\"agency\\\".\\\"modified_at\\\", \\\"agency\\\".\\\"name\\\", \\\"agency\\\".\\\"ref_id\\\" FROM \\\"agency\\\" WHERE \\\"agency\\\".\\\"ref_id\\\" = 2 LIMIT 21\", \"params\": [2], \"@timestamp\": \"2020-08-15T19:27:56.513944\", \"level\": \"DEBUG\", \"logger\": \"django.db.backends\"}\n",
      "{\"message\": \"(0.001) SELECT \\\"agency\\\".\\\"id\\\", \\\"agency\\\".\\\"created_by_id\\\", \\\"agency\\\".\\\"created_at\\\", \\\"agency\\\".\\\"modified_at\\\", \\\"agency\\\".\\\"name\\\", \\\"agency\\\".\\\"ref_id\\\" FROM \\\"agency\\\" WHERE \\\"agency\\\".\\\"ref_id\\\" = 1 LIMIT 21; args=(1,)\", \"duration\": 0.0014813810000759986, \"sql\": \"SELECT \\\"agency\\\".\\\"id\\\", \\\"agency\\\".\\\"created_by_id\\\", \\\"agency\\\".\\\"created_at\\\", \\\"agency\\\".\\\"modified_at\\\", \\\"agency\\\".\\\"name\\\", \\\"agency\\\".\\\"ref_id\\\" FROM \\\"agency\\\" WHERE \\\"agency\\\".\\\"ref_id\\\" = 1 LIMIT 21\", \"params\": [1], \"@timestamp\": \"2020-08-15T19:27:56.517543\", \"level\": \"DEBUG\", \"logger\": \"django.db.backends\"}\n",
      "{\"message\": \"(0.001) SELECT \\\"agency\\\".\\\"id\\\", \\\"agency\\\".\\\"created_by_id\\\", \\\"agency\\\".\\\"created_at\\\", \\\"agency\\\".\\\"modified_at\\\", \\\"agency\\\".\\\"name\\\", \\\"agency\\\".\\\"ref_id\\\" FROM \\\"agency\\\" WHERE \\\"agency\\\".\\\"ref_id\\\" = 1 LIMIT 21; args=(1,)\", \"duration\": 0.0005197030000090308, \"sql\": \"SELECT \\\"agency\\\".\\\"id\\\", \\\"agency\\\".\\\"created_by_id\\\", \\\"agency\\\".\\\"created_at\\\", \\\"agency\\\".\\\"modified_at\\\", \\\"agency\\\".\\\"name\\\", \\\"agency\\\".\\\"ref_id\\\" FROM \\\"agency\\\" WHERE \\\"agency\\\".\\\"ref_id\\\" = 1 LIMIT 21\", \"params\": [1], \"@timestamp\": \"2020-08-15T19:27:56.521020\", \"level\": \"DEBUG\", \"logger\": \"django.db.backends\"}\n",
      "{\"message\": \"(0.003) SELECT \\\"agency\\\".\\\"id\\\", \\\"agency\\\".\\\"created_by_id\\\", \\\"agency\\\".\\\"created_at\\\", \\\"agency\\\".\\\"modified_at\\\", \\\"agency\\\".\\\"name\\\", \\\"agency\\\".\\\"ref_id\\\" FROM \\\"agency\\\" WHERE \\\"agency\\\".\\\"ref_id\\\" = 5 LIMIT 21; args=(5,)\", \"duration\": 0.0033986490000188496, \"sql\": \"SELECT \\\"agency\\\".\\\"id\\\", \\\"agency\\\".\\\"created_by_id\\\", \\\"agency\\\".\\\"created_at\\\", \\\"agency\\\".\\\"modified_at\\\", \\\"agency\\\".\\\"name\\\", \\\"agency\\\".\\\"ref_id\\\" FROM \\\"agency\\\" WHERE \\\"agency\\\".\\\"ref_id\\\" = 5 LIMIT 21\", \"params\": [5], \"@timestamp\": \"2020-08-15T19:27:56.526328\", \"level\": \"DEBUG\", \"logger\": \"django.db.backends\"}\n"
     ]
    },
    {
     "name": "stderr",
     "output_type": "stream",
     "text": [
      "{\"message\": \"(0.001) SELECT \\\"agency\\\".\\\"id\\\", \\\"agency\\\".\\\"created_by_id\\\", \\\"agency\\\".\\\"created_at\\\", \\\"agency\\\".\\\"modified_at\\\", \\\"agency\\\".\\\"name\\\", \\\"agency\\\".\\\"ref_id\\\" FROM \\\"agency\\\" WHERE \\\"agency\\\".\\\"ref_id\\\" = 1 LIMIT 21; args=(1,)\", \"duration\": 0.0008377040001050773, \"sql\": \"SELECT \\\"agency\\\".\\\"id\\\", \\\"agency\\\".\\\"created_by_id\\\", \\\"agency\\\".\\\"created_at\\\", \\\"agency\\\".\\\"modified_at\\\", \\\"agency\\\".\\\"name\\\", \\\"agency\\\".\\\"ref_id\\\" FROM \\\"agency\\\" WHERE \\\"agency\\\".\\\"ref_id\\\" = 1 LIMIT 21\", \"params\": [1], \"@timestamp\": \"2020-08-15T19:27:56.529074\", \"level\": \"DEBUG\", \"logger\": \"django.db.backends\"}\n",
      "{\"message\": \"(0.001) SELECT \\\"agency\\\".\\\"id\\\", \\\"agency\\\".\\\"created_by_id\\\", \\\"agency\\\".\\\"created_at\\\", \\\"agency\\\".\\\"modified_at\\\", \\\"agency\\\".\\\"name\\\", \\\"agency\\\".\\\"ref_id\\\" FROM \\\"agency\\\" WHERE \\\"agency\\\".\\\"ref_id\\\" = 2 LIMIT 21; args=(2,)\", \"duration\": 0.0010051399999611021, \"sql\": \"SELECT \\\"agency\\\".\\\"id\\\", \\\"agency\\\".\\\"created_by_id\\\", \\\"agency\\\".\\\"created_at\\\", \\\"agency\\\".\\\"modified_at\\\", \\\"agency\\\".\\\"name\\\", \\\"agency\\\".\\\"ref_id\\\" FROM \\\"agency\\\" WHERE \\\"agency\\\".\\\"ref_id\\\" = 2 LIMIT 21\", \"params\": [2], \"@timestamp\": \"2020-08-15T19:27:56.533869\", \"level\": \"DEBUG\", \"logger\": \"django.db.backends\"}\n",
      "{\"message\": \"(0.002) SELECT \\\"agency\\\".\\\"id\\\", \\\"agency\\\".\\\"created_by_id\\\", \\\"agency\\\".\\\"created_at\\\", \\\"agency\\\".\\\"modified_at\\\", \\\"agency\\\".\\\"name\\\", \\\"agency\\\".\\\"ref_id\\\" FROM \\\"agency\\\" WHERE \\\"agency\\\".\\\"ref_id\\\" = 4 LIMIT 21; args=(4,)\", \"duration\": 0.0016568879999567798, \"sql\": \"SELECT \\\"agency\\\".\\\"id\\\", \\\"agency\\\".\\\"created_by_id\\\", \\\"agency\\\".\\\"created_at\\\", \\\"agency\\\".\\\"modified_at\\\", \\\"agency\\\".\\\"name\\\", \\\"agency\\\".\\\"ref_id\\\" FROM \\\"agency\\\" WHERE \\\"agency\\\".\\\"ref_id\\\" = 4 LIMIT 21\", \"params\": [4], \"@timestamp\": \"2020-08-15T19:27:56.538767\", \"level\": \"DEBUG\", \"logger\": \"django.db.backends\"}\n",
      "{\"message\": \"(0.000) SELECT \\\"agency\\\".\\\"id\\\", \\\"agency\\\".\\\"created_by_id\\\", \\\"agency\\\".\\\"created_at\\\", \\\"agency\\\".\\\"modified_at\\\", \\\"agency\\\".\\\"name\\\", \\\"agency\\\".\\\"ref_id\\\" FROM \\\"agency\\\" WHERE \\\"agency\\\".\\\"ref_id\\\" = 2 LIMIT 21; args=(2,)\", \"duration\": 0.00042883900005108444, \"sql\": \"SELECT \\\"agency\\\".\\\"id\\\", \\\"agency\\\".\\\"created_by_id\\\", \\\"agency\\\".\\\"created_at\\\", \\\"agency\\\".\\\"modified_at\\\", \\\"agency\\\".\\\"name\\\", \\\"agency\\\".\\\"ref_id\\\" FROM \\\"agency\\\" WHERE \\\"agency\\\".\\\"ref_id\\\" = 2 LIMIT 21\", \"params\": [2], \"@timestamp\": \"2020-08-15T19:27:56.540937\", \"level\": \"DEBUG\", \"logger\": \"django.db.backends\"}\n",
      "{\"message\": \"(0.000) SELECT \\\"agency\\\".\\\"id\\\", \\\"agency\\\".\\\"created_by_id\\\", \\\"agency\\\".\\\"created_at\\\", \\\"agency\\\".\\\"modified_at\\\", \\\"agency\\\".\\\"name\\\", \\\"agency\\\".\\\"ref_id\\\" FROM \\\"agency\\\" WHERE \\\"agency\\\".\\\"ref_id\\\" = 2 LIMIT 21; args=(2,)\", \"duration\": 0.0003934119999939867, \"sql\": \"SELECT \\\"agency\\\".\\\"id\\\", \\\"agency\\\".\\\"created_by_id\\\", \\\"agency\\\".\\\"created_at\\\", \\\"agency\\\".\\\"modified_at\\\", \\\"agency\\\".\\\"name\\\", \\\"agency\\\".\\\"ref_id\\\" FROM \\\"agency\\\" WHERE \\\"agency\\\".\\\"ref_id\\\" = 2 LIMIT 21\", \"params\": [2], \"@timestamp\": \"2020-08-15T19:27:56.544277\", \"level\": \"DEBUG\", \"logger\": \"django.db.backends\"}\n",
      "{\"message\": \"(0.001) SELECT \\\"agency\\\".\\\"id\\\", \\\"agency\\\".\\\"created_by_id\\\", \\\"agency\\\".\\\"created_at\\\", \\\"agency\\\".\\\"modified_at\\\", \\\"agency\\\".\\\"name\\\", \\\"agency\\\".\\\"ref_id\\\" FROM \\\"agency\\\" WHERE \\\"agency\\\".\\\"ref_id\\\" = 4 LIMIT 21; args=(4,)\", \"duration\": 0.0006041890000005878, \"sql\": \"SELECT \\\"agency\\\".\\\"id\\\", \\\"agency\\\".\\\"created_by_id\\\", \\\"agency\\\".\\\"created_at\\\", \\\"agency\\\".\\\"modified_at\\\", \\\"agency\\\".\\\"name\\\", \\\"agency\\\".\\\"ref_id\\\" FROM \\\"agency\\\" WHERE \\\"agency\\\".\\\"ref_id\\\" = 4 LIMIT 21\", \"params\": [4], \"@timestamp\": \"2020-08-15T19:27:56.546530\", \"level\": \"DEBUG\", \"logger\": \"django.db.backends\"}\n",
      "{\"message\": \"(0.000) SELECT \\\"agency\\\".\\\"id\\\", \\\"agency\\\".\\\"created_by_id\\\", \\\"agency\\\".\\\"created_at\\\", \\\"agency\\\".\\\"modified_at\\\", \\\"agency\\\".\\\"name\\\", \\\"agency\\\".\\\"ref_id\\\" FROM \\\"agency\\\" WHERE \\\"agency\\\".\\\"ref_id\\\" = 4 LIMIT 21; args=(4,)\", \"duration\": 0.000408778000064558, \"sql\": \"SELECT \\\"agency\\\".\\\"id\\\", \\\"agency\\\".\\\"created_by_id\\\", \\\"agency\\\".\\\"created_at\\\", \\\"agency\\\".\\\"modified_at\\\", \\\"agency\\\".\\\"name\\\", \\\"agency\\\".\\\"ref_id\\\" FROM \\\"agency\\\" WHERE \\\"agency\\\".\\\"ref_id\\\" = 4 LIMIT 21\", \"params\": [4], \"@timestamp\": \"2020-08-15T19:27:56.549271\", \"level\": \"DEBUG\", \"logger\": \"django.db.backends\"}\n",
      "{\"message\": \"(0.000) SELECT \\\"agency\\\".\\\"id\\\", \\\"agency\\\".\\\"created_by_id\\\", \\\"agency\\\".\\\"created_at\\\", \\\"agency\\\".\\\"modified_at\\\", \\\"agency\\\".\\\"name\\\", \\\"agency\\\".\\\"ref_id\\\" FROM \\\"agency\\\" WHERE \\\"agency\\\".\\\"ref_id\\\" = 1 LIMIT 21; args=(1,)\", \"duration\": 0.0003593489999502708, \"sql\": \"SELECT \\\"agency\\\".\\\"id\\\", \\\"agency\\\".\\\"created_by_id\\\", \\\"agency\\\".\\\"created_at\\\", \\\"agency\\\".\\\"modified_at\\\", \\\"agency\\\".\\\"name\\\", \\\"agency\\\".\\\"ref_id\\\" FROM \\\"agency\\\" WHERE \\\"agency\\\".\\\"ref_id\\\" = 1 LIMIT 21\", \"params\": [1], \"@timestamp\": \"2020-08-15T19:27:56.551125\", \"level\": \"DEBUG\", \"logger\": \"django.db.backends\"}\n",
      "{\"message\": \"(0.001) SELECT \\\"agency\\\".\\\"id\\\", \\\"agency\\\".\\\"created_by_id\\\", \\\"agency\\\".\\\"created_at\\\", \\\"agency\\\".\\\"modified_at\\\", \\\"agency\\\".\\\"name\\\", \\\"agency\\\".\\\"ref_id\\\" FROM \\\"agency\\\" WHERE \\\"agency\\\".\\\"ref_id\\\" = 1 LIMIT 21; args=(1,)\", \"duration\": 0.0005168760000060502, \"sql\": \"SELECT \\\"agency\\\".\\\"id\\\", \\\"agency\\\".\\\"created_by_id\\\", \\\"agency\\\".\\\"created_at\\\", \\\"agency\\\".\\\"modified_at\\\", \\\"agency\\\".\\\"name\\\", \\\"agency\\\".\\\"ref_id\\\" FROM \\\"agency\\\" WHERE \\\"agency\\\".\\\"ref_id\\\" = 1 LIMIT 21\", \"params\": [1], \"@timestamp\": \"2020-08-15T19:27:56.553171\", \"level\": \"DEBUG\", \"logger\": \"django.db.backends\"}\n",
      "{\"message\": \"(0.001) SELECT \\\"agency\\\".\\\"id\\\", \\\"agency\\\".\\\"created_by_id\\\", \\\"agency\\\".\\\"created_at\\\", \\\"agency\\\".\\\"modified_at\\\", \\\"agency\\\".\\\"name\\\", \\\"agency\\\".\\\"ref_id\\\" FROM \\\"agency\\\" WHERE \\\"agency\\\".\\\"ref_id\\\" = 1 LIMIT 21; args=(1,)\", \"duration\": 0.0013702359999570035, \"sql\": \"SELECT \\\"agency\\\".\\\"id\\\", \\\"agency\\\".\\\"created_by_id\\\", \\\"agency\\\".\\\"created_at\\\", \\\"agency\\\".\\\"modified_at\\\", \\\"agency\\\".\\\"name\\\", \\\"agency\\\".\\\"ref_id\\\" FROM \\\"agency\\\" WHERE \\\"agency\\\".\\\"ref_id\\\" = 1 LIMIT 21\", \"params\": [1], \"@timestamp\": \"2020-08-15T19:27:56.556412\", \"level\": \"DEBUG\", \"logger\": \"django.db.backends\"}\n",
      "{\"message\": \"(0.001) SELECT \\\"agency\\\".\\\"id\\\", \\\"agency\\\".\\\"created_by_id\\\", \\\"agency\\\".\\\"created_at\\\", \\\"agency\\\".\\\"modified_at\\\", \\\"agency\\\".\\\"name\\\", \\\"agency\\\".\\\"ref_id\\\" FROM \\\"agency\\\" WHERE \\\"agency\\\".\\\"ref_id\\\" = 5 LIMIT 21; args=(5,)\", \"duration\": 0.0012958569999454994, \"sql\": \"SELECT \\\"agency\\\".\\\"id\\\", \\\"agency\\\".\\\"created_by_id\\\", \\\"agency\\\".\\\"created_at\\\", \\\"agency\\\".\\\"modified_at\\\", \\\"agency\\\".\\\"name\\\", \\\"agency\\\".\\\"ref_id\\\" FROM \\\"agency\\\" WHERE \\\"agency\\\".\\\"ref_id\\\" = 5 LIMIT 21\", \"params\": [5], \"@timestamp\": \"2020-08-15T19:27:56.560511\", \"level\": \"DEBUG\", \"logger\": \"django.db.backends\"}\n",
      "{\"message\": \"(0.002) SELECT \\\"agency\\\".\\\"id\\\", \\\"agency\\\".\\\"created_by_id\\\", \\\"agency\\\".\\\"created_at\\\", \\\"agency\\\".\\\"modified_at\\\", \\\"agency\\\".\\\"name\\\", \\\"agency\\\".\\\"ref_id\\\" FROM \\\"agency\\\" WHERE \\\"agency\\\".\\\"ref_id\\\" = 1 LIMIT 21; args=(1,)\", \"duration\": 0.00179225600004429, \"sql\": \"SELECT \\\"agency\\\".\\\"id\\\", \\\"agency\\\".\\\"created_by_id\\\", \\\"agency\\\".\\\"created_at\\\", \\\"agency\\\".\\\"modified_at\\\", \\\"agency\\\".\\\"name\\\", \\\"agency\\\".\\\"ref_id\\\" FROM \\\"agency\\\" WHERE \\\"agency\\\".\\\"ref_id\\\" = 1 LIMIT 21\", \"params\": [1], \"@timestamp\": \"2020-08-15T19:27:56.563893\", \"level\": \"DEBUG\", \"logger\": \"django.db.backends\"}\n",
      "{\"message\": \"(0.000) SELECT \\\"agency\\\".\\\"id\\\", \\\"agency\\\".\\\"created_by_id\\\", \\\"agency\\\".\\\"created_at\\\", \\\"agency\\\".\\\"modified_at\\\", \\\"agency\\\".\\\"name\\\", \\\"agency\\\".\\\"ref_id\\\" FROM \\\"agency\\\" WHERE \\\"agency\\\".\\\"ref_id\\\" = 2 LIMIT 21; args=(2,)\", \"duration\": 0.0003318330000183778, \"sql\": \"SELECT \\\"agency\\\".\\\"id\\\", \\\"agency\\\".\\\"created_by_id\\\", \\\"agency\\\".\\\"created_at\\\", \\\"agency\\\".\\\"modified_at\\\", \\\"agency\\\".\\\"name\\\", \\\"agency\\\".\\\"ref_id\\\" FROM \\\"agency\\\" WHERE \\\"agency\\\".\\\"ref_id\\\" = 2 LIMIT 21\", \"params\": [2], \"@timestamp\": \"2020-08-15T19:27:56.567244\", \"level\": \"DEBUG\", \"logger\": \"django.db.backends\"}\n",
      "{\"message\": \"(0.000) SELECT \\\"agency\\\".\\\"id\\\", \\\"agency\\\".\\\"created_by_id\\\", \\\"agency\\\".\\\"created_at\\\", \\\"agency\\\".\\\"modified_at\\\", \\\"agency\\\".\\\"name\\\", \\\"agency\\\".\\\"ref_id\\\" FROM \\\"agency\\\" WHERE \\\"agency\\\".\\\"ref_id\\\" = 3 LIMIT 21; args=(3,)\", \"duration\": 0.00024471599999742466, \"sql\": \"SELECT \\\"agency\\\".\\\"id\\\", \\\"agency\\\".\\\"created_by_id\\\", \\\"agency\\\".\\\"created_at\\\", \\\"agency\\\".\\\"modified_at\\\", \\\"agency\\\".\\\"name\\\", \\\"agency\\\".\\\"ref_id\\\" FROM \\\"agency\\\" WHERE \\\"agency\\\".\\\"ref_id\\\" = 3 LIMIT 21\", \"params\": [3], \"@timestamp\": \"2020-08-15T19:27:56.568861\", \"level\": \"DEBUG\", \"logger\": \"django.db.backends\"}\n"
     ]
    },
    {
     "name": "stderr",
     "output_type": "stream",
     "text": [
      "{\"message\": \"(0.000) SELECT \\\"agency\\\".\\\"id\\\", \\\"agency\\\".\\\"created_by_id\\\", \\\"agency\\\".\\\"created_at\\\", \\\"agency\\\".\\\"modified_at\\\", \\\"agency\\\".\\\"name\\\", \\\"agency\\\".\\\"ref_id\\\" FROM \\\"agency\\\" WHERE \\\"agency\\\".\\\"ref_id\\\" = 2 LIMIT 21; args=(2,)\", \"duration\": 0.0003126739999288475, \"sql\": \"SELECT \\\"agency\\\".\\\"id\\\", \\\"agency\\\".\\\"created_by_id\\\", \\\"agency\\\".\\\"created_at\\\", \\\"agency\\\".\\\"modified_at\\\", \\\"agency\\\".\\\"name\\\", \\\"agency\\\".\\\"ref_id\\\" FROM \\\"agency\\\" WHERE \\\"agency\\\".\\\"ref_id\\\" = 2 LIMIT 21\", \"params\": [2], \"@timestamp\": \"2020-08-15T19:27:56.570643\", \"level\": \"DEBUG\", \"logger\": \"django.db.backends\"}\n",
      "{\"message\": \"(0.000) SELECT \\\"agency\\\".\\\"id\\\", \\\"agency\\\".\\\"created_by_id\\\", \\\"agency\\\".\\\"created_at\\\", \\\"agency\\\".\\\"modified_at\\\", \\\"agency\\\".\\\"name\\\", \\\"agency\\\".\\\"ref_id\\\" FROM \\\"agency\\\" WHERE \\\"agency\\\".\\\"ref_id\\\" = 2 LIMIT 21; args=(2,)\", \"duration\": 0.00039938099996561505, \"sql\": \"SELECT \\\"agency\\\".\\\"id\\\", \\\"agency\\\".\\\"created_by_id\\\", \\\"agency\\\".\\\"created_at\\\", \\\"agency\\\".\\\"modified_at\\\", \\\"agency\\\".\\\"name\\\", \\\"agency\\\".\\\"ref_id\\\" FROM \\\"agency\\\" WHERE \\\"agency\\\".\\\"ref_id\\\" = 2 LIMIT 21\", \"params\": [2], \"@timestamp\": \"2020-08-15T19:27:56.572500\", \"level\": \"DEBUG\", \"logger\": \"django.db.backends\"}\n",
      "{\"message\": \"(0.000) SELECT \\\"agency\\\".\\\"id\\\", \\\"agency\\\".\\\"created_by_id\\\", \\\"agency\\\".\\\"created_at\\\", \\\"agency\\\".\\\"modified_at\\\", \\\"agency\\\".\\\"name\\\", \\\"agency\\\".\\\"ref_id\\\" FROM \\\"agency\\\" WHERE \\\"agency\\\".\\\"ref_id\\\" = 2 LIMIT 21; args=(2,)\", \"duration\": 0.00037402300006306177, \"sql\": \"SELECT \\\"agency\\\".\\\"id\\\", \\\"agency\\\".\\\"created_by_id\\\", \\\"agency\\\".\\\"created_at\\\", \\\"agency\\\".\\\"modified_at\\\", \\\"agency\\\".\\\"name\\\", \\\"agency\\\".\\\"ref_id\\\" FROM \\\"agency\\\" WHERE \\\"agency\\\".\\\"ref_id\\\" = 2 LIMIT 21\", \"params\": [2], \"@timestamp\": \"2020-08-15T19:27:56.574496\", \"level\": \"DEBUG\", \"logger\": \"django.db.backends\"}\n",
      "{\"message\": \"(0.000) SELECT \\\"agency\\\".\\\"id\\\", \\\"agency\\\".\\\"created_by_id\\\", \\\"agency\\\".\\\"created_at\\\", \\\"agency\\\".\\\"modified_at\\\", \\\"agency\\\".\\\"name\\\", \\\"agency\\\".\\\"ref_id\\\" FROM \\\"agency\\\" WHERE \\\"agency\\\".\\\"ref_id\\\" = 3 LIMIT 21; args=(3,)\", \"duration\": 0.0003559729999551564, \"sql\": \"SELECT \\\"agency\\\".\\\"id\\\", \\\"agency\\\".\\\"created_by_id\\\", \\\"agency\\\".\\\"created_at\\\", \\\"agency\\\".\\\"modified_at\\\", \\\"agency\\\".\\\"name\\\", \\\"agency\\\".\\\"ref_id\\\" FROM \\\"agency\\\" WHERE \\\"agency\\\".\\\"ref_id\\\" = 3 LIMIT 21\", \"params\": [3], \"@timestamp\": \"2020-08-15T19:27:56.576333\", \"level\": \"DEBUG\", \"logger\": \"django.db.backends\"}\n",
      "{\"message\": \"(0.000) SELECT \\\"agency\\\".\\\"id\\\", \\\"agency\\\".\\\"created_by_id\\\", \\\"agency\\\".\\\"created_at\\\", \\\"agency\\\".\\\"modified_at\\\", \\\"agency\\\".\\\"name\\\", \\\"agency\\\".\\\"ref_id\\\" FROM \\\"agency\\\" WHERE \\\"agency\\\".\\\"ref_id\\\" = 4 LIMIT 21; args=(4,)\", \"duration\": 0.0003842099999928905, \"sql\": \"SELECT \\\"agency\\\".\\\"id\\\", \\\"agency\\\".\\\"created_by_id\\\", \\\"agency\\\".\\\"created_at\\\", \\\"agency\\\".\\\"modified_at\\\", \\\"agency\\\".\\\"name\\\", \\\"agency\\\".\\\"ref_id\\\" FROM \\\"agency\\\" WHERE \\\"agency\\\".\\\"ref_id\\\" = 4 LIMIT 21\", \"params\": [4], \"@timestamp\": \"2020-08-15T19:27:56.578125\", \"level\": \"DEBUG\", \"logger\": \"django.db.backends\"}\n"
     ]
    }
   ],
   "source": [
    "cur_client_ids = [c.id for c in Client.objects.all()]\n",
    "cur_agclients = [(str(ac.client_id), str(ac.agency_ref.ref_id)) for ac in AgencyClient.objects.all()]\n",
    "\n",
    "# For each entry in the client example data dataframe\n",
    "# Add an entry for agency-client using the dataframe agency_assoc\n",
    "desc = 'Data sharing through client release'\n",
    "for c in Client.objects.all():\n",
    "    for a in c.agency_assoc.strip(',').split(','):\n",
    "        agency = Agency.objects.get(ref_id=a)\n",
    "        if (str(c.id), a) not in cur_agclients:\n",
    "            ac = AgencyClient(client_id=c.id,\n",
    "                              agency_ref=agency,\n",
    "                              desc=desc\n",
    "                             )\n",
    "            ac.save()\n",
    "        \n",
    "        "
   ]
  },
  {
   "cell_type": "markdown",
   "metadata": {},
   "source": [
    "### View the new model dataset"
   ]
  },
  {
   "cell_type": "code",
   "execution_count": 45,
   "metadata": {
    "ExecuteTime": {
     "end_time": "2020-08-15T19:28:12.792931Z",
     "start_time": "2020-08-15T19:28:12.787379Z"
    }
   },
   "outputs": [
    {
     "name": "stderr",
     "output_type": "stream",
     "text": [
      "{\"message\": \"(0.001) SELECT \\\"agency_client\\\".\\\"id\\\", \\\"agency_client\\\".\\\"client_id\\\", \\\"agency_client\\\".\\\"agency_ref\\\", \\\"agency_client\\\".\\\"desc\\\" FROM \\\"agency_client\\\" LIMIT 21; args=()\", \"duration\": 0.0006429789999629065, \"sql\": \"SELECT \\\"agency_client\\\".\\\"id\\\", \\\"agency_client\\\".\\\"client_id\\\", \\\"agency_client\\\".\\\"agency_ref\\\", \\\"agency_client\\\".\\\"desc\\\" FROM \\\"agency_client\\\" LIMIT 21\", \"params\": [], \"@timestamp\": \"2020-08-15T19:28:12.789225\", \"level\": \"DEBUG\", \"logger\": \"django.db.backends\"}\n"
     ]
    },
    {
     "name": "stdout",
     "output_type": "stream",
     "text": [
      "<bound method QuerySet.values_list of <QuerySet [<AgencyClient: AgencyClient object (1)>, <AgencyClient: AgencyClient object (2)>, <AgencyClient: AgencyClient object (3)>, <AgencyClient: AgencyClient object (4)>, <AgencyClient: AgencyClient object (5)>, <AgencyClient: AgencyClient object (6)>, <AgencyClient: AgencyClient object (7)>, <AgencyClient: AgencyClient object (8)>, <AgencyClient: AgencyClient object (9)>, <AgencyClient: AgencyClient object (10)>, <AgencyClient: AgencyClient object (11)>, <AgencyClient: AgencyClient object (12)>, <AgencyClient: AgencyClient object (13)>, <AgencyClient: AgencyClient object (14)>, <AgencyClient: AgencyClient object (15)>, <AgencyClient: AgencyClient object (16)>, <AgencyClient: AgencyClient object (17)>, <AgencyClient: AgencyClient object (18)>, <AgencyClient: AgencyClient object (19)>, <AgencyClient: AgencyClient object (20)>, '...(remaining elements truncated)...']>>\n"
     ]
    }
   ],
   "source": [
    "# Retrieve data from the agency object\n",
    "print(AgencyClient.objects.all().values_list)\n"
   ]
  },
  {
   "cell_type": "markdown",
   "metadata": {},
   "source": [
    "## Add some data to the Group and apply Permissions \n",
    "\n",
    "In this section, we are pulling data from the Google Sheet to add to the Group model and to assign permissions to these groups using the Permission model.\n",
    "\n",
    "Notes\n",
    "\n",
    "- This simulation only applies permissions to the Client model.  \n",
    "- This simulation use the out-of-the box Django Group and Permissions models.  However, it adds an agency layer in which users can be in different groups for different agencies. \n",
    "\n",
    "\n"
   ]
  },
  {
   "cell_type": "markdown",
   "metadata": {},
   "source": [
    "### Read the example data from the Google Sheets"
   ]
  },
  {
   "cell_type": "code",
   "execution_count": 46,
   "metadata": {
    "ExecuteTime": {
     "end_time": "2020-08-15T19:28:18.957923Z",
     "start_time": "2020-08-15T19:28:17.647577Z"
    }
   },
   "outputs": [
    {
     "data": {
      "text/markdown": [
       "### The groups_perms demo dataframe:"
      ],
      "text/plain": [
       "<IPython.core.display.Markdown object>"
      ]
     },
     "metadata": {},
     "output_type": "display_data"
    },
    {
     "data": {
      "text/html": [
       "<div>\n",
       "<style scoped>\n",
       "    .dataframe tbody tr th:only-of-type {\n",
       "        vertical-align: middle;\n",
       "    }\n",
       "\n",
       "    .dataframe tbody tr th {\n",
       "        vertical-align: top;\n",
       "    }\n",
       "\n",
       "    .dataframe thead th {\n",
       "        text-align: right;\n",
       "    }\n",
       "</style>\n",
       "<table border=\"1\" class=\"dataframe\">\n",
       "  <thead>\n",
       "    <tr style=\"text-align: right;\">\n",
       "      <th></th>\n",
       "      <th>group</th>\n",
       "      <th>model</th>\n",
       "      <th>perm_slug</th>\n",
       "      <th>perm_id</th>\n",
       "      <th>perm_name</th>\n",
       "    </tr>\n",
       "  </thead>\n",
       "  <tbody>\n",
       "    <tr>\n",
       "      <th>0</th>\n",
       "      <td>Administrator</td>\n",
       "      <td>client</td>\n",
       "      <td>add</td>\n",
       "      <td>41</td>\n",
       "      <td>Can add client</td>\n",
       "    </tr>\n",
       "    <tr>\n",
       "      <th>1</th>\n",
       "      <td>Administrator</td>\n",
       "      <td>client</td>\n",
       "      <td>change</td>\n",
       "      <td>42</td>\n",
       "      <td>Can change client</td>\n",
       "    </tr>\n",
       "    <tr>\n",
       "      <th>2</th>\n",
       "      <td>Administrator</td>\n",
       "      <td>client</td>\n",
       "      <td>delete</td>\n",
       "      <td>43</td>\n",
       "      <td>Can delete client</td>\n",
       "    </tr>\n",
       "    <tr>\n",
       "      <th>3</th>\n",
       "      <td>Administrator</td>\n",
       "      <td>client</td>\n",
       "      <td>view</td>\n",
       "      <td>44</td>\n",
       "      <td>Can view client</td>\n",
       "    </tr>\n",
       "    <tr>\n",
       "      <th>4</th>\n",
       "      <td>Case Worker</td>\n",
       "      <td>client</td>\n",
       "      <td>change</td>\n",
       "      <td>42</td>\n",
       "      <td>Can change client</td>\n",
       "    </tr>\n",
       "    <tr>\n",
       "      <th>5</th>\n",
       "      <td>Case Worker</td>\n",
       "      <td>client</td>\n",
       "      <td>view</td>\n",
       "      <td>44</td>\n",
       "      <td>Can view client</td>\n",
       "    </tr>\n",
       "    <tr>\n",
       "      <th>6</th>\n",
       "      <td>Analyst</td>\n",
       "      <td>client</td>\n",
       "      <td>view</td>\n",
       "      <td>44</td>\n",
       "      <td>Can view client</td>\n",
       "    </tr>\n",
       "  </tbody>\n",
       "</table>\n",
       "</div>"
      ],
      "text/plain": [
       "           group   model perm_slug  perm_id          perm_name\n",
       "0  Administrator  client       add       41     Can add client\n",
       "1  Administrator  client    change       42  Can change client\n",
       "2  Administrator  client    delete       43  Can delete client\n",
       "3  Administrator  client      view       44    Can view client\n",
       "4    Case Worker  client    change       42  Can change client\n",
       "5    Case Worker  client      view       44    Can view client\n",
       "6        Analyst  client      view       44    Can view client"
      ]
     },
     "metadata": {},
     "output_type": "display_data"
    }
   ],
   "source": [
    "# Set up a filter\n",
    "t_table='groups_perms'\n",
    "\n",
    "# Get demo data, display it and save in a dictionary\n",
    "dfs[t_table]=get_demo_data(table=t_table)\n",
    "\n"
   ]
  },
  {
   "cell_type": "markdown",
   "metadata": {},
   "source": [
    "## Create group roles"
   ]
  },
  {
   "cell_type": "code",
   "execution_count": 47,
   "metadata": {
    "ExecuteTime": {
     "end_time": "2020-08-15T19:28:28.035951Z",
     "start_time": "2020-08-15T19:28:27.974246Z"
    }
   },
   "outputs": [
    {
     "name": "stderr",
     "output_type": "stream",
     "text": [
      "{\"message\": \"(0.001) SELECT \\\"auth_group\\\".\\\"id\\\", \\\"auth_group\\\".\\\"name\\\" FROM \\\"auth_group\\\"; args=()\", \"duration\": 0.0009866209999245257, \"sql\": \"SELECT \\\"auth_group\\\".\\\"id\\\", \\\"auth_group\\\".\\\"name\\\" FROM \\\"auth_group\\\"\", \"params\": [], \"@timestamp\": \"2020-08-15T19:28:28.024177\", \"level\": \"DEBUG\", \"logger\": \"django.db.backends\"}\n",
      "{\"message\": \"(0.002) INSERT INTO \\\"auth_group\\\" (\\\"name\\\") VALUES ('Administrator') RETURNING \\\"auth_group\\\".\\\"id\\\"; args=('Administrator',)\", \"duration\": 0.0016446219999579625, \"sql\": \"INSERT INTO \\\"auth_group\\\" (\\\"name\\\") VALUES ('Administrator') RETURNING \\\"auth_group\\\".\\\"id\\\"\", \"params\": [\"Administrator\"], \"@timestamp\": \"2020-08-15T19:28:28.027776\", \"level\": \"DEBUG\", \"logger\": \"django.db.backends\"}\n",
      "{\"message\": \"(0.001) INSERT INTO \\\"auth_group\\\" (\\\"name\\\") VALUES ('Case Worker') RETURNING \\\"auth_group\\\".\\\"id\\\"; args=('Case Worker',)\", \"duration\": 0.0006636969999362918, \"sql\": \"INSERT INTO \\\"auth_group\\\" (\\\"name\\\") VALUES ('Case Worker') RETURNING \\\"auth_group\\\".\\\"id\\\"\", \"params\": [\"Case Worker\"], \"@timestamp\": \"2020-08-15T19:28:28.029577\", \"level\": \"DEBUG\", \"logger\": \"django.db.backends\"}\n",
      "{\"message\": \"(0.002) INSERT INTO \\\"auth_group\\\" (\\\"name\\\") VALUES ('Analyst') RETURNING \\\"auth_group\\\".\\\"id\\\"; args=('Analyst',)\", \"duration\": 0.0017403550000381074, \"sql\": \"INSERT INTO \\\"auth_group\\\" (\\\"name\\\") VALUES ('Analyst') RETURNING \\\"auth_group\\\".\\\"id\\\"\", \"params\": [\"Analyst\"], \"@timestamp\": \"2020-08-15T19:28:28.032532\", \"level\": \"DEBUG\", \"logger\": \"django.db.backends\"}\n"
     ]
    }
   ],
   "source": [
    "# Get a list of the current role names\n",
    "cur_group_names = [g.name for g in Group.objects.all()]\n",
    "\n",
    "# For each role in the roles dictionary, add it\n",
    "for group in dfs[t_table]['group'].unique():\n",
    "    if group not in cur_group_names:\n",
    "        g = Group(name=group)\n",
    "        g.save()\n"
   ]
  },
  {
   "cell_type": "markdown",
   "metadata": {},
   "source": [
    "## Add permissions to groups"
   ]
  },
  {
   "cell_type": "code",
   "execution_count": 49,
   "metadata": {
    "ExecuteTime": {
     "end_time": "2020-08-15T19:28:57.100616Z",
     "start_time": "2020-08-15T19:28:57.000834Z"
    }
   },
   "outputs": [
    {
     "name": "stderr",
     "output_type": "stream",
     "text": [
      "{\"message\": \"(0.001) SELECT \\\"auth_group\\\".\\\"id\\\", \\\"auth_group\\\".\\\"name\\\" FROM \\\"auth_group\\\"; args=()\", \"duration\": 0.0010013570000637628, \"sql\": \"SELECT \\\"auth_group\\\".\\\"id\\\", \\\"auth_group\\\".\\\"name\\\" FROM \\\"auth_group\\\"\", \"params\": [], \"@timestamp\": \"2020-08-15T19:28:57.052036\", \"level\": \"DEBUG\", \"logger\": \"django.db.backends\"}\n",
      "{\"message\": \"(0.002) DECLARE \\\"_django_curs_4578045376_140471350272864_1\\\" NO SCROLL CURSOR WITH HOLD FOR SELECT \\\"auth_permission\\\".\\\"id\\\", \\\"auth_permission\\\".\\\"name\\\", \\\"auth_permission\\\".\\\"content_type_id\\\", \\\"auth_permission\\\".\\\"codename\\\" FROM \\\"auth_permission\\\" INNER JOIN \\\"auth_group_permissions\\\" ON (\\\"auth_permission\\\".\\\"id\\\" = \\\"auth_group_permissions\\\".\\\"permission_id\\\") INNER JOIN \\\"django_content_type\\\" ON (\\\"auth_permission\\\".\\\"content_type_id\\\" = \\\"django_content_type\\\".\\\"id\\\") WHERE \\\"auth_group_permissions\\\".\\\"group_id\\\" = 1 ORDER BY \\\"django_content_type\\\".\\\"app_label\\\" ASC, \\\"django_content_type\\\".\\\"model\\\" ASC, \\\"auth_permission\\\".\\\"codename\\\" ASC; args=(1,)\", \"duration\": 0.0019052830000418908, \"sql\": \"DECLARE \\\"_django_curs_4578045376_140471350272864_1\\\" NO SCROLL CURSOR WITH HOLD FOR SELECT \\\"auth_permission\\\".\\\"id\\\", \\\"auth_permission\\\".\\\"name\\\", \\\"auth_permission\\\".\\\"content_type_id\\\", \\\"auth_permission\\\".\\\"codename\\\" FROM \\\"auth_permission\\\" INNER JOIN \\\"auth_group_permissions\\\" ON (\\\"auth_permission\\\".\\\"id\\\" = \\\"auth_group_permissions\\\".\\\"permission_id\\\") INNER JOIN \\\"django_content_type\\\" ON (\\\"auth_permission\\\".\\\"content_type_id\\\" = \\\"django_content_type\\\".\\\"id\\\") WHERE \\\"auth_group_permissions\\\".\\\"group_id\\\" = 1 ORDER BY \\\"django_content_type\\\".\\\"app_label\\\" ASC, \\\"django_content_type\\\".\\\"model\\\" ASC, \\\"auth_permission\\\".\\\"codename\\\" ASC\", \"params\": [1], \"@timestamp\": \"2020-08-15T19:28:57.057260\", \"level\": \"DEBUG\", \"logger\": \"django.db.backends\"}\n",
      "{\"message\": \"(0.001) INSERT INTO \\\"auth_group_permissions\\\" (\\\"group_id\\\", \\\"permission_id\\\") VALUES (1, 41) ON CONFLICT DO NOTHING; args=(1, 41)\", \"duration\": 0.0011469080000097165, \"sql\": \"INSERT INTO \\\"auth_group_permissions\\\" (\\\"group_id\\\", \\\"permission_id\\\") VALUES (1, 41) ON CONFLICT DO NOTHING\", \"params\": [1, 41], \"@timestamp\": \"2020-08-15T19:28:57.061055\", \"level\": \"DEBUG\", \"logger\": \"django.db.backends\"}\n",
      "{\"message\": \"(0.000) INSERT INTO \\\"auth_group_permissions\\\" (\\\"group_id\\\", \\\"permission_id\\\") VALUES (1, 42) ON CONFLICT DO NOTHING; args=(1, 42)\", \"duration\": 0.00040320600010090857, \"sql\": \"INSERT INTO \\\"auth_group_permissions\\\" (\\\"group_id\\\", \\\"permission_id\\\") VALUES (1, 42) ON CONFLICT DO NOTHING\", \"params\": [1, 42], \"@timestamp\": \"2020-08-15T19:28:57.064207\", \"level\": \"DEBUG\", \"logger\": \"django.db.backends\"}\n",
      "{\"message\": \"(0.000) INSERT INTO \\\"auth_group_permissions\\\" (\\\"group_id\\\", \\\"permission_id\\\") VALUES (1, 43) ON CONFLICT DO NOTHING; args=(1, 43)\", \"duration\": 0.00034088400002474373, \"sql\": \"INSERT INTO \\\"auth_group_permissions\\\" (\\\"group_id\\\", \\\"permission_id\\\") VALUES (1, 43) ON CONFLICT DO NOTHING\", \"params\": [1, 43], \"@timestamp\": \"2020-08-15T19:28:57.066748\", \"level\": \"DEBUG\", \"logger\": \"django.db.backends\"}\n",
      "{\"message\": \"(0.001) INSERT INTO \\\"auth_group_permissions\\\" (\\\"group_id\\\", \\\"permission_id\\\") VALUES (1, 44) ON CONFLICT DO NOTHING; args=(1, 44)\", \"duration\": 0.0006965649999983725, \"sql\": \"INSERT INTO \\\"auth_group_permissions\\\" (\\\"group_id\\\", \\\"permission_id\\\") VALUES (1, 44) ON CONFLICT DO NOTHING\", \"params\": [1, 44], \"@timestamp\": \"2020-08-15T19:28:57.069646\", \"level\": \"DEBUG\", \"logger\": \"django.db.backends\"}\n",
      "{\"message\": \"(0.001) DECLARE \\\"_django_curs_4578045376_140471350272864_2\\\" NO SCROLL CURSOR WITH HOLD FOR SELECT \\\"auth_permission\\\".\\\"id\\\", \\\"auth_permission\\\".\\\"name\\\", \\\"auth_permission\\\".\\\"content_type_id\\\", \\\"auth_permission\\\".\\\"codename\\\" FROM \\\"auth_permission\\\" INNER JOIN \\\"auth_group_permissions\\\" ON (\\\"auth_permission\\\".\\\"id\\\" = \\\"auth_group_permissions\\\".\\\"permission_id\\\") INNER JOIN \\\"django_content_type\\\" ON (\\\"auth_permission\\\".\\\"content_type_id\\\" = \\\"django_content_type\\\".\\\"id\\\") WHERE \\\"auth_group_permissions\\\".\\\"group_id\\\" = 2 ORDER BY \\\"django_content_type\\\".\\\"app_label\\\" ASC, \\\"django_content_type\\\".\\\"model\\\" ASC, \\\"auth_permission\\\".\\\"codename\\\" ASC; args=(2,)\", \"duration\": 0.0013054319999810104, \"sql\": \"DECLARE \\\"_django_curs_4578045376_140471350272864_2\\\" NO SCROLL CURSOR WITH HOLD FOR SELECT \\\"auth_permission\\\".\\\"id\\\", \\\"auth_permission\\\".\\\"name\\\", \\\"auth_permission\\\".\\\"content_type_id\\\", \\\"auth_permission\\\".\\\"codename\\\" FROM \\\"auth_permission\\\" INNER JOIN \\\"auth_group_permissions\\\" ON (\\\"auth_permission\\\".\\\"id\\\" = \\\"auth_group_permissions\\\".\\\"permission_id\\\") INNER JOIN \\\"django_content_type\\\" ON (\\\"auth_permission\\\".\\\"content_type_id\\\" = \\\"django_content_type\\\".\\\"id\\\") WHERE \\\"auth_group_permissions\\\".\\\"group_id\\\" = 2 ORDER BY \\\"django_content_type\\\".\\\"app_label\\\" ASC, \\\"django_content_type\\\".\\\"model\\\" ASC, \\\"auth_permission\\\".\\\"codename\\\" ASC\", \"params\": [2], \"@timestamp\": \"2020-08-15T19:28:57.074274\", \"level\": \"DEBUG\", \"logger\": \"django.db.backends\"}\n",
      "{\"message\": \"(0.002) INSERT INTO \\\"auth_group_permissions\\\" (\\\"group_id\\\", \\\"permission_id\\\") VALUES (2, 42) ON CONFLICT DO NOTHING; args=(2, 42)\", \"duration\": 0.0015552529999922626, \"sql\": \"INSERT INTO \\\"auth_group_permissions\\\" (\\\"group_id\\\", \\\"permission_id\\\") VALUES (2, 42) ON CONFLICT DO NOTHING\", \"params\": [2, 42], \"@timestamp\": \"2020-08-15T19:28:57.079284\", \"level\": \"DEBUG\", \"logger\": \"django.db.backends\"}\n",
      "{\"message\": \"(0.000) INSERT INTO \\\"auth_group_permissions\\\" (\\\"group_id\\\", \\\"permission_id\\\") VALUES (2, 44) ON CONFLICT DO NOTHING; args=(2, 44)\", \"duration\": 0.0004680380000081641, \"sql\": \"INSERT INTO \\\"auth_group_permissions\\\" (\\\"group_id\\\", \\\"permission_id\\\") VALUES (2, 44) ON CONFLICT DO NOTHING\", \"params\": [2, 44], \"@timestamp\": \"2020-08-15T19:28:57.082348\", \"level\": \"DEBUG\", \"logger\": \"django.db.backends\"}\n",
      "{\"message\": \"(0.001) DECLARE \\\"_django_curs_4578045376_140471350272864_3\\\" NO SCROLL CURSOR WITH HOLD FOR SELECT \\\"auth_permission\\\".\\\"id\\\", \\\"auth_permission\\\".\\\"name\\\", \\\"auth_permission\\\".\\\"content_type_id\\\", \\\"auth_permission\\\".\\\"codename\\\" FROM \\\"auth_permission\\\" INNER JOIN \\\"auth_group_permissions\\\" ON (\\\"auth_permission\\\".\\\"id\\\" = \\\"auth_group_permissions\\\".\\\"permission_id\\\") INNER JOIN \\\"django_content_type\\\" ON (\\\"auth_permission\\\".\\\"content_type_id\\\" = \\\"django_content_type\\\".\\\"id\\\") WHERE \\\"auth_group_permissions\\\".\\\"group_id\\\" = 3 ORDER BY \\\"django_content_type\\\".\\\"app_label\\\" ASC, \\\"django_content_type\\\".\\\"model\\\" ASC, \\\"auth_permission\\\".\\\"codename\\\" ASC; args=(3,)\", \"duration\": 0.0007391330000245944, \"sql\": \"DECLARE \\\"_django_curs_4578045376_140471350272864_3\\\" NO SCROLL CURSOR WITH HOLD FOR SELECT \\\"auth_permission\\\".\\\"id\\\", \\\"auth_permission\\\".\\\"name\\\", \\\"auth_permission\\\".\\\"content_type_id\\\", \\\"auth_permission\\\".\\\"codename\\\" FROM \\\"auth_permission\\\" INNER JOIN \\\"auth_group_permissions\\\" ON (\\\"auth_permission\\\".\\\"id\\\" = \\\"auth_group_permissions\\\".\\\"permission_id\\\") INNER JOIN \\\"django_content_type\\\" ON (\\\"auth_permission\\\".\\\"content_type_id\\\" = \\\"django_content_type\\\".\\\"id\\\") WHERE \\\"auth_group_permissions\\\".\\\"group_id\\\" = 3 ORDER BY \\\"django_content_type\\\".\\\"app_label\\\" ASC, \\\"django_content_type\\\".\\\"model\\\" ASC, \\\"auth_permission\\\".\\\"codename\\\" ASC\", \"params\": [3], \"@timestamp\": \"2020-08-15T19:28:57.086314\", \"level\": \"DEBUG\", \"logger\": \"django.db.backends\"}\n",
      "{\"message\": \"(0.001) INSERT INTO \\\"auth_group_permissions\\\" (\\\"group_id\\\", \\\"permission_id\\\") VALUES (3, 44) ON CONFLICT DO NOTHING; args=(3, 44)\", \"duration\": 0.0006694539999898552, \"sql\": \"INSERT INTO \\\"auth_group_permissions\\\" (\\\"group_id\\\", \\\"permission_id\\\") VALUES (3, 44) ON CONFLICT DO NOTHING\", \"params\": [3, 44], \"@timestamp\": \"2020-08-15T19:28:57.092470\", \"level\": \"DEBUG\", \"logger\": \"django.db.backends\"}\n"
     ]
    }
   ],
   "source": [
    "# Get a list of the current group ids and names\n",
    "cur_groups = [(group.id, group.name) for group in Group.objects.all()]\n",
    "\n",
    "mask=dfs[t_table]['group']=='Case Worker'\n",
    "dfs[t_table][mask]['group'].unique()\n",
    "\n",
    "# Add new permissions to the roles, if they don't already exist\n",
    "for group in cur_groups:\n",
    "    mask=dfs[t_table]['group']==group[1]\n",
    "    g = Group(id=group[0])\n",
    "    perm_ids = [p.id for p in g.permissions.iterator()]\n",
    "    for perm_id in dfs[t_table][mask]['perm_id'].unique():\n",
    "        if perm_id not in perm_ids:\n",
    "            g.permissions.add(perm_id)\n"
   ]
  },
  {
   "cell_type": "markdown",
   "metadata": {},
   "source": [
    "### View the new model dataset"
   ]
  },
  {
   "cell_type": "code",
   "execution_count": 50,
   "metadata": {
    "ExecuteTime": {
     "end_time": "2020-08-15T19:29:11.303484Z",
     "start_time": "2020-08-15T19:29:11.298423Z"
    }
   },
   "outputs": [
    {
     "name": "stderr",
     "output_type": "stream",
     "text": [
      "{\"message\": \"(0.001) SELECT \\\"auth_group\\\".\\\"id\\\", \\\"auth_group\\\".\\\"name\\\" FROM \\\"auth_group\\\" LIMIT 21; args=()\", \"duration\": 0.0006412449999970704, \"sql\": \"SELECT \\\"auth_group\\\".\\\"id\\\", \\\"auth_group\\\".\\\"name\\\" FROM \\\"auth_group\\\" LIMIT 21\", \"params\": [], \"@timestamp\": \"2020-08-15T19:29:11.300118\", \"level\": \"DEBUG\", \"logger\": \"django.db.backends\"}\n"
     ]
    },
    {
     "name": "stdout",
     "output_type": "stream",
     "text": [
      "<bound method QuerySet.values_list of <QuerySet [<Group: Administrator>, <Group: Case Worker>, <Group: Analyst>]>>\n"
     ]
    }
   ],
   "source": [
    "print(Group.objects.all().values_list)\n",
    "\n"
   ]
  },
  {
   "cell_type": "code",
   "execution_count": 51,
   "metadata": {
    "ExecuteTime": {
     "end_time": "2020-08-15T19:29:19.801705Z",
     "start_time": "2020-08-15T19:29:19.725219Z"
    }
   },
   "outputs": [
    {
     "name": "stderr",
     "output_type": "stream",
     "text": [
      "{\"message\": \"(0.001) SELECT \\\"auth_group\\\".\\\"id\\\", \\\"auth_group\\\".\\\"name\\\" FROM \\\"auth_group\\\"; args=()\", \"duration\": 0.0010049109999954453, \"sql\": \"SELECT \\\"auth_group\\\".\\\"id\\\", \\\"auth_group\\\".\\\"name\\\" FROM \\\"auth_group\\\"\", \"params\": [], \"@timestamp\": \"2020-08-15T19:29:19.775282\", \"level\": \"DEBUG\", \"logger\": \"django.db.backends\"}\n",
      "{\"message\": \"(0.002) DECLARE \\\"_django_curs_4578045376_140471350272544_1\\\" NO SCROLL CURSOR WITH HOLD FOR SELECT \\\"auth_permission\\\".\\\"id\\\", \\\"auth_permission\\\".\\\"name\\\", \\\"auth_permission\\\".\\\"content_type_id\\\", \\\"auth_permission\\\".\\\"codename\\\" FROM \\\"auth_permission\\\" INNER JOIN \\\"auth_group_permissions\\\" ON (\\\"auth_permission\\\".\\\"id\\\" = \\\"auth_group_permissions\\\".\\\"permission_id\\\") INNER JOIN \\\"django_content_type\\\" ON (\\\"auth_permission\\\".\\\"content_type_id\\\" = \\\"django_content_type\\\".\\\"id\\\") WHERE \\\"auth_group_permissions\\\".\\\"group_id\\\" = 1 ORDER BY \\\"django_content_type\\\".\\\"app_label\\\" ASC, \\\"django_content_type\\\".\\\"model\\\" ASC, \\\"auth_permission\\\".\\\"codename\\\" ASC; args=(1,)\", \"duration\": 0.0018224039999950037, \"sql\": \"DECLARE \\\"_django_curs_4578045376_140471350272544_1\\\" NO SCROLL CURSOR WITH HOLD FOR SELECT \\\"auth_permission\\\".\\\"id\\\", \\\"auth_permission\\\".\\\"name\\\", \\\"auth_permission\\\".\\\"content_type_id\\\", \\\"auth_permission\\\".\\\"codename\\\" FROM \\\"auth_permission\\\" INNER JOIN \\\"auth_group_permissions\\\" ON (\\\"auth_permission\\\".\\\"id\\\" = \\\"auth_group_permissions\\\".\\\"permission_id\\\") INNER JOIN \\\"django_content_type\\\" ON (\\\"auth_permission\\\".\\\"content_type_id\\\" = \\\"django_content_type\\\".\\\"id\\\") WHERE \\\"auth_group_permissions\\\".\\\"group_id\\\" = 1 ORDER BY \\\"django_content_type\\\".\\\"app_label\\\" ASC, \\\"django_content_type\\\".\\\"model\\\" ASC, \\\"auth_permission\\\".\\\"codename\\\" ASC\", \"params\": [1], \"@timestamp\": \"2020-08-15T19:29:19.778940\", \"level\": \"DEBUG\", \"logger\": \"django.db.backends\"}\n"
     ]
    },
    {
     "name": "stdout",
     "output_type": "stream",
     "text": [
      "Administrator\n",
      "permissions\n",
      "[(41, 'Can add client'), (42, 'Can change client'), (43, 'Can delete client'), (44, 'Can view client')]\n"
     ]
    },
    {
     "name": "stderr",
     "output_type": "stream",
     "text": [
      "{\"message\": \"(0.001) DECLARE \\\"_django_curs_4578045376_140471350272544_2\\\" NO SCROLL CURSOR WITH HOLD FOR SELECT \\\"auth_permission\\\".\\\"id\\\", \\\"auth_permission\\\".\\\"name\\\", \\\"auth_permission\\\".\\\"content_type_id\\\", \\\"auth_permission\\\".\\\"codename\\\" FROM \\\"auth_permission\\\" INNER JOIN \\\"auth_group_permissions\\\" ON (\\\"auth_permission\\\".\\\"id\\\" = \\\"auth_group_permissions\\\".\\\"permission_id\\\") INNER JOIN \\\"django_content_type\\\" ON (\\\"auth_permission\\\".\\\"content_type_id\\\" = \\\"django_content_type\\\".\\\"id\\\") WHERE \\\"auth_group_permissions\\\".\\\"group_id\\\" = 2 ORDER BY \\\"django_content_type\\\".\\\"app_label\\\" ASC, \\\"django_content_type\\\".\\\"model\\\" ASC, \\\"auth_permission\\\".\\\"codename\\\" ASC; args=(2,)\", \"duration\": 0.0007076140000208397, \"sql\": \"DECLARE \\\"_django_curs_4578045376_140471350272544_2\\\" NO SCROLL CURSOR WITH HOLD FOR SELECT \\\"auth_permission\\\".\\\"id\\\", \\\"auth_permission\\\".\\\"name\\\", \\\"auth_permission\\\".\\\"content_type_id\\\", \\\"auth_permission\\\".\\\"codename\\\" FROM \\\"auth_permission\\\" INNER JOIN \\\"auth_group_permissions\\\" ON (\\\"auth_permission\\\".\\\"id\\\" = \\\"auth_group_permissions\\\".\\\"permission_id\\\") INNER JOIN \\\"django_content_type\\\" ON (\\\"auth_permission\\\".\\\"content_type_id\\\" = \\\"django_content_type\\\".\\\"id\\\") WHERE \\\"auth_group_permissions\\\".\\\"group_id\\\" = 2 ORDER BY \\\"django_content_type\\\".\\\"app_label\\\" ASC, \\\"django_content_type\\\".\\\"model\\\" ASC, \\\"auth_permission\\\".\\\"codename\\\" ASC\", \"params\": [2], \"@timestamp\": \"2020-08-15T19:29:19.784548\", \"level\": \"DEBUG\", \"logger\": \"django.db.backends\"}\n"
     ]
    },
    {
     "name": "stdout",
     "output_type": "stream",
     "text": [
      "Case Worker\n",
      "permissions\n",
      "[(42, 'Can change client'), (44, 'Can view client')]\n"
     ]
    },
    {
     "name": "stderr",
     "output_type": "stream",
     "text": [
      "{\"message\": \"(0.001) DECLARE \\\"_django_curs_4578045376_140471350272544_3\\\" NO SCROLL CURSOR WITH HOLD FOR SELECT \\\"auth_permission\\\".\\\"id\\\", \\\"auth_permission\\\".\\\"name\\\", \\\"auth_permission\\\".\\\"content_type_id\\\", \\\"auth_permission\\\".\\\"codename\\\" FROM \\\"auth_permission\\\" INNER JOIN \\\"auth_group_permissions\\\" ON (\\\"auth_permission\\\".\\\"id\\\" = \\\"auth_group_permissions\\\".\\\"permission_id\\\") INNER JOIN \\\"django_content_type\\\" ON (\\\"auth_permission\\\".\\\"content_type_id\\\" = \\\"django_content_type\\\".\\\"id\\\") WHERE \\\"auth_group_permissions\\\".\\\"group_id\\\" = 3 ORDER BY \\\"django_content_type\\\".\\\"app_label\\\" ASC, \\\"django_content_type\\\".\\\"model\\\" ASC, \\\"auth_permission\\\".\\\"codename\\\" ASC; args=(3,)\", \"duration\": 0.0008078020000539254, \"sql\": \"DECLARE \\\"_django_curs_4578045376_140471350272544_3\\\" NO SCROLL CURSOR WITH HOLD FOR SELECT \\\"auth_permission\\\".\\\"id\\\", \\\"auth_permission\\\".\\\"name\\\", \\\"auth_permission\\\".\\\"content_type_id\\\", \\\"auth_permission\\\".\\\"codename\\\" FROM \\\"auth_permission\\\" INNER JOIN \\\"auth_group_permissions\\\" ON (\\\"auth_permission\\\".\\\"id\\\" = \\\"auth_group_permissions\\\".\\\"permission_id\\\") INNER JOIN \\\"django_content_type\\\" ON (\\\"auth_permission\\\".\\\"content_type_id\\\" = \\\"django_content_type\\\".\\\"id\\\") WHERE \\\"auth_group_permissions\\\".\\\"group_id\\\" = 3 ORDER BY \\\"django_content_type\\\".\\\"app_label\\\" ASC, \\\"django_content_type\\\".\\\"model\\\" ASC, \\\"auth_permission\\\".\\\"codename\\\" ASC\", \"params\": [3], \"@timestamp\": \"2020-08-15T19:29:19.795463\", \"level\": \"DEBUG\", \"logger\": \"django.db.backends\"}\n"
     ]
    },
    {
     "name": "stdout",
     "output_type": "stream",
     "text": [
      "Analyst\n",
      "permissions\n",
      "[(44, 'Can view client')]\n"
     ]
    }
   ],
   "source": [
    "for g in Group.objects.all():\n",
    "    perm_ids = [(p.id, p.name) for p in g.permissions.iterator()]    \n",
    "    print(g.name)\n",
    "    print('permissions')\n",
    "    print(perm_ids)\n",
    "    "
   ]
  },
  {
   "cell_type": "markdown",
   "metadata": {
    "ExecuteTime": {
     "end_time": "2020-08-11T16:31:13.340034Z",
     "start_time": "2020-08-11T16:31:13.337695Z"
    }
   },
   "source": [
    "## Read in Agency-User-Group data from Google Sheets\n",
    "\n",
    "In this section, we are pulling data from the Google Sheet to add data to the SecurityGroupUserAgency model.\n",
    "\n",
    "Notes\n",
    "\n",
    "- This model maps users to agencies and assigns them to a group within each agency.  This mapping is the primary customization from the out-of-the box Django group/permissions framework.\n",
    "\n",
    "\n"
   ]
  },
  {
   "cell_type": "markdown",
   "metadata": {},
   "source": [
    "### Read the example data from Google Sheets"
   ]
  },
  {
   "cell_type": "code",
   "execution_count": 52,
   "metadata": {
    "ExecuteTime": {
     "end_time": "2020-08-15T19:29:34.210686Z",
     "start_time": "2020-08-15T19:29:32.775788Z"
    }
   },
   "outputs": [
    {
     "data": {
      "text/markdown": [
       "### The security_group_user_agency demo dataframe:"
      ],
      "text/plain": [
       "<IPython.core.display.Markdown object>"
      ]
     },
     "metadata": {},
     "output_type": "display_data"
    },
    {
     "data": {
      "text/html": [
       "<div>\n",
       "<style scoped>\n",
       "    .dataframe tbody tr th:only-of-type {\n",
       "        vertical-align: middle;\n",
       "    }\n",
       "\n",
       "    .dataframe tbody tr th {\n",
       "        vertical-align: top;\n",
       "    }\n",
       "\n",
       "    .dataframe thead th {\n",
       "        text-align: right;\n",
       "    }\n",
       "</style>\n",
       "<table border=\"1\" class=\"dataframe\">\n",
       "  <thead>\n",
       "    <tr style=\"text-align: right;\">\n",
       "      <th></th>\n",
       "      <th>desc</th>\n",
       "      <th>agency_ref</th>\n",
       "      <th>group_ref_id</th>\n",
       "      <th>user_ref_id</th>\n",
       "    </tr>\n",
       "  </thead>\n",
       "  <tbody>\n",
       "    <tr>\n",
       "      <th>0</th>\n",
       "      <td>User 1 is in Group 1 for Agency 1</td>\n",
       "      <td>1</td>\n",
       "      <td>1</td>\n",
       "      <td>1</td>\n",
       "    </tr>\n",
       "    <tr>\n",
       "      <th>1</th>\n",
       "      <td>User 1 is in Group 3 for Agency 2</td>\n",
       "      <td>2</td>\n",
       "      <td>3</td>\n",
       "      <td>1</td>\n",
       "    </tr>\n",
       "    <tr>\n",
       "      <th>2</th>\n",
       "      <td>User 2 is in Group 1 for Agency 2</td>\n",
       "      <td>2</td>\n",
       "      <td>1</td>\n",
       "      <td>2</td>\n",
       "    </tr>\n",
       "    <tr>\n",
       "      <th>3</th>\n",
       "      <td>User 3 is in Group 2 for Agency 3</td>\n",
       "      <td>3</td>\n",
       "      <td>2</td>\n",
       "      <td>3</td>\n",
       "    </tr>\n",
       "    <tr>\n",
       "      <th>4</th>\n",
       "      <td>User 4 is in Group 3 for Agency 4</td>\n",
       "      <td>4</td>\n",
       "      <td>3</td>\n",
       "      <td>4</td>\n",
       "    </tr>\n",
       "    <tr>\n",
       "      <th>5</th>\n",
       "      <td>User 5 is in Group 3 for Agency 5</td>\n",
       "      <td>5</td>\n",
       "      <td>3</td>\n",
       "      <td>5</td>\n",
       "    </tr>\n",
       "    <tr>\n",
       "      <th>6</th>\n",
       "      <td>User 6 is in Group 1 for Agency 5</td>\n",
       "      <td>5</td>\n",
       "      <td>1</td>\n",
       "      <td>6</td>\n",
       "    </tr>\n",
       "  </tbody>\n",
       "</table>\n",
       "</div>"
      ],
      "text/plain": [
       "                                desc  agency_ref  group_ref_id  user_ref_id\n",
       "0  User 1 is in Group 1 for Agency 1           1             1            1\n",
       "1  User 1 is in Group 3 for Agency 2           2             3            1\n",
       "2  User 2 is in Group 1 for Agency 2           2             1            2\n",
       "3  User 3 is in Group 2 for Agency 3           3             2            3\n",
       "4  User 4 is in Group 3 for Agency 4           4             3            4\n",
       "5  User 5 is in Group 3 for Agency 5           5             3            5\n",
       "6  User 6 is in Group 1 for Agency 5           5             1            6"
      ]
     },
     "metadata": {},
     "output_type": "display_data"
    }
   ],
   "source": [
    "# Set up a filter\n",
    "t_table='security_group_user_agency'\n",
    "\n",
    "# Get demo data, display it and save in a dictionary\n",
    "dfs[t_table]=get_demo_data(table=t_table)\n"
   ]
  },
  {
   "cell_type": "markdown",
   "metadata": {},
   "source": [
    "### Add data to the model"
   ]
  },
  {
   "cell_type": "code",
   "execution_count": 53,
   "metadata": {
    "ExecuteTime": {
     "end_time": "2020-08-15T19:29:37.121247Z",
     "start_time": "2020-08-15T19:29:36.993677Z"
    },
    "scrolled": false
   },
   "outputs": [
    {
     "name": "stderr",
     "output_type": "stream",
     "text": [
      "{\"message\": \"(0.001) SELECT \\\"security_group_user_agency\\\".\\\"id\\\", \\\"security_group_user_agency\\\".\\\"desc\\\", \\\"security_group_user_agency\\\".\\\"agency_ref\\\", \\\"security_group_user_agency\\\".\\\"user_ref_id\\\", \\\"security_group_user_agency\\\".\\\"group_ref_id\\\" FROM \\\"security_group_user_agency\\\"; args=()\", \"duration\": 0.0011538439999867478, \"sql\": \"SELECT \\\"security_group_user_agency\\\".\\\"id\\\", \\\"security_group_user_agency\\\".\\\"desc\\\", \\\"security_group_user_agency\\\".\\\"agency_ref\\\", \\\"security_group_user_agency\\\".\\\"user_ref_id\\\", \\\"security_group_user_agency\\\".\\\"group_ref_id\\\" FROM \\\"security_group_user_agency\\\"\", \"params\": [], \"@timestamp\": \"2020-08-15T19:29:37.044552\", \"level\": \"DEBUG\", \"logger\": \"django.db.backends\"}\n",
      "{\"message\": \"(0.001) SELECT \\\"auth_user\\\".\\\"id\\\", \\\"auth_user\\\".\\\"password\\\", \\\"auth_user\\\".\\\"last_login\\\", \\\"auth_user\\\".\\\"is_superuser\\\", \\\"auth_user\\\".\\\"username\\\", \\\"auth_user\\\".\\\"first_name\\\", \\\"auth_user\\\".\\\"last_name\\\", \\\"auth_user\\\".\\\"email\\\", \\\"auth_user\\\".\\\"is_staff\\\", \\\"auth_user\\\".\\\"is_active\\\", \\\"auth_user\\\".\\\"date_joined\\\" FROM \\\"auth_user\\\" WHERE \\\"auth_user\\\".\\\"id\\\" = 1 LIMIT 21; args=(1,)\", \"duration\": 0.0009127789999183733, \"sql\": \"SELECT \\\"auth_user\\\".\\\"id\\\", \\\"auth_user\\\".\\\"password\\\", \\\"auth_user\\\".\\\"last_login\\\", \\\"auth_user\\\".\\\"is_superuser\\\", \\\"auth_user\\\".\\\"username\\\", \\\"auth_user\\\".\\\"first_name\\\", \\\"auth_user\\\".\\\"last_name\\\", \\\"auth_user\\\".\\\"email\\\", \\\"auth_user\\\".\\\"is_staff\\\", \\\"auth_user\\\".\\\"is_active\\\", \\\"auth_user\\\".\\\"date_joined\\\" FROM \\\"auth_user\\\" WHERE \\\"auth_user\\\".\\\"id\\\" = 1 LIMIT 21\", \"params\": [1], \"@timestamp\": \"2020-08-15T19:29:37.047856\", \"level\": \"DEBUG\", \"logger\": \"django.db.backends\"}\n",
      "{\"message\": \"(0.038) INSERT INTO \\\"security_group_user_agency\\\" (\\\"desc\\\", \\\"agency_ref\\\", \\\"user_ref_id\\\", \\\"group_ref_id\\\") VALUES ('User 1 is in Group 1 for Agency 1', 1, 1, 1) RETURNING \\\"security_group_user_agency\\\".\\\"id\\\"; args=('User 1 is in Group 1 for Agency 1', 1, 1, 1)\", \"duration\": 0.03843387500000972, \"sql\": \"INSERT INTO \\\"security_group_user_agency\\\" (\\\"desc\\\", \\\"agency_ref\\\", \\\"user_ref_id\\\", \\\"group_ref_id\\\") VALUES ('User 1 is in Group 1 for Agency 1', 1, 1, 1) RETURNING \\\"security_group_user_agency\\\".\\\"id\\\"\", \"params\": [\"User 1 is in Group 1 for Agency 1\", 1, 1, 1], \"@timestamp\": \"2020-08-15T19:29:37.087749\", \"level\": \"DEBUG\", \"logger\": \"django.db.backends\"}\n",
      "{\"message\": \"(0.000) SELECT \\\"auth_user\\\".\\\"id\\\", \\\"auth_user\\\".\\\"password\\\", \\\"auth_user\\\".\\\"last_login\\\", \\\"auth_user\\\".\\\"is_superuser\\\", \\\"auth_user\\\".\\\"username\\\", \\\"auth_user\\\".\\\"first_name\\\", \\\"auth_user\\\".\\\"last_name\\\", \\\"auth_user\\\".\\\"email\\\", \\\"auth_user\\\".\\\"is_staff\\\", \\\"auth_user\\\".\\\"is_active\\\", \\\"auth_user\\\".\\\"date_joined\\\" FROM \\\"auth_user\\\" WHERE \\\"auth_user\\\".\\\"id\\\" = 1 LIMIT 21; args=(1,)\", \"duration\": 0.00033503299994208646, \"sql\": \"SELECT \\\"auth_user\\\".\\\"id\\\", \\\"auth_user\\\".\\\"password\\\", \\\"auth_user\\\".\\\"last_login\\\", \\\"auth_user\\\".\\\"is_superuser\\\", \\\"auth_user\\\".\\\"username\\\", \\\"auth_user\\\".\\\"first_name\\\", \\\"auth_user\\\".\\\"last_name\\\", \\\"auth_user\\\".\\\"email\\\", \\\"auth_user\\\".\\\"is_staff\\\", \\\"auth_user\\\".\\\"is_active\\\", \\\"auth_user\\\".\\\"date_joined\\\" FROM \\\"auth_user\\\" WHERE \\\"auth_user\\\".\\\"id\\\" = 1 LIMIT 21\", \"params\": [1], \"@timestamp\": \"2020-08-15T19:29:37.089629\", \"level\": \"DEBUG\", \"logger\": \"django.db.backends\"}\n",
      "{\"message\": \"(0.005) INSERT INTO \\\"security_group_user_agency\\\" (\\\"desc\\\", \\\"agency_ref\\\", \\\"user_ref_id\\\", \\\"group_ref_id\\\") VALUES ('User 1 is in Group 3 for Agency 2', 2, 1, 3) RETURNING \\\"security_group_user_agency\\\".\\\"id\\\"; args=('User 1 is in Group 3 for Agency 2', 2, 1, 3)\", \"duration\": 0.0047884890000204905, \"sql\": \"INSERT INTO \\\"security_group_user_agency\\\" (\\\"desc\\\", \\\"agency_ref\\\", \\\"user_ref_id\\\", \\\"group_ref_id\\\") VALUES ('User 1 is in Group 3 for Agency 2', 2, 1, 3) RETURNING \\\"security_group_user_agency\\\".\\\"id\\\"\", \"params\": [\"User 1 is in Group 3 for Agency 2\", 2, 1, 3], \"@timestamp\": \"2020-08-15T19:29:37.096019\", \"level\": \"DEBUG\", \"logger\": \"django.db.backends\"}\n",
      "{\"message\": \"(0.000) SELECT \\\"auth_user\\\".\\\"id\\\", \\\"auth_user\\\".\\\"password\\\", \\\"auth_user\\\".\\\"last_login\\\", \\\"auth_user\\\".\\\"is_superuser\\\", \\\"auth_user\\\".\\\"username\\\", \\\"auth_user\\\".\\\"first_name\\\", \\\"auth_user\\\".\\\"last_name\\\", \\\"auth_user\\\".\\\"email\\\", \\\"auth_user\\\".\\\"is_staff\\\", \\\"auth_user\\\".\\\"is_active\\\", \\\"auth_user\\\".\\\"date_joined\\\" FROM \\\"auth_user\\\" WHERE \\\"auth_user\\\".\\\"id\\\" = 2 LIMIT 21; args=(2,)\", \"duration\": 0.00030368000000180473, \"sql\": \"SELECT \\\"auth_user\\\".\\\"id\\\", \\\"auth_user\\\".\\\"password\\\", \\\"auth_user\\\".\\\"last_login\\\", \\\"auth_user\\\".\\\"is_superuser\\\", \\\"auth_user\\\".\\\"username\\\", \\\"auth_user\\\".\\\"first_name\\\", \\\"auth_user\\\".\\\"last_name\\\", \\\"auth_user\\\".\\\"email\\\", \\\"auth_user\\\".\\\"is_staff\\\", \\\"auth_user\\\".\\\"is_active\\\", \\\"auth_user\\\".\\\"date_joined\\\" FROM \\\"auth_user\\\" WHERE \\\"auth_user\\\".\\\"id\\\" = 2 LIMIT 21\", \"params\": [2], \"@timestamp\": \"2020-08-15T19:29:37.097954\", \"level\": \"DEBUG\", \"logger\": \"django.db.backends\"}\n",
      "{\"message\": \"(0.001) INSERT INTO \\\"security_group_user_agency\\\" (\\\"desc\\\", \\\"agency_ref\\\", \\\"user_ref_id\\\", \\\"group_ref_id\\\") VALUES ('User 2 is in Group 1 for Agency 2', 2, 2, 1) RETURNING \\\"security_group_user_agency\\\".\\\"id\\\"; args=('User 2 is in Group 1 for Agency 2', 2, 2, 1)\", \"duration\": 0.0007865320000064457, \"sql\": \"INSERT INTO \\\"security_group_user_agency\\\" (\\\"desc\\\", \\\"agency_ref\\\", \\\"user_ref_id\\\", \\\"group_ref_id\\\") VALUES ('User 2 is in Group 1 for Agency 2', 2, 2, 1) RETURNING \\\"security_group_user_agency\\\".\\\"id\\\"\", \"params\": [\"User 2 is in Group 1 for Agency 2\", 2, 2, 1], \"@timestamp\": \"2020-08-15T19:29:37.100223\", \"level\": \"DEBUG\", \"logger\": \"django.db.backends\"}\n",
      "{\"message\": \"(0.000) SELECT \\\"auth_user\\\".\\\"id\\\", \\\"auth_user\\\".\\\"password\\\", \\\"auth_user\\\".\\\"last_login\\\", \\\"auth_user\\\".\\\"is_superuser\\\", \\\"auth_user\\\".\\\"username\\\", \\\"auth_user\\\".\\\"first_name\\\", \\\"auth_user\\\".\\\"last_name\\\", \\\"auth_user\\\".\\\"email\\\", \\\"auth_user\\\".\\\"is_staff\\\", \\\"auth_user\\\".\\\"is_active\\\", \\\"auth_user\\\".\\\"date_joined\\\" FROM \\\"auth_user\\\" WHERE \\\"auth_user\\\".\\\"id\\\" = 3 LIMIT 21; args=(3,)\", \"duration\": 0.00037749400007669465, \"sql\": \"SELECT \\\"auth_user\\\".\\\"id\\\", \\\"auth_user\\\".\\\"password\\\", \\\"auth_user\\\".\\\"last_login\\\", \\\"auth_user\\\".\\\"is_superuser\\\", \\\"auth_user\\\".\\\"username\\\", \\\"auth_user\\\".\\\"first_name\\\", \\\"auth_user\\\".\\\"last_name\\\", \\\"auth_user\\\".\\\"email\\\", \\\"auth_user\\\".\\\"is_staff\\\", \\\"auth_user\\\".\\\"is_active\\\", \\\"auth_user\\\".\\\"date_joined\\\" FROM \\\"auth_user\\\" WHERE \\\"auth_user\\\".\\\"id\\\" = 3 LIMIT 21\", \"params\": [3], \"@timestamp\": \"2020-08-15T19:29:37.102292\", \"level\": \"DEBUG\", \"logger\": \"django.db.backends\"}\n",
      "{\"message\": \"(0.001) INSERT INTO \\\"security_group_user_agency\\\" (\\\"desc\\\", \\\"agency_ref\\\", \\\"user_ref_id\\\", \\\"group_ref_id\\\") VALUES ('User 3 is in Group 2 for Agency 3', 3, 3, 2) RETURNING \\\"security_group_user_agency\\\".\\\"id\\\"; args=('User 3 is in Group 2 for Agency 3', 3, 3, 2)\", \"duration\": 0.0010061259999929462, \"sql\": \"INSERT INTO \\\"security_group_user_agency\\\" (\\\"desc\\\", \\\"agency_ref\\\", \\\"user_ref_id\\\", \\\"group_ref_id\\\") VALUES ('User 3 is in Group 2 for Agency 3', 3, 3, 2) RETURNING \\\"security_group_user_agency\\\".\\\"id\\\"\", \"params\": [\"User 3 is in Group 2 for Agency 3\", 3, 3, 2], \"@timestamp\": \"2020-08-15T19:29:37.105070\", \"level\": \"DEBUG\", \"logger\": \"django.db.backends\"}\n",
      "{\"message\": \"(0.000) SELECT \\\"auth_user\\\".\\\"id\\\", \\\"auth_user\\\".\\\"password\\\", \\\"auth_user\\\".\\\"last_login\\\", \\\"auth_user\\\".\\\"is_superuser\\\", \\\"auth_user\\\".\\\"username\\\", \\\"auth_user\\\".\\\"first_name\\\", \\\"auth_user\\\".\\\"last_name\\\", \\\"auth_user\\\".\\\"email\\\", \\\"auth_user\\\".\\\"is_staff\\\", \\\"auth_user\\\".\\\"is_active\\\", \\\"auth_user\\\".\\\"date_joined\\\" FROM \\\"auth_user\\\" WHERE \\\"auth_user\\\".\\\"id\\\" = 4 LIMIT 21; args=(4,)\", \"duration\": 0.00041811699998106633, \"sql\": \"SELECT \\\"auth_user\\\".\\\"id\\\", \\\"auth_user\\\".\\\"password\\\", \\\"auth_user\\\".\\\"last_login\\\", \\\"auth_user\\\".\\\"is_superuser\\\", \\\"auth_user\\\".\\\"username\\\", \\\"auth_user\\\".\\\"first_name\\\", \\\"auth_user\\\".\\\"last_name\\\", \\\"auth_user\\\".\\\"email\\\", \\\"auth_user\\\".\\\"is_staff\\\", \\\"auth_user\\\".\\\"is_active\\\", \\\"auth_user\\\".\\\"date_joined\\\" FROM \\\"auth_user\\\" WHERE \\\"auth_user\\\".\\\"id\\\" = 4 LIMIT 21\", \"params\": [4], \"@timestamp\": \"2020-08-15T19:29:37.107506\", \"level\": \"DEBUG\", \"logger\": \"django.db.backends\"}\n",
      "{\"message\": \"(0.001) INSERT INTO \\\"security_group_user_agency\\\" (\\\"desc\\\", \\\"agency_ref\\\", \\\"user_ref_id\\\", \\\"group_ref_id\\\") VALUES ('User 4 is in Group 3 for Agency 4', 4, 4, 3) RETURNING \\\"security_group_user_agency\\\".\\\"id\\\"; args=('User 4 is in Group 3 for Agency 4', 4, 4, 3)\", \"duration\": 0.0007596210000428982, \"sql\": \"INSERT INTO \\\"security_group_user_agency\\\" (\\\"desc\\\", \\\"agency_ref\\\", \\\"user_ref_id\\\", \\\"group_ref_id\\\") VALUES ('User 4 is in Group 3 for Agency 4', 4, 4, 3) RETURNING \\\"security_group_user_agency\\\".\\\"id\\\"\", \"params\": [\"User 4 is in Group 3 for Agency 4\", 4, 4, 3], \"@timestamp\": \"2020-08-15T19:29:37.109913\", \"level\": \"DEBUG\", \"logger\": \"django.db.backends\"}\n"
     ]
    },
    {
     "name": "stderr",
     "output_type": "stream",
     "text": [
      "{\"message\": \"(0.000) SELECT \\\"auth_user\\\".\\\"id\\\", \\\"auth_user\\\".\\\"password\\\", \\\"auth_user\\\".\\\"last_login\\\", \\\"auth_user\\\".\\\"is_superuser\\\", \\\"auth_user\\\".\\\"username\\\", \\\"auth_user\\\".\\\"first_name\\\", \\\"auth_user\\\".\\\"last_name\\\", \\\"auth_user\\\".\\\"email\\\", \\\"auth_user\\\".\\\"is_staff\\\", \\\"auth_user\\\".\\\"is_active\\\", \\\"auth_user\\\".\\\"date_joined\\\" FROM \\\"auth_user\\\" WHERE \\\"auth_user\\\".\\\"id\\\" = 5 LIMIT 21; args=(5,)\", \"duration\": 0.0003505000000814107, \"sql\": \"SELECT \\\"auth_user\\\".\\\"id\\\", \\\"auth_user\\\".\\\"password\\\", \\\"auth_user\\\".\\\"last_login\\\", \\\"auth_user\\\".\\\"is_superuser\\\", \\\"auth_user\\\".\\\"username\\\", \\\"auth_user\\\".\\\"first_name\\\", \\\"auth_user\\\".\\\"last_name\\\", \\\"auth_user\\\".\\\"email\\\", \\\"auth_user\\\".\\\"is_staff\\\", \\\"auth_user\\\".\\\"is_active\\\", \\\"auth_user\\\".\\\"date_joined\\\" FROM \\\"auth_user\\\" WHERE \\\"auth_user\\\".\\\"id\\\" = 5 LIMIT 21\", \"params\": [5], \"@timestamp\": \"2020-08-15T19:29:37.111970\", \"level\": \"DEBUG\", \"logger\": \"django.db.backends\"}\n",
      "{\"message\": \"(0.001) INSERT INTO \\\"security_group_user_agency\\\" (\\\"desc\\\", \\\"agency_ref\\\", \\\"user_ref_id\\\", \\\"group_ref_id\\\") VALUES ('User 5 is in Group 3 for Agency 5', 5, 5, 3) RETURNING \\\"security_group_user_agency\\\".\\\"id\\\"; args=('User 5 is in Group 3 for Agency 5', 5, 5, 3)\", \"duration\": 0.0007830299999795898, \"sql\": \"INSERT INTO \\\"security_group_user_agency\\\" (\\\"desc\\\", \\\"agency_ref\\\", \\\"user_ref_id\\\", \\\"group_ref_id\\\") VALUES ('User 5 is in Group 3 for Agency 5', 5, 5, 3) RETURNING \\\"security_group_user_agency\\\".\\\"id\\\"\", \"params\": [\"User 5 is in Group 3 for Agency 5\", 5, 5, 3], \"@timestamp\": \"2020-08-15T19:29:37.114194\", \"level\": \"DEBUG\", \"logger\": \"django.db.backends\"}\n",
      "{\"message\": \"(0.000) SELECT \\\"auth_user\\\".\\\"id\\\", \\\"auth_user\\\".\\\"password\\\", \\\"auth_user\\\".\\\"last_login\\\", \\\"auth_user\\\".\\\"is_superuser\\\", \\\"auth_user\\\".\\\"username\\\", \\\"auth_user\\\".\\\"first_name\\\", \\\"auth_user\\\".\\\"last_name\\\", \\\"auth_user\\\".\\\"email\\\", \\\"auth_user\\\".\\\"is_staff\\\", \\\"auth_user\\\".\\\"is_active\\\", \\\"auth_user\\\".\\\"date_joined\\\" FROM \\\"auth_user\\\" WHERE \\\"auth_user\\\".\\\"id\\\" = 6 LIMIT 21; args=(6,)\", \"duration\": 0.000340772999948058, \"sql\": \"SELECT \\\"auth_user\\\".\\\"id\\\", \\\"auth_user\\\".\\\"password\\\", \\\"auth_user\\\".\\\"last_login\\\", \\\"auth_user\\\".\\\"is_superuser\\\", \\\"auth_user\\\".\\\"username\\\", \\\"auth_user\\\".\\\"first_name\\\", \\\"auth_user\\\".\\\"last_name\\\", \\\"auth_user\\\".\\\"email\\\", \\\"auth_user\\\".\\\"is_staff\\\", \\\"auth_user\\\".\\\"is_active\\\", \\\"auth_user\\\".\\\"date_joined\\\" FROM \\\"auth_user\\\" WHERE \\\"auth_user\\\".\\\"id\\\" = 6 LIMIT 21\", \"params\": [6], \"@timestamp\": \"2020-08-15T19:29:37.116196\", \"level\": \"DEBUG\", \"logger\": \"django.db.backends\"}\n",
      "{\"message\": \"(0.001) INSERT INTO \\\"security_group_user_agency\\\" (\\\"desc\\\", \\\"agency_ref\\\", \\\"user_ref_id\\\", \\\"group_ref_id\\\") VALUES ('User 6 is in Group 1 for Agency 5', 5, 6, 1) RETURNING \\\"security_group_user_agency\\\".\\\"id\\\"; args=('User 6 is in Group 1 for Agency 5', 5, 6, 1)\", \"duration\": 0.0009092440000131319, \"sql\": \"INSERT INTO \\\"security_group_user_agency\\\" (\\\"desc\\\", \\\"agency_ref\\\", \\\"user_ref_id\\\", \\\"group_ref_id\\\") VALUES ('User 6 is in Group 1 for Agency 5', 5, 6, 1) RETURNING \\\"security_group_user_agency\\\".\\\"id\\\"\", \"params\": [\"User 6 is in Group 1 for Agency 5\", 5, 6, 1], \"@timestamp\": \"2020-08-15T19:29:37.118615\", \"level\": \"DEBUG\", \"logger\": \"django.db.backends\"}\n"
     ]
    }
   ],
   "source": [
    "# Get the current mappings\n",
    "cur_sgua = [(u.agency_ref.ref_id, u.group_ref_id, u.user_ref_id) \n",
    "            for u in SecurityGroupUserAgency.objects.all()]\n",
    "\n",
    "for idx in dfs[t_table].index:\n",
    "    a = Agency(ref_id=dfs[t_table].loc[idx,'agency_ref'])    \n",
    "    g = Group(id=dfs[t_table].loc[idx,'group_ref_id'])    \n",
    "    u = User.objects.get(id=dfs[t_table].loc[idx,'user_ref_id'])\n",
    "    desc = dfs[t_table].loc[idx,'desc']\n",
    "    \n",
    "    if (a.ref_id, g.id, u.id) not in cur_sgua:\n",
    "        usg = SecurityGroupUserAgency(agency_ref=a,\n",
    "                                      group_ref_id=g.id,\n",
    "                                      user_ref_id=u.id,\n",
    "                                      desc=desc\n",
    "                                     )\n",
    "        usg.save()\n"
   ]
  },
  {
   "cell_type": "markdown",
   "metadata": {},
   "source": [
    "### View the new model dataset"
   ]
  },
  {
   "cell_type": "code",
   "execution_count": 54,
   "metadata": {
    "ExecuteTime": {
     "end_time": "2020-08-15T19:29:48.304844Z",
     "start_time": "2020-08-15T19:29:48.278719Z"
    }
   },
   "outputs": [
    {
     "name": "stderr",
     "output_type": "stream",
     "text": [
      "{\"message\": \"(0.001) SELECT \\\"security_group_user_agency\\\".\\\"id\\\", \\\"security_group_user_agency\\\".\\\"desc\\\", \\\"security_group_user_agency\\\".\\\"agency_ref\\\", \\\"security_group_user_agency\\\".\\\"user_ref_id\\\", \\\"security_group_user_agency\\\".\\\"group_ref_id\\\" FROM \\\"security_group_user_agency\\\"; args=()\", \"duration\": 0.001285435999989204, \"sql\": \"SELECT \\\"security_group_user_agency\\\".\\\"id\\\", \\\"security_group_user_agency\\\".\\\"desc\\\", \\\"security_group_user_agency\\\".\\\"agency_ref\\\", \\\"security_group_user_agency\\\".\\\"user_ref_id\\\", \\\"security_group_user_agency\\\".\\\"group_ref_id\\\" FROM \\\"security_group_user_agency\\\"\", \"params\": [], \"@timestamp\": \"2020-08-15T19:29:48.287046\", \"level\": \"DEBUG\", \"logger\": \"django.db.backends\"}\n",
      "{\"message\": \"(0.001) SELECT \\\"agency\\\".\\\"id\\\", \\\"agency\\\".\\\"created_by_id\\\", \\\"agency\\\".\\\"created_at\\\", \\\"agency\\\".\\\"modified_at\\\", \\\"agency\\\".\\\"name\\\", \\\"agency\\\".\\\"ref_id\\\" FROM \\\"agency\\\" WHERE \\\"agency\\\".\\\"ref_id\\\" = 1 LIMIT 21; args=(1,)\", \"duration\": 0.0009135069999501866, \"sql\": \"SELECT \\\"agency\\\".\\\"id\\\", \\\"agency\\\".\\\"created_by_id\\\", \\\"agency\\\".\\\"created_at\\\", \\\"agency\\\".\\\"modified_at\\\", \\\"agency\\\".\\\"name\\\", \\\"agency\\\".\\\"ref_id\\\" FROM \\\"agency\\\" WHERE \\\"agency\\\".\\\"ref_id\\\" = 1 LIMIT 21\", \"params\": [1], \"@timestamp\": \"2020-08-15T19:29:48.289821\", \"level\": \"DEBUG\", \"logger\": \"django.db.backends\"}\n",
      "{\"message\": \"(0.000) SELECT \\\"agency\\\".\\\"id\\\", \\\"agency\\\".\\\"created_by_id\\\", \\\"agency\\\".\\\"created_at\\\", \\\"agency\\\".\\\"modified_at\\\", \\\"agency\\\".\\\"name\\\", \\\"agency\\\".\\\"ref_id\\\" FROM \\\"agency\\\" WHERE \\\"agency\\\".\\\"ref_id\\\" = 2 LIMIT 21; args=(2,)\", \"duration\": 0.00048318899996502296, \"sql\": \"SELECT \\\"agency\\\".\\\"id\\\", \\\"agency\\\".\\\"created_by_id\\\", \\\"agency\\\".\\\"created_at\\\", \\\"agency\\\".\\\"modified_at\\\", \\\"agency\\\".\\\"name\\\", \\\"agency\\\".\\\"ref_id\\\" FROM \\\"agency\\\" WHERE \\\"agency\\\".\\\"ref_id\\\" = 2 LIMIT 21\", \"params\": [2], \"@timestamp\": \"2020-08-15T19:29:48.291999\", \"level\": \"DEBUG\", \"logger\": \"django.db.backends\"}\n",
      "{\"message\": \"(0.000) SELECT \\\"agency\\\".\\\"id\\\", \\\"agency\\\".\\\"created_by_id\\\", \\\"agency\\\".\\\"created_at\\\", \\\"agency\\\".\\\"modified_at\\\", \\\"agency\\\".\\\"name\\\", \\\"agency\\\".\\\"ref_id\\\" FROM \\\"agency\\\" WHERE \\\"agency\\\".\\\"ref_id\\\" = 2 LIMIT 21; args=(2,)\", \"duration\": 0.000282672000025741, \"sql\": \"SELECT \\\"agency\\\".\\\"id\\\", \\\"agency\\\".\\\"created_by_id\\\", \\\"agency\\\".\\\"created_at\\\", \\\"agency\\\".\\\"modified_at\\\", \\\"agency\\\".\\\"name\\\", \\\"agency\\\".\\\"ref_id\\\" FROM \\\"agency\\\" WHERE \\\"agency\\\".\\\"ref_id\\\" = 2 LIMIT 21\", \"params\": [2], \"@timestamp\": \"2020-08-15T19:29:48.293825\", \"level\": \"DEBUG\", \"logger\": \"django.db.backends\"}\n",
      "{\"message\": \"(0.000) SELECT \\\"agency\\\".\\\"id\\\", \\\"agency\\\".\\\"created_by_id\\\", \\\"agency\\\".\\\"created_at\\\", \\\"agency\\\".\\\"modified_at\\\", \\\"agency\\\".\\\"name\\\", \\\"agency\\\".\\\"ref_id\\\" FROM \\\"agency\\\" WHERE \\\"agency\\\".\\\"ref_id\\\" = 3 LIMIT 21; args=(3,)\", \"duration\": 0.000283942000010029, \"sql\": \"SELECT \\\"agency\\\".\\\"id\\\", \\\"agency\\\".\\\"created_by_id\\\", \\\"agency\\\".\\\"created_at\\\", \\\"agency\\\".\\\"modified_at\\\", \\\"agency\\\".\\\"name\\\", \\\"agency\\\".\\\"ref_id\\\" FROM \\\"agency\\\" WHERE \\\"agency\\\".\\\"ref_id\\\" = 3 LIMIT 21\", \"params\": [3], \"@timestamp\": \"2020-08-15T19:29:48.295555\", \"level\": \"DEBUG\", \"logger\": \"django.db.backends\"}\n",
      "{\"message\": \"(0.000) SELECT \\\"agency\\\".\\\"id\\\", \\\"agency\\\".\\\"created_by_id\\\", \\\"agency\\\".\\\"created_at\\\", \\\"agency\\\".\\\"modified_at\\\", \\\"agency\\\".\\\"name\\\", \\\"agency\\\".\\\"ref_id\\\" FROM \\\"agency\\\" WHERE \\\"agency\\\".\\\"ref_id\\\" = 4 LIMIT 21; args=(4,)\", \"duration\": 0.0003087950000235651, \"sql\": \"SELECT \\\"agency\\\".\\\"id\\\", \\\"agency\\\".\\\"created_by_id\\\", \\\"agency\\\".\\\"created_at\\\", \\\"agency\\\".\\\"modified_at\\\", \\\"agency\\\".\\\"name\\\", \\\"agency\\\".\\\"ref_id\\\" FROM \\\"agency\\\" WHERE \\\"agency\\\".\\\"ref_id\\\" = 4 LIMIT 21\", \"params\": [4], \"@timestamp\": \"2020-08-15T19:29:48.297542\", \"level\": \"DEBUG\", \"logger\": \"django.db.backends\"}\n",
      "{\"message\": \"(0.000) SELECT \\\"agency\\\".\\\"id\\\", \\\"agency\\\".\\\"created_by_id\\\", \\\"agency\\\".\\\"created_at\\\", \\\"agency\\\".\\\"modified_at\\\", \\\"agency\\\".\\\"name\\\", \\\"agency\\\".\\\"ref_id\\\" FROM \\\"agency\\\" WHERE \\\"agency\\\".\\\"ref_id\\\" = 5 LIMIT 21; args=(5,)\", \"duration\": 0.000419964999991862, \"sql\": \"SELECT \\\"agency\\\".\\\"id\\\", \\\"agency\\\".\\\"created_by_id\\\", \\\"agency\\\".\\\"created_at\\\", \\\"agency\\\".\\\"modified_at\\\", \\\"agency\\\".\\\"name\\\", \\\"agency\\\".\\\"ref_id\\\" FROM \\\"agency\\\" WHERE \\\"agency\\\".\\\"ref_id\\\" = 5 LIMIT 21\", \"params\": [5], \"@timestamp\": \"2020-08-15T19:29:48.299658\", \"level\": \"DEBUG\", \"logger\": \"django.db.backends\"}\n",
      "{\"message\": \"(0.000) SELECT \\\"agency\\\".\\\"id\\\", \\\"agency\\\".\\\"created_by_id\\\", \\\"agency\\\".\\\"created_at\\\", \\\"agency\\\".\\\"modified_at\\\", \\\"agency\\\".\\\"name\\\", \\\"agency\\\".\\\"ref_id\\\" FROM \\\"agency\\\" WHERE \\\"agency\\\".\\\"ref_id\\\" = 5 LIMIT 21; args=(5,)\", \"duration\": 0.00034398800005419616, \"sql\": \"SELECT \\\"agency\\\".\\\"id\\\", \\\"agency\\\".\\\"created_by_id\\\", \\\"agency\\\".\\\"created_at\\\", \\\"agency\\\".\\\"modified_at\\\", \\\"agency\\\".\\\"name\\\", \\\"agency\\\".\\\"ref_id\\\" FROM \\\"agency\\\" WHERE \\\"agency\\\".\\\"ref_id\\\" = 5 LIMIT 21\", \"params\": [5], \"@timestamp\": \"2020-08-15T19:29:48.301648\", \"level\": \"DEBUG\", \"logger\": \"django.db.backends\"}\n"
     ]
    },
    {
     "name": "stdout",
     "output_type": "stream",
     "text": [
      "[(1, 1, 1, 'User 1 is in Group 1 for Agency 1'), (2, 3, 1, 'User 1 is in Group 3 for Agency 2'), (2, 1, 2, 'User 2 is in Group 1 for Agency 2'), (3, 2, 3, 'User 3 is in Group 2 for Agency 3'), (4, 3, 4, 'User 4 is in Group 3 for Agency 4'), (5, 3, 5, 'User 5 is in Group 3 for Agency 5'), (5, 1, 6, 'User 6 is in Group 1 for Agency 5')]\n"
     ]
    }
   ],
   "source": [
    "cur_sgua = [(u.agency_ref.ref_id, u.group_ref_id, u.user_ref_id, u.desc) \n",
    "            for u in SecurityGroupUserAgency.objects.all()]\n",
    "\n",
    "print(cur_sgua)\n"
   ]
  },
  {
   "cell_type": "markdown",
   "metadata": {},
   "source": [
    "# View the permissions for an individual user\n",
    "In this section, we are examining the permissions for a specific user and finding the clients which that user can view.\n",
    "\n",
    "Notes\n",
    "- The logic to view an individual user's permissions is:\n",
    "    - Look at the SecurityGroupUserAgency model to determine for which agencies this user has been assigned a group.\n",
    "    - Look at the permissions for each group.\n",
    "\n"
   ]
  },
  {
   "cell_type": "markdown",
   "metadata": {},
   "source": [
    "## Examine one user's permissions"
   ]
  },
  {
   "cell_type": "code",
   "execution_count": 55,
   "metadata": {
    "ExecuteTime": {
     "end_time": "2020-08-15T19:30:13.760253Z",
     "start_time": "2020-08-15T19:30:13.680717Z"
    }
   },
   "outputs": [
    {
     "name": "stderr",
     "output_type": "stream",
     "text": [
      "{\"message\": \"(0.001) SELECT \\\"auth_user\\\".\\\"id\\\", \\\"auth_user\\\".\\\"password\\\", \\\"auth_user\\\".\\\"last_login\\\", \\\"auth_user\\\".\\\"is_superuser\\\", \\\"auth_user\\\".\\\"username\\\", \\\"auth_user\\\".\\\"first_name\\\", \\\"auth_user\\\".\\\"last_name\\\", \\\"auth_user\\\".\\\"email\\\", \\\"auth_user\\\".\\\"is_staff\\\", \\\"auth_user\\\".\\\"is_active\\\", \\\"auth_user\\\".\\\"date_joined\\\" FROM \\\"auth_user\\\"; args=()\", \"duration\": 0.0010971770000196557, \"sql\": \"SELECT \\\"auth_user\\\".\\\"id\\\", \\\"auth_user\\\".\\\"password\\\", \\\"auth_user\\\".\\\"last_login\\\", \\\"auth_user\\\".\\\"is_superuser\\\", \\\"auth_user\\\".\\\"username\\\", \\\"auth_user\\\".\\\"first_name\\\", \\\"auth_user\\\".\\\"last_name\\\", \\\"auth_user\\\".\\\"email\\\", \\\"auth_user\\\".\\\"is_staff\\\", \\\"auth_user\\\".\\\"is_active\\\", \\\"auth_user\\\".\\\"date_joined\\\" FROM \\\"auth_user\\\"\", \"params\": [], \"@timestamp\": \"2020-08-15T19:30:13.730848\", \"level\": \"DEBUG\", \"logger\": \"django.db.backends\"}\n",
      "{\"message\": \"(0.001) SELECT \\\"auth_user\\\".\\\"id\\\", \\\"auth_user\\\".\\\"password\\\", \\\"auth_user\\\".\\\"last_login\\\", \\\"auth_user\\\".\\\"is_superuser\\\", \\\"auth_user\\\".\\\"username\\\", \\\"auth_user\\\".\\\"first_name\\\", \\\"auth_user\\\".\\\"last_name\\\", \\\"auth_user\\\".\\\"email\\\", \\\"auth_user\\\".\\\"is_staff\\\", \\\"auth_user\\\".\\\"is_active\\\", \\\"auth_user\\\".\\\"date_joined\\\" FROM \\\"auth_user\\\" WHERE \\\"auth_user\\\".\\\"username\\\" = 'superuser1' LIMIT 21; args=('superuser1',)\", \"duration\": 0.0008934110001064255, \"sql\": \"SELECT \\\"auth_user\\\".\\\"id\\\", \\\"auth_user\\\".\\\"password\\\", \\\"auth_user\\\".\\\"last_login\\\", \\\"auth_user\\\".\\\"is_superuser\\\", \\\"auth_user\\\".\\\"username\\\", \\\"auth_user\\\".\\\"first_name\\\", \\\"auth_user\\\".\\\"last_name\\\", \\\"auth_user\\\".\\\"email\\\", \\\"auth_user\\\".\\\"is_staff\\\", \\\"auth_user\\\".\\\"is_active\\\", \\\"auth_user\\\".\\\"date_joined\\\" FROM \\\"auth_user\\\" WHERE \\\"auth_user\\\".\\\"username\\\" = 'superuser1' LIMIT 21\", \"params\": [\"superuser1\"], \"@timestamp\": \"2020-08-15T19:30:13.733448\", \"level\": \"DEBUG\", \"logger\": \"django.db.backends\"}\n",
      "{\"message\": \"(0.001) SELECT \\\"security_group_user_agency\\\".\\\"id\\\", \\\"security_group_user_agency\\\".\\\"desc\\\", \\\"security_group_user_agency\\\".\\\"agency_ref\\\", \\\"security_group_user_agency\\\".\\\"user_ref_id\\\", \\\"security_group_user_agency\\\".\\\"group_ref_id\\\" FROM \\\"security_group_user_agency\\\" WHERE \\\"security_group_user_agency\\\".\\\"user_ref_id\\\" = 6; args=(6,)\", \"duration\": 0.001487677000113763, \"sql\": \"SELECT \\\"security_group_user_agency\\\".\\\"id\\\", \\\"security_group_user_agency\\\".\\\"desc\\\", \\\"security_group_user_agency\\\".\\\"agency_ref\\\", \\\"security_group_user_agency\\\".\\\"user_ref_id\\\", \\\"security_group_user_agency\\\".\\\"group_ref_id\\\" FROM \\\"security_group_user_agency\\\" WHERE \\\"security_group_user_agency\\\".\\\"user_ref_id\\\" = 6\", \"params\": [6], \"@timestamp\": \"2020-08-15T19:30:13.736716\", \"level\": \"DEBUG\", \"logger\": \"django.db.backends\"}\n",
      "{\"message\": \"(0.001) SELECT \\\"agency\\\".\\\"id\\\", \\\"agency\\\".\\\"created_by_id\\\", \\\"agency\\\".\\\"created_at\\\", \\\"agency\\\".\\\"modified_at\\\", \\\"agency\\\".\\\"name\\\", \\\"agency\\\".\\\"ref_id\\\" FROM \\\"agency\\\" WHERE \\\"agency\\\".\\\"ref_id\\\" = 5 LIMIT 21; args=(5,)\", \"duration\": 0.0009757200000422017, \"sql\": \"SELECT \\\"agency\\\".\\\"id\\\", \\\"agency\\\".\\\"created_by_id\\\", \\\"agency\\\".\\\"created_at\\\", \\\"agency\\\".\\\"modified_at\\\", \\\"agency\\\".\\\"name\\\", \\\"agency\\\".\\\"ref_id\\\" FROM \\\"agency\\\" WHERE \\\"agency\\\".\\\"ref_id\\\" = 5 LIMIT 21\", \"params\": [5], \"@timestamp\": \"2020-08-15T19:30:13.747465\", \"level\": \"DEBUG\", \"logger\": \"django.db.backends\"}\n"
     ]
    },
    {
     "name": "stdout",
     "output_type": "stream",
     "text": [
      "User: superuser1 can view clients in agencies: [5]\n"
     ]
    },
    {
     "name": "stderr",
     "output_type": "stream",
     "text": [
      "{\"message\": \"(0.002) DECLARE \\\"_django_curs_4578045376_140471350274624_1\\\" NO SCROLL CURSOR WITH HOLD FOR SELECT \\\"auth_permission\\\".\\\"id\\\", \\\"auth_permission\\\".\\\"name\\\", \\\"auth_permission\\\".\\\"content_type_id\\\", \\\"auth_permission\\\".\\\"codename\\\" FROM \\\"auth_permission\\\" INNER JOIN \\\"auth_group_permissions\\\" ON (\\\"auth_permission\\\".\\\"id\\\" = \\\"auth_group_permissions\\\".\\\"permission_id\\\") INNER JOIN \\\"django_content_type\\\" ON (\\\"auth_permission\\\".\\\"content_type_id\\\" = \\\"django_content_type\\\".\\\"id\\\") WHERE \\\"auth_group_permissions\\\".\\\"group_id\\\" = 1 ORDER BY \\\"django_content_type\\\".\\\"app_label\\\" ASC, \\\"django_content_type\\\".\\\"model\\\" ASC, \\\"auth_permission\\\".\\\"codename\\\" ASC; args=(1,)\", \"duration\": 0.001560904000143637, \"sql\": \"DECLARE \\\"_django_curs_4578045376_140471350274624_1\\\" NO SCROLL CURSOR WITH HOLD FOR SELECT \\\"auth_permission\\\".\\\"id\\\", \\\"auth_permission\\\".\\\"name\\\", \\\"auth_permission\\\".\\\"content_type_id\\\", \\\"auth_permission\\\".\\\"codename\\\" FROM \\\"auth_permission\\\" INNER JOIN \\\"auth_group_permissions\\\" ON (\\\"auth_permission\\\".\\\"id\\\" = \\\"auth_group_permissions\\\".\\\"permission_id\\\") INNER JOIN \\\"django_content_type\\\" ON (\\\"auth_permission\\\".\\\"content_type_id\\\" = \\\"django_content_type\\\".\\\"id\\\") WHERE \\\"auth_group_permissions\\\".\\\"group_id\\\" = 1 ORDER BY \\\"django_content_type\\\".\\\"app_label\\\" ASC, \\\"django_content_type\\\".\\\"model\\\" ASC, \\\"auth_permission\\\".\\\"codename\\\" ASC\", \"params\": [1], \"@timestamp\": \"2020-08-15T19:30:13.753770\", \"level\": \"DEBUG\", \"logger\": \"django.db.backends\"}\n"
     ]
    },
    {
     "name": "stdout",
     "output_type": "stream",
     "text": [
      "For Agency Goodwill Industries of the Southern Rivers (ref_d: 5), User 6's permissions: [(41, 'Can add client'), (42, 'Can change client'), (43, 'Can delete client'), (44, 'Can view client')]\n"
     ]
    }
   ],
   "source": [
    "# # Get a list of current users\n",
    "cur_usernames = [u.username for u in User.objects.all()]\n",
    "\n",
    "ti=0\n",
    "username=cur_usernames[ti]\n",
    "\n",
    "# print(username)\n",
    "# u = User.objects.get(username=username)\n",
    "\n",
    "# Use the API test client\n",
    "api_client=APIClient(SERVER_NAME=\"localhost\")\n",
    "api_client.force_authenticate(user=User.objects.get(username=username))\n",
    "\n",
    "sgua = SecurityGroupUserAgency.objects.filter(user_ref_id=u.id)\n",
    "\n",
    "# Since all groups assignments allow the user to view client\n",
    "# data, we simply need to check to which agencies the user has been\n",
    "# assigned a role.  This could be more granular, if the user, for \n",
    "# example, wanted to edit the client.  In that case, we need to check \n",
    "# if the user has access to edit client data for that agency.\n",
    "agencies = [s.agency_ref.ref_id for s in sgua]\n",
    "\n",
    "# View results\n",
    "print('User: {} can view clients in agencies: {}'.format(username, agencies))\n",
    "\n",
    "# Permissions by Agency\n",
    "for s in sgua:\n",
    "    perm_ids = [(p.id, p.name) for p in Group(id=s.group_ref_id).permissions.iterator()]\n",
    "    print(\"For Agency {} (ref_d: {}), User {}'s permissions: {}\".format(s.agency_ref,\n",
    "                                                                        s.agency_ref.ref_id,\n",
    "                                                                        s.user_ref_id,\n",
    "                                                                        perm_ids))\n"
   ]
  },
  {
   "cell_type": "markdown",
   "metadata": {},
   "source": [
    "## Find the clients this user can view"
   ]
  },
  {
   "cell_type": "code",
   "execution_count": 56,
   "metadata": {
    "ExecuteTime": {
     "end_time": "2020-08-15T19:30:20.078878Z",
     "start_time": "2020-08-15T19:30:20.060553Z"
    }
   },
   "outputs": [
    {
     "name": "stderr",
     "output_type": "stream",
     "text": [
      "{\"message\": \"(0.001) SELECT \\\"agency_client\\\".\\\"id\\\", \\\"agency_client\\\".\\\"client_id\\\", \\\"agency_client\\\".\\\"agency_ref\\\", \\\"agency_client\\\".\\\"desc\\\" FROM \\\"agency_client\\\" WHERE \\\"agency_client\\\".\\\"agency_ref\\\" = 5; args=(5,)\", \"duration\": 0.0011810529999820574, \"sql\": \"SELECT \\\"agency_client\\\".\\\"id\\\", \\\"agency_client\\\".\\\"client_id\\\", \\\"agency_client\\\".\\\"agency_ref\\\", \\\"agency_client\\\".\\\"desc\\\" FROM \\\"agency_client\\\" WHERE \\\"agency_client\\\".\\\"agency_ref\\\" = 5\", \"params\": [5], \"@timestamp\": \"2020-08-15T19:30:20.069171\", \"level\": \"DEBUG\", \"logger\": \"django.db.backends\"}\n",
      "{\"message\": \"(0.001) SELECT \\\"client\\\".\\\"id\\\", \\\"client\\\".\\\"created_by_id\\\", \\\"client\\\".\\\"created_at\\\", \\\"client\\\".\\\"modified_at\\\", \\\"client\\\".\\\"first_name\\\", \\\"client\\\".\\\"middle_name\\\", \\\"client\\\".\\\"last_name\\\", \\\"client\\\".\\\"dob\\\", \\\"client\\\".\\\"agency_assoc\\\" FROM \\\"client\\\" WHERE (\\\"client\\\".\\\"id\\\" = 'cf8364b5-5daa-48ef-88a6-b31005eb2cd8'::uuid OR \\\"client\\\".\\\"id\\\" = 'fa33f401-bd59-4869-9903-5842a4791b09'::uuid OR \\\"client\\\".\\\"id\\\" = '3e56fd30-2195-4617-a6fa-c83cd1bdaf8b'::uuid OR \\\"client\\\".\\\"id\\\" = '1143a5d2-2774-49cc-adc0-1d00c3ee3830'::uuid) ORDER BY \\\"client\\\".\\\"created_at\\\" DESC; args=(UUID('cf8364b5-5daa-48ef-88a6-b31005eb2cd8'), UUID('fa33f401-bd59-4869-9903-5842a4791b09'), UUID('3e56fd30-2195-4617-a6fa-c83cd1bdaf8b'), UUID('1143a5d2-2774-49cc-adc0-1d00c3ee3830'))\", \"duration\": 0.001047638999807532, \"sql\": \"SELECT \\\"client\\\".\\\"id\\\", \\\"client\\\".\\\"created_by_id\\\", \\\"client\\\".\\\"created_at\\\", \\\"client\\\".\\\"modified_at\\\", \\\"client\\\".\\\"first_name\\\", \\\"client\\\".\\\"middle_name\\\", \\\"client\\\".\\\"last_name\\\", \\\"client\\\".\\\"dob\\\", \\\"client\\\".\\\"agency_assoc\\\" FROM \\\"client\\\" WHERE (\\\"client\\\".\\\"id\\\" = 'cf8364b5-5daa-48ef-88a6-b31005eb2cd8'::uuid OR \\\"client\\\".\\\"id\\\" = 'fa33f401-bd59-4869-9903-5842a4791b09'::uuid OR \\\"client\\\".\\\"id\\\" = '3e56fd30-2195-4617-a6fa-c83cd1bdaf8b'::uuid OR \\\"client\\\".\\\"id\\\" = '1143a5d2-2774-49cc-adc0-1d00c3ee3830'::uuid) ORDER BY \\\"client\\\".\\\"created_at\\\" DESC\", \"params\": [\"cf8364b5-5daa-48ef-88a6-b31005eb2cd8\", \"fa33f401-bd59-4869-9903-5842a4791b09\", \"3e56fd30-2195-4617-a6fa-c83cd1bdaf8b\", \"1143a5d2-2774-49cc-adc0-1d00c3ee3830\"], \"@timestamp\": \"2020-08-15T19:30:20.072523\", \"level\": \"DEBUG\", \"logger\": \"django.db.backends\"}\n"
     ]
    },
    {
     "name": "stdout",
     "output_type": "stream",
     "text": [
      "id: cf8364b5-5daa-48ef-88a6-b31005eb2cd8; name: Perla Kaiser\n",
      "id: fa33f401-bd59-4869-9903-5842a4791b09; name: Keenan Foster\n",
      "id: 3e56fd30-2195-4617-a6fa-c83cd1bdaf8b; name: Van Andrews\n",
      "id: 1143a5d2-2774-49cc-adc0-1d00c3ee3830; name: Warren Aguirre\n"
     ]
    }
   ],
   "source": [
    "# import django_filters\n",
    "from django.db.models import Q\n",
    "\n",
    "q_objects = Q() \n",
    "for a in agencies:\n",
    "    q_objects |= Q(agency_ref=a)\n",
    "    \n",
    "# result = AgencyClient.objects.filter(**filters)\n",
    "result = AgencyClient.objects.filter(q_objects)\n",
    "\n",
    "q_objects = Q() \n",
    "for c in [ac.client_id for ac in result]:\n",
    "    q_objects |= Q(id=c)\n",
    "    \n",
    "# result = AgencyClient.objects.filter(**filters)\n",
    "result = Client.objects.filter(q_objects)\n",
    "\n",
    "# print(agencies)\n",
    "# print(len([c.id for c in result]))\n",
    "for c in result:\n",
    "    print('id: {}; name: {} {}'.format(c.id, c.first_name, c.last_name))\n",
    "\n"
   ]
  },
  {
   "cell_type": "markdown",
   "metadata": {},
   "source": [
    "# Test the client viewset\n",
    "\n",
    "In this section, we are testing the data-access security model by viewing the client data each individual authenticated user can see. \n",
    "\n",
    "Notes\n",
    "- The logic to determine the client set to present to the user is:\n",
    "    - Determine for which agencies this user has an assigned role or group noting that all group assignments have view permission.  For this reason, we don't need to further check permissions.  However, if similar logic were employed to check permissions before allowing a user to edit client details, the logic would need to also validate that the user has a group role with an edit permission.\n",
    "    - Find the clients that have an association with the agencies for which the user has a group role,\n",
    "    - Present these data to the user.\n",
    "- Note that each of these users is set to a superuser to accommodate logic in the current BackEnd framework.\n"
   ]
  },
  {
   "cell_type": "code",
   "execution_count": 71,
   "metadata": {
    "ExecuteTime": {
     "end_time": "2020-08-15T19:43:18.481330Z",
     "start_time": "2020-08-15T19:43:18.293469Z"
    },
    "scrolled": false
   },
   "outputs": [
    {
     "name": "stderr",
     "output_type": "stream",
     "text": [
      "{\"message\": \"(0.000) SELECT \\\"auth_user\\\".\\\"id\\\", \\\"auth_user\\\".\\\"password\\\", \\\"auth_user\\\".\\\"last_login\\\", \\\"auth_user\\\".\\\"is_superuser\\\", \\\"auth_user\\\".\\\"username\\\", \\\"auth_user\\\".\\\"first_name\\\", \\\"auth_user\\\".\\\"last_name\\\", \\\"auth_user\\\".\\\"email\\\", \\\"auth_user\\\".\\\"is_staff\\\", \\\"auth_user\\\".\\\"is_active\\\", \\\"auth_user\\\".\\\"date_joined\\\" FROM \\\"auth_user\\\"; args=()\", \"duration\": 0.0003955520000999968, \"sql\": \"SELECT \\\"auth_user\\\".\\\"id\\\", \\\"auth_user\\\".\\\"password\\\", \\\"auth_user\\\".\\\"last_login\\\", \\\"auth_user\\\".\\\"is_superuser\\\", \\\"auth_user\\\".\\\"username\\\", \\\"auth_user\\\".\\\"first_name\\\", \\\"auth_user\\\".\\\"last_name\\\", \\\"auth_user\\\".\\\"email\\\", \\\"auth_user\\\".\\\"is_staff\\\", \\\"auth_user\\\".\\\"is_active\\\", \\\"auth_user\\\".\\\"date_joined\\\" FROM \\\"auth_user\\\"\", \"params\": [], \"@timestamp\": \"2020-08-15T19:43:18.297249\", \"level\": \"DEBUG\", \"logger\": \"django.db.backends\"}\n",
      "{\"message\": \"(0.000) SELECT \\\"auth_user\\\".\\\"id\\\", \\\"auth_user\\\".\\\"password\\\", \\\"auth_user\\\".\\\"last_login\\\", \\\"auth_user\\\".\\\"is_superuser\\\", \\\"auth_user\\\".\\\"username\\\", \\\"auth_user\\\".\\\"first_name\\\", \\\"auth_user\\\".\\\"last_name\\\", \\\"auth_user\\\".\\\"email\\\", \\\"auth_user\\\".\\\"is_staff\\\", \\\"auth_user\\\".\\\"is_active\\\", \\\"auth_user\\\".\\\"date_joined\\\" FROM \\\"auth_user\\\" WHERE \\\"auth_user\\\".\\\"username\\\" = 'superuser1' LIMIT 21; args=('superuser1',)\", \"duration\": 0.0003489839998565003, \"sql\": \"SELECT \\\"auth_user\\\".\\\"id\\\", \\\"auth_user\\\".\\\"password\\\", \\\"auth_user\\\".\\\"last_login\\\", \\\"auth_user\\\".\\\"is_superuser\\\", \\\"auth_user\\\".\\\"username\\\", \\\"auth_user\\\".\\\"first_name\\\", \\\"auth_user\\\".\\\"last_name\\\", \\\"auth_user\\\".\\\"email\\\", \\\"auth_user\\\".\\\"is_staff\\\", \\\"auth_user\\\".\\\"is_active\\\", \\\"auth_user\\\".\\\"date_joined\\\" FROM \\\"auth_user\\\" WHERE \\\"auth_user\\\".\\\"username\\\" = 'superuser1' LIMIT 21\", \"params\": [\"superuser1\"], \"@timestamp\": \"2020-08-15T19:43:18.299244\", \"level\": \"DEBUG\", \"logger\": \"django.db.backends\"}\n",
      "{\"message\": \"(0.000) SELECT \\\"security_group_user_agency\\\".\\\"id\\\", \\\"security_group_user_agency\\\".\\\"desc\\\", \\\"security_group_user_agency\\\".\\\"agency_ref\\\", \\\"security_group_user_agency\\\".\\\"user_ref_id\\\", \\\"security_group_user_agency\\\".\\\"group_ref_id\\\" FROM \\\"security_group_user_agency\\\" WHERE \\\"security_group_user_agency\\\".\\\"user_ref_id\\\" = 1; args=(1,)\", \"duration\": 0.00029749100008302776, \"sql\": \"SELECT \\\"security_group_user_agency\\\".\\\"id\\\", \\\"security_group_user_agency\\\".\\\"desc\\\", \\\"security_group_user_agency\\\".\\\"agency_ref\\\", \\\"security_group_user_agency\\\".\\\"user_ref_id\\\", \\\"security_group_user_agency\\\".\\\"group_ref_id\\\" FROM \\\"security_group_user_agency\\\" WHERE \\\"security_group_user_agency\\\".\\\"user_ref_id\\\" = 1\", \"params\": [1], \"@timestamp\": \"2020-08-15T19:43:18.302508\", \"level\": \"DEBUG\", \"logger\": \"django.db.backends\"}\n",
      "{\"message\": \"(0.000) SELECT \\\"agency\\\".\\\"id\\\", \\\"agency\\\".\\\"created_by_id\\\", \\\"agency\\\".\\\"created_at\\\", \\\"agency\\\".\\\"modified_at\\\", \\\"agency\\\".\\\"name\\\", \\\"agency\\\".\\\"ref_id\\\" FROM \\\"agency\\\" WHERE \\\"agency\\\".\\\"ref_id\\\" = 1 LIMIT 21; args=(1,)\", \"duration\": 0.0003744890000234591, \"sql\": \"SELECT \\\"agency\\\".\\\"id\\\", \\\"agency\\\".\\\"created_by_id\\\", \\\"agency\\\".\\\"created_at\\\", \\\"agency\\\".\\\"modified_at\\\", \\\"agency\\\".\\\"name\\\", \\\"agency\\\".\\\"ref_id\\\" FROM \\\"agency\\\" WHERE \\\"agency\\\".\\\"ref_id\\\" = 1 LIMIT 21\", \"params\": [1], \"@timestamp\": \"2020-08-15T19:43:18.304380\", \"level\": \"DEBUG\", \"logger\": \"django.db.backends\"}\n",
      "{\"message\": \"(0.000) SELECT \\\"agency\\\".\\\"id\\\", \\\"agency\\\".\\\"created_by_id\\\", \\\"agency\\\".\\\"created_at\\\", \\\"agency\\\".\\\"modified_at\\\", \\\"agency\\\".\\\"name\\\", \\\"agency\\\".\\\"ref_id\\\" FROM \\\"agency\\\" WHERE \\\"agency\\\".\\\"ref_id\\\" = 2 LIMIT 21; args=(2,)\", \"duration\": 0.0003283500000179629, \"sql\": \"SELECT \\\"agency\\\".\\\"id\\\", \\\"agency\\\".\\\"created_by_id\\\", \\\"agency\\\".\\\"created_at\\\", \\\"agency\\\".\\\"modified_at\\\", \\\"agency\\\".\\\"name\\\", \\\"agency\\\".\\\"ref_id\\\" FROM \\\"agency\\\" WHERE \\\"agency\\\".\\\"ref_id\\\" = 2 LIMIT 21\", \"params\": [2], \"@timestamp\": \"2020-08-15T19:43:18.306220\", \"level\": \"DEBUG\", \"logger\": \"django.db.backends\"}\n",
      "{\"message\": \"(0.000) SELECT \\\"agency_client\\\".\\\"id\\\", \\\"agency_client\\\".\\\"client_id\\\", \\\"agency_client\\\".\\\"agency_ref\\\", \\\"agency_client\\\".\\\"desc\\\" FROM \\\"agency_client\\\" WHERE (\\\"agency_client\\\".\\\"agency_ref\\\" = 1 OR \\\"agency_client\\\".\\\"agency_ref\\\" = 2); args=(1, 2)\", \"duration\": 0.000360209999826111, \"sql\": \"SELECT \\\"agency_client\\\".\\\"id\\\", \\\"agency_client\\\".\\\"client_id\\\", \\\"agency_client\\\".\\\"agency_ref\\\", \\\"agency_client\\\".\\\"desc\\\" FROM \\\"agency_client\\\" WHERE (\\\"agency_client\\\".\\\"agency_ref\\\" = 1 OR \\\"agency_client\\\".\\\"agency_ref\\\" = 2)\", \"params\": [1, 2], \"@timestamp\": \"2020-08-15T19:43:18.308231\", \"level\": \"DEBUG\", \"logger\": \"django.db.backends\"}\n",
      "{\"message\": \"(0.000) SELECT COUNT(*) AS \\\"__count\\\" FROM \\\"client\\\" WHERE (\\\"client\\\".\\\"id\\\" = 'a9a2ab75-57a5-4649-8fab-abbd31db1319'::uuid OR \\\"client\\\".\\\"id\\\" = '106e71bd-829a-4480-bd85-aec0f6bde1bb'::uuid OR \\\"client\\\".\\\"id\\\" = '106e71bd-829a-4480-bd85-aec0f6bde1bb'::uuid OR \\\"client\\\".\\\"id\\\" = '95fb4ed4-21a7-4429-94dc-027321d7fd2b'::uuid OR \\\"client\\\".\\\"id\\\" = '51d6da2b-cc68-4515-86f9-cbaf8a44a2e6'::uuid OR \\\"client\\\".\\\"id\\\" = '3e56fd30-2195-4617-a6fa-c83cd1bdaf8b'::uuid OR \\\"client\\\".\\\"id\\\" = 'acef35bc-18fa-4441-b5cc-20fe234ae019'::uuid OR \\\"client\\\".\\\"id\\\" = 'acef35bc-18fa-4441-b5cc-20fe234ae019'::uuid OR \\\"client\\\".\\\"id\\\" = '51592f1f-d82e-4203-a04a-25c5dc655dfd'::uuid OR \\\"client\\\".\\\"id\\\" = 'c977d1f3-9c7d-45a9-9d85-b4e0c0634792'::uuid OR \\\"client\\\".\\\"id\\\" = 'e947f0ce-1922-4f01-9680-d8008574ee88'::uuid OR \\\"client\\\".\\\"id\\\" = '244fcbd4-d4f5-4eb8-8146-65b17100ad4a'::uuid OR \\\"client\\\".\\\"id\\\" = '1143a5d2-2774-49cc-adc0-1d00c3ee3830'::uuid OR \\\"client\\\".\\\"id\\\" = '1d0f59cf-e21f-430d-b860-3b6fe093c3e8'::uuid OR \\\"client\\\".\\\"id\\\" = '1d0f59cf-e21f-430d-b860-3b6fe093c3e8'::uuid OR \\\"client\\\".\\\"id\\\" = '405aed03-39df-47f2-88c7-ba76f5ad4822'::uuid OR \\\"client\\\".\\\"id\\\" = '2fe269dd-eec0-4088-846b-afb53707a080'::uuid OR \\\"client\\\".\\\"id\\\" = '98f15b91-0354-4b76-b0d3-401c605c0383'::uuid); args=(UUID('a9a2ab75-57a5-4649-8fab-abbd31db1319'), UUID('106e71bd-829a-4480-bd85-aec0f6bde1bb'), UUID('106e71bd-829a-4480-bd85-aec0f6bde1bb'), UUID('95fb4ed4-21a7-4429-94dc-027321d7fd2b'), UUID('51d6da2b-cc68-4515-86f9-cbaf8a44a2e6'), UUID('3e56fd30-2195-4617-a6fa-c83cd1bdaf8b'), UUID('acef35bc-18fa-4441-b5cc-20fe234ae019'), UUID('acef35bc-18fa-4441-b5cc-20fe234ae019'), UUID('51592f1f-d82e-4203-a04a-25c5dc655dfd'), UUID('c977d1f3-9c7d-45a9-9d85-b4e0c0634792'), UUID('e947f0ce-1922-4f01-9680-d8008574ee88'), UUID('244fcbd4-d4f5-4eb8-8146-65b17100ad4a'), UUID('1143a5d2-2774-49cc-adc0-1d00c3ee3830'), UUID('1d0f59cf-e21f-430d-b860-3b6fe093c3e8'), UUID('1d0f59cf-e21f-430d-b860-3b6fe093c3e8'), UUID('405aed03-39df-47f2-88c7-ba76f5ad4822'), UUID('2fe269dd-eec0-4088-846b-afb53707a080'), UUID('98f15b91-0354-4b76-b0d3-401c605c0383'))\", \"duration\": 0.00042511300011938147, \"sql\": \"SELECT COUNT(*) AS \\\"__count\\\" FROM \\\"client\\\" WHERE (\\\"client\\\".\\\"id\\\" = 'a9a2ab75-57a5-4649-8fab-abbd31db1319'::uuid OR \\\"client\\\".\\\"id\\\" = '106e71bd-829a-4480-bd85-aec0f6bde1bb'::uuid OR \\\"client\\\".\\\"id\\\" = '106e71bd-829a-4480-bd85-aec0f6bde1bb'::uuid OR \\\"client\\\".\\\"id\\\" = '95fb4ed4-21a7-4429-94dc-027321d7fd2b'::uuid OR \\\"client\\\".\\\"id\\\" = '51d6da2b-cc68-4515-86f9-cbaf8a44a2e6'::uuid OR \\\"client\\\".\\\"id\\\" = '3e56fd30-2195-4617-a6fa-c83cd1bdaf8b'::uuid OR \\\"client\\\".\\\"id\\\" = 'acef35bc-18fa-4441-b5cc-20fe234ae019'::uuid OR \\\"client\\\".\\\"id\\\" = 'acef35bc-18fa-4441-b5cc-20fe234ae019'::uuid OR \\\"client\\\".\\\"id\\\" = '51592f1f-d82e-4203-a04a-25c5dc655dfd'::uuid OR \\\"client\\\".\\\"id\\\" = 'c977d1f3-9c7d-45a9-9d85-b4e0c0634792'::uuid OR \\\"client\\\".\\\"id\\\" = 'e947f0ce-1922-4f01-9680-d8008574ee88'::uuid OR \\\"client\\\".\\\"id\\\" = '244fcbd4-d4f5-4eb8-8146-65b17100ad4a'::uuid OR \\\"client\\\".\\\"id\\\" = '1143a5d2-2774-49cc-adc0-1d00c3ee3830'::uuid OR \\\"client\\\".\\\"id\\\" = '1d0f59cf-e21f-430d-b860-3b6fe093c3e8'::uuid OR \\\"client\\\".\\\"id\\\" = '1d0f59cf-e21f-430d-b860-3b6fe093c3e8'::uuid OR \\\"client\\\".\\\"id\\\" = '405aed03-39df-47f2-88c7-ba76f5ad4822'::uuid OR \\\"client\\\".\\\"id\\\" = '2fe269dd-eec0-4088-846b-afb53707a080'::uuid OR \\\"client\\\".\\\"id\\\" = '98f15b91-0354-4b76-b0d3-401c605c0383'::uuid)\", \"params\": [\"a9a2ab75-57a5-4649-8fab-abbd31db1319\", \"106e71bd-829a-4480-bd85-aec0f6bde1bb\", \"106e71bd-829a-4480-bd85-aec0f6bde1bb\", \"95fb4ed4-21a7-4429-94dc-027321d7fd2b\", \"51d6da2b-cc68-4515-86f9-cbaf8a44a2e6\", \"3e56fd30-2195-4617-a6fa-c83cd1bdaf8b\", \"acef35bc-18fa-4441-b5cc-20fe234ae019\", \"acef35bc-18fa-4441-b5cc-20fe234ae019\", \"51592f1f-d82e-4203-a04a-25c5dc655dfd\", \"c977d1f3-9c7d-45a9-9d85-b4e0c0634792\", \"e947f0ce-1922-4f01-9680-d8008574ee88\", \"244fcbd4-d4f5-4eb8-8146-65b17100ad4a\", \"1143a5d2-2774-49cc-adc0-1d00c3ee3830\", \"1d0f59cf-e21f-430d-b860-3b6fe093c3e8\", \"1d0f59cf-e21f-430d-b860-3b6fe093c3e8\", \"405aed03-39df-47f2-88c7-ba76f5ad4822\", \"2fe269dd-eec0-4088-846b-afb53707a080\", \"98f15b91-0354-4b76-b0d3-401c605c0383\"], \"@timestamp\": \"2020-08-15T19:43:18.311786\", \"level\": \"DEBUG\", \"logger\": \"django.db.backends\"}\n"
     ]
    },
    {
     "name": "stderr",
     "output_type": "stream",
     "text": [
      "{\"message\": \"(0.001) SELECT \\\"client\\\".\\\"id\\\", \\\"client\\\".\\\"created_by_id\\\", \\\"client\\\".\\\"created_at\\\", \\\"client\\\".\\\"modified_at\\\", \\\"client\\\".\\\"first_name\\\", \\\"client\\\".\\\"middle_name\\\", \\\"client\\\".\\\"last_name\\\", \\\"client\\\".\\\"dob\\\", \\\"client\\\".\\\"agency_assoc\\\" FROM \\\"client\\\" WHERE (\\\"client\\\".\\\"id\\\" = 'a9a2ab75-57a5-4649-8fab-abbd31db1319'::uuid OR \\\"client\\\".\\\"id\\\" = '106e71bd-829a-4480-bd85-aec0f6bde1bb'::uuid OR \\\"client\\\".\\\"id\\\" = '106e71bd-829a-4480-bd85-aec0f6bde1bb'::uuid OR \\\"client\\\".\\\"id\\\" = '95fb4ed4-21a7-4429-94dc-027321d7fd2b'::uuid OR \\\"client\\\".\\\"id\\\" = '51d6da2b-cc68-4515-86f9-cbaf8a44a2e6'::uuid OR \\\"client\\\".\\\"id\\\" = '3e56fd30-2195-4617-a6fa-c83cd1bdaf8b'::uuid OR \\\"client\\\".\\\"id\\\" = 'acef35bc-18fa-4441-b5cc-20fe234ae019'::uuid OR \\\"client\\\".\\\"id\\\" = 'acef35bc-18fa-4441-b5cc-20fe234ae019'::uuid OR \\\"client\\\".\\\"id\\\" = '51592f1f-d82e-4203-a04a-25c5dc655dfd'::uuid OR \\\"client\\\".\\\"id\\\" = 'c977d1f3-9c7d-45a9-9d85-b4e0c0634792'::uuid OR \\\"client\\\".\\\"id\\\" = 'e947f0ce-1922-4f01-9680-d8008574ee88'::uuid OR \\\"client\\\".\\\"id\\\" = '244fcbd4-d4f5-4eb8-8146-65b17100ad4a'::uuid OR \\\"client\\\".\\\"id\\\" = '1143a5d2-2774-49cc-adc0-1d00c3ee3830'::uuid OR \\\"client\\\".\\\"id\\\" = '1d0f59cf-e21f-430d-b860-3b6fe093c3e8'::uuid OR \\\"client\\\".\\\"id\\\" = '1d0f59cf-e21f-430d-b860-3b6fe093c3e8'::uuid OR \\\"client\\\".\\\"id\\\" = '405aed03-39df-47f2-88c7-ba76f5ad4822'::uuid OR \\\"client\\\".\\\"id\\\" = '2fe269dd-eec0-4088-846b-afb53707a080'::uuid OR \\\"client\\\".\\\"id\\\" = '98f15b91-0354-4b76-b0d3-401c605c0383'::uuid) ORDER BY \\\"client\\\".\\\"created_at\\\" DESC LIMIT 15; args=(UUID('a9a2ab75-57a5-4649-8fab-abbd31db1319'), UUID('106e71bd-829a-4480-bd85-aec0f6bde1bb'), UUID('106e71bd-829a-4480-bd85-aec0f6bde1bb'), UUID('95fb4ed4-21a7-4429-94dc-027321d7fd2b'), UUID('51d6da2b-cc68-4515-86f9-cbaf8a44a2e6'), UUID('3e56fd30-2195-4617-a6fa-c83cd1bdaf8b'), UUID('acef35bc-18fa-4441-b5cc-20fe234ae019'), UUID('acef35bc-18fa-4441-b5cc-20fe234ae019'), UUID('51592f1f-d82e-4203-a04a-25c5dc655dfd'), UUID('c977d1f3-9c7d-45a9-9d85-b4e0c0634792'), UUID('e947f0ce-1922-4f01-9680-d8008574ee88'), UUID('244fcbd4-d4f5-4eb8-8146-65b17100ad4a'), UUID('1143a5d2-2774-49cc-adc0-1d00c3ee3830'), UUID('1d0f59cf-e21f-430d-b860-3b6fe093c3e8'), UUID('1d0f59cf-e21f-430d-b860-3b6fe093c3e8'), UUID('405aed03-39df-47f2-88c7-ba76f5ad4822'), UUID('2fe269dd-eec0-4088-846b-afb53707a080'), UUID('98f15b91-0354-4b76-b0d3-401c605c0383'))\", \"duration\": 0.0006197420000262355, \"sql\": \"SELECT \\\"client\\\".\\\"id\\\", \\\"client\\\".\\\"created_by_id\\\", \\\"client\\\".\\\"created_at\\\", \\\"client\\\".\\\"modified_at\\\", \\\"client\\\".\\\"first_name\\\", \\\"client\\\".\\\"middle_name\\\", \\\"client\\\".\\\"last_name\\\", \\\"client\\\".\\\"dob\\\", \\\"client\\\".\\\"agency_assoc\\\" FROM \\\"client\\\" WHERE (\\\"client\\\".\\\"id\\\" = 'a9a2ab75-57a5-4649-8fab-abbd31db1319'::uuid OR \\\"client\\\".\\\"id\\\" = '106e71bd-829a-4480-bd85-aec0f6bde1bb'::uuid OR \\\"client\\\".\\\"id\\\" = '106e71bd-829a-4480-bd85-aec0f6bde1bb'::uuid OR \\\"client\\\".\\\"id\\\" = '95fb4ed4-21a7-4429-94dc-027321d7fd2b'::uuid OR \\\"client\\\".\\\"id\\\" = '51d6da2b-cc68-4515-86f9-cbaf8a44a2e6'::uuid OR \\\"client\\\".\\\"id\\\" = '3e56fd30-2195-4617-a6fa-c83cd1bdaf8b'::uuid OR \\\"client\\\".\\\"id\\\" = 'acef35bc-18fa-4441-b5cc-20fe234ae019'::uuid OR \\\"client\\\".\\\"id\\\" = 'acef35bc-18fa-4441-b5cc-20fe234ae019'::uuid OR \\\"client\\\".\\\"id\\\" = '51592f1f-d82e-4203-a04a-25c5dc655dfd'::uuid OR \\\"client\\\".\\\"id\\\" = 'c977d1f3-9c7d-45a9-9d85-b4e0c0634792'::uuid OR \\\"client\\\".\\\"id\\\" = 'e947f0ce-1922-4f01-9680-d8008574ee88'::uuid OR \\\"client\\\".\\\"id\\\" = '244fcbd4-d4f5-4eb8-8146-65b17100ad4a'::uuid OR \\\"client\\\".\\\"id\\\" = '1143a5d2-2774-49cc-adc0-1d00c3ee3830'::uuid OR \\\"client\\\".\\\"id\\\" = '1d0f59cf-e21f-430d-b860-3b6fe093c3e8'::uuid OR \\\"client\\\".\\\"id\\\" = '1d0f59cf-e21f-430d-b860-3b6fe093c3e8'::uuid OR \\\"client\\\".\\\"id\\\" = '405aed03-39df-47f2-88c7-ba76f5ad4822'::uuid OR \\\"client\\\".\\\"id\\\" = '2fe269dd-eec0-4088-846b-afb53707a080'::uuid OR \\\"client\\\".\\\"id\\\" = '98f15b91-0354-4b76-b0d3-401c605c0383'::uuid) ORDER BY \\\"client\\\".\\\"created_at\\\" DESC LIMIT 15\", \"params\": [\"a9a2ab75-57a5-4649-8fab-abbd31db1319\", \"106e71bd-829a-4480-bd85-aec0f6bde1bb\", \"106e71bd-829a-4480-bd85-aec0f6bde1bb\", \"95fb4ed4-21a7-4429-94dc-027321d7fd2b\", \"51d6da2b-cc68-4515-86f9-cbaf8a44a2e6\", \"3e56fd30-2195-4617-a6fa-c83cd1bdaf8b\", \"acef35bc-18fa-4441-b5cc-20fe234ae019\", \"acef35bc-18fa-4441-b5cc-20fe234ae019\", \"51592f1f-d82e-4203-a04a-25c5dc655dfd\", \"c977d1f3-9c7d-45a9-9d85-b4e0c0634792\", \"e947f0ce-1922-4f01-9680-d8008574ee88\", \"244fcbd4-d4f5-4eb8-8146-65b17100ad4a\", \"1143a5d2-2774-49cc-adc0-1d00c3ee3830\", \"1d0f59cf-e21f-430d-b860-3b6fe093c3e8\", \"1d0f59cf-e21f-430d-b860-3b6fe093c3e8\", \"405aed03-39df-47f2-88c7-ba76f5ad4822\", \"2fe269dd-eec0-4088-846b-afb53707a080\", \"98f15b91-0354-4b76-b0d3-401c605c0383\"], \"@timestamp\": \"2020-08-15T19:43:18.314360\", \"level\": \"DEBUG\", \"logger\": \"django.db.backends\"}\n"
     ]
    },
    {
     "name": "stdout",
     "output_type": "stream",
     "text": [
      "superuser1\n",
      "200\n",
      "User superuser1 can view 15 clients\n",
      "id: a9a2ab75-57a5-4649-8fab-abbd31db1319; name: Zachery Morton\n",
      "id: 106e71bd-829a-4480-bd85-aec0f6bde1bb; name: Rihanna Ferrell\n",
      "id: 95fb4ed4-21a7-4429-94dc-027321d7fd2b; name: Amya Dominguez\n",
      "id: 51d6da2b-cc68-4515-86f9-cbaf8a44a2e6; name: Coleman Pace\n",
      "id: 3e56fd30-2195-4617-a6fa-c83cd1bdaf8b; name: Van Andrews\n",
      "id: acef35bc-18fa-4441-b5cc-20fe234ae019; name: Briley Leach\n",
      "id: 51592f1f-d82e-4203-a04a-25c5dc655dfd; name: Nickolas Maxwell\n",
      "id: c977d1f3-9c7d-45a9-9d85-b4e0c0634792; name: Courtney Nolan\n",
      "id: e947f0ce-1922-4f01-9680-d8008574ee88; name: Layla Diaz\n",
      "id: 244fcbd4-d4f5-4eb8-8146-65b17100ad4a; name: Trent Carpenter\n",
      "id: 1143a5d2-2774-49cc-adc0-1d00c3ee3830; name: Warren Aguirre\n",
      "id: 1d0f59cf-e21f-430d-b860-3b6fe093c3e8; name: Sanai Curtis\n",
      "id: 405aed03-39df-47f2-88c7-ba76f5ad4822; name: Sandra Obrien\n",
      "id: 2fe269dd-eec0-4088-846b-afb53707a080; name: Camille Howell\n",
      "id: 98f15b91-0354-4b76-b0d3-401c605c0383; name: Hailie Boyd\n"
     ]
    },
    {
     "name": "stderr",
     "output_type": "stream",
     "text": [
      "{\"message\": \"(0.000) SELECT \\\"auth_user\\\".\\\"id\\\", \\\"auth_user\\\".\\\"password\\\", \\\"auth_user\\\".\\\"last_login\\\", \\\"auth_user\\\".\\\"is_superuser\\\", \\\"auth_user\\\".\\\"username\\\", \\\"auth_user\\\".\\\"first_name\\\", \\\"auth_user\\\".\\\"last_name\\\", \\\"auth_user\\\".\\\"email\\\", \\\"auth_user\\\".\\\"is_staff\\\", \\\"auth_user\\\".\\\"is_active\\\", \\\"auth_user\\\".\\\"date_joined\\\" FROM \\\"auth_user\\\" WHERE \\\"auth_user\\\".\\\"username\\\" = 'levmendoza' LIMIT 21; args=('levmendoza',)\", \"duration\": 0.00036987199996474374, \"sql\": \"SELECT \\\"auth_user\\\".\\\"id\\\", \\\"auth_user\\\".\\\"password\\\", \\\"auth_user\\\".\\\"last_login\\\", \\\"auth_user\\\".\\\"is_superuser\\\", \\\"auth_user\\\".\\\"username\\\", \\\"auth_user\\\".\\\"first_name\\\", \\\"auth_user\\\".\\\"last_name\\\", \\\"auth_user\\\".\\\"email\\\", \\\"auth_user\\\".\\\"is_staff\\\", \\\"auth_user\\\".\\\"is_active\\\", \\\"auth_user\\\".\\\"date_joined\\\" FROM \\\"auth_user\\\" WHERE \\\"auth_user\\\".\\\"username\\\" = 'levmendoza' LIMIT 21\", \"params\": [\"levmendoza\"], \"@timestamp\": \"2020-08-15T19:43:18.333141\", \"level\": \"DEBUG\", \"logger\": \"django.db.backends\"}\n",
      "{\"message\": \"(0.000) SELECT \\\"security_group_user_agency\\\".\\\"id\\\", \\\"security_group_user_agency\\\".\\\"desc\\\", \\\"security_group_user_agency\\\".\\\"agency_ref\\\", \\\"security_group_user_agency\\\".\\\"user_ref_id\\\", \\\"security_group_user_agency\\\".\\\"group_ref_id\\\" FROM \\\"security_group_user_agency\\\" WHERE \\\"security_group_user_agency\\\".\\\"user_ref_id\\\" = 3; args=(3,)\", \"duration\": 0.00034717499988801137, \"sql\": \"SELECT \\\"security_group_user_agency\\\".\\\"id\\\", \\\"security_group_user_agency\\\".\\\"desc\\\", \\\"security_group_user_agency\\\".\\\"agency_ref\\\", \\\"security_group_user_agency\\\".\\\"user_ref_id\\\", \\\"security_group_user_agency\\\".\\\"group_ref_id\\\" FROM \\\"security_group_user_agency\\\" WHERE \\\"security_group_user_agency\\\".\\\"user_ref_id\\\" = 3\", \"params\": [3], \"@timestamp\": \"2020-08-15T19:43:18.336448\", \"level\": \"DEBUG\", \"logger\": \"django.db.backends\"}\n",
      "{\"message\": \"(0.000) SELECT \\\"agency\\\".\\\"id\\\", \\\"agency\\\".\\\"created_by_id\\\", \\\"agency\\\".\\\"created_at\\\", \\\"agency\\\".\\\"modified_at\\\", \\\"agency\\\".\\\"name\\\", \\\"agency\\\".\\\"ref_id\\\" FROM \\\"agency\\\" WHERE \\\"agency\\\".\\\"ref_id\\\" = 3 LIMIT 21; args=(3,)\", \"duration\": 0.00025927299998329545, \"sql\": \"SELECT \\\"agency\\\".\\\"id\\\", \\\"agency\\\".\\\"created_by_id\\\", \\\"agency\\\".\\\"created_at\\\", \\\"agency\\\".\\\"modified_at\\\", \\\"agency\\\".\\\"name\\\", \\\"agency\\\".\\\"ref_id\\\" FROM \\\"agency\\\" WHERE \\\"agency\\\".\\\"ref_id\\\" = 3 LIMIT 21\", \"params\": [3], \"@timestamp\": \"2020-08-15T19:43:18.338137\", \"level\": \"DEBUG\", \"logger\": \"django.db.backends\"}\n",
      "{\"message\": \"(0.000) SELECT \\\"agency_client\\\".\\\"id\\\", \\\"agency_client\\\".\\\"client_id\\\", \\\"agency_client\\\".\\\"agency_ref\\\", \\\"agency_client\\\".\\\"desc\\\" FROM \\\"agency_client\\\" WHERE \\\"agency_client\\\".\\\"agency_ref\\\" = 3; args=(3,)\", \"duration\": 0.0002585780000572413, \"sql\": \"SELECT \\\"agency_client\\\".\\\"id\\\", \\\"agency_client\\\".\\\"client_id\\\", \\\"agency_client\\\".\\\"agency_ref\\\", \\\"agency_client\\\".\\\"desc\\\" FROM \\\"agency_client\\\" WHERE \\\"agency_client\\\".\\\"agency_ref\\\" = 3\", \"params\": [3], \"@timestamp\": \"2020-08-15T19:43:18.339806\", \"level\": \"DEBUG\", \"logger\": \"django.db.backends\"}\n",
      "{\"message\": \"(0.000) SELECT COUNT(*) AS \\\"__count\\\" FROM \\\"client\\\" WHERE (\\\"client\\\".\\\"id\\\" = '106e71bd-829a-4480-bd85-aec0f6bde1bb'::uuid OR \\\"client\\\".\\\"id\\\" = '60d51965-b0e4-404a-b592-2dea143ccbaa'::uuid OR \\\"client\\\".\\\"id\\\" = 'ebd6f2f6-bec7-461e-b700-fd2e520199c2'::uuid OR \\\"client\\\".\\\"id\\\" = '531b5fd5-20f2-417c-b861-03aa4c7ef0e9'::uuid OR \\\"client\\\".\\\"id\\\" = '98f15b91-0354-4b76-b0d3-401c605c0383'::uuid); args=(UUID('106e71bd-829a-4480-bd85-aec0f6bde1bb'), UUID('60d51965-b0e4-404a-b592-2dea143ccbaa'), UUID('ebd6f2f6-bec7-461e-b700-fd2e520199c2'), UUID('531b5fd5-20f2-417c-b861-03aa4c7ef0e9'), UUID('98f15b91-0354-4b76-b0d3-401c605c0383'))\", \"duration\": 0.00034591700000419223, \"sql\": \"SELECT COUNT(*) AS \\\"__count\\\" FROM \\\"client\\\" WHERE (\\\"client\\\".\\\"id\\\" = '106e71bd-829a-4480-bd85-aec0f6bde1bb'::uuid OR \\\"client\\\".\\\"id\\\" = '60d51965-b0e4-404a-b592-2dea143ccbaa'::uuid OR \\\"client\\\".\\\"id\\\" = 'ebd6f2f6-bec7-461e-b700-fd2e520199c2'::uuid OR \\\"client\\\".\\\"id\\\" = '531b5fd5-20f2-417c-b861-03aa4c7ef0e9'::uuid OR \\\"client\\\".\\\"id\\\" = '98f15b91-0354-4b76-b0d3-401c605c0383'::uuid)\", \"params\": [\"106e71bd-829a-4480-bd85-aec0f6bde1bb\", \"60d51965-b0e4-404a-b592-2dea143ccbaa\", \"ebd6f2f6-bec7-461e-b700-fd2e520199c2\", \"531b5fd5-20f2-417c-b861-03aa4c7ef0e9\", \"98f15b91-0354-4b76-b0d3-401c605c0383\"], \"@timestamp\": \"2020-08-15T19:43:18.341923\", \"level\": \"DEBUG\", \"logger\": \"django.db.backends\"}\n",
      "{\"message\": \"(0.000) SELECT \\\"client\\\".\\\"id\\\", \\\"client\\\".\\\"created_by_id\\\", \\\"client\\\".\\\"created_at\\\", \\\"client\\\".\\\"modified_at\\\", \\\"client\\\".\\\"first_name\\\", \\\"client\\\".\\\"middle_name\\\", \\\"client\\\".\\\"last_name\\\", \\\"client\\\".\\\"dob\\\", \\\"client\\\".\\\"agency_assoc\\\" FROM \\\"client\\\" WHERE (\\\"client\\\".\\\"id\\\" = '106e71bd-829a-4480-bd85-aec0f6bde1bb'::uuid OR \\\"client\\\".\\\"id\\\" = '60d51965-b0e4-404a-b592-2dea143ccbaa'::uuid OR \\\"client\\\".\\\"id\\\" = 'ebd6f2f6-bec7-461e-b700-fd2e520199c2'::uuid OR \\\"client\\\".\\\"id\\\" = '531b5fd5-20f2-417c-b861-03aa4c7ef0e9'::uuid OR \\\"client\\\".\\\"id\\\" = '98f15b91-0354-4b76-b0d3-401c605c0383'::uuid) ORDER BY \\\"client\\\".\\\"created_at\\\" DESC LIMIT 5; args=(UUID('106e71bd-829a-4480-bd85-aec0f6bde1bb'), UUID('60d51965-b0e4-404a-b592-2dea143ccbaa'), UUID('ebd6f2f6-bec7-461e-b700-fd2e520199c2'), UUID('531b5fd5-20f2-417c-b861-03aa4c7ef0e9'), UUID('98f15b91-0354-4b76-b0d3-401c605c0383'))\", \"duration\": 0.0003112409999630472, \"sql\": \"SELECT \\\"client\\\".\\\"id\\\", \\\"client\\\".\\\"created_by_id\\\", \\\"client\\\".\\\"created_at\\\", \\\"client\\\".\\\"modified_at\\\", \\\"client\\\".\\\"first_name\\\", \\\"client\\\".\\\"middle_name\\\", \\\"client\\\".\\\"last_name\\\", \\\"client\\\".\\\"dob\\\", \\\"client\\\".\\\"agency_assoc\\\" FROM \\\"client\\\" WHERE (\\\"client\\\".\\\"id\\\" = '106e71bd-829a-4480-bd85-aec0f6bde1bb'::uuid OR \\\"client\\\".\\\"id\\\" = '60d51965-b0e4-404a-b592-2dea143ccbaa'::uuid OR \\\"client\\\".\\\"id\\\" = 'ebd6f2f6-bec7-461e-b700-fd2e520199c2'::uuid OR \\\"client\\\".\\\"id\\\" = '531b5fd5-20f2-417c-b861-03aa4c7ef0e9'::uuid OR \\\"client\\\".\\\"id\\\" = '98f15b91-0354-4b76-b0d3-401c605c0383'::uuid) ORDER BY \\\"client\\\".\\\"created_at\\\" DESC LIMIT 5\", \"params\": [\"106e71bd-829a-4480-bd85-aec0f6bde1bb\", \"60d51965-b0e4-404a-b592-2dea143ccbaa\", \"ebd6f2f6-bec7-461e-b700-fd2e520199c2\", \"531b5fd5-20f2-417c-b861-03aa4c7ef0e9\", \"98f15b91-0354-4b76-b0d3-401c605c0383\"], \"@timestamp\": \"2020-08-15T19:43:18.343625\", \"level\": \"DEBUG\", \"logger\": \"django.db.backends\"}\n"
     ]
    },
    {
     "name": "stdout",
     "output_type": "stream",
     "text": [
      "levmendoza\n",
      "200\n",
      "User levmendoza can view 5 clients\n",
      "id: 106e71bd-829a-4480-bd85-aec0f6bde1bb; name: Rihanna Ferrell\n",
      "id: 60d51965-b0e4-404a-b592-2dea143ccbaa; name: Miguel Mcintyre\n",
      "id: ebd6f2f6-bec7-461e-b700-fd2e520199c2; name: Kaylin Daniel\n",
      "id: 531b5fd5-20f2-417c-b861-03aa4c7ef0e9; name: Scarlett Montgomery\n",
      "id: 98f15b91-0354-4b76-b0d3-401c605c0383; name: Hailie Boyd\n"
     ]
    },
    {
     "name": "stderr",
     "output_type": "stream",
     "text": [
      "{\"message\": \"(0.000) SELECT \\\"auth_user\\\".\\\"id\\\", \\\"auth_user\\\".\\\"password\\\", \\\"auth_user\\\".\\\"last_login\\\", \\\"auth_user\\\".\\\"is_superuser\\\", \\\"auth_user\\\".\\\"username\\\", \\\"auth_user\\\".\\\"first_name\\\", \\\"auth_user\\\".\\\"last_name\\\", \\\"auth_user\\\".\\\"email\\\", \\\"auth_user\\\".\\\"is_staff\\\", \\\"auth_user\\\".\\\"is_active\\\", \\\"auth_user\\\".\\\"date_joined\\\" FROM \\\"auth_user\\\" WHERE \\\"auth_user\\\".\\\"username\\\" = 'hilbeemer' LIMIT 21; args=('hilbeemer',)\", \"duration\": 0.00045357399994827574, \"sql\": \"SELECT \\\"auth_user\\\".\\\"id\\\", \\\"auth_user\\\".\\\"password\\\", \\\"auth_user\\\".\\\"last_login\\\", \\\"auth_user\\\".\\\"is_superuser\\\", \\\"auth_user\\\".\\\"username\\\", \\\"auth_user\\\".\\\"first_name\\\", \\\"auth_user\\\".\\\"last_name\\\", \\\"auth_user\\\".\\\"email\\\", \\\"auth_user\\\".\\\"is_staff\\\", \\\"auth_user\\\".\\\"is_active\\\", \\\"auth_user\\\".\\\"date_joined\\\" FROM \\\"auth_user\\\" WHERE \\\"auth_user\\\".\\\"username\\\" = 'hilbeemer' LIMIT 21\", \"params\": [\"hilbeemer\"], \"@timestamp\": \"2020-08-15T19:43:18.353762\", \"level\": \"DEBUG\", \"logger\": \"django.db.backends\"}\n",
      "{\"message\": \"(0.000) SELECT \\\"security_group_user_agency\\\".\\\"id\\\", \\\"security_group_user_agency\\\".\\\"desc\\\", \\\"security_group_user_agency\\\".\\\"agency_ref\\\", \\\"security_group_user_agency\\\".\\\"user_ref_id\\\", \\\"security_group_user_agency\\\".\\\"group_ref_id\\\" FROM \\\"security_group_user_agency\\\" WHERE \\\"security_group_user_agency\\\".\\\"user_ref_id\\\" = 4; args=(4,)\", \"duration\": 0.00042768200000864454, \"sql\": \"SELECT \\\"security_group_user_agency\\\".\\\"id\\\", \\\"security_group_user_agency\\\".\\\"desc\\\", \\\"security_group_user_agency\\\".\\\"agency_ref\\\", \\\"security_group_user_agency\\\".\\\"user_ref_id\\\", \\\"security_group_user_agency\\\".\\\"group_ref_id\\\" FROM \\\"security_group_user_agency\\\" WHERE \\\"security_group_user_agency\\\".\\\"user_ref_id\\\" = 4\", \"params\": [4], \"@timestamp\": \"2020-08-15T19:43:18.357251\", \"level\": \"DEBUG\", \"logger\": \"django.db.backends\"}\n",
      "{\"message\": \"(0.000) SELECT \\\"agency\\\".\\\"id\\\", \\\"agency\\\".\\\"created_by_id\\\", \\\"agency\\\".\\\"created_at\\\", \\\"agency\\\".\\\"modified_at\\\", \\\"agency\\\".\\\"name\\\", \\\"agency\\\".\\\"ref_id\\\" FROM \\\"agency\\\" WHERE \\\"agency\\\".\\\"ref_id\\\" = 4 LIMIT 21; args=(4,)\", \"duration\": 0.00034906999985651055, \"sql\": \"SELECT \\\"agency\\\".\\\"id\\\", \\\"agency\\\".\\\"created_by_id\\\", \\\"agency\\\".\\\"created_at\\\", \\\"agency\\\".\\\"modified_at\\\", \\\"agency\\\".\\\"name\\\", \\\"agency\\\".\\\"ref_id\\\" FROM \\\"agency\\\" WHERE \\\"agency\\\".\\\"ref_id\\\" = 4 LIMIT 21\", \"params\": [4], \"@timestamp\": \"2020-08-15T19:43:18.359123\", \"level\": \"DEBUG\", \"logger\": \"django.db.backends\"}\n",
      "{\"message\": \"(0.000) SELECT \\\"agency_client\\\".\\\"id\\\", \\\"agency_client\\\".\\\"client_id\\\", \\\"agency_client\\\".\\\"agency_ref\\\", \\\"agency_client\\\".\\\"desc\\\" FROM \\\"agency_client\\\" WHERE \\\"agency_client\\\".\\\"agency_ref\\\" = 4; args=(4,)\", \"duration\": 0.00037383400012913626, \"sql\": \"SELECT \\\"agency_client\\\".\\\"id\\\", \\\"agency_client\\\".\\\"client_id\\\", \\\"agency_client\\\".\\\"agency_ref\\\", \\\"agency_client\\\".\\\"desc\\\" FROM \\\"agency_client\\\" WHERE \\\"agency_client\\\".\\\"agency_ref\\\" = 4\", \"params\": [4], \"@timestamp\": \"2020-08-15T19:43:18.360982\", \"level\": \"DEBUG\", \"logger\": \"django.db.backends\"}\n",
      "{\"message\": \"(0.000) SELECT COUNT(*) AS \\\"__count\\\" FROM \\\"client\\\" WHERE (\\\"client\\\".\\\"id\\\" = 'a9a2ab75-57a5-4649-8fab-abbd31db1319'::uuid OR \\\"client\\\".\\\"id\\\" = '106e71bd-829a-4480-bd85-aec0f6bde1bb'::uuid OR \\\"client\\\".\\\"id\\\" = '2c42348e-959d-44a1-9b4c-7263c109a945'::uuid OR \\\"client\\\".\\\"id\\\" = '347e83a4-aae0-463b-9900-0ea75de52173'::uuid OR \\\"client\\\".\\\"id\\\" = '0eb7b453-51f7-4f0a-9a40-63c6fd17f958'::uuid OR \\\"client\\\".\\\"id\\\" = '51592f1f-d82e-4203-a04a-25c5dc655dfd'::uuid OR \\\"client\\\".\\\"id\\\" = 'e51e9c6b-cb28-4431-a172-1d0d564af1eb'::uuid OR \\\"client\\\".\\\"id\\\" = 'f9b1a2df-a0a2-4a31-8fb8-023077147c1b'::uuid OR \\\"client\\\".\\\"id\\\" = '98f15b91-0354-4b76-b0d3-401c605c0383'::uuid); args=(UUID('a9a2ab75-57a5-4649-8fab-abbd31db1319'), UUID('106e71bd-829a-4480-bd85-aec0f6bde1bb'), UUID('2c42348e-959d-44a1-9b4c-7263c109a945'), UUID('347e83a4-aae0-463b-9900-0ea75de52173'), UUID('0eb7b453-51f7-4f0a-9a40-63c6fd17f958'), UUID('51592f1f-d82e-4203-a04a-25c5dc655dfd'), UUID('e51e9c6b-cb28-4431-a172-1d0d564af1eb'), UUID('f9b1a2df-a0a2-4a31-8fb8-023077147c1b'), UUID('98f15b91-0354-4b76-b0d3-401c605c0383'))\", \"duration\": 0.00040626099985274777, \"sql\": \"SELECT COUNT(*) AS \\\"__count\\\" FROM \\\"client\\\" WHERE (\\\"client\\\".\\\"id\\\" = 'a9a2ab75-57a5-4649-8fab-abbd31db1319'::uuid OR \\\"client\\\".\\\"id\\\" = '106e71bd-829a-4480-bd85-aec0f6bde1bb'::uuid OR \\\"client\\\".\\\"id\\\" = '2c42348e-959d-44a1-9b4c-7263c109a945'::uuid OR \\\"client\\\".\\\"id\\\" = '347e83a4-aae0-463b-9900-0ea75de52173'::uuid OR \\\"client\\\".\\\"id\\\" = '0eb7b453-51f7-4f0a-9a40-63c6fd17f958'::uuid OR \\\"client\\\".\\\"id\\\" = '51592f1f-d82e-4203-a04a-25c5dc655dfd'::uuid OR \\\"client\\\".\\\"id\\\" = 'e51e9c6b-cb28-4431-a172-1d0d564af1eb'::uuid OR \\\"client\\\".\\\"id\\\" = 'f9b1a2df-a0a2-4a31-8fb8-023077147c1b'::uuid OR \\\"client\\\".\\\"id\\\" = '98f15b91-0354-4b76-b0d3-401c605c0383'::uuid)\", \"params\": [\"a9a2ab75-57a5-4649-8fab-abbd31db1319\", \"106e71bd-829a-4480-bd85-aec0f6bde1bb\", \"2c42348e-959d-44a1-9b4c-7263c109a945\", \"347e83a4-aae0-463b-9900-0ea75de52173\", \"0eb7b453-51f7-4f0a-9a40-63c6fd17f958\", \"51592f1f-d82e-4203-a04a-25c5dc655dfd\", \"e51e9c6b-cb28-4431-a172-1d0d564af1eb\", \"f9b1a2df-a0a2-4a31-8fb8-023077147c1b\", \"98f15b91-0354-4b76-b0d3-401c605c0383\"], \"@timestamp\": \"2020-08-15T19:43:18.363519\", \"level\": \"DEBUG\", \"logger\": \"django.db.backends\"}\n",
      "{\"message\": \"(0.000) SELECT \\\"client\\\".\\\"id\\\", \\\"client\\\".\\\"created_by_id\\\", \\\"client\\\".\\\"created_at\\\", \\\"client\\\".\\\"modified_at\\\", \\\"client\\\".\\\"first_name\\\", \\\"client\\\".\\\"middle_name\\\", \\\"client\\\".\\\"last_name\\\", \\\"client\\\".\\\"dob\\\", \\\"client\\\".\\\"agency_assoc\\\" FROM \\\"client\\\" WHERE (\\\"client\\\".\\\"id\\\" = 'a9a2ab75-57a5-4649-8fab-abbd31db1319'::uuid OR \\\"client\\\".\\\"id\\\" = '106e71bd-829a-4480-bd85-aec0f6bde1bb'::uuid OR \\\"client\\\".\\\"id\\\" = '2c42348e-959d-44a1-9b4c-7263c109a945'::uuid OR \\\"client\\\".\\\"id\\\" = '347e83a4-aae0-463b-9900-0ea75de52173'::uuid OR \\\"client\\\".\\\"id\\\" = '0eb7b453-51f7-4f0a-9a40-63c6fd17f958'::uuid OR \\\"client\\\".\\\"id\\\" = '51592f1f-d82e-4203-a04a-25c5dc655dfd'::uuid OR \\\"client\\\".\\\"id\\\" = 'e51e9c6b-cb28-4431-a172-1d0d564af1eb'::uuid OR \\\"client\\\".\\\"id\\\" = 'f9b1a2df-a0a2-4a31-8fb8-023077147c1b'::uuid OR \\\"client\\\".\\\"id\\\" = '98f15b91-0354-4b76-b0d3-401c605c0383'::uuid) ORDER BY \\\"client\\\".\\\"created_at\\\" DESC LIMIT 9; args=(UUID('a9a2ab75-57a5-4649-8fab-abbd31db1319'), UUID('106e71bd-829a-4480-bd85-aec0f6bde1bb'), UUID('2c42348e-959d-44a1-9b4c-7263c109a945'), UUID('347e83a4-aae0-463b-9900-0ea75de52173'), UUID('0eb7b453-51f7-4f0a-9a40-63c6fd17f958'), UUID('51592f1f-d82e-4203-a04a-25c5dc655dfd'), UUID('e51e9c6b-cb28-4431-a172-1d0d564af1eb'), UUID('f9b1a2df-a0a2-4a31-8fb8-023077147c1b'), UUID('98f15b91-0354-4b76-b0d3-401c605c0383'))\", \"duration\": 0.0003751459998966311, \"sql\": \"SELECT \\\"client\\\".\\\"id\\\", \\\"client\\\".\\\"created_by_id\\\", \\\"client\\\".\\\"created_at\\\", \\\"client\\\".\\\"modified_at\\\", \\\"client\\\".\\\"first_name\\\", \\\"client\\\".\\\"middle_name\\\", \\\"client\\\".\\\"last_name\\\", \\\"client\\\".\\\"dob\\\", \\\"client\\\".\\\"agency_assoc\\\" FROM \\\"client\\\" WHERE (\\\"client\\\".\\\"id\\\" = 'a9a2ab75-57a5-4649-8fab-abbd31db1319'::uuid OR \\\"client\\\".\\\"id\\\" = '106e71bd-829a-4480-bd85-aec0f6bde1bb'::uuid OR \\\"client\\\".\\\"id\\\" = '2c42348e-959d-44a1-9b4c-7263c109a945'::uuid OR \\\"client\\\".\\\"id\\\" = '347e83a4-aae0-463b-9900-0ea75de52173'::uuid OR \\\"client\\\".\\\"id\\\" = '0eb7b453-51f7-4f0a-9a40-63c6fd17f958'::uuid OR \\\"client\\\".\\\"id\\\" = '51592f1f-d82e-4203-a04a-25c5dc655dfd'::uuid OR \\\"client\\\".\\\"id\\\" = 'e51e9c6b-cb28-4431-a172-1d0d564af1eb'::uuid OR \\\"client\\\".\\\"id\\\" = 'f9b1a2df-a0a2-4a31-8fb8-023077147c1b'::uuid OR \\\"client\\\".\\\"id\\\" = '98f15b91-0354-4b76-b0d3-401c605c0383'::uuid) ORDER BY \\\"client\\\".\\\"created_at\\\" DESC LIMIT 9\", \"params\": [\"a9a2ab75-57a5-4649-8fab-abbd31db1319\", \"106e71bd-829a-4480-bd85-aec0f6bde1bb\", \"2c42348e-959d-44a1-9b4c-7263c109a945\", \"347e83a4-aae0-463b-9900-0ea75de52173\", \"0eb7b453-51f7-4f0a-9a40-63c6fd17f958\", \"51592f1f-d82e-4203-a04a-25c5dc655dfd\", \"e51e9c6b-cb28-4431-a172-1d0d564af1eb\", \"f9b1a2df-a0a2-4a31-8fb8-023077147c1b\", \"98f15b91-0354-4b76-b0d3-401c605c0383\"], \"@timestamp\": \"2020-08-15T19:43:18.365548\", \"level\": \"DEBUG\", \"logger\": \"django.db.backends\"}\n"
     ]
    },
    {
     "name": "stdout",
     "output_type": "stream",
     "text": [
      "hilbeemer\n",
      "200\n",
      "User hilbeemer can view 9 clients\n",
      "id: a9a2ab75-57a5-4649-8fab-abbd31db1319; name: Zachery Morton\n",
      "id: 106e71bd-829a-4480-bd85-aec0f6bde1bb; name: Rihanna Ferrell\n",
      "id: 2c42348e-959d-44a1-9b4c-7263c109a945; name: Marlene Ibarra\n",
      "id: 347e83a4-aae0-463b-9900-0ea75de52173; name: Luciana Kim\n",
      "id: 0eb7b453-51f7-4f0a-9a40-63c6fd17f958; name: Aaden Harding\n",
      "id: 51592f1f-d82e-4203-a04a-25c5dc655dfd; name: Nickolas Maxwell\n",
      "id: e51e9c6b-cb28-4431-a172-1d0d564af1eb; name: Amya Flowers\n",
      "id: f9b1a2df-a0a2-4a31-8fb8-023077147c1b; name: Khalil Farley\n",
      "id: 98f15b91-0354-4b76-b0d3-401c605c0383; name: Hailie Boyd\n"
     ]
    },
    {
     "name": "stderr",
     "output_type": "stream",
     "text": [
      "{\"message\": \"(0.000) SELECT \\\"auth_user\\\".\\\"id\\\", \\\"auth_user\\\".\\\"password\\\", \\\"auth_user\\\".\\\"last_login\\\", \\\"auth_user\\\".\\\"is_superuser\\\", \\\"auth_user\\\".\\\"username\\\", \\\"auth_user\\\".\\\"first_name\\\", \\\"auth_user\\\".\\\"last_name\\\", \\\"auth_user\\\".\\\"email\\\", \\\"auth_user\\\".\\\"is_staff\\\", \\\"auth_user\\\".\\\"is_active\\\", \\\"auth_user\\\".\\\"date_joined\\\" FROM \\\"auth_user\\\" WHERE \\\"auth_user\\\".\\\"username\\\" = 'felmoore' LIMIT 21; args=('felmoore',)\", \"duration\": 0.00043142899994563777, \"sql\": \"SELECT \\\"auth_user\\\".\\\"id\\\", \\\"auth_user\\\".\\\"password\\\", \\\"auth_user\\\".\\\"last_login\\\", \\\"auth_user\\\".\\\"is_superuser\\\", \\\"auth_user\\\".\\\"username\\\", \\\"auth_user\\\".\\\"first_name\\\", \\\"auth_user\\\".\\\"last_name\\\", \\\"auth_user\\\".\\\"email\\\", \\\"auth_user\\\".\\\"is_staff\\\", \\\"auth_user\\\".\\\"is_active\\\", \\\"auth_user\\\".\\\"date_joined\\\" FROM \\\"auth_user\\\" WHERE \\\"auth_user\\\".\\\"username\\\" = 'felmoore' LIMIT 21\", \"params\": [\"felmoore\"], \"@timestamp\": \"2020-08-15T19:43:18.385007\", \"level\": \"DEBUG\", \"logger\": \"django.db.backends\"}\n",
      "{\"message\": \"(0.000) SELECT \\\"security_group_user_agency\\\".\\\"id\\\", \\\"security_group_user_agency\\\".\\\"desc\\\", \\\"security_group_user_agency\\\".\\\"agency_ref\\\", \\\"security_group_user_agency\\\".\\\"user_ref_id\\\", \\\"security_group_user_agency\\\".\\\"group_ref_id\\\" FROM \\\"security_group_user_agency\\\" WHERE \\\"security_group_user_agency\\\".\\\"user_ref_id\\\" = 5; args=(5,)\", \"duration\": 0.0003273520001130237, \"sql\": \"SELECT \\\"security_group_user_agency\\\".\\\"id\\\", \\\"security_group_user_agency\\\".\\\"desc\\\", \\\"security_group_user_agency\\\".\\\"agency_ref\\\", \\\"security_group_user_agency\\\".\\\"user_ref_id\\\", \\\"security_group_user_agency\\\".\\\"group_ref_id\\\" FROM \\\"security_group_user_agency\\\" WHERE \\\"security_group_user_agency\\\".\\\"user_ref_id\\\" = 5\", \"params\": [5], \"@timestamp\": \"2020-08-15T19:43:18.389130\", \"level\": \"DEBUG\", \"logger\": \"django.db.backends\"}\n",
      "{\"message\": \"(0.001) SELECT \\\"agency\\\".\\\"id\\\", \\\"agency\\\".\\\"created_by_id\\\", \\\"agency\\\".\\\"created_at\\\", \\\"agency\\\".\\\"modified_at\\\", \\\"agency\\\".\\\"name\\\", \\\"agency\\\".\\\"ref_id\\\" FROM \\\"agency\\\" WHERE \\\"agency\\\".\\\"ref_id\\\" = 5 LIMIT 21; args=(5,)\", \"duration\": 0.0005389670000113256, \"sql\": \"SELECT \\\"agency\\\".\\\"id\\\", \\\"agency\\\".\\\"created_by_id\\\", \\\"agency\\\".\\\"created_at\\\", \\\"agency\\\".\\\"modified_at\\\", \\\"agency\\\".\\\"name\\\", \\\"agency\\\".\\\"ref_id\\\" FROM \\\"agency\\\" WHERE \\\"agency\\\".\\\"ref_id\\\" = 5 LIMIT 21\", \"params\": [5], \"@timestamp\": \"2020-08-15T19:43:18.391722\", \"level\": \"DEBUG\", \"logger\": \"django.db.backends\"}\n",
      "{\"message\": \"(0.000) SELECT \\\"agency_client\\\".\\\"id\\\", \\\"agency_client\\\".\\\"client_id\\\", \\\"agency_client\\\".\\\"agency_ref\\\", \\\"agency_client\\\".\\\"desc\\\" FROM \\\"agency_client\\\" WHERE \\\"agency_client\\\".\\\"agency_ref\\\" = 5; args=(5,)\", \"duration\": 0.0004418629998781398, \"sql\": \"SELECT \\\"agency_client\\\".\\\"id\\\", \\\"agency_client\\\".\\\"client_id\\\", \\\"agency_client\\\".\\\"agency_ref\\\", \\\"agency_client\\\".\\\"desc\\\" FROM \\\"agency_client\\\" WHERE \\\"agency_client\\\".\\\"agency_ref\\\" = 5\", \"params\": [5], \"@timestamp\": \"2020-08-15T19:43:18.394659\", \"level\": \"DEBUG\", \"logger\": \"django.db.backends\"}\n",
      "{\"message\": \"(0.000) SELECT COUNT(*) AS \\\"__count\\\" FROM \\\"client\\\" WHERE (\\\"client\\\".\\\"id\\\" = 'cf8364b5-5daa-48ef-88a6-b31005eb2cd8'::uuid OR \\\"client\\\".\\\"id\\\" = 'fa33f401-bd59-4869-9903-5842a4791b09'::uuid OR \\\"client\\\".\\\"id\\\" = '3e56fd30-2195-4617-a6fa-c83cd1bdaf8b'::uuid OR \\\"client\\\".\\\"id\\\" = '1143a5d2-2774-49cc-adc0-1d00c3ee3830'::uuid); args=(UUID('cf8364b5-5daa-48ef-88a6-b31005eb2cd8'), UUID('fa33f401-bd59-4869-9903-5842a4791b09'), UUID('3e56fd30-2195-4617-a6fa-c83cd1bdaf8b'), UUID('1143a5d2-2774-49cc-adc0-1d00c3ee3830'))\", \"duration\": 0.00048482600004717824, \"sql\": \"SELECT COUNT(*) AS \\\"__count\\\" FROM \\\"client\\\" WHERE (\\\"client\\\".\\\"id\\\" = 'cf8364b5-5daa-48ef-88a6-b31005eb2cd8'::uuid OR \\\"client\\\".\\\"id\\\" = 'fa33f401-bd59-4869-9903-5842a4791b09'::uuid OR \\\"client\\\".\\\"id\\\" = '3e56fd30-2195-4617-a6fa-c83cd1bdaf8b'::uuid OR \\\"client\\\".\\\"id\\\" = '1143a5d2-2774-49cc-adc0-1d00c3ee3830'::uuid)\", \"params\": [\"cf8364b5-5daa-48ef-88a6-b31005eb2cd8\", \"fa33f401-bd59-4869-9903-5842a4791b09\", \"3e56fd30-2195-4617-a6fa-c83cd1bdaf8b\", \"1143a5d2-2774-49cc-adc0-1d00c3ee3830\"], \"@timestamp\": \"2020-08-15T19:43:18.397654\", \"level\": \"DEBUG\", \"logger\": \"django.db.backends\"}\n",
      "{\"message\": \"(0.001) SELECT \\\"client\\\".\\\"id\\\", \\\"client\\\".\\\"created_by_id\\\", \\\"client\\\".\\\"created_at\\\", \\\"client\\\".\\\"modified_at\\\", \\\"client\\\".\\\"first_name\\\", \\\"client\\\".\\\"middle_name\\\", \\\"client\\\".\\\"last_name\\\", \\\"client\\\".\\\"dob\\\", \\\"client\\\".\\\"agency_assoc\\\" FROM \\\"client\\\" WHERE (\\\"client\\\".\\\"id\\\" = 'cf8364b5-5daa-48ef-88a6-b31005eb2cd8'::uuid OR \\\"client\\\".\\\"id\\\" = 'fa33f401-bd59-4869-9903-5842a4791b09'::uuid OR \\\"client\\\".\\\"id\\\" = '3e56fd30-2195-4617-a6fa-c83cd1bdaf8b'::uuid OR \\\"client\\\".\\\"id\\\" = '1143a5d2-2774-49cc-adc0-1d00c3ee3830'::uuid) ORDER BY \\\"client\\\".\\\"created_at\\\" DESC LIMIT 4; args=(UUID('cf8364b5-5daa-48ef-88a6-b31005eb2cd8'), UUID('fa33f401-bd59-4869-9903-5842a4791b09'), UUID('3e56fd30-2195-4617-a6fa-c83cd1bdaf8b'), UUID('1143a5d2-2774-49cc-adc0-1d00c3ee3830'))\", \"duration\": 0.0005272839998724521, \"sql\": \"SELECT \\\"client\\\".\\\"id\\\", \\\"client\\\".\\\"created_by_id\\\", \\\"client\\\".\\\"created_at\\\", \\\"client\\\".\\\"modified_at\\\", \\\"client\\\".\\\"first_name\\\", \\\"client\\\".\\\"middle_name\\\", \\\"client\\\".\\\"last_name\\\", \\\"client\\\".\\\"dob\\\", \\\"client\\\".\\\"agency_assoc\\\" FROM \\\"client\\\" WHERE (\\\"client\\\".\\\"id\\\" = 'cf8364b5-5daa-48ef-88a6-b31005eb2cd8'::uuid OR \\\"client\\\".\\\"id\\\" = 'fa33f401-bd59-4869-9903-5842a4791b09'::uuid OR \\\"client\\\".\\\"id\\\" = '3e56fd30-2195-4617-a6fa-c83cd1bdaf8b'::uuid OR \\\"client\\\".\\\"id\\\" = '1143a5d2-2774-49cc-adc0-1d00c3ee3830'::uuid) ORDER BY \\\"client\\\".\\\"created_at\\\" DESC LIMIT 4\", \"params\": [\"cf8364b5-5daa-48ef-88a6-b31005eb2cd8\", \"fa33f401-bd59-4869-9903-5842a4791b09\", \"3e56fd30-2195-4617-a6fa-c83cd1bdaf8b\", \"1143a5d2-2774-49cc-adc0-1d00c3ee3830\"], \"@timestamp\": \"2020-08-15T19:43:18.400221\", \"level\": \"DEBUG\", \"logger\": \"django.db.backends\"}\n"
     ]
    },
    {
     "name": "stdout",
     "output_type": "stream",
     "text": [
      "felmoore\n",
      "200\n",
      "User felmoore can view 4 clients\n",
      "id: cf8364b5-5daa-48ef-88a6-b31005eb2cd8; name: Perla Kaiser\n",
      "id: fa33f401-bd59-4869-9903-5842a4791b09; name: Keenan Foster\n",
      "id: 3e56fd30-2195-4617-a6fa-c83cd1bdaf8b; name: Van Andrews\n",
      "id: 1143a5d2-2774-49cc-adc0-1d00c3ee3830; name: Warren Aguirre\n"
     ]
    },
    {
     "name": "stderr",
     "output_type": "stream",
     "text": [
      "{\"message\": \"(0.001) SELECT \\\"auth_user\\\".\\\"id\\\", \\\"auth_user\\\".\\\"password\\\", \\\"auth_user\\\".\\\"last_login\\\", \\\"auth_user\\\".\\\"is_superuser\\\", \\\"auth_user\\\".\\\"username\\\", \\\"auth_user\\\".\\\"first_name\\\", \\\"auth_user\\\".\\\"last_name\\\", \\\"auth_user\\\".\\\"email\\\", \\\"auth_user\\\".\\\"is_staff\\\", \\\"auth_user\\\".\\\"is_active\\\", \\\"auth_user\\\".\\\"date_joined\\\" FROM \\\"auth_user\\\" WHERE \\\"auth_user\\\".\\\"username\\\" = 'cecpowell' LIMIT 21; args=('cecpowell',)\", \"duration\": 0.000595043999965128, \"sql\": \"SELECT \\\"auth_user\\\".\\\"id\\\", \\\"auth_user\\\".\\\"password\\\", \\\"auth_user\\\".\\\"last_login\\\", \\\"auth_user\\\".\\\"is_superuser\\\", \\\"auth_user\\\".\\\"username\\\", \\\"auth_user\\\".\\\"first_name\\\", \\\"auth_user\\\".\\\"last_name\\\", \\\"auth_user\\\".\\\"email\\\", \\\"auth_user\\\".\\\"is_staff\\\", \\\"auth_user\\\".\\\"is_active\\\", \\\"auth_user\\\".\\\"date_joined\\\" FROM \\\"auth_user\\\" WHERE \\\"auth_user\\\".\\\"username\\\" = 'cecpowell' LIMIT 21\", \"params\": [\"cecpowell\"], \"@timestamp\": \"2020-08-15T19:43:18.425989\", \"level\": \"DEBUG\", \"logger\": \"django.db.backends\"}\n",
      "{\"message\": \"(0.000) SELECT \\\"security_group_user_agency\\\".\\\"id\\\", \\\"security_group_user_agency\\\".\\\"desc\\\", \\\"security_group_user_agency\\\".\\\"agency_ref\\\", \\\"security_group_user_agency\\\".\\\"user_ref_id\\\", \\\"security_group_user_agency\\\".\\\"group_ref_id\\\" FROM \\\"security_group_user_agency\\\" WHERE \\\"security_group_user_agency\\\".\\\"user_ref_id\\\" = 2; args=(2,)\", \"duration\": 0.00027730599981623527, \"sql\": \"SELECT \\\"security_group_user_agency\\\".\\\"id\\\", \\\"security_group_user_agency\\\".\\\"desc\\\", \\\"security_group_user_agency\\\".\\\"agency_ref\\\", \\\"security_group_user_agency\\\".\\\"user_ref_id\\\", \\\"security_group_user_agency\\\".\\\"group_ref_id\\\" FROM \\\"security_group_user_agency\\\" WHERE \\\"security_group_user_agency\\\".\\\"user_ref_id\\\" = 2\", \"params\": [2], \"@timestamp\": \"2020-08-15T19:43:18.429030\", \"level\": \"DEBUG\", \"logger\": \"django.db.backends\"}\n",
      "{\"message\": \"(0.000) SELECT \\\"agency\\\".\\\"id\\\", \\\"agency\\\".\\\"created_by_id\\\", \\\"agency\\\".\\\"created_at\\\", \\\"agency\\\".\\\"modified_at\\\", \\\"agency\\\".\\\"name\\\", \\\"agency\\\".\\\"ref_id\\\" FROM \\\"agency\\\" WHERE \\\"agency\\\".\\\"ref_id\\\" = 2 LIMIT 21; args=(2,)\", \"duration\": 0.00026802499996847473, \"sql\": \"SELECT \\\"agency\\\".\\\"id\\\", \\\"agency\\\".\\\"created_by_id\\\", \\\"agency\\\".\\\"created_at\\\", \\\"agency\\\".\\\"modified_at\\\", \\\"agency\\\".\\\"name\\\", \\\"agency\\\".\\\"ref_id\\\" FROM \\\"agency\\\" WHERE \\\"agency\\\".\\\"ref_id\\\" = 2 LIMIT 21\", \"params\": [2], \"@timestamp\": \"2020-08-15T19:43:18.430803\", \"level\": \"DEBUG\", \"logger\": \"django.db.backends\"}\n",
      "{\"message\": \"(0.000) SELECT \\\"agency_client\\\".\\\"id\\\", \\\"agency_client\\\".\\\"client_id\\\", \\\"agency_client\\\".\\\"agency_ref\\\", \\\"agency_client\\\".\\\"desc\\\" FROM \\\"agency_client\\\" WHERE \\\"agency_client\\\".\\\"agency_ref\\\" = 2; args=(2,)\", \"duration\": 0.00039905300013742817, \"sql\": \"SELECT \\\"agency_client\\\".\\\"id\\\", \\\"agency_client\\\".\\\"client_id\\\", \\\"agency_client\\\".\\\"agency_ref\\\", \\\"agency_client\\\".\\\"desc\\\" FROM \\\"agency_client\\\" WHERE \\\"agency_client\\\".\\\"agency_ref\\\" = 2\", \"params\": [2], \"@timestamp\": \"2020-08-15T19:43:18.432895\", \"level\": \"DEBUG\", \"logger\": \"django.db.backends\"}\n",
      "{\"message\": \"(0.000) SELECT COUNT(*) AS \\\"__count\\\" FROM \\\"client\\\" WHERE (\\\"client\\\".\\\"id\\\" = 'a9a2ab75-57a5-4649-8fab-abbd31db1319'::uuid OR \\\"client\\\".\\\"id\\\" = '106e71bd-829a-4480-bd85-aec0f6bde1bb'::uuid OR \\\"client\\\".\\\"id\\\" = '95fb4ed4-21a7-4429-94dc-027321d7fd2b'::uuid OR \\\"client\\\".\\\"id\\\" = 'acef35bc-18fa-4441-b5cc-20fe234ae019'::uuid OR \\\"client\\\".\\\"id\\\" = '51592f1f-d82e-4203-a04a-25c5dc655dfd'::uuid OR \\\"client\\\".\\\"id\\\" = 'c977d1f3-9c7d-45a9-9d85-b4e0c0634792'::uuid OR \\\"client\\\".\\\"id\\\" = '1d0f59cf-e21f-430d-b860-3b6fe093c3e8'::uuid OR \\\"client\\\".\\\"id\\\" = '405aed03-39df-47f2-88c7-ba76f5ad4822'::uuid OR \\\"client\\\".\\\"id\\\" = '2fe269dd-eec0-4088-846b-afb53707a080'::uuid OR \\\"client\\\".\\\"id\\\" = '98f15b91-0354-4b76-b0d3-401c605c0383'::uuid); args=(UUID('a9a2ab75-57a5-4649-8fab-abbd31db1319'), UUID('106e71bd-829a-4480-bd85-aec0f6bde1bb'), UUID('95fb4ed4-21a7-4429-94dc-027321d7fd2b'), UUID('acef35bc-18fa-4441-b5cc-20fe234ae019'), UUID('51592f1f-d82e-4203-a04a-25c5dc655dfd'), UUID('c977d1f3-9c7d-45a9-9d85-b4e0c0634792'), UUID('1d0f59cf-e21f-430d-b860-3b6fe093c3e8'), UUID('405aed03-39df-47f2-88c7-ba76f5ad4822'), UUID('2fe269dd-eec0-4088-846b-afb53707a080'), UUID('98f15b91-0354-4b76-b0d3-401c605c0383'))\", \"duration\": 0.00041911499988600553, \"sql\": \"SELECT COUNT(*) AS \\\"__count\\\" FROM \\\"client\\\" WHERE (\\\"client\\\".\\\"id\\\" = 'a9a2ab75-57a5-4649-8fab-abbd31db1319'::uuid OR \\\"client\\\".\\\"id\\\" = '106e71bd-829a-4480-bd85-aec0f6bde1bb'::uuid OR \\\"client\\\".\\\"id\\\" = '95fb4ed4-21a7-4429-94dc-027321d7fd2b'::uuid OR \\\"client\\\".\\\"id\\\" = 'acef35bc-18fa-4441-b5cc-20fe234ae019'::uuid OR \\\"client\\\".\\\"id\\\" = '51592f1f-d82e-4203-a04a-25c5dc655dfd'::uuid OR \\\"client\\\".\\\"id\\\" = 'c977d1f3-9c7d-45a9-9d85-b4e0c0634792'::uuid OR \\\"client\\\".\\\"id\\\" = '1d0f59cf-e21f-430d-b860-3b6fe093c3e8'::uuid OR \\\"client\\\".\\\"id\\\" = '405aed03-39df-47f2-88c7-ba76f5ad4822'::uuid OR \\\"client\\\".\\\"id\\\" = '2fe269dd-eec0-4088-846b-afb53707a080'::uuid OR \\\"client\\\".\\\"id\\\" = '98f15b91-0354-4b76-b0d3-401c605c0383'::uuid)\", \"params\": [\"a9a2ab75-57a5-4649-8fab-abbd31db1319\", \"106e71bd-829a-4480-bd85-aec0f6bde1bb\", \"95fb4ed4-21a7-4429-94dc-027321d7fd2b\", \"acef35bc-18fa-4441-b5cc-20fe234ae019\", \"51592f1f-d82e-4203-a04a-25c5dc655dfd\", \"c977d1f3-9c7d-45a9-9d85-b4e0c0634792\", \"1d0f59cf-e21f-430d-b860-3b6fe093c3e8\", \"405aed03-39df-47f2-88c7-ba76f5ad4822\", \"2fe269dd-eec0-4088-846b-afb53707a080\", \"98f15b91-0354-4b76-b0d3-401c605c0383\"], \"@timestamp\": \"2020-08-15T19:43:18.436337\", \"level\": \"DEBUG\", \"logger\": \"django.db.backends\"}\n",
      "{\"message\": \"(0.000) SELECT \\\"client\\\".\\\"id\\\", \\\"client\\\".\\\"created_by_id\\\", \\\"client\\\".\\\"created_at\\\", \\\"client\\\".\\\"modified_at\\\", \\\"client\\\".\\\"first_name\\\", \\\"client\\\".\\\"middle_name\\\", \\\"client\\\".\\\"last_name\\\", \\\"client\\\".\\\"dob\\\", \\\"client\\\".\\\"agency_assoc\\\" FROM \\\"client\\\" WHERE (\\\"client\\\".\\\"id\\\" = 'a9a2ab75-57a5-4649-8fab-abbd31db1319'::uuid OR \\\"client\\\".\\\"id\\\" = '106e71bd-829a-4480-bd85-aec0f6bde1bb'::uuid OR \\\"client\\\".\\\"id\\\" = '95fb4ed4-21a7-4429-94dc-027321d7fd2b'::uuid OR \\\"client\\\".\\\"id\\\" = 'acef35bc-18fa-4441-b5cc-20fe234ae019'::uuid OR \\\"client\\\".\\\"id\\\" = '51592f1f-d82e-4203-a04a-25c5dc655dfd'::uuid OR \\\"client\\\".\\\"id\\\" = 'c977d1f3-9c7d-45a9-9d85-b4e0c0634792'::uuid OR \\\"client\\\".\\\"id\\\" = '1d0f59cf-e21f-430d-b860-3b6fe093c3e8'::uuid OR \\\"client\\\".\\\"id\\\" = '405aed03-39df-47f2-88c7-ba76f5ad4822'::uuid OR \\\"client\\\".\\\"id\\\" = '2fe269dd-eec0-4088-846b-afb53707a080'::uuid OR \\\"client\\\".\\\"id\\\" = '98f15b91-0354-4b76-b0d3-401c605c0383'::uuid) ORDER BY \\\"client\\\".\\\"created_at\\\" DESC LIMIT 10; args=(UUID('a9a2ab75-57a5-4649-8fab-abbd31db1319'), UUID('106e71bd-829a-4480-bd85-aec0f6bde1bb'), UUID('95fb4ed4-21a7-4429-94dc-027321d7fd2b'), UUID('acef35bc-18fa-4441-b5cc-20fe234ae019'), UUID('51592f1f-d82e-4203-a04a-25c5dc655dfd'), UUID('c977d1f3-9c7d-45a9-9d85-b4e0c0634792'), UUID('1d0f59cf-e21f-430d-b860-3b6fe093c3e8'), UUID('405aed03-39df-47f2-88c7-ba76f5ad4822'), UUID('2fe269dd-eec0-4088-846b-afb53707a080'), UUID('98f15b91-0354-4b76-b0d3-401c605c0383'))\", \"duration\": 0.0004744479999772011, \"sql\": \"SELECT \\\"client\\\".\\\"id\\\", \\\"client\\\".\\\"created_by_id\\\", \\\"client\\\".\\\"created_at\\\", \\\"client\\\".\\\"modified_at\\\", \\\"client\\\".\\\"first_name\\\", \\\"client\\\".\\\"middle_name\\\", \\\"client\\\".\\\"last_name\\\", \\\"client\\\".\\\"dob\\\", \\\"client\\\".\\\"agency_assoc\\\" FROM \\\"client\\\" WHERE (\\\"client\\\".\\\"id\\\" = 'a9a2ab75-57a5-4649-8fab-abbd31db1319'::uuid OR \\\"client\\\".\\\"id\\\" = '106e71bd-829a-4480-bd85-aec0f6bde1bb'::uuid OR \\\"client\\\".\\\"id\\\" = '95fb4ed4-21a7-4429-94dc-027321d7fd2b'::uuid OR \\\"client\\\".\\\"id\\\" = 'acef35bc-18fa-4441-b5cc-20fe234ae019'::uuid OR \\\"client\\\".\\\"id\\\" = '51592f1f-d82e-4203-a04a-25c5dc655dfd'::uuid OR \\\"client\\\".\\\"id\\\" = 'c977d1f3-9c7d-45a9-9d85-b4e0c0634792'::uuid OR \\\"client\\\".\\\"id\\\" = '1d0f59cf-e21f-430d-b860-3b6fe093c3e8'::uuid OR \\\"client\\\".\\\"id\\\" = '405aed03-39df-47f2-88c7-ba76f5ad4822'::uuid OR \\\"client\\\".\\\"id\\\" = '2fe269dd-eec0-4088-846b-afb53707a080'::uuid OR \\\"client\\\".\\\"id\\\" = '98f15b91-0354-4b76-b0d3-401c605c0383'::uuid) ORDER BY \\\"client\\\".\\\"created_at\\\" DESC LIMIT 10\", \"params\": [\"a9a2ab75-57a5-4649-8fab-abbd31db1319\", \"106e71bd-829a-4480-bd85-aec0f6bde1bb\", \"95fb4ed4-21a7-4429-94dc-027321d7fd2b\", \"acef35bc-18fa-4441-b5cc-20fe234ae019\", \"51592f1f-d82e-4203-a04a-25c5dc655dfd\", \"c977d1f3-9c7d-45a9-9d85-b4e0c0634792\", \"1d0f59cf-e21f-430d-b860-3b6fe093c3e8\", \"405aed03-39df-47f2-88c7-ba76f5ad4822\", \"2fe269dd-eec0-4088-846b-afb53707a080\", \"98f15b91-0354-4b76-b0d3-401c605c0383\"], \"@timestamp\": \"2020-08-15T19:43:18.438692\", \"level\": \"DEBUG\", \"logger\": \"django.db.backends\"}\n"
     ]
    },
    {
     "name": "stdout",
     "output_type": "stream",
     "text": [
      "cecpowell\n",
      "200\n",
      "User cecpowell can view 10 clients\n",
      "id: a9a2ab75-57a5-4649-8fab-abbd31db1319; name: Zachery Morton\n",
      "id: 106e71bd-829a-4480-bd85-aec0f6bde1bb; name: Rihanna Ferrell\n",
      "id: 95fb4ed4-21a7-4429-94dc-027321d7fd2b; name: Amya Dominguez\n",
      "id: acef35bc-18fa-4441-b5cc-20fe234ae019; name: Briley Leach\n",
      "id: 51592f1f-d82e-4203-a04a-25c5dc655dfd; name: Nickolas Maxwell\n",
      "id: c977d1f3-9c7d-45a9-9d85-b4e0c0634792; name: Courtney Nolan\n",
      "id: 1d0f59cf-e21f-430d-b860-3b6fe093c3e8; name: Sanai Curtis\n",
      "id: 405aed03-39df-47f2-88c7-ba76f5ad4822; name: Sandra Obrien\n",
      "id: 2fe269dd-eec0-4088-846b-afb53707a080; name: Camille Howell\n",
      "id: 98f15b91-0354-4b76-b0d3-401c605c0383; name: Hailie Boyd\n"
     ]
    },
    {
     "name": "stderr",
     "output_type": "stream",
     "text": [
      "{\"message\": \"(0.001) SELECT \\\"auth_user\\\".\\\"id\\\", \\\"auth_user\\\".\\\"password\\\", \\\"auth_user\\\".\\\"last_login\\\", \\\"auth_user\\\".\\\"is_superuser\\\", \\\"auth_user\\\".\\\"username\\\", \\\"auth_user\\\".\\\"first_name\\\", \\\"auth_user\\\".\\\"last_name\\\", \\\"auth_user\\\".\\\"email\\\", \\\"auth_user\\\".\\\"is_staff\\\", \\\"auth_user\\\".\\\"is_active\\\", \\\"auth_user\\\".\\\"date_joined\\\" FROM \\\"auth_user\\\" WHERE \\\"auth_user\\\".\\\"username\\\" = 'janclark' LIMIT 21; args=('janclark',)\", \"duration\": 0.0005366920001961262, \"sql\": \"SELECT \\\"auth_user\\\".\\\"id\\\", \\\"auth_user\\\".\\\"password\\\", \\\"auth_user\\\".\\\"last_login\\\", \\\"auth_user\\\".\\\"is_superuser\\\", \\\"auth_user\\\".\\\"username\\\", \\\"auth_user\\\".\\\"first_name\\\", \\\"auth_user\\\".\\\"last_name\\\", \\\"auth_user\\\".\\\"email\\\", \\\"auth_user\\\".\\\"is_staff\\\", \\\"auth_user\\\".\\\"is_active\\\", \\\"auth_user\\\".\\\"date_joined\\\" FROM \\\"auth_user\\\" WHERE \\\"auth_user\\\".\\\"username\\\" = 'janclark' LIMIT 21\", \"params\": [\"janclark\"], \"@timestamp\": \"2020-08-15T19:43:18.456502\", \"level\": \"DEBUG\", \"logger\": \"django.db.backends\"}\n",
      "{\"message\": \"(0.000) SELECT \\\"security_group_user_agency\\\".\\\"id\\\", \\\"security_group_user_agency\\\".\\\"desc\\\", \\\"security_group_user_agency\\\".\\\"agency_ref\\\", \\\"security_group_user_agency\\\".\\\"user_ref_id\\\", \\\"security_group_user_agency\\\".\\\"group_ref_id\\\" FROM \\\"security_group_user_agency\\\" WHERE \\\"security_group_user_agency\\\".\\\"user_ref_id\\\" = 6; args=(6,)\", \"duration\": 0.00038988100004644366, \"sql\": \"SELECT \\\"security_group_user_agency\\\".\\\"id\\\", \\\"security_group_user_agency\\\".\\\"desc\\\", \\\"security_group_user_agency\\\".\\\"agency_ref\\\", \\\"security_group_user_agency\\\".\\\"user_ref_id\\\", \\\"security_group_user_agency\\\".\\\"group_ref_id\\\" FROM \\\"security_group_user_agency\\\" WHERE \\\"security_group_user_agency\\\".\\\"user_ref_id\\\" = 6\", \"params\": [6], \"@timestamp\": \"2020-08-15T19:43:18.460253\", \"level\": \"DEBUG\", \"logger\": \"django.db.backends\"}\n",
      "{\"message\": \"(0.000) SELECT \\\"agency\\\".\\\"id\\\", \\\"agency\\\".\\\"created_by_id\\\", \\\"agency\\\".\\\"created_at\\\", \\\"agency\\\".\\\"modified_at\\\", \\\"agency\\\".\\\"name\\\", \\\"agency\\\".\\\"ref_id\\\" FROM \\\"agency\\\" WHERE \\\"agency\\\".\\\"ref_id\\\" = 5 LIMIT 21; args=(5,)\", \"duration\": 0.00036055200007467647, \"sql\": \"SELECT \\\"agency\\\".\\\"id\\\", \\\"agency\\\".\\\"created_by_id\\\", \\\"agency\\\".\\\"created_at\\\", \\\"agency\\\".\\\"modified_at\\\", \\\"agency\\\".\\\"name\\\", \\\"agency\\\".\\\"ref_id\\\" FROM \\\"agency\\\" WHERE \\\"agency\\\".\\\"ref_id\\\" = 5 LIMIT 21\", \"params\": [5], \"@timestamp\": \"2020-08-15T19:43:18.462486\", \"level\": \"DEBUG\", \"logger\": \"django.db.backends\"}\n",
      "{\"message\": \"(0.000) SELECT \\\"agency_client\\\".\\\"id\\\", \\\"agency_client\\\".\\\"client_id\\\", \\\"agency_client\\\".\\\"agency_ref\\\", \\\"agency_client\\\".\\\"desc\\\" FROM \\\"agency_client\\\" WHERE \\\"agency_client\\\".\\\"agency_ref\\\" = 5; args=(5,)\", \"duration\": 0.00043276400015201943, \"sql\": \"SELECT \\\"agency_client\\\".\\\"id\\\", \\\"agency_client\\\".\\\"client_id\\\", \\\"agency_client\\\".\\\"agency_ref\\\", \\\"agency_client\\\".\\\"desc\\\" FROM \\\"agency_client\\\" WHERE \\\"agency_client\\\".\\\"agency_ref\\\" = 5\", \"params\": [5], \"@timestamp\": \"2020-08-15T19:43:18.464741\", \"level\": \"DEBUG\", \"logger\": \"django.db.backends\"}\n",
      "{\"message\": \"(0.000) SELECT COUNT(*) AS \\\"__count\\\" FROM \\\"client\\\" WHERE (\\\"client\\\".\\\"id\\\" = 'cf8364b5-5daa-48ef-88a6-b31005eb2cd8'::uuid OR \\\"client\\\".\\\"id\\\" = 'fa33f401-bd59-4869-9903-5842a4791b09'::uuid OR \\\"client\\\".\\\"id\\\" = '3e56fd30-2195-4617-a6fa-c83cd1bdaf8b'::uuid OR \\\"client\\\".\\\"id\\\" = '1143a5d2-2774-49cc-adc0-1d00c3ee3830'::uuid); args=(UUID('cf8364b5-5daa-48ef-88a6-b31005eb2cd8'), UUID('fa33f401-bd59-4869-9903-5842a4791b09'), UUID('3e56fd30-2195-4617-a6fa-c83cd1bdaf8b'), UUID('1143a5d2-2774-49cc-adc0-1d00c3ee3830'))\", \"duration\": 0.00043076699989796907, \"sql\": \"SELECT COUNT(*) AS \\\"__count\\\" FROM \\\"client\\\" WHERE (\\\"client\\\".\\\"id\\\" = 'cf8364b5-5daa-48ef-88a6-b31005eb2cd8'::uuid OR \\\"client\\\".\\\"id\\\" = 'fa33f401-bd59-4869-9903-5842a4791b09'::uuid OR \\\"client\\\".\\\"id\\\" = '3e56fd30-2195-4617-a6fa-c83cd1bdaf8b'::uuid OR \\\"client\\\".\\\"id\\\" = '1143a5d2-2774-49cc-adc0-1d00c3ee3830'::uuid)\", \"params\": [\"cf8364b5-5daa-48ef-88a6-b31005eb2cd8\", \"fa33f401-bd59-4869-9903-5842a4791b09\", \"3e56fd30-2195-4617-a6fa-c83cd1bdaf8b\", \"1143a5d2-2774-49cc-adc0-1d00c3ee3830\"], \"@timestamp\": \"2020-08-15T19:43:18.467379\", \"level\": \"DEBUG\", \"logger\": \"django.db.backends\"}\n",
      "{\"message\": \"(0.001) SELECT \\\"client\\\".\\\"id\\\", \\\"client\\\".\\\"created_by_id\\\", \\\"client\\\".\\\"created_at\\\", \\\"client\\\".\\\"modified_at\\\", \\\"client\\\".\\\"first_name\\\", \\\"client\\\".\\\"middle_name\\\", \\\"client\\\".\\\"last_name\\\", \\\"client\\\".\\\"dob\\\", \\\"client\\\".\\\"agency_assoc\\\" FROM \\\"client\\\" WHERE (\\\"client\\\".\\\"id\\\" = 'cf8364b5-5daa-48ef-88a6-b31005eb2cd8'::uuid OR \\\"client\\\".\\\"id\\\" = 'fa33f401-bd59-4869-9903-5842a4791b09'::uuid OR \\\"client\\\".\\\"id\\\" = '3e56fd30-2195-4617-a6fa-c83cd1bdaf8b'::uuid OR \\\"client\\\".\\\"id\\\" = '1143a5d2-2774-49cc-adc0-1d00c3ee3830'::uuid) ORDER BY \\\"client\\\".\\\"created_at\\\" DESC LIMIT 4; args=(UUID('cf8364b5-5daa-48ef-88a6-b31005eb2cd8'), UUID('fa33f401-bd59-4869-9903-5842a4791b09'), UUID('3e56fd30-2195-4617-a6fa-c83cd1bdaf8b'), UUID('1143a5d2-2774-49cc-adc0-1d00c3ee3830'))\", \"duration\": 0.000503243999901315, \"sql\": \"SELECT \\\"client\\\".\\\"id\\\", \\\"client\\\".\\\"created_by_id\\\", \\\"client\\\".\\\"created_at\\\", \\\"client\\\".\\\"modified_at\\\", \\\"client\\\".\\\"first_name\\\", \\\"client\\\".\\\"middle_name\\\", \\\"client\\\".\\\"last_name\\\", \\\"client\\\".\\\"dob\\\", \\\"client\\\".\\\"agency_assoc\\\" FROM \\\"client\\\" WHERE (\\\"client\\\".\\\"id\\\" = 'cf8364b5-5daa-48ef-88a6-b31005eb2cd8'::uuid OR \\\"client\\\".\\\"id\\\" = 'fa33f401-bd59-4869-9903-5842a4791b09'::uuid OR \\\"client\\\".\\\"id\\\" = '3e56fd30-2195-4617-a6fa-c83cd1bdaf8b'::uuid OR \\\"client\\\".\\\"id\\\" = '1143a5d2-2774-49cc-adc0-1d00c3ee3830'::uuid) ORDER BY \\\"client\\\".\\\"created_at\\\" DESC LIMIT 4\", \"params\": [\"cf8364b5-5daa-48ef-88a6-b31005eb2cd8\", \"fa33f401-bd59-4869-9903-5842a4791b09\", \"3e56fd30-2195-4617-a6fa-c83cd1bdaf8b\", \"1143a5d2-2774-49cc-adc0-1d00c3ee3830\"], \"@timestamp\": \"2020-08-15T19:43:18.469474\", \"level\": \"DEBUG\", \"logger\": \"django.db.backends\"}\n"
     ]
    },
    {
     "name": "stdout",
     "output_type": "stream",
     "text": [
      "janclark\n",
      "200\n",
      "User janclark can view 4 clients\n",
      "id: cf8364b5-5daa-48ef-88a6-b31005eb2cd8; name: Perla Kaiser\n",
      "id: fa33f401-bd59-4869-9903-5842a4791b09; name: Keenan Foster\n",
      "id: 3e56fd30-2195-4617-a6fa-c83cd1bdaf8b; name: Van Andrews\n",
      "id: 1143a5d2-2774-49cc-adc0-1d00c3ee3830; name: Warren Aguirre\n"
     ]
    }
   ],
   "source": [
    "# Establish the api client and url\n",
    "api_client=APIClient(SERVER_NAME=\"localhost\")\n",
    "url = '/clients/'\n",
    "\n",
    "# Look at clients viewable to each user\n",
    "for u in User.objects.all():\n",
    "    api_client.force_authenticate(user=User.objects.get(username=u.username))\n",
    "    response = api_client.get(url)\n",
    "    print(u.username)\n",
    "    print(response.status_code)\n",
    "    if response.status_code != 403:\n",
    "        c_results = json.loads(response.content)\n",
    "        print('User {} can view {} clients'.format(u.username, c_results['count']))\n",
    "        for c in c_results['results']:\n",
    "            print('id: {}; name: {} {}'.format(c['id'], c['first_name'], c['last_name']))\n",
    "    \n"
   ]
  }
 ],
 "metadata": {
  "kernelspec": {
   "display_name": "Django Shell-Plus",
   "language": "python",
   "name": "django_extensions"
  },
  "language_info": {
   "codemirror_mode": {
    "name": "ipython",
    "version": 3
   },
   "file_extension": ".py",
   "mimetype": "text/x-python",
   "name": "python",
   "nbconvert_exporter": "python",
   "pygments_lexer": "ipython3",
   "version": "3.8.3"
  },
  "toc": {
   "base_numbering": 1,
   "nav_menu": {},
   "number_sections": true,
   "sideBar": true,
   "skip_h1_title": false,
   "title_cell": "Table of Contents",
   "title_sidebar": "Contents",
   "toc_cell": true,
   "toc_position": {
    "height": "calc(100% - 180px)",
    "left": "10px",
    "top": "150px",
    "width": "331.797px"
   },
   "toc_section_display": true,
   "toc_window_display": true
  }
 },
 "nbformat": 4,
 "nbformat_minor": 4
}
